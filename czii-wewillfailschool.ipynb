{
 "cells": [
  {
   "cell_type": "code",
   "execution_count": 1,
   "id": "25819148",
   "metadata": {
    "_cell_guid": "b1076dfc-b9ad-4769-8c92-a6c4dae69d19",
    "_kg_hide-output": false,
    "_uuid": "8f2839f25d086af736a60e9eeb907d3b93b6e0e5",
    "execution": {
     "iopub.execute_input": "2024-12-23T23:05:11.609478Z",
     "iopub.status.busy": "2024-12-23T23:05:11.609118Z",
     "iopub.status.idle": "2024-12-23T23:05:37.683507Z",
     "shell.execute_reply": "2024-12-23T23:05:37.682479Z"
    },
    "papermill": {
     "duration": 26.080548,
     "end_time": "2024-12-23T23:05:37.685116",
     "exception": false,
     "start_time": "2024-12-23T23:05:11.604568",
     "status": "completed"
    },
    "tags": []
   },
   "outputs": [
    {
     "name": "stdout",
     "output_type": "stream",
     "text": [
      "Collecting git+https://github.com/copick/copick-utils.git\r\n",
      "  Cloning https://github.com/copick/copick-utils.git to /tmp/pip-req-build-k4d5menz\r\n",
      "  Running command git clone --filter=blob:none --quiet https://github.com/copick/copick-utils.git /tmp/pip-req-build-k4d5menz\r\n",
      "  Resolved https://github.com/copick/copick-utils.git to commit d72192abb2d18dcd0ff8caa749f2327cf24ce894\r\n",
      "  Installing build dependencies ... \u001b[?25l\u001b[?25hdone\r\n",
      "  Getting requirements to build wheel ... \u001b[?25l\u001b[?25hdone\r\n",
      "  Preparing metadata (pyproject.toml) ... \u001b[?25l\u001b[?25hdone\r\n",
      "Collecting copick\r\n",
      "  Downloading copick-0.8.0-py3-none-any.whl.metadata (7.3 kB)\r\n",
      "Requirement already satisfied: click in /usr/local/lib/python3.10/dist-packages (from copick) (8.1.7)\r\n",
      "Collecting cryoet-data-portal==4.0.0 (from copick)\r\n",
      "  Downloading cryoet_data_portal-4.0.0-py3-none-any.whl.metadata (2.0 kB)\r\n",
      "Collecting distinctipy (from copick)\r\n",
      "  Downloading distinctipy-1.3.4-py3-none-any.whl.metadata (7.7 kB)\r\n",
      "Requirement already satisfied: fsspec>=2024.6.0 in /usr/local/lib/python3.10/dist-packages (from copick) (2024.6.1)\r\n",
      "Requirement already satisfied: numpy in /usr/local/lib/python3.10/dist-packages (from copick) (1.26.4)\r\n",
      "Collecting ome-zarr (from copick)\r\n",
      "  Downloading ome_zarr-0.10.2-py3-none-any.whl.metadata (2.9 kB)\r\n",
      "Requirement already satisfied: psutil in /usr/local/lib/python3.10/dist-packages (from copick) (5.9.5)\r\n",
      "Requirement already satisfied: pydantic>=2 in /usr/local/lib/python3.10/dist-packages (from copick) (2.9.2)\r\n",
      "Requirement already satisfied: s3fs in /usr/local/lib/python3.10/dist-packages (from copick) (0.4.2)\r\n",
      "Requirement already satisfied: scikit-image in /usr/local/lib/python3.10/dist-packages (from copick) (0.24.0)\r\n",
      "Collecting trimesh (from copick)\r\n",
      "  Downloading trimesh-4.5.3-py3-none-any.whl.metadata (18 kB)\r\n",
      "Collecting zarr (from copick)\r\n",
      "  Downloading zarr-2.18.3-py3-none-any.whl.metadata (5.7 kB)\r\n",
      "Requirement already satisfied: requests in /usr/local/lib/python3.10/dist-packages (from cryoet-data-portal==4.0.0->copick) (2.32.3)\r\n",
      "Requirement already satisfied: boto3 in /usr/local/lib/python3.10/dist-packages (from cryoet-data-portal==4.0.0->copick) (1.35.83)\r\n",
      "Collecting deepmerge (from cryoet-data-portal==4.0.0->copick)\r\n",
      "  Downloading deepmerge-2.0-py3-none-any.whl.metadata (3.5 kB)\r\n",
      "Collecting gql[requests] (from cryoet-data-portal==4.0.0->copick)\r\n",
      "  Downloading gql-3.5.0-py2.py3-none-any.whl.metadata (9.2 kB)\r\n",
      "Requirement already satisfied: tqdm in /usr/local/lib/python3.10/dist-packages (from cryoet-data-portal==4.0.0->copick) (4.66.5)\r\n",
      "Collecting strcase (from cryoet-data-portal==4.0.0->copick)\r\n",
      "  Downloading strcase-1.0.0-py3-none-any.whl.metadata (1.2 kB)\r\n",
      "Requirement already satisfied: annotated-types>=0.6.0 in /usr/local/lib/python3.10/dist-packages (from pydantic>=2->copick) (0.7.0)\r\n",
      "Requirement already satisfied: pydantic-core==2.23.4 in /usr/local/lib/python3.10/dist-packages (from pydantic>=2->copick) (2.23.4)\r\n",
      "Requirement already satisfied: typing-extensions>=4.6.1 in /usr/local/lib/python3.10/dist-packages (from pydantic>=2->copick) (4.12.2)\r\n",
      "Requirement already satisfied: dask in /usr/local/lib/python3.10/dist-packages (from ome-zarr->copick) (2024.12.1)\r\n",
      "Requirement already satisfied: distributed in /usr/local/lib/python3.10/dist-packages (from ome-zarr->copick) (2024.8.0)\r\n",
      "Requirement already satisfied: aiohttp<4 in /usr/local/lib/python3.10/dist-packages (from ome-zarr->copick) (3.10.5)\r\n",
      "Requirement already satisfied: toolz in /usr/local/lib/python3.10/dist-packages (from ome-zarr->copick) (0.12.1)\r\n",
      "Collecting asciitree (from zarr->copick)\r\n",
      "  Downloading asciitree-0.3.3.tar.gz (4.0 kB)\r\n",
      "  Preparing metadata (setup.py) ... \u001b[?25l\u001b[?25hdone\r\n",
      "Collecting numcodecs>=0.10.0 (from zarr->copick)\r\n",
      "  Downloading numcodecs-0.13.1-cp310-cp310-manylinux_2_17_x86_64.manylinux2014_x86_64.whl.metadata (2.9 kB)\r\n",
      "Collecting fasteners (from zarr->copick)\r\n",
      "  Downloading fasteners-0.19-py3-none-any.whl.metadata (4.9 kB)\r\n",
      "Requirement already satisfied: botocore>=1.12.91 in /usr/local/lib/python3.10/dist-packages (from s3fs->copick) (1.35.83)\r\n",
      "Requirement already satisfied: scipy>=1.9 in /usr/local/lib/python3.10/dist-packages (from scikit-image->copick) (1.13.1)\r\n",
      "Requirement already satisfied: networkx>=2.8 in /usr/local/lib/python3.10/dist-packages (from scikit-image->copick) (3.3)\r\n",
      "Requirement already satisfied: pillow>=9.1 in /usr/local/lib/python3.10/dist-packages (from scikit-image->copick) (10.4.0)\r\n",
      "Requirement already satisfied: imageio>=2.33 in /usr/local/lib/python3.10/dist-packages (from scikit-image->copick) (2.35.1)\r\n",
      "Requirement already satisfied: tifffile>=2022.8.12 in /usr/local/lib/python3.10/dist-packages (from scikit-image->copick) (2024.8.30)\r\n",
      "Requirement already satisfied: packaging>=21 in /usr/local/lib/python3.10/dist-packages (from scikit-image->copick) (24.1)\r\n",
      "Requirement already satisfied: lazy-loader>=0.4 in /usr/local/lib/python3.10/dist-packages (from scikit-image->copick) (0.4)\r\n",
      "Requirement already satisfied: aiohappyeyeballs>=2.3.0 in /usr/local/lib/python3.10/dist-packages (from aiohttp<4->ome-zarr->copick) (2.4.0)\r\n",
      "Requirement already satisfied: aiosignal>=1.1.2 in /usr/local/lib/python3.10/dist-packages (from aiohttp<4->ome-zarr->copick) (1.3.1)\r\n",
      "Requirement already satisfied: attrs>=17.3.0 in /usr/local/lib/python3.10/dist-packages (from aiohttp<4->ome-zarr->copick) (24.2.0)\r\n",
      "Requirement already satisfied: frozenlist>=1.1.1 in /usr/local/lib/python3.10/dist-packages (from aiohttp<4->ome-zarr->copick) (1.4.1)\r\n",
      "Requirement already satisfied: multidict<7.0,>=4.5 in /usr/local/lib/python3.10/dist-packages (from aiohttp<4->ome-zarr->copick) (6.1.0)\r\n",
      "Requirement already satisfied: yarl<2.0,>=1.0 in /usr/local/lib/python3.10/dist-packages (from aiohttp<4->ome-zarr->copick) (1.11.1)\r\n",
      "Requirement already satisfied: async-timeout<5.0,>=4.0 in /usr/local/lib/python3.10/dist-packages (from aiohttp<4->ome-zarr->copick) (4.0.3)\r\n",
      "Requirement already satisfied: jmespath<2.0.0,>=0.7.1 in /usr/local/lib/python3.10/dist-packages (from botocore>=1.12.91->s3fs->copick) (1.0.1)\r\n",
      "Requirement already satisfied: python-dateutil<3.0.0,>=2.1 in /usr/local/lib/python3.10/dist-packages (from botocore>=1.12.91->s3fs->copick) (2.8.2)\r\n",
      "Requirement already satisfied: urllib3!=2.2.0,<3,>=1.25.4 in /usr/local/lib/python3.10/dist-packages (from botocore>=1.12.91->s3fs->copick) (2.2.3)\r\n",
      "Requirement already satisfied: s3transfer<0.11.0,>=0.10.0 in /usr/local/lib/python3.10/dist-packages (from boto3->cryoet-data-portal==4.0.0->copick) (0.10.4)\r\n",
      "Requirement already satisfied: cloudpickle>=3.0.0 in /usr/local/lib/python3.10/dist-packages (from dask->ome-zarr->copick) (3.1.0)\r\n",
      "Requirement already satisfied: partd>=1.4.0 in /usr/local/lib/python3.10/dist-packages (from dask->ome-zarr->copick) (1.4.2)\r\n",
      "Requirement already satisfied: pyyaml>=5.3.1 in /usr/local/lib/python3.10/dist-packages (from dask->ome-zarr->copick) (6.0.2)\r\n",
      "Requirement already satisfied: importlib_metadata>=4.13.0 in /usr/local/lib/python3.10/dist-packages (from dask->ome-zarr->copick) (8.5.0)\r\n",
      "Collecting dask (from ome-zarr->copick)\r\n",
      "  Downloading dask-2024.8.0-py3-none-any.whl.metadata (3.8 kB)\r\n",
      "Requirement already satisfied: jinja2>=2.10.3 in /usr/local/lib/python3.10/dist-packages (from distributed->ome-zarr->copick) (3.1.4)\r\n",
      "Requirement already satisfied: locket>=1.0.0 in /usr/local/lib/python3.10/dist-packages (from distributed->ome-zarr->copick) (1.0.0)\r\n",
      "Requirement already satisfied: msgpack>=1.0.0 in /usr/local/lib/python3.10/dist-packages (from distributed->ome-zarr->copick) (1.0.8)\r\n",
      "Requirement already satisfied: sortedcontainers>=2.0.5 in /usr/local/lib/python3.10/dist-packages (from distributed->ome-zarr->copick) (2.4.0)\r\n",
      "Requirement already satisfied: tblib>=1.6.0 in /usr/local/lib/python3.10/dist-packages (from distributed->ome-zarr->copick) (3.0.0)\r\n",
      "Requirement already satisfied: tornado>=6.0.4 in /usr/local/lib/python3.10/dist-packages (from distributed->ome-zarr->copick) (6.3.3)\r\n",
      "Requirement already satisfied: zict>=3.0.0 in /usr/local/lib/python3.10/dist-packages (from distributed->ome-zarr->copick) (3.0.0)\r\n",
      "Collecting graphql-core<3.3,>=3.2 (from gql[requests]->cryoet-data-portal==4.0.0->copick)\r\n",
      "  Downloading graphql_core-3.2.5-py3-none-any.whl.metadata (10 kB)\r\n",
      "Collecting backoff<3.0,>=1.11.1 (from gql[requests]->cryoet-data-portal==4.0.0->copick)\r\n",
      "  Downloading backoff-2.2.1-py3-none-any.whl.metadata (14 kB)\r\n",
      "Requirement already satisfied: anyio<5,>=3.0 in /usr/local/lib/python3.10/dist-packages (from gql[requests]->cryoet-data-portal==4.0.0->copick) (3.7.1)\r\n",
      "Collecting requests-toolbelt<2,>=1.0.0 (from gql[requests]->cryoet-data-portal==4.0.0->copick)\r\n",
      "  Downloading requests_toolbelt-1.0.0-py2.py3-none-any.whl.metadata (14 kB)\r\n",
      "Requirement already satisfied: charset-normalizer<4,>=2 in /usr/local/lib/python3.10/dist-packages (from requests->cryoet-data-portal==4.0.0->copick) (3.3.2)\r\n",
      "Requirement already satisfied: idna<4,>=2.5 in /usr/local/lib/python3.10/dist-packages (from requests->cryoet-data-portal==4.0.0->copick) (3.10)\r\n",
      "Requirement already satisfied: certifi>=2017.4.17 in /usr/local/lib/python3.10/dist-packages (from requests->cryoet-data-portal==4.0.0->copick) (2024.8.30)\r\n",
      "Requirement already satisfied: sniffio>=1.1 in /usr/local/lib/python3.10/dist-packages (from anyio<5,>=3.0->gql[requests]->cryoet-data-portal==4.0.0->copick) (1.3.1)\r\n",
      "Requirement already satisfied: exceptiongroup in /usr/local/lib/python3.10/dist-packages (from anyio<5,>=3.0->gql[requests]->cryoet-data-portal==4.0.0->copick) (1.2.2)\r\n",
      "Requirement already satisfied: zipp>=3.20 in /usr/local/lib/python3.10/dist-packages (from importlib_metadata>=4.13.0->dask->ome-zarr->copick) (3.20.2)\r\n",
      "Requirement already satisfied: MarkupSafe>=2.0 in /usr/local/lib/python3.10/dist-packages (from jinja2>=2.10.3->distributed->ome-zarr->copick) (2.1.5)\r\n",
      "Requirement already satisfied: six>=1.5 in /usr/local/lib/python3.10/dist-packages (from python-dateutil<3.0.0,>=2.1->botocore>=1.12.91->s3fs->copick) (1.16.0)\r\n",
      "Downloading copick-0.8.0-py3-none-any.whl (35 kB)\r\n",
      "Downloading cryoet_data_portal-4.0.0-py3-none-any.whl (46 kB)\r\n",
      "\u001b[2K   \u001b[90m━━━━━━━━━━━━━━━━━━━━━━━━━━━━━━━━━━━━━━━━\u001b[0m \u001b[32m46.7/46.7 kB\u001b[0m \u001b[31m2.4 MB/s\u001b[0m eta \u001b[36m0:00:00\u001b[0m\r\n",
      "\u001b[?25hDownloading distinctipy-1.3.4-py3-none-any.whl (26 kB)\r\n",
      "Downloading ome_zarr-0.10.2-py3-none-any.whl (37 kB)\r\n",
      "Downloading zarr-2.18.3-py3-none-any.whl (210 kB)\r\n",
      "\u001b[2K   \u001b[90m━━━━━━━━━━━━━━━━━━━━━━━━━━━━━━━━━━━━━━━━\u001b[0m \u001b[32m210.7/210.7 kB\u001b[0m \u001b[31m8.5 MB/s\u001b[0m eta \u001b[36m0:00:00\u001b[0m\r\n",
      "\u001b[?25hDownloading trimesh-4.5.3-py3-none-any.whl (704 kB)\r\n",
      "\u001b[2K   \u001b[90m━━━━━━━━━━━━━━━━━━━━━━━━━━━━━━━━━━━━━━━━\u001b[0m \u001b[32m704.8/704.8 kB\u001b[0m \u001b[31m28.2 MB/s\u001b[0m eta \u001b[36m0:00:00\u001b[0m\r\n",
      "\u001b[?25hDownloading numcodecs-0.13.1-cp310-cp310-manylinux_2_17_x86_64.manylinux2014_x86_64.whl (8.6 MB)\r\n",
      "\u001b[2K   \u001b[90m━━━━━━━━━━━━━━━━━━━━━━━━━━━━━━━━━━━━━━━━\u001b[0m \u001b[32m8.6/8.6 MB\u001b[0m \u001b[31m104.3 MB/s\u001b[0m eta \u001b[36m0:00:00\u001b[0m\r\n",
      "\u001b[?25hDownloading deepmerge-2.0-py3-none-any.whl (13 kB)\r\n",
      "Downloading dask-2024.8.0-py3-none-any.whl (1.2 MB)\r\n",
      "\u001b[2K   \u001b[90m━━━━━━━━━━━━━━━━━━━━━━━━━━━━━━━━━━━━━━━━\u001b[0m \u001b[32m1.2/1.2 MB\u001b[0m \u001b[31m53.7 MB/s\u001b[0m eta \u001b[36m0:00:00\u001b[0m\r\n",
      "\u001b[?25hDownloading fasteners-0.19-py3-none-any.whl (18 kB)\r\n",
      "Downloading strcase-1.0.0-py3-none-any.whl (3.2 kB)\r\n",
      "Downloading backoff-2.2.1-py3-none-any.whl (15 kB)\r\n",
      "Downloading graphql_core-3.2.5-py3-none-any.whl (203 kB)\r\n",
      "\u001b[2K   \u001b[90m━━━━━━━━━━━━━━━━━━━━━━━━━━━━━━━━━━━━━━━━\u001b[0m \u001b[32m203.2/203.2 kB\u001b[0m \u001b[31m13.0 MB/s\u001b[0m eta \u001b[36m0:00:00\u001b[0m\r\n",
      "\u001b[?25hDownloading requests_toolbelt-1.0.0-py2.py3-none-any.whl (54 kB)\r\n",
      "\u001b[2K   \u001b[90m━━━━━━━━━━━━━━━━━━━━━━━━━━━━━━━━━━━━━━━━\u001b[0m \u001b[32m54.5/54.5 kB\u001b[0m \u001b[31m3.7 MB/s\u001b[0m eta \u001b[36m0:00:00\u001b[0m\r\n",
      "\u001b[?25hDownloading gql-3.5.0-py2.py3-none-any.whl (74 kB)\r\n",
      "\u001b[2K   \u001b[90m━━━━━━━━━━━━━━━━━━━━━━━━━━━━━━━━━━━━━━━━\u001b[0m \u001b[32m74.0/74.0 kB\u001b[0m \u001b[31m4.4 MB/s\u001b[0m eta \u001b[36m0:00:00\u001b[0m\r\n",
      "\u001b[?25hBuilding wheels for collected packages: copick-utils, asciitree\r\n",
      "  Building wheel for copick-utils (pyproject.toml) ... \u001b[?25l\u001b[?25hdone\r\n",
      "  Created wheel for copick-utils: filename=copick_utils-0.0.1-py3-none-any.whl size=11003 sha256=06eb1f90f8e2c7bb10acfdd83435c309d48e94363d37290e05022c077c318278\r\n",
      "  Stored in directory: /tmp/pip-ephem-wheel-cache-7ia_wiae/wheels/a6/a7/39/72b64bd4eecf4d57d5d4e1fcec96fdb0cd49ae7dbb336fcc4c\r\n",
      "  Building wheel for asciitree (setup.py) ... \u001b[?25l\u001b[?25hdone\r\n",
      "  Created wheel for asciitree: filename=asciitree-0.3.3-py3-none-any.whl size=5033 sha256=e3694e99f37881bd9cf967f0a0961b2dd62f92f77f9ab40e4da3d5f602cd3fef\r\n",
      "  Stored in directory: /root/.cache/pip/wheels/7f/4e/be/1171b40f43b918087657ec57cf3b81fa1a2e027d8755baa184\r\n",
      "Successfully built copick-utils asciitree\r\n",
      "Installing collected packages: strcase, asciitree, trimesh, numcodecs, graphql-core, fasteners, distinctipy, deepmerge, backoff, zarr, requests-toolbelt, dask, gql, ome-zarr, cryoet-data-portal, copick, copick-utils\r\n",
      "  Attempting uninstall: dask\r\n",
      "    Found existing installation: dask 2024.12.1\r\n",
      "    Uninstalling dask-2024.12.1:\r\n",
      "      Successfully uninstalled dask-2024.12.1\r\n",
      "\u001b[31mERROR: pip's dependency resolver does not currently take into account all the packages that are installed. This behaviour is the source of the following dependency conflicts.\r\n",
      "dask-expr 1.1.21 requires dask==2024.12.1, but you have dask 2024.8.0 which is incompatible.\u001b[0m\u001b[31m\r\n",
      "\u001b[0mSuccessfully installed asciitree-0.3.3 backoff-2.2.1 copick-0.8.0 copick-utils-0.0.1 cryoet-data-portal-4.0.0 dask-2024.8.0 deepmerge-2.0 distinctipy-1.3.4 fasteners-0.19 gql-3.5.0 graphql-core-3.2.5 numcodecs-0.13.1 ome-zarr-0.10.2 requests-toolbelt-1.0.0 strcase-1.0.0 trimesh-4.5.3 zarr-2.18.3\r\n",
      "\u001b[2K   \u001b[90m━━━━━━━━━━━━━━━━━━━━━━━━━━━━━━━━━━━━━━━━\u001b[0m \u001b[32m27.4/27.4 MB\u001b[0m \u001b[31m69.8 MB/s\u001b[0m eta \u001b[36m0:00:00\u001b[0m\r\n",
      "\u001b[2K   \u001b[90m━━━━━━━━━━━━━━━━━━━━━━━━━━━━━━━━━━━━━━━━\u001b[0m \u001b[32m5.9/5.9 MB\u001b[0m \u001b[31m97.6 MB/s\u001b[0m eta \u001b[36m0:00:00\u001b[0m\r\n",
      "\u001b[2K   \u001b[90m━━━━━━━━━━━━━━━━━━━━━━━━━━━━━━━━━━━━━━━━\u001b[0m \u001b[32m1.5/1.5 MB\u001b[0m \u001b[31m67.7 MB/s\u001b[0m eta \u001b[36m0:00:00\u001b[0m\r\n",
      "\u001b[2K   \u001b[90m━━━━━━━━━━━━━━━━━━━━━━━━━━━━━━━━━━━━━━━━\u001b[0m \u001b[32m114.9/114.9 kB\u001b[0m \u001b[31m7.2 MB/s\u001b[0m eta \u001b[36m0:00:00\u001b[0m\r\n",
      "\u001b[2K   \u001b[90m━━━━━━━━━━━━━━━━━━━━━━━━━━━━━━━━━━━━━━━━\u001b[0m \u001b[32m85.0/85.0 kB\u001b[0m \u001b[31m5.7 MB/s\u001b[0m eta \u001b[36m0:00:00\u001b[0m\r\n",
      "\u001b[2K   \u001b[90m━━━━━━━━━━━━━━━━━━━━━━━━━━━━━━━━━━━━━━━━\u001b[0m \u001b[32m629.7/629.7 kB\u001b[0m \u001b[31m30.3 MB/s\u001b[0m eta \u001b[36m0:00:00\u001b[0m\r\n",
      "\u001b[2K   \u001b[90m━━━━━━━━━━━━━━━━━━━━━━━━━━━━━━━━━━━━━━━━\u001b[0m \u001b[32m64.3/64.3 kB\u001b[0m \u001b[31m3.7 MB/s\u001b[0m eta \u001b[36m0:00:00\u001b[0m\r\n",
      "\u001b[2K   \u001b[90m━━━━━━━━━━━━━━━━━━━━━━━━━━━━━━━━━━━━━━━━\u001b[0m \u001b[32m118.1/118.1 kB\u001b[0m \u001b[31m7.3 MB/s\u001b[0m eta \u001b[36m0:00:00\u001b[0m\r\n",
      "\u001b[2K   \u001b[90m━━━━━━━━━━━━━━━━━━━━━━━━━━━━━━━━━━━━━━━━\u001b[0m \u001b[32m166.6/166.6 kB\u001b[0m \u001b[31m10.9 MB/s\u001b[0m eta \u001b[36m0:00:00\u001b[0m\r\n",
      "\u001b[?25h"
     ]
    }
   ],
   "source": [
    "!pip install copick git+https://github.com/copick/copick-utils.git\n",
    "!pip install -q \"monai-weekly[mlflow]\""
   ]
  },
  {
   "cell_type": "code",
   "execution_count": 2,
   "id": "9bb5dc62",
   "metadata": {
    "_kg_hide-output": false,
    "execution": {
     "iopub.execute_input": "2024-12-23T23:05:37.698406Z",
     "iopub.status.busy": "2024-12-23T23:05:37.698139Z",
     "iopub.status.idle": "2024-12-23T23:05:37.875596Z",
     "shell.execute_reply": "2024-12-23T23:05:37.874584Z"
    },
    "papermill": {
     "duration": 0.185416,
     "end_time": "2024-12-23T23:05:37.877054",
     "exception": false,
     "start_time": "2024-12-23T23:05:37.691638",
     "status": "completed"
    },
    "tags": []
   },
   "outputs": [
    {
     "name": "stdout",
     "output_type": "stream",
     "text": [
      "Copied /kaggle/input/czii-cryo-et-object-identification/train/overlay/ExperimentRuns/TS_86_3/Picks/beta-amylase.json to /kaggle/working/overlay/ExperimentRuns/TS_86_3/Picks/curation_0_beta-amylase.json\n",
      "Copied /kaggle/input/czii-cryo-et-object-identification/train/overlay/ExperimentRuns/TS_86_3/Picks/beta-galactosidase.json to /kaggle/working/overlay/ExperimentRuns/TS_86_3/Picks/curation_0_beta-galactosidase.json\n",
      "Copied /kaggle/input/czii-cryo-et-object-identification/train/overlay/ExperimentRuns/TS_86_3/Picks/apo-ferritin.json to /kaggle/working/overlay/ExperimentRuns/TS_86_3/Picks/curation_0_apo-ferritin.json\n",
      "Copied /kaggle/input/czii-cryo-et-object-identification/train/overlay/ExperimentRuns/TS_86_3/Picks/virus-like-particle.json to /kaggle/working/overlay/ExperimentRuns/TS_86_3/Picks/curation_0_virus-like-particle.json\n",
      "Copied /kaggle/input/czii-cryo-et-object-identification/train/overlay/ExperimentRuns/TS_86_3/Picks/ribosome.json to /kaggle/working/overlay/ExperimentRuns/TS_86_3/Picks/curation_0_ribosome.json\n",
      "Copied /kaggle/input/czii-cryo-et-object-identification/train/overlay/ExperimentRuns/TS_86_3/Picks/thyroglobulin.json to /kaggle/working/overlay/ExperimentRuns/TS_86_3/Picks/curation_0_thyroglobulin.json\n",
      "Copied /kaggle/input/czii-cryo-et-object-identification/train/overlay/ExperimentRuns/TS_6_6/Picks/beta-amylase.json to /kaggle/working/overlay/ExperimentRuns/TS_6_6/Picks/curation_0_beta-amylase.json\n",
      "Copied /kaggle/input/czii-cryo-et-object-identification/train/overlay/ExperimentRuns/TS_6_6/Picks/beta-galactosidase.json to /kaggle/working/overlay/ExperimentRuns/TS_6_6/Picks/curation_0_beta-galactosidase.json\n",
      "Copied /kaggle/input/czii-cryo-et-object-identification/train/overlay/ExperimentRuns/TS_6_6/Picks/apo-ferritin.json to /kaggle/working/overlay/ExperimentRuns/TS_6_6/Picks/curation_0_apo-ferritin.json\n",
      "Copied /kaggle/input/czii-cryo-et-object-identification/train/overlay/ExperimentRuns/TS_6_6/Picks/virus-like-particle.json to /kaggle/working/overlay/ExperimentRuns/TS_6_6/Picks/curation_0_virus-like-particle.json\n",
      "Copied /kaggle/input/czii-cryo-et-object-identification/train/overlay/ExperimentRuns/TS_6_6/Picks/ribosome.json to /kaggle/working/overlay/ExperimentRuns/TS_6_6/Picks/curation_0_ribosome.json\n",
      "Copied /kaggle/input/czii-cryo-et-object-identification/train/overlay/ExperimentRuns/TS_6_6/Picks/thyroglobulin.json to /kaggle/working/overlay/ExperimentRuns/TS_6_6/Picks/curation_0_thyroglobulin.json\n",
      "Copied /kaggle/input/czii-cryo-et-object-identification/train/overlay/ExperimentRuns/TS_6_4/Picks/beta-amylase.json to /kaggle/working/overlay/ExperimentRuns/TS_6_4/Picks/curation_0_beta-amylase.json\n",
      "Copied /kaggle/input/czii-cryo-et-object-identification/train/overlay/ExperimentRuns/TS_6_4/Picks/beta-galactosidase.json to /kaggle/working/overlay/ExperimentRuns/TS_6_4/Picks/curation_0_beta-galactosidase.json\n",
      "Copied /kaggle/input/czii-cryo-et-object-identification/train/overlay/ExperimentRuns/TS_6_4/Picks/apo-ferritin.json to /kaggle/working/overlay/ExperimentRuns/TS_6_4/Picks/curation_0_apo-ferritin.json\n",
      "Copied /kaggle/input/czii-cryo-et-object-identification/train/overlay/ExperimentRuns/TS_6_4/Picks/virus-like-particle.json to /kaggle/working/overlay/ExperimentRuns/TS_6_4/Picks/curation_0_virus-like-particle.json\n",
      "Copied /kaggle/input/czii-cryo-et-object-identification/train/overlay/ExperimentRuns/TS_6_4/Picks/ribosome.json to /kaggle/working/overlay/ExperimentRuns/TS_6_4/Picks/curation_0_ribosome.json\n",
      "Copied /kaggle/input/czii-cryo-et-object-identification/train/overlay/ExperimentRuns/TS_6_4/Picks/thyroglobulin.json to /kaggle/working/overlay/ExperimentRuns/TS_6_4/Picks/curation_0_thyroglobulin.json\n",
      "Copied /kaggle/input/czii-cryo-et-object-identification/train/overlay/ExperimentRuns/TS_5_4/Picks/beta-amylase.json to /kaggle/working/overlay/ExperimentRuns/TS_5_4/Picks/curation_0_beta-amylase.json\n",
      "Copied /kaggle/input/czii-cryo-et-object-identification/train/overlay/ExperimentRuns/TS_5_4/Picks/beta-galactosidase.json to /kaggle/working/overlay/ExperimentRuns/TS_5_4/Picks/curation_0_beta-galactosidase.json\n",
      "Copied /kaggle/input/czii-cryo-et-object-identification/train/overlay/ExperimentRuns/TS_5_4/Picks/apo-ferritin.json to /kaggle/working/overlay/ExperimentRuns/TS_5_4/Picks/curation_0_apo-ferritin.json\n",
      "Copied /kaggle/input/czii-cryo-et-object-identification/train/overlay/ExperimentRuns/TS_5_4/Picks/virus-like-particle.json to /kaggle/working/overlay/ExperimentRuns/TS_5_4/Picks/curation_0_virus-like-particle.json\n",
      "Copied /kaggle/input/czii-cryo-et-object-identification/train/overlay/ExperimentRuns/TS_5_4/Picks/ribosome.json to /kaggle/working/overlay/ExperimentRuns/TS_5_4/Picks/curation_0_ribosome.json\n",
      "Copied /kaggle/input/czii-cryo-et-object-identification/train/overlay/ExperimentRuns/TS_5_4/Picks/thyroglobulin.json to /kaggle/working/overlay/ExperimentRuns/TS_5_4/Picks/curation_0_thyroglobulin.json\n",
      "Copied /kaggle/input/czii-cryo-et-object-identification/train/overlay/ExperimentRuns/TS_73_6/Picks/beta-amylase.json to /kaggle/working/overlay/ExperimentRuns/TS_73_6/Picks/curation_0_beta-amylase.json\n",
      "Copied /kaggle/input/czii-cryo-et-object-identification/train/overlay/ExperimentRuns/TS_73_6/Picks/beta-galactosidase.json to /kaggle/working/overlay/ExperimentRuns/TS_73_6/Picks/curation_0_beta-galactosidase.json\n",
      "Copied /kaggle/input/czii-cryo-et-object-identification/train/overlay/ExperimentRuns/TS_73_6/Picks/apo-ferritin.json to /kaggle/working/overlay/ExperimentRuns/TS_73_6/Picks/curation_0_apo-ferritin.json\n",
      "Copied /kaggle/input/czii-cryo-et-object-identification/train/overlay/ExperimentRuns/TS_73_6/Picks/virus-like-particle.json to /kaggle/working/overlay/ExperimentRuns/TS_73_6/Picks/curation_0_virus-like-particle.json\n",
      "Copied /kaggle/input/czii-cryo-et-object-identification/train/overlay/ExperimentRuns/TS_73_6/Picks/ribosome.json to /kaggle/working/overlay/ExperimentRuns/TS_73_6/Picks/curation_0_ribosome.json\n",
      "Copied /kaggle/input/czii-cryo-et-object-identification/train/overlay/ExperimentRuns/TS_73_6/Picks/thyroglobulin.json to /kaggle/working/overlay/ExperimentRuns/TS_73_6/Picks/curation_0_thyroglobulin.json\n",
      "Copied /kaggle/input/czii-cryo-et-object-identification/train/overlay/ExperimentRuns/TS_99_9/Picks/beta-amylase.json to /kaggle/working/overlay/ExperimentRuns/TS_99_9/Picks/curation_0_beta-amylase.json\n",
      "Copied /kaggle/input/czii-cryo-et-object-identification/train/overlay/ExperimentRuns/TS_99_9/Picks/beta-galactosidase.json to /kaggle/working/overlay/ExperimentRuns/TS_99_9/Picks/curation_0_beta-galactosidase.json\n",
      "Copied /kaggle/input/czii-cryo-et-object-identification/train/overlay/ExperimentRuns/TS_99_9/Picks/apo-ferritin.json to /kaggle/working/overlay/ExperimentRuns/TS_99_9/Picks/curation_0_apo-ferritin.json\n",
      "Copied /kaggle/input/czii-cryo-et-object-identification/train/overlay/ExperimentRuns/TS_99_9/Picks/virus-like-particle.json to /kaggle/working/overlay/ExperimentRuns/TS_99_9/Picks/curation_0_virus-like-particle.json\n",
      "Copied /kaggle/input/czii-cryo-et-object-identification/train/overlay/ExperimentRuns/TS_99_9/Picks/ribosome.json to /kaggle/working/overlay/ExperimentRuns/TS_99_9/Picks/curation_0_ribosome.json\n",
      "Copied /kaggle/input/czii-cryo-et-object-identification/train/overlay/ExperimentRuns/TS_99_9/Picks/thyroglobulin.json to /kaggle/working/overlay/ExperimentRuns/TS_99_9/Picks/curation_0_thyroglobulin.json\n",
      "Copied /kaggle/input/czii-cryo-et-object-identification/train/overlay/ExperimentRuns/TS_69_2/Picks/beta-amylase.json to /kaggle/working/overlay/ExperimentRuns/TS_69_2/Picks/curation_0_beta-amylase.json\n",
      "Copied /kaggle/input/czii-cryo-et-object-identification/train/overlay/ExperimentRuns/TS_69_2/Picks/beta-galactosidase.json to /kaggle/working/overlay/ExperimentRuns/TS_69_2/Picks/curation_0_beta-galactosidase.json\n",
      "Copied /kaggle/input/czii-cryo-et-object-identification/train/overlay/ExperimentRuns/TS_69_2/Picks/apo-ferritin.json to /kaggle/working/overlay/ExperimentRuns/TS_69_2/Picks/curation_0_apo-ferritin.json\n",
      "Copied /kaggle/input/czii-cryo-et-object-identification/train/overlay/ExperimentRuns/TS_69_2/Picks/virus-like-particle.json to /kaggle/working/overlay/ExperimentRuns/TS_69_2/Picks/curation_0_virus-like-particle.json\n",
      "Copied /kaggle/input/czii-cryo-et-object-identification/train/overlay/ExperimentRuns/TS_69_2/Picks/ribosome.json to /kaggle/working/overlay/ExperimentRuns/TS_69_2/Picks/curation_0_ribosome.json\n",
      "Copied /kaggle/input/czii-cryo-et-object-identification/train/overlay/ExperimentRuns/TS_69_2/Picks/thyroglobulin.json to /kaggle/working/overlay/ExperimentRuns/TS_69_2/Picks/curation_0_thyroglobulin.json\n"
     ]
    }
   ],
   "source": [
    "import os\n",
    "import shutil\n",
    "\n",
    "config_blob = \"\"\"{\n",
    "    \"name\": \"czii_cryoet_mlchallenge_2024\",\n",
    "    \"description\": \"2024 CZII CryoET ML Challenge training data.\",\n",
    "    \"version\": \"1.0.0\",\n",
    "\n",
    "    \"pickable_objects\": [\n",
    "        {\n",
    "            \"name\": \"apo-ferritin\",\n",
    "            \"is_particle\": true,\n",
    "            \"pdb_id\": \"4V1W\",\n",
    "            \"label\": 1,\n",
    "            \"color\": [  0, 117, 220, 128],\n",
    "            \"radius\": 60,\n",
    "            \"map_threshold\": 0.0418\n",
    "        },\n",
    "        {\n",
    "            \"name\": \"beta-galactosidase\",\n",
    "            \"is_particle\": true,\n",
    "            \"pdb_id\": \"6X1Q\",\n",
    "            \"label\": 3,\n",
    "            \"color\": [ 76,   0,  92, 128],\n",
    "            \"radius\": 90,\n",
    "            \"map_threshold\": 0.0578\n",
    "        },\n",
    "        {\n",
    "            \"name\": \"ribosome\",\n",
    "            \"is_particle\": true,\n",
    "            \"pdb_id\": \"6EK0\",\n",
    "            \"label\": 4,\n",
    "            \"color\": [  0,  92,  49, 128],\n",
    "            \"radius\": 150,\n",
    "            \"map_threshold\": 0.0374\n",
    "        },\n",
    "        {\n",
    "            \"name\": \"thyroglobulin\",\n",
    "            \"is_particle\": true,\n",
    "            \"pdb_id\": \"6SCJ\",\n",
    "            \"label\": 5,\n",
    "            \"color\": [ 43, 206,  72, 128],\n",
    "            \"radius\": 130,\n",
    "            \"map_threshold\": 0.0278\n",
    "        },\n",
    "        {\n",
    "            \"name\": \"virus-like-particle\",\n",
    "            \"is_particle\": true,\n",
    "            \"label\": 6,\n",
    "            \"color\": [255, 204, 153, 128],\n",
    "            \"radius\": 135,\n",
    "            \"map_threshold\": 0.201\n",
    "        },\n",
    "        {\n",
    "            \"name\": \"membrane\",\n",
    "            \"is_particle\": false,\n",
    "            \"label\": 8,\n",
    "            \"color\": [100, 100, 100, 128]\n",
    "        },\n",
    "        {\n",
    "            \"name\": \"background\",\n",
    "            \"is_particle\": false,\n",
    "            \"label\": 9,\n",
    "            \"color\": [10, 150, 200, 128]\n",
    "        }\n",
    "    ],\n",
    "\n",
    "    \"overlay_root\": \"/kaggle/working/overlay\",\n",
    "\n",
    "    \"overlay_fs_args\": {\n",
    "        \"auto_mkdir\": true\n",
    "    },\n",
    "\n",
    "    \"static_root\": \"/kaggle/input/czii-cryo-et-object-identification/train/static\"\n",
    "}\"\"\"\n",
    "\n",
    "copick_config_path = \"/kaggle/working/copick.config\"\n",
    "\n",
    "with open(copick_config_path, \"w\") as f:\n",
    "    f.write(config_blob)\n",
    "\n",
    "source = '/kaggle/input/czii-cryo-et-object-identification/train/overlay'\n",
    "dest = '/kaggle/working/overlay'\n",
    "\n",
    "for root, dirs, files in os.walk(source):\n",
    "    relpath = os.path.relpath(root, source)\n",
    "    target_dir = os.path.join(dest, relpath)\n",
    "    os.makedirs(target_dir, exist_ok=True)\n",
    "    \n",
    "    for file in files:\n",
    "        new_filename = f\"curation_0_{file}\"\n",
    "        source_file = os.path.join(root, file)\n",
    "        destination_file = os.path.join(target_dir, new_filename)\n",
    "        shutil.copy2(os.path.join(root, file), os.path.join(target_dir, new_filename))\n",
    "        print(f\"Copied {source_file} to {destination_file}\")"
   ]
  },
  {
   "cell_type": "code",
   "execution_count": 3,
   "id": "cf63d1cb",
   "metadata": {
    "execution": {
     "iopub.execute_input": "2024-12-23T23:05:37.890460Z",
     "iopub.status.busy": "2024-12-23T23:05:37.890169Z",
     "iopub.status.idle": "2024-12-23T23:06:00.490489Z",
     "shell.execute_reply": "2024-12-23T23:06:00.489610Z"
    },
    "papermill": {
     "duration": 22.608517,
     "end_time": "2024-12-23T23:06:00.492019",
     "exception": false,
     "start_time": "2024-12-23T23:05:37.883502",
     "status": "completed"
    },
    "tags": []
   },
   "outputs": [],
   "source": [
    "import copick\n",
    "import matplotlib.pyplot as plt\n",
    "import torch\n",
    "import torchinfo\n",
    "import numpy as np\n",
    "import zarr\n",
    "from tqdm import tqdm\n",
    "from copick_utils.segmentation.segmentation_from_picks import from_picks, downsample_to_exact_shape\n",
    "from monai.data import DataLoader, Dataset, CacheDataset, decollate_batch\n",
    "from monai.transforms import (\n",
    "    Compose, \n",
    "    EnsureChannelFirstd, \n",
    "    Orientationd,  \n",
    "    AsDiscrete,  \n",
    "    RandFlipd, \n",
    "    RandRotate90d, \n",
    "    NormalizeIntensityd,\n",
    "    RandCropByLabelClassesd,\n",
    ")\n",
    "from monai.networks.nets import UNet\n",
    "from monai.losses import DiceLoss, FocalLoss, TverskyLoss\n",
    "from monai.metrics import DiceMetric, ConfusionMatrixMetric\n",
    "import mlflow\n",
    "import mlflow.pytorch"
   ]
  },
  {
   "cell_type": "code",
   "execution_count": 4,
   "id": "af7e9b4d",
   "metadata": {
    "execution": {
     "iopub.execute_input": "2024-12-23T23:06:00.506099Z",
     "iopub.status.busy": "2024-12-23T23:06:00.505292Z",
     "iopub.status.idle": "2024-12-23T23:06:00.509260Z",
     "shell.execute_reply": "2024-12-23T23:06:00.508514Z"
    },
    "papermill": {
     "duration": 0.011856,
     "end_time": "2024-12-23T23:06:00.510419",
     "exception": false,
     "start_time": "2024-12-23T23:06:00.498563",
     "status": "completed"
    },
    "tags": []
   },
   "outputs": [],
   "source": [
    "TOMO_TYPES = ['denoised', 'wbp']\n",
    "LEVELS = [\"0\"]\n",
    "VOXEL_SPACING = 10\n",
    "USER_NAME = 'copickUtils'"
   ]
  },
  {
   "cell_type": "code",
   "execution_count": 5,
   "id": "b7446f1f",
   "metadata": {
    "execution": {
     "iopub.execute_input": "2024-12-23T23:06:00.523278Z",
     "iopub.status.busy": "2024-12-23T23:06:00.523055Z",
     "iopub.status.idle": "2024-12-23T23:06:00.529900Z",
     "shell.execute_reply": "2024-12-23T23:06:00.529159Z"
    },
    "jupyter": {
     "source_hidden": true
    },
    "papermill": {
     "duration": 0.014559,
     "end_time": "2024-12-23T23:06:00.531046",
     "exception": false,
     "start_time": "2024-12-23T23:06:00.516487",
     "status": "completed"
    },
    "tags": []
   },
   "outputs": [],
   "source": [
    "# Modified from copick_utils\n",
    "def segmentation_from_picks(radius, painting_segmentation_name, run, voxel_spacing, tomo_type, pickable_object, pick_set, user_id=\"paintedPicks\", session_id=\"0\"):\n",
    "    # Fetch the tomogram and determine its multiscale structure\n",
    "    tomogram = run.get_voxel_spacing(voxel_spacing).get_tomograms(tomo_type)[0]\n",
    "    if not tomogram:\n",
    "        raise ValueError(\"Tomogram not found for the given parameters.\")\n",
    "\n",
    "    # Use copick to create a new segmentation if one does not exist\n",
    "    segs = run.get_segmentations(user_id=user_id, session_id=session_id, is_multilabel=True, name=painting_segmentation_name, voxel_size=voxel_spacing)\n",
    "    if len(segs) == 0:\n",
    "        seg = run.new_segmentation(voxel_spacing, painting_segmentation_name, session_id, True, user_id=user_id)\n",
    "    else:\n",
    "        seg = segs[0]\n",
    "\n",
    "    segmentation_group = zarr.open(seg.zarr(), mode=\"a\")\n",
    "    highest_res_name = \"0\"\n",
    "\n",
    "    # Get the highest resolution dimensions and create a new array if necessary\n",
    "    tomogram_zarr = zarr.open(tomogram.zarr(), \"r\")\n",
    "\n",
    "    highest_res_shape = tomogram_zarr[highest_res_name].shape\n",
    "    if highest_res_name not in segmentation_group:\n",
    "        segmentation_group.create(highest_res_name, shape=highest_res_shape, dtype=np.uint16, overwrite=True)\n",
    "\n",
    "    # Initialize or load the highest resolution array\n",
    "    highest_res_seg = segmentation_group[highest_res_name][:]\n",
    "\n",
    "    # Paint picks into the highest resolution array\n",
    "    highest_res_seg = from_picks(pick_set, highest_res_seg, radius, pickable_object.label, voxel_spacing)\n",
    "\n",
    "    # Write back the highest resolution data\n",
    "    segmentation_group[highest_res_name][:] = highest_res_seg\n",
    "\n",
    "    # Downsample to create lower resolution scales\n",
    "    multiscale_metadata = tomogram_zarr.attrs.get('multiscales', [{}])[0].get('datasets', [])\n",
    "    for level_index, level_metadata in enumerate(multiscale_metadata):\n",
    "        if level_index == 0:\n",
    "            continue\n",
    "\n",
    "        level_name = level_metadata.get(\"path\", str(level_index))\n",
    "        expected_shape = tuple(tomogram_zarr[level_name].shape)\n",
    "\n",
    "        # Compute scaling factors relative to the highest resolution shape\n",
    "        scaled_array = downsample_to_exact_shape(highest_res_seg, expected_shape)\n",
    "\n",
    "        # Create/overwrite the Zarr array for this level\n",
    "        segmentation_group.create_dataset(level_name, shape=expected_shape, data=scaled_array, dtype=np.uint16, overwrite=True)\n",
    "\n",
    "        segmentation_group[level_name][:] = scaled_array\n",
    "\n",
    "    return seg"
   ]
  },
  {
   "cell_type": "code",
   "execution_count": 6,
   "id": "7edb3b05",
   "metadata": {
    "execution": {
     "iopub.execute_input": "2024-12-23T23:06:00.543639Z",
     "iopub.status.busy": "2024-12-23T23:06:00.543409Z",
     "iopub.status.idle": "2024-12-23T23:06:53.722471Z",
     "shell.execute_reply": "2024-12-23T23:06:53.721321Z"
    },
    "papermill": {
     "duration": 53.186887,
     "end_time": "2024-12-23T23:06:53.723922",
     "exception": false,
     "start_time": "2024-12-23T23:06:00.537035",
     "status": "completed"
    },
    "tags": []
   },
   "outputs": [
    {
     "name": "stderr",
     "output_type": "stream",
     "text": [
      "  0%|          | 0/7 [00:00<?, ?it/s]"
     ]
    },
    {
     "name": "stdout",
     "output_type": "stream",
     "text": [
      "\n",
      "Processing run: TS_5_4\n",
      "Processing apo-ferritin with radius 60.0\n",
      "Created segmentation mask for apo-ferritin\n",
      "Processing beta-galactosidase with radius 90.0\n",
      "Created segmentation mask for beta-galactosidase\n",
      "Processing ribosome with radius 150.0\n",
      "Created segmentation mask for ribosome\n",
      "Processing thyroglobulin with radius 130.0\n",
      "Created segmentation mask for thyroglobulin\n",
      "Processing virus-like-particle with radius 135.0\n",
      "Created segmentation mask for virus-like-particle\n"
     ]
    },
    {
     "name": "stderr",
     "output_type": "stream",
     "text": [
      " 14%|█▍        | 1/7 [00:08<00:51,  8.67s/it]"
     ]
    },
    {
     "name": "stdout",
     "output_type": "stream",
     "text": [
      "\n",
      "Processing run: TS_69_2\n",
      "Processing apo-ferritin with radius 60.0\n",
      "Created segmentation mask for apo-ferritin\n",
      "Processing beta-galactosidase with radius 90.0\n",
      "Created segmentation mask for beta-galactosidase\n",
      "Processing ribosome with radius 150.0\n",
      "Created segmentation mask for ribosome\n",
      "Processing thyroglobulin with radius 130.0\n",
      "Created segmentation mask for thyroglobulin\n",
      "Processing virus-like-particle with radius 135.0\n",
      "Created segmentation mask for virus-like-particle\n"
     ]
    },
    {
     "name": "stderr",
     "output_type": "stream",
     "text": [
      " 29%|██▊       | 2/7 [00:16<00:40,  8.09s/it]"
     ]
    },
    {
     "name": "stdout",
     "output_type": "stream",
     "text": [
      "\n",
      "Processing run: TS_6_4\n",
      "Processing apo-ferritin with radius 60.0\n",
      "Created segmentation mask for apo-ferritin\n",
      "Processing beta-galactosidase with radius 90.0\n",
      "Created segmentation mask for beta-galactosidase\n",
      "Processing ribosome with radius 150.0\n",
      "Created segmentation mask for ribosome\n",
      "Processing thyroglobulin with radius 130.0\n",
      "Created segmentation mask for thyroglobulin\n",
      "Processing virus-like-particle with radius 135.0\n",
      "Created segmentation mask for virus-like-particle\n"
     ]
    },
    {
     "name": "stderr",
     "output_type": "stream",
     "text": [
      " 43%|████▎     | 3/7 [00:23<00:31,  7.77s/it]"
     ]
    },
    {
     "name": "stdout",
     "output_type": "stream",
     "text": [
      "\n",
      "Processing run: TS_6_6\n",
      "Processing apo-ferritin with radius 60.0\n",
      "Created segmentation mask for apo-ferritin\n",
      "Processing beta-galactosidase with radius 90.0\n",
      "Created segmentation mask for beta-galactosidase\n",
      "Processing ribosome with radius 150.0\n",
      "Created segmentation mask for ribosome\n",
      "Processing thyroglobulin with radius 130.0\n",
      "Created segmentation mask for thyroglobulin\n",
      "Processing virus-like-particle with radius 135.0\n",
      "Created segmentation mask for virus-like-particle\n"
     ]
    },
    {
     "name": "stderr",
     "output_type": "stream",
     "text": [
      " 57%|█████▋    | 4/7 [00:31<00:22,  7.61s/it]"
     ]
    },
    {
     "name": "stdout",
     "output_type": "stream",
     "text": [
      "\n",
      "Processing run: TS_73_6\n",
      "Processing apo-ferritin with radius 60.0\n",
      "Created segmentation mask for apo-ferritin\n",
      "Processing beta-galactosidase with radius 90.0\n",
      "Created segmentation mask for beta-galactosidase\n",
      "Processing ribosome with radius 150.0\n",
      "Created segmentation mask for ribosome\n",
      "Processing thyroglobulin with radius 130.0\n",
      "Created segmentation mask for thyroglobulin\n",
      "Processing virus-like-particle with radius 135.0\n",
      "Created segmentation mask for virus-like-particle\n"
     ]
    },
    {
     "name": "stderr",
     "output_type": "stream",
     "text": [
      " 71%|███████▏  | 5/7 [00:38<00:15,  7.55s/it]"
     ]
    },
    {
     "name": "stdout",
     "output_type": "stream",
     "text": [
      "\n",
      "Processing run: TS_86_3\n",
      "Processing apo-ferritin with radius 60.0\n",
      "Created segmentation mask for apo-ferritin\n",
      "Processing beta-galactosidase with radius 90.0\n",
      "Created segmentation mask for beta-galactosidase\n",
      "Processing ribosome with radius 150.0\n",
      "Created segmentation mask for ribosome\n",
      "Processing thyroglobulin with radius 130.0\n",
      "Created segmentation mask for thyroglobulin\n",
      "Processing virus-like-particle with radius 135.0\n",
      "Created segmentation mask for virus-like-particle\n"
     ]
    },
    {
     "name": "stderr",
     "output_type": "stream",
     "text": [
      " 86%|████████▌ | 6/7 [00:45<00:07,  7.51s/it]"
     ]
    },
    {
     "name": "stdout",
     "output_type": "stream",
     "text": [
      "\n",
      "Processing run: TS_99_9\n",
      "Processing apo-ferritin with radius 60.0\n",
      "Created segmentation mask for apo-ferritin\n",
      "Processing beta-galactosidase with radius 90.0\n",
      "Created segmentation mask for beta-galactosidase\n",
      "Processing ribosome with radius 150.0\n",
      "Created segmentation mask for ribosome\n",
      "Processing thyroglobulin with radius 130.0\n",
      "Created segmentation mask for thyroglobulin\n",
      "Processing virus-like-particle with radius 135.0\n",
      "Created segmentation mask for virus-like-particle\n"
     ]
    },
    {
     "name": "stderr",
     "output_type": "stream",
     "text": [
      "100%|██████████| 7/7 [00:53<00:00,  7.59s/it]"
     ]
    },
    {
     "name": "stdout",
     "output_type": "stream",
     "text": [
      "14\n"
     ]
    },
    {
     "name": "stderr",
     "output_type": "stream",
     "text": [
      "\n"
     ]
    }
   ],
   "source": [
    "data = []\n",
    "\n",
    "root = copick.from_file(copick_config_path)\n",
    "for run in tqdm(root.runs):\n",
    "    print(f\"\\nProcessing run: {run.meta.name}\")\n",
    "    for obj in root.pickable_objects:\n",
    "        if obj.is_particle:\n",
    "            print(f\"Processing {obj.name} with radius {obj.radius}\")\n",
    "            picks = run.get_picks(object_name=obj.name, user_id=\"curation\")\n",
    "            if picks:\n",
    "                seg = segmentation_from_picks(obj.radius, USER_NAME, run, VOXEL_SPACING, TOMO_TYPES[0], obj, picks[0])\n",
    "                print(f\"Created segmentation mask for {obj.name}\")\n",
    "    seg_group = zarr.open_group(seg.path)\n",
    "    for tomo_type in TOMO_TYPES:\n",
    "        tomogram = run.get_voxel_spacing(VOXEL_SPACING).get_tomograms(tomo_type)[0]\n",
    "        zarr_array = zarr.open(tomogram.zarr())\n",
    "        for level in LEVELS:\n",
    "            data.append({\"image\": np.array(zarr_array[level]), \"label\": np.array(seg_group[level], dtype=np.float32)})\n",
    "\n",
    "print(len(data))"
   ]
  },
  {
   "cell_type": "code",
   "execution_count": 7,
   "id": "92aa232c",
   "metadata": {
    "execution": {
     "iopub.execute_input": "2024-12-23T23:06:53.741974Z",
     "iopub.status.busy": "2024-12-23T23:06:53.741696Z",
     "iopub.status.idle": "2024-12-23T23:06:54.185733Z",
     "shell.execute_reply": "2024-12-23T23:06:54.184838Z"
    },
    "papermill": {
     "duration": 0.456582,
     "end_time": "2024-12-23T23:06:54.189318",
     "exception": false,
     "start_time": "2024-12-23T23:06:53.732736",
     "status": "completed"
    },
    "tags": []
   },
   "outputs": [
    {
     "data": {
      "image/png": "[encoded data removed]",
      "text/plain": [
       "<Figure size 1500x500 with 2 Axes>"
      ]
     },
     "metadata": {},
     "output_type": "display_data"
    }
   ],
   "source": [
    "plt.figure(figsize=(15, 5))\n",
    "z = 100\n",
    "\n",
    "plt.subplot(1, 2, 1)\n",
    "plt.imshow(data[0]['image'][z], cmap='gray')\n",
    "plt.subplot(1, 2, 2)\n",
    "plt.imshow(data[0]['label'][z], cmap='viridis')\n",
    "plt.show()"
   ]
  },
  {
   "cell_type": "code",
   "execution_count": 8,
   "id": "330225a2",
   "metadata": {
    "execution": {
     "iopub.execute_input": "2024-12-23T23:06:54.215572Z",
     "iopub.status.busy": "2024-12-23T23:06:54.215276Z",
     "iopub.status.idle": "2024-12-23T23:06:58.520276Z",
     "shell.execute_reply": "2024-12-23T23:06:58.519300Z"
    },
    "papermill": {
     "duration": 4.319088,
     "end_time": "2024-12-23T23:06:58.521810",
     "exception": false,
     "start_time": "2024-12-23T23:06:54.202722",
     "status": "completed"
    },
    "tags": []
   },
   "outputs": [
    {
     "name": "stdout",
     "output_type": "stream",
     "text": [
      "Number of training samples: 10\n",
      "Number of validation samples: 2\n"
     ]
    },
    {
     "name": "stderr",
     "output_type": "stream",
     "text": [
      "Loading dataset: 100%|██████████| 10/10 [00:03<00:00,  2.81it/s]\n",
      "Loading dataset: 100%|██████████| 2/2 [00:00<00:00,  2.89it/s]\n"
     ]
    }
   ],
   "source": [
    "num_samples = 16\n",
    "train_batch_size = 1\n",
    "val_batch_size = 1\n",
    "\n",
    "train_files, val_files = data[:10], [data[10], data[12]]\n",
    "print(f\"Number of training samples: {len(train_files)}\")\n",
    "print(f\"Number of validation samples: {len(val_files)}\")\n",
    "\n",
    "non_random_transforms = Compose([\n",
    "    EnsureChannelFirstd(keys=[\"image\", \"label\"], channel_dim=\"no_channel\"),\n",
    "    NormalizeIntensityd(keys=[\"image\"]),\n",
    "    Orientationd(keys=[\"image\", \"label\"], axcodes=\"RAS\")\n",
    "])\n",
    "random_transforms = Compose([\n",
    "    RandCropByLabelClassesd(\n",
    "        keys=[\"image\", \"label\"],\n",
    "        label_key=\"label\",\n",
    "        spatial_size=[96, 96, 96],\n",
    "        num_classes=8,\n",
    "        num_samples=num_samples\n",
    "    ),\n",
    "    RandRotate90d(keys=[\"image\", \"label\"], prob=0.5, spatial_axes=[0, 2]),\n",
    "    RandFlipd(keys=[\"image\", \"label\"], prob=0.5, spatial_axis=0),\n",
    "])\n",
    "train_ds = CacheDataset(data=train_files, transform=non_random_transforms, cache_rate=1.0)\n",
    "train_ds = Dataset(data=train_ds, transform=random_transforms)\n",
    "train_loader = DataLoader(\n",
    "    train_ds,\n",
    "    batch_size=train_batch_size,\n",
    "    shuffle=True,\n",
    "    num_workers=4,\n",
    "    pin_memory=torch.cuda.is_available()\n",
    ")\n",
    "\n",
    "val_ds = CacheDataset(data=val_files, transform=non_random_transforms, cache_rate=1.0)\n",
    "val_ds = Dataset(data=val_ds, transform=random_transforms)\n",
    "val_loader = DataLoader(\n",
    "    val_ds,\n",
    "    batch_size=val_batch_size,\n",
    "    num_workers=4,\n",
    "    pin_memory=torch.cuda.is_available(),\n",
    "    shuffle=False,\n",
    ")"
   ]
  },
  {
   "cell_type": "code",
   "execution_count": 9,
   "id": "3d5b9d87",
   "metadata": {
    "execution": {
     "iopub.execute_input": "2024-12-23T23:06:58.550599Z",
     "iopub.status.busy": "2024-12-23T23:06:58.550291Z",
     "iopub.status.idle": "2024-12-23T23:06:58.778450Z",
     "shell.execute_reply": "2024-12-23T23:06:58.777516Z"
    },
    "papermill": {
     "duration": 0.243622,
     "end_time": "2024-12-23T23:06:58.779986",
     "exception": false,
     "start_time": "2024-12-23T23:06:58.536364",
     "status": "completed"
    },
    "tags": []
   },
   "outputs": [
    {
     "name": "stdout",
     "output_type": "stream",
     "text": [
      "cuda\n"
     ]
    }
   ],
   "source": [
    "device = torch.device('cuda' if torch.cuda.is_available() else 'cpu')\n",
    "print(device)\n",
    "\n",
    "model = UNet(\n",
    "    spatial_dims=3,\n",
    "    in_channels=1,\n",
    "    out_channels=len(root.pickable_objects)+1,\n",
    "    channels=(48, 64, 80, 80),\n",
    "    strides=(2, 2, 1),\n",
    "    num_res_units=1,\n",
    ").to(device)\n",
    "lr = 1e-3\n",
    "optimizer = torch.optim.Adam(model.parameters(), lr)\n",
    "loss_function = TverskyLoss(include_background=True, to_onehot_y=True, softmax=True)\n",
    "dice_metric = DiceMetric(include_background=False, reduction=\"mean\", ignore_empty=True)\n",
    "recall_metric = ConfusionMatrixMetric(include_background=False, metric_name=\"recall\", reduction=\"None\")"
   ]
  },
  {
   "cell_type": "code",
   "execution_count": 10,
   "id": "64dedc27",
   "metadata": {
    "execution": {
     "iopub.execute_input": "2024-12-23T23:06:58.808900Z",
     "iopub.status.busy": "2024-12-23T23:06:58.808637Z",
     "iopub.status.idle": "2024-12-23T23:06:58.817603Z",
     "shell.execute_reply": "2024-12-23T23:06:58.816953Z"
    },
    "papermill": {
     "duration": 0.025061,
     "end_time": "2024-12-23T23:06:58.818839",
     "exception": false,
     "start_time": "2024-12-23T23:06:58.793778",
     "status": "completed"
    },
    "tags": []
   },
   "outputs": [],
   "source": [
    "post_pred = AsDiscrete(argmax=True, to_onehot=len(root.pickable_objects)+1)\n",
    "post_label = AsDiscrete(to_onehot=len(root.pickable_objects)+1)\n",
    "\n",
    "def train(train_loader, model, loss_function, metrics_function, optimizer, max_epochs=100):\n",
    "    val_interval = 2\n",
    "    best_metric = -1\n",
    "    best_metric_epoch = -1\n",
    "    epoch_loss_values = []\n",
    "    metric_values = []\n",
    "    for epoch in range(max_epochs):\n",
    "        print(\"-\" * 10)\n",
    "        print(f\"Epoch {epoch + 1}/{max_epochs}\")\n",
    "        model.train()\n",
    "        epoch_loss = 0\n",
    "        step = 0\n",
    "        for batch_data in train_loader:\n",
    "            step += 1\n",
    "            inputs = batch_data[\"image\"].to(device)\n",
    "            labels = batch_data[\"label\"].to(device)\n",
    "            optimizer.zero_grad()\n",
    "            outputs = model(inputs)\n",
    "            loss = loss_function(outputs, labels)\n",
    "            loss.backward()\n",
    "            optimizer.step()\n",
    "            epoch_loss += loss.item()\n",
    "            print(f\"Batch {step}/{len(train_ds) // train_loader.batch_size}, train_loss: {loss.item():.4f}\")\n",
    "        epoch_loss /= step\n",
    "        epoch_loss_values.append(epoch_loss)\n",
    "        print(f\"Epoch {epoch + 1} average loss: {epoch_loss:.4f}\")\n",
    "        mlflow.log_metric(\"train_loss\", epoch_loss, step=epoch+1)\n",
    "        if (epoch + 1) % val_interval == 0:\n",
    "            model.eval()\n",
    "            with torch.no_grad():\n",
    "                for val_data in val_loader:\n",
    "                    val_inputs = val_data[\"image\"].to(device)\n",
    "                    val_labels = val_data[\"label\"].to(device)\n",
    "                    val_outputs = model(val_inputs)\n",
    "                    metric_val_outputs = [post_pred(i) for i in decollate_batch(val_outputs)]\n",
    "                    metric_val_labels = [post_label(i) for i in decollate_batch(val_labels)]\n",
    "                    metrics_function(y_pred=metric_val_outputs, y=metric_val_labels)\n",
    "\n",
    "                metrics = metrics_function.aggregate(reduction=\"mean_batch\")\n",
    "                metric_per_class = [\"{:.4g}\".format(x) for x in metrics]\n",
    "                metric = torch.mean(metrics).numpy(force=True)\n",
    "                mlflow.log_metric(\"validation metric\", metric, step=epoch+1)\n",
    "                for i,m in enumerate(metrics):\n",
    "                    mlflow.log_metric(f\"Validation metric class {i+1}\", m, step=epoch+1)\n",
    "                metrics_function.reset()\n",
    "\n",
    "                metric_values.append(metric)\n",
    "                if metric > best_metric:\n",
    "                    best_metric = metric\n",
    "                    best_metric_epoch = epoch + 1\n",
    "                    torch.save(model.state_dict(), os.path.join('./', \"best_metric_model.pth\"))\n",
    "                    \n",
    "                    print(\"saved new best metric model\")\n",
    "                print(\n",
    "                    f\"current epoch: {epoch + 1} current mean recall per class: {', '.join(metric_per_class)}\"\n",
    "                    f\"\\nbest mean recall: {best_metric:.4f} \"\n",
    "                    f\"at epoch: {best_metric_epoch}\"\n",
    "                )"
   ]
  },
  {
   "cell_type": "code",
   "execution_count": 11,
   "id": "6249d7cc",
   "metadata": {
    "execution": {
     "iopub.execute_input": "2024-12-23T23:06:58.845961Z",
     "iopub.status.busy": "2024-12-23T23:06:58.845723Z",
     "iopub.status.idle": "2024-12-24T00:10:37.597695Z",
     "shell.execute_reply": "2024-12-24T00:10:37.596900Z"
    },
    "papermill": {
     "duration": 3818.767242,
     "end_time": "2024-12-24T00:10:37.599138",
     "exception": false,
     "start_time": "2024-12-23T23:06:58.831896",
     "status": "completed"
    },
    "tags": []
   },
   "outputs": [
    {
     "name": "stderr",
     "output_type": "stream",
     "text": [
      "2024/12/23 23:06:58 INFO mlflow.tracking.fluent: Experiment with name 'training 3D U-Net model for the cryoET ML Challenge' does not exist. Creating a new experiment.\n"
     ]
    },
    {
     "name": "stdout",
     "output_type": "stream",
     "text": [
      "----------\n",
      "Epoch 1/200\n"
     ]
    },
    {
     "name": "stderr",
     "output_type": "stream",
     "text": [
      "/usr/lib/python3.10/multiprocessing/popen_fork.py:66: RuntimeWarning: os.fork() was called. os.fork() is incompatible with multithreaded code, and JAX is multithreaded, so this will likely lead to a deadlock.\n",
      "  self.pid = os.fork()\n",
      "/usr/local/lib/python3.10/dist-packages/monai/transforms/utils.py:743: UserWarning: no available indices of class 2 to crop, setting the crop ratio of this class to zero.\n",
      "  warnings.warn(\n",
      "/usr/local/lib/python3.10/dist-packages/monai/transforms/utils.py:743: UserWarning: no available indices of class 7 to crop, setting the crop ratio of this class to zero.\n",
      "  warnings.warn(\n",
      "/usr/local/lib/python3.10/dist-packages/monai/transforms/utils.py:743: UserWarning: no available indices of class 2 to crop, setting the crop ratio of this class to zero.\n",
      "  warnings.warn(\n",
      "/usr/local/lib/python3.10/dist-packages/monai/transforms/utils.py:743: UserWarning: no available indices of class 7 to crop, setting the crop ratio of this class to zero.\n",
      "  warnings.warn(\n",
      "/usr/local/lib/python3.10/dist-packages/monai/transforms/utils.py:743: UserWarning: no available indices of class 2 to crop, setting the crop ratio of this class to zero.\n",
      "  warnings.warn(\n",
      "/usr/local/lib/python3.10/dist-packages/monai/transforms/utils.py:743: UserWarning: no available indices of class 7 to crop, setting the crop ratio of this class to zero.\n",
      "  warnings.warn(\n",
      "/usr/local/lib/python3.10/dist-packages/monai/transforms/utils.py:743: UserWarning: no available indices of class 2 to crop, setting the crop ratio of this class to zero.\n",
      "  warnings.warn(\n",
      "/usr/local/lib/python3.10/dist-packages/monai/transforms/utils.py:743: UserWarning: no available indices of class 7 to crop, setting the crop ratio of this class to zero.\n",
      "  warnings.warn(\n"
     ]
    },
    {
     "name": "stdout",
     "output_type": "stream",
     "text": [
      "Batch 1/10, train_loss: 0.9679\n",
      "Batch 2/10, train_loss: 0.9595\n",
      "Batch 3/10, train_loss: 0.9540\n",
      "Batch 4/10, train_loss: 0.9456\n",
      "Batch 5/10, train_loss: 0.9403\n",
      "Batch 6/10, train_loss: 0.9394\n",
      "Batch 7/10, train_loss: 0.9352\n",
      "Batch 8/10, train_loss: 0.9245\n",
      "Batch 9/10, train_loss: 0.9206\n",
      "Batch 10/10, train_loss: 0.9207\n",
      "Epoch 1 average loss: 0.9408\n",
      "----------\n",
      "Epoch 2/200\n"
     ]
    },
    {
     "name": "stderr",
     "output_type": "stream",
     "text": [
      "/usr/local/lib/python3.10/dist-packages/monai/transforms/utils.py:743: UserWarning: no available indices of class 2 to crop, setting the crop ratio of this class to zero.\n",
      "  warnings.warn(\n",
      "/usr/local/lib/python3.10/dist-packages/monai/transforms/utils.py:743: UserWarning: no available indices of class 7 to crop, setting the crop ratio of this class to zero.\n",
      "  warnings.warn(\n",
      "/usr/local/lib/python3.10/dist-packages/monai/transforms/utils.py:743: UserWarning: no available indices of class 2 to crop, setting the crop ratio of this class to zero.\n",
      "  warnings.warn(\n",
      "/usr/local/lib/python3.10/dist-packages/monai/transforms/utils.py:743: UserWarning: no available indices of class 7 to crop, setting the crop ratio of this class to zero.\n",
      "  warnings.warn(\n",
      "/usr/local/lib/python3.10/dist-packages/monai/transforms/utils.py:743: UserWarning: no available indices of class 2 to crop, setting the crop ratio of this class to zero.\n",
      "  warnings.warn(\n",
      "/usr/local/lib/python3.10/dist-packages/monai/transforms/utils.py:743: UserWarning: no available indices of class 7 to crop, setting the crop ratio of this class to zero.\n",
      "  warnings.warn(\n",
      "/usr/local/lib/python3.10/dist-packages/monai/transforms/utils.py:743: UserWarning: no available indices of class 2 to crop, setting the crop ratio of this class to zero.\n",
      "  warnings.warn(\n",
      "/usr/local/lib/python3.10/dist-packages/monai/transforms/utils.py:743: UserWarning: no available indices of class 7 to crop, setting the crop ratio of this class to zero.\n",
      "  warnings.warn(\n"
     ]
    },
    {
     "name": "stdout",
     "output_type": "stream",
     "text": [
      "Batch 1/10, train_loss: 0.9151\n",
      "Batch 2/10, train_loss: 0.9191\n",
      "Batch 3/10, train_loss: 0.9177\n",
      "Batch 4/10, train_loss: 0.9129\n",
      "Batch 5/10, train_loss: 0.9084\n",
      "Batch 6/10, train_loss: 0.8981\n",
      "Batch 7/10, train_loss: 0.8917\n",
      "Batch 8/10, train_loss: 0.8977\n",
      "Batch 9/10, train_loss: 0.8960\n",
      "Batch 10/10, train_loss: 0.8893\n",
      "Epoch 2 average loss: 0.9046\n"
     ]
    },
    {
     "name": "stderr",
     "output_type": "stream",
     "text": [
      "/usr/local/lib/python3.10/dist-packages/monai/transforms/utils.py:743: UserWarning: no available indices of class 2 to crop, setting the crop ratio of this class to zero.\n",
      "  warnings.warn(\n",
      "/usr/local/lib/python3.10/dist-packages/monai/transforms/utils.py:743: UserWarning: no available indices of class 7 to crop, setting the crop ratio of this class to zero.\n",
      "  warnings.warn(\n",
      "/usr/local/lib/python3.10/dist-packages/monai/transforms/utils.py:743: UserWarning: no available indices of class 2 to crop, setting the crop ratio of this class to zero.\n",
      "  warnings.warn(\n",
      "/usr/local/lib/python3.10/dist-packages/monai/transforms/utils.py:743: UserWarning: no available indices of class 7 to crop, setting the crop ratio of this class to zero.\n",
      "  warnings.warn(\n"
     ]
    },
    {
     "name": "stdout",
     "output_type": "stream",
     "text": [
      "saved new best metric model\n",
      "current epoch: 2 current mean recall per class: 0.008182, 0, 0.002962, 0.3459, 0.01187, 0.1361, 0\n",
      "best mean recall: 0.0721 at epoch: 2\n",
      "----------\n",
      "Epoch 3/200\n"
     ]
    },
    {
     "name": "stderr",
     "output_type": "stream",
     "text": [
      "/usr/local/lib/python3.10/dist-packages/monai/transforms/utils.py:743: UserWarning: no available indices of class 2 to crop, setting the crop ratio of this class to zero.\n",
      "  warnings.warn(\n",
      "/usr/local/lib/python3.10/dist-packages/monai/transforms/utils.py:743: UserWarning: no available indices of class 7 to crop, setting the crop ratio of this class to zero.\n",
      "  warnings.warn(\n",
      "/usr/local/lib/python3.10/dist-packages/monai/transforms/utils.py:743: UserWarning: no available indices of class 2 to crop, setting the crop ratio of this class to zero.\n",
      "  warnings.warn(\n",
      "/usr/local/lib/python3.10/dist-packages/monai/transforms/utils.py:743: UserWarning: no available indices of class 2 to crop, setting the crop ratio of this class to zero.\n",
      "  warnings.warn(\n",
      "/usr/local/lib/python3.10/dist-packages/monai/transforms/utils.py:743: UserWarning: no available indices of class 7 to crop, setting the crop ratio of this class to zero.\n",
      "  warnings.warn(\n",
      "/usr/local/lib/python3.10/dist-packages/monai/transforms/utils.py:743: UserWarning: no available indices of class 7 to crop, setting the crop ratio of this class to zero.\n",
      "  warnings.warn(\n",
      "/usr/local/lib/python3.10/dist-packages/monai/transforms/utils.py:743: UserWarning: no available indices of class 2 to crop, setting the crop ratio of this class to zero.\n",
      "  warnings.warn(\n",
      "/usr/local/lib/python3.10/dist-packages/monai/transforms/utils.py:743: UserWarning: no available indices of class 7 to crop, setting the crop ratio of this class to zero.\n",
      "  warnings.warn(\n"
     ]
    },
    {
     "name": "stdout",
     "output_type": "stream",
     "text": [
      "Batch 1/10, train_loss: 0.8895\n",
      "Batch 2/10, train_loss: 0.8892\n",
      "Batch 3/10, train_loss: 0.8826\n",
      "Batch 4/10, train_loss: 0.8768\n",
      "Batch 5/10, train_loss: 0.8739\n",
      "Batch 6/10, train_loss: 0.8649\n",
      "Batch 7/10, train_loss: 0.8694\n",
      "Batch 8/10, train_loss: 0.8819\n",
      "Batch 9/10, train_loss: 0.8767\n",
      "Batch 10/10, train_loss: 0.8743\n",
      "Epoch 3 average loss: 0.8779\n",
      "----------\n",
      "Epoch 4/200\n"
     ]
    },
    {
     "name": "stderr",
     "output_type": "stream",
     "text": [
      "/usr/local/lib/python3.10/dist-packages/monai/transforms/utils.py:743: UserWarning: no available indices of class 2 to crop, setting the crop ratio of this class to zero.\n",
      "  warnings.warn(\n",
      "/usr/local/lib/python3.10/dist-packages/monai/transforms/utils.py:743: UserWarning: no available indices of class 7 to crop, setting the crop ratio of this class to zero.\n",
      "  warnings.warn(\n",
      "/usr/local/lib/python3.10/dist-packages/monai/transforms/utils.py:743: UserWarning: no available indices of class 2 to crop, setting the crop ratio of this class to zero.\n",
      "  warnings.warn(\n",
      "/usr/local/lib/python3.10/dist-packages/monai/transforms/utils.py:743: UserWarning: no available indices of class 7 to crop, setting the crop ratio of this class to zero.\n",
      "  warnings.warn(\n",
      "/usr/local/lib/python3.10/dist-packages/monai/transforms/utils.py:743: UserWarning: no available indices of class 2 to crop, setting the crop ratio of this class to zero.\n",
      "  warnings.warn(\n",
      "/usr/local/lib/python3.10/dist-packages/monai/transforms/utils.py:743: UserWarning: no available indices of class 7 to crop, setting the crop ratio of this class to zero.\n",
      "  warnings.warn(\n",
      "/usr/local/lib/python3.10/dist-packages/monai/transforms/utils.py:743: UserWarning: no available indices of class 2 to crop, setting the crop ratio of this class to zero.\n",
      "  warnings.warn(\n",
      "/usr/local/lib/python3.10/dist-packages/monai/transforms/utils.py:743: UserWarning: no available indices of class 7 to crop, setting the crop ratio of this class to zero.\n",
      "  warnings.warn(\n"
     ]
    },
    {
     "name": "stdout",
     "output_type": "stream",
     "text": [
      "Batch 1/10, train_loss: 0.8584\n",
      "Batch 2/10, train_loss: 0.8659\n",
      "Batch 3/10, train_loss: 0.8584\n",
      "Batch 4/10, train_loss: 0.8685\n",
      "Batch 5/10, train_loss: 0.8529\n",
      "Batch 6/10, train_loss: 0.8553\n",
      "Batch 7/10, train_loss: 0.8524\n",
      "Batch 8/10, train_loss: 0.8625\n",
      "Batch 9/10, train_loss: 0.8526\n",
      "Batch 10/10, train_loss: 0.8522\n",
      "Epoch 4 average loss: 0.8579\n"
     ]
    },
    {
     "name": "stderr",
     "output_type": "stream",
     "text": [
      "/usr/local/lib/python3.10/dist-packages/monai/transforms/utils.py:743: UserWarning: no available indices of class 2 to crop, setting the crop ratio of this class to zero.\n",
      "  warnings.warn(\n",
      "/usr/local/lib/python3.10/dist-packages/monai/transforms/utils.py:743: UserWarning: no available indices of class 7 to crop, setting the crop ratio of this class to zero.\n",
      "  warnings.warn(\n",
      "/usr/local/lib/python3.10/dist-packages/monai/transforms/utils.py:743: UserWarning: no available indices of class 2 to crop, setting the crop ratio of this class to zero.\n",
      "  warnings.warn(\n",
      "/usr/local/lib/python3.10/dist-packages/monai/transforms/utils.py:743: UserWarning: no available indices of class 7 to crop, setting the crop ratio of this class to zero.\n",
      "  warnings.warn(\n"
     ]
    },
    {
     "name": "stdout",
     "output_type": "stream",
     "text": [
      "saved new best metric model\n",
      "current epoch: 4 current mean recall per class: 0.01411, 0, 4.109e-05, 0.4507, 0.001378, 0.1492, 0\n",
      "best mean recall: 0.0879 at epoch: 4\n",
      "----------\n",
      "Epoch 5/200\n"
     ]
    },
    {
     "name": "stderr",
     "output_type": "stream",
     "text": [
      "/usr/local/lib/python3.10/dist-packages/monai/transforms/utils.py:743: UserWarning: no available indices of class 2 to crop, setting the crop ratio of this class to zero.\n",
      "  warnings.warn(\n",
      "/usr/local/lib/python3.10/dist-packages/monai/transforms/utils.py:743: UserWarning: no available indices of class 7 to crop, setting the crop ratio of this class to zero.\n",
      "  warnings.warn(\n",
      "/usr/local/lib/python3.10/dist-packages/monai/transforms/utils.py:743: UserWarning: no available indices of class 2 to crop, setting the crop ratio of this class to zero.\n",
      "  warnings.warn(\n",
      "/usr/local/lib/python3.10/dist-packages/monai/transforms/utils.py:743: UserWarning: no available indices of class 7 to crop, setting the crop ratio of this class to zero.\n",
      "  warnings.warn(\n",
      "/usr/local/lib/python3.10/dist-packages/monai/transforms/utils.py:743: UserWarning: no available indices of class 2 to crop, setting the crop ratio of this class to zero.\n",
      "  warnings.warn(\n",
      "/usr/local/lib/python3.10/dist-packages/monai/transforms/utils.py:743: UserWarning: no available indices of class 7 to crop, setting the crop ratio of this class to zero.\n",
      "  warnings.warn(\n",
      "/usr/local/lib/python3.10/dist-packages/monai/transforms/utils.py:743: UserWarning: no available indices of class 2 to crop, setting the crop ratio of this class to zero.\n",
      "  warnings.warn(\n",
      "/usr/local/lib/python3.10/dist-packages/monai/transforms/utils.py:743: UserWarning: no available indices of class 7 to crop, setting the crop ratio of this class to zero.\n",
      "  warnings.warn(\n"
     ]
    },
    {
     "name": "stdout",
     "output_type": "stream",
     "text": [
      "Batch 1/10, train_loss: 0.8239\n",
      "Batch 2/10, train_loss: 0.8514\n",
      "Batch 3/10, train_loss: 0.8528\n",
      "Batch 4/10, train_loss: 0.8413\n",
      "Batch 5/10, train_loss: 0.8609\n",
      "Batch 6/10, train_loss: 0.8473\n",
      "Batch 7/10, train_loss: 0.8450\n",
      "Batch 8/10, train_loss: 0.8397\n",
      "Batch 9/10, train_loss: 0.8412\n",
      "Batch 10/10, train_loss: 0.8420\n",
      "Epoch 5 average loss: 0.8445\n",
      "----------\n",
      "Epoch 6/200\n"
     ]
    },
    {
     "name": "stderr",
     "output_type": "stream",
     "text": [
      "/usr/local/lib/python3.10/dist-packages/monai/transforms/utils.py:743: UserWarning: no available indices of class 2 to crop, setting the crop ratio of this class to zero.\n",
      "  warnings.warn(\n",
      "/usr/local/lib/python3.10/dist-packages/monai/transforms/utils.py:743: UserWarning: no available indices of class 7 to crop, setting the crop ratio of this class to zero.\n",
      "  warnings.warn(\n",
      "/usr/local/lib/python3.10/dist-packages/monai/transforms/utils.py:743: UserWarning: no available indices of class 2 to crop, setting the crop ratio of this class to zero.\n",
      "  warnings.warn(\n",
      "/usr/local/lib/python3.10/dist-packages/monai/transforms/utils.py:743: UserWarning: no available indices of class 2 to crop, setting the crop ratio of this class to zero.\n",
      "  warnings.warn(\n",
      "/usr/local/lib/python3.10/dist-packages/monai/transforms/utils.py:743: UserWarning: no available indices of class 7 to crop, setting the crop ratio of this class to zero.\n",
      "  warnings.warn(\n",
      "/usr/local/lib/python3.10/dist-packages/monai/transforms/utils.py:743: UserWarning: no available indices of class 7 to crop, setting the crop ratio of this class to zero.\n",
      "  warnings.warn(\n",
      "/usr/local/lib/python3.10/dist-packages/monai/transforms/utils.py:743: UserWarning: no available indices of class 2 to crop, setting the crop ratio of this class to zero.\n",
      "  warnings.warn(\n",
      "/usr/local/lib/python3.10/dist-packages/monai/transforms/utils.py:743: UserWarning: no available indices of class 7 to crop, setting the crop ratio of this class to zero.\n",
      "  warnings.warn(\n"
     ]
    },
    {
     "name": "stdout",
     "output_type": "stream",
     "text": [
      "Batch 1/10, train_loss: 0.8404\n",
      "Batch 2/10, train_loss: 0.8503\n",
      "Batch 3/10, train_loss: 0.8399\n",
      "Batch 4/10, train_loss: 0.8404\n",
      "Batch 5/10, train_loss: 0.8419\n",
      "Batch 6/10, train_loss: 0.8363\n",
      "Batch 7/10, train_loss: 0.8380\n",
      "Batch 8/10, train_loss: 0.8289\n",
      "Batch 9/10, train_loss: 0.8397\n",
      "Batch 10/10, train_loss: 0.8258\n",
      "Epoch 6 average loss: 0.8382\n"
     ]
    },
    {
     "name": "stderr",
     "output_type": "stream",
     "text": [
      "/usr/local/lib/python3.10/dist-packages/monai/transforms/utils.py:743: UserWarning: no available indices of class 2 to crop, setting the crop ratio of this class to zero.\n",
      "  warnings.warn(\n",
      "/usr/local/lib/python3.10/dist-packages/monai/transforms/utils.py:743: UserWarning: no available indices of class 7 to crop, setting the crop ratio of this class to zero.\n",
      "  warnings.warn(\n",
      "/usr/local/lib/python3.10/dist-packages/monai/transforms/utils.py:743: UserWarning: no available indices of class 2 to crop, setting the crop ratio of this class to zero.\n",
      "  warnings.warn(\n",
      "/usr/local/lib/python3.10/dist-packages/monai/transforms/utils.py:743: UserWarning: no available indices of class 7 to crop, setting the crop ratio of this class to zero.\n",
      "  warnings.warn(\n"
     ]
    },
    {
     "name": "stdout",
     "output_type": "stream",
     "text": [
      "saved new best metric model\n",
      "current epoch: 6 current mean recall per class: 0.04378, 0, 0.0002139, 0.4372, 0.03794, 0.1724, 0\n",
      "best mean recall: 0.0988 at epoch: 6\n",
      "----------\n",
      "Epoch 7/200\n"
     ]
    },
    {
     "name": "stderr",
     "output_type": "stream",
     "text": [
      "/usr/local/lib/python3.10/dist-packages/monai/transforms/utils.py:743: UserWarning: no available indices of class 2 to crop, setting the crop ratio of this class to zero.\n",
      "  warnings.warn(\n",
      "/usr/local/lib/python3.10/dist-packages/monai/transforms/utils.py:743: UserWarning: no available indices of class 7 to crop, setting the crop ratio of this class to zero.\n",
      "  warnings.warn(\n",
      "/usr/local/lib/python3.10/dist-packages/monai/transforms/utils.py:743: UserWarning: no available indices of class 2 to crop, setting the crop ratio of this class to zero.\n",
      "  warnings.warn(\n",
      "/usr/local/lib/python3.10/dist-packages/monai/transforms/utils.py:743: UserWarning: no available indices of class 7 to crop, setting the crop ratio of this class to zero.\n",
      "  warnings.warn(\n",
      "/usr/local/lib/python3.10/dist-packages/monai/transforms/utils.py:743: UserWarning: no available indices of class 2 to crop, setting the crop ratio of this class to zero.\n",
      "  warnings.warn(\n",
      "/usr/local/lib/python3.10/dist-packages/monai/transforms/utils.py:743: UserWarning: no available indices of class 7 to crop, setting the crop ratio of this class to zero.\n",
      "  warnings.warn(\n",
      "/usr/local/lib/python3.10/dist-packages/monai/transforms/utils.py:743: UserWarning: no available indices of class 2 to crop, setting the crop ratio of this class to zero.\n",
      "  warnings.warn(\n",
      "/usr/local/lib/python3.10/dist-packages/monai/transforms/utils.py:743: UserWarning: no available indices of class 7 to crop, setting the crop ratio of this class to zero.\n",
      "  warnings.warn(\n"
     ]
    },
    {
     "name": "stdout",
     "output_type": "stream",
     "text": [
      "Batch 1/10, train_loss: 0.8183\n",
      "Batch 2/10, train_loss: 0.8257\n",
      "Batch 3/10, train_loss: 0.8270\n",
      "Batch 4/10, train_loss: 0.8274\n",
      "Batch 5/10, train_loss: 0.8338\n",
      "Batch 6/10, train_loss: 0.8320\n",
      "Batch 7/10, train_loss: 0.8417\n",
      "Batch 8/10, train_loss: 0.8221\n",
      "Batch 9/10, train_loss: 0.8438\n",
      "Batch 10/10, train_loss: 0.8432\n",
      "Epoch 7 average loss: 0.8315\n",
      "----------\n",
      "Epoch 8/200\n"
     ]
    },
    {
     "name": "stderr",
     "output_type": "stream",
     "text": [
      "/usr/local/lib/python3.10/dist-packages/monai/transforms/utils.py:743: UserWarning: no available indices of class 2 to crop, setting the crop ratio of this class to zero.\n",
      "  warnings.warn(\n",
      "/usr/local/lib/python3.10/dist-packages/monai/transforms/utils.py:743: UserWarning: no available indices of class 2 to crop, setting the crop ratio of this class to zero.\n",
      "  warnings.warn(\n",
      "/usr/local/lib/python3.10/dist-packages/monai/transforms/utils.py:743: UserWarning: no available indices of class 2 to crop, setting the crop ratio of this class to zero.\n",
      "  warnings.warn(\n",
      "/usr/local/lib/python3.10/dist-packages/monai/transforms/utils.py:743: UserWarning: no available indices of class 7 to crop, setting the crop ratio of this class to zero.\n",
      "  warnings.warn(\n",
      "/usr/local/lib/python3.10/dist-packages/monai/transforms/utils.py:743: UserWarning: no available indices of class 7 to crop, setting the crop ratio of this class to zero.\n",
      "  warnings.warn(\n",
      "/usr/local/lib/python3.10/dist-packages/monai/transforms/utils.py:743: UserWarning: no available indices of class 7 to crop, setting the crop ratio of this class to zero.\n",
      "  warnings.warn(\n",
      "/usr/local/lib/python3.10/dist-packages/monai/transforms/utils.py:743: UserWarning: no available indices of class 2 to crop, setting the crop ratio of this class to zero.\n",
      "  warnings.warn(\n",
      "/usr/local/lib/python3.10/dist-packages/monai/transforms/utils.py:743: UserWarning: no available indices of class 7 to crop, setting the crop ratio of this class to zero.\n",
      "  warnings.warn(\n"
     ]
    },
    {
     "name": "stdout",
     "output_type": "stream",
     "text": [
      "Batch 1/10, train_loss: 0.8307\n",
      "Batch 2/10, train_loss: 0.8316\n",
      "Batch 3/10, train_loss: 0.8316\n",
      "Batch 4/10, train_loss: 0.8181\n",
      "Batch 5/10, train_loss: 0.8355\n",
      "Batch 6/10, train_loss: 0.8366\n",
      "Batch 7/10, train_loss: 0.8377\n",
      "Batch 8/10, train_loss: 0.8320\n",
      "Batch 9/10, train_loss: 0.8236\n",
      "Batch 10/10, train_loss: 0.8295\n",
      "Epoch 8 average loss: 0.8307\n"
     ]
    },
    {
     "name": "stderr",
     "output_type": "stream",
     "text": [
      "/usr/local/lib/python3.10/dist-packages/monai/transforms/utils.py:743: UserWarning: no available indices of class 2 to crop, setting the crop ratio of this class to zero.\n",
      "  warnings.warn(\n",
      "/usr/local/lib/python3.10/dist-packages/monai/transforms/utils.py:743: UserWarning: no available indices of class 7 to crop, setting the crop ratio of this class to zero.\n",
      "  warnings.warn(\n",
      "/usr/local/lib/python3.10/dist-packages/monai/transforms/utils.py:743: UserWarning: no available indices of class 2 to crop, setting the crop ratio of this class to zero.\n",
      "  warnings.warn(\n",
      "/usr/local/lib/python3.10/dist-packages/monai/transforms/utils.py:743: UserWarning: no available indices of class 7 to crop, setting the crop ratio of this class to zero.\n",
      "  warnings.warn(\n"
     ]
    },
    {
     "name": "stdout",
     "output_type": "stream",
     "text": [
      "saved new best metric model\n",
      "current epoch: 8 current mean recall per class: 0.0661, 0, 0.004926, 0.3868, 0.07678, 0.1764, 0\n",
      "best mean recall: 0.1016 at epoch: 8\n",
      "----------\n",
      "Epoch 9/200\n"
     ]
    },
    {
     "name": "stderr",
     "output_type": "stream",
     "text": [
      "/usr/local/lib/python3.10/dist-packages/monai/transforms/utils.py:743: UserWarning: no available indices of class 2 to crop, setting the crop ratio of this class to zero.\n",
      "  warnings.warn(\n",
      "/usr/local/lib/python3.10/dist-packages/monai/transforms/utils.py:743: UserWarning: no available indices of class 7 to crop, setting the crop ratio of this class to zero.\n",
      "  warnings.warn(\n",
      "/usr/local/lib/python3.10/dist-packages/monai/transforms/utils.py:743: UserWarning: no available indices of class 2 to crop, setting the crop ratio of this class to zero.\n",
      "  warnings.warn(\n",
      "/usr/local/lib/python3.10/dist-packages/monai/transforms/utils.py:743: UserWarning: no available indices of class 7 to crop, setting the crop ratio of this class to zero.\n",
      "  warnings.warn(\n",
      "/usr/local/lib/python3.10/dist-packages/monai/transforms/utils.py:743: UserWarning: no available indices of class 2 to crop, setting the crop ratio of this class to zero.\n",
      "  warnings.warn(\n",
      "/usr/local/lib/python3.10/dist-packages/monai/transforms/utils.py:743: UserWarning: no available indices of class 2 to crop, setting the crop ratio of this class to zero.\n",
      "  warnings.warn(\n",
      "/usr/local/lib/python3.10/dist-packages/monai/transforms/utils.py:743: UserWarning: no available indices of class 7 to crop, setting the crop ratio of this class to zero.\n",
      "  warnings.warn(\n",
      "/usr/local/lib/python3.10/dist-packages/monai/transforms/utils.py:743: UserWarning: no available indices of class 7 to crop, setting the crop ratio of this class to zero.\n",
      "  warnings.warn(\n"
     ]
    },
    {
     "name": "stdout",
     "output_type": "stream",
     "text": [
      "Batch 1/10, train_loss: 0.8211\n",
      "Batch 2/10, train_loss: 0.8192\n",
      "Batch 3/10, train_loss: 0.8335\n",
      "Batch 4/10, train_loss: 0.8200\n",
      "Batch 5/10, train_loss: 0.8319\n",
      "Batch 6/10, train_loss: 0.8190\n",
      "Batch 7/10, train_loss: 0.8209\n",
      "Batch 8/10, train_loss: 0.8277\n",
      "Batch 9/10, train_loss: 0.8220\n",
      "Batch 10/10, train_loss: 0.8414\n",
      "Epoch 9 average loss: 0.8257\n",
      "----------\n",
      "Epoch 10/200\n"
     ]
    },
    {
     "name": "stderr",
     "output_type": "stream",
     "text": [
      "/usr/local/lib/python3.10/dist-packages/monai/transforms/utils.py:743: UserWarning: no available indices of class 2 to crop, setting the crop ratio of this class to zero.\n",
      "  warnings.warn(\n",
      "/usr/local/lib/python3.10/dist-packages/monai/transforms/utils.py:743: UserWarning: no available indices of class 7 to crop, setting the crop ratio of this class to zero.\n",
      "  warnings.warn(\n",
      "/usr/local/lib/python3.10/dist-packages/monai/transforms/utils.py:743: UserWarning: no available indices of class 2 to crop, setting the crop ratio of this class to zero.\n",
      "  warnings.warn(\n",
      "/usr/local/lib/python3.10/dist-packages/monai/transforms/utils.py:743: UserWarning: no available indices of class 7 to crop, setting the crop ratio of this class to zero.\n",
      "  warnings.warn(\n",
      "/usr/local/lib/python3.10/dist-packages/monai/transforms/utils.py:743: UserWarning: no available indices of class 2 to crop, setting the crop ratio of this class to zero.\n",
      "  warnings.warn(\n",
      "/usr/local/lib/python3.10/dist-packages/monai/transforms/utils.py:743: UserWarning: no available indices of class 7 to crop, setting the crop ratio of this class to zero.\n",
      "  warnings.warn(\n",
      "/usr/local/lib/python3.10/dist-packages/monai/transforms/utils.py:743: UserWarning: no available indices of class 2 to crop, setting the crop ratio of this class to zero.\n",
      "  warnings.warn(\n",
      "/usr/local/lib/python3.10/dist-packages/monai/transforms/utils.py:743: UserWarning: no available indices of class 7 to crop, setting the crop ratio of this class to zero.\n",
      "  warnings.warn(\n"
     ]
    },
    {
     "name": "stdout",
     "output_type": "stream",
     "text": [
      "Batch 1/10, train_loss: 0.8263\n",
      "Batch 2/10, train_loss: 0.8151\n",
      "Batch 3/10, train_loss: 0.8243\n",
      "Batch 4/10, train_loss: 0.8188\n",
      "Batch 5/10, train_loss: 0.8387\n",
      "Batch 6/10, train_loss: 0.8217\n",
      "Batch 7/10, train_loss: 0.8294\n",
      "Batch 8/10, train_loss: 0.8270\n",
      "Batch 9/10, train_loss: 0.8254\n",
      "Batch 10/10, train_loss: 0.8102\n",
      "Epoch 10 average loss: 0.8237\n"
     ]
    },
    {
     "name": "stderr",
     "output_type": "stream",
     "text": [
      "/usr/local/lib/python3.10/dist-packages/monai/transforms/utils.py:743: UserWarning: no available indices of class 2 to crop, setting the crop ratio of this class to zero.\n",
      "  warnings.warn(\n",
      "/usr/local/lib/python3.10/dist-packages/monai/transforms/utils.py:743: UserWarning: no available indices of class 7 to crop, setting the crop ratio of this class to zero.\n",
      "  warnings.warn(\n",
      "/usr/local/lib/python3.10/dist-packages/monai/transforms/utils.py:743: UserWarning: no available indices of class 2 to crop, setting the crop ratio of this class to zero.\n",
      "  warnings.warn(\n",
      "/usr/local/lib/python3.10/dist-packages/monai/transforms/utils.py:743: UserWarning: no available indices of class 7 to crop, setting the crop ratio of this class to zero.\n",
      "  warnings.warn(\n"
     ]
    },
    {
     "name": "stdout",
     "output_type": "stream",
     "text": [
      "current epoch: 10 current mean recall per class: 0.02995, 0, 0.03013, 0.307, 0.09262, 0.1135, 0\n",
      "best mean recall: 0.1016 at epoch: 8\n",
      "----------\n",
      "Epoch 11/200\n"
     ]
    },
    {
     "name": "stderr",
     "output_type": "stream",
     "text": [
      "/usr/local/lib/python3.10/dist-packages/monai/transforms/utils.py:743: UserWarning: no available indices of class 2 to crop, setting the crop ratio of this class to zero.\n",
      "  warnings.warn(\n",
      "/usr/local/lib/python3.10/dist-packages/monai/transforms/utils.py:743: UserWarning: no available indices of class 7 to crop, setting the crop ratio of this class to zero.\n",
      "  warnings.warn(\n",
      "/usr/local/lib/python3.10/dist-packages/monai/transforms/utils.py:743: UserWarning: no available indices of class 2 to crop, setting the crop ratio of this class to zero.\n",
      "  warnings.warn(\n",
      "/usr/local/lib/python3.10/dist-packages/monai/transforms/utils.py:743: UserWarning: no available indices of class 2 to crop, setting the crop ratio of this class to zero.\n",
      "  warnings.warn(\n",
      "/usr/local/lib/python3.10/dist-packages/monai/transforms/utils.py:743: UserWarning: no available indices of class 7 to crop, setting the crop ratio of this class to zero.\n",
      "  warnings.warn(\n",
      "/usr/local/lib/python3.10/dist-packages/monai/transforms/utils.py:743: UserWarning: no available indices of class 2 to crop, setting the crop ratio of this class to zero.\n",
      "  warnings.warn(\n",
      "/usr/local/lib/python3.10/dist-packages/monai/transforms/utils.py:743: UserWarning: no available indices of class 7 to crop, setting the crop ratio of this class to zero.\n",
      "  warnings.warn(\n",
      "/usr/local/lib/python3.10/dist-packages/monai/transforms/utils.py:743: UserWarning: no available indices of class 7 to crop, setting the crop ratio of this class to zero.\n",
      "  warnings.warn(\n"
     ]
    },
    {
     "name": "stdout",
     "output_type": "stream",
     "text": [
      "Batch 1/10, train_loss: 0.8306\n",
      "Batch 2/10, train_loss: 0.8269\n",
      "Batch 3/10, train_loss: 0.8205\n",
      "Batch 4/10, train_loss: 0.8188\n",
      "Batch 5/10, train_loss: 0.8075\n",
      "Batch 6/10, train_loss: 0.8219\n",
      "Batch 7/10, train_loss: 0.8347\n",
      "Batch 8/10, train_loss: 0.8363\n",
      "Batch 9/10, train_loss: 0.8189\n",
      "Batch 10/10, train_loss: 0.8382\n",
      "Epoch 11 average loss: 0.8254\n",
      "----------\n",
      "Epoch 12/200\n"
     ]
    },
    {
     "name": "stderr",
     "output_type": "stream",
     "text": [
      "/usr/local/lib/python3.10/dist-packages/monai/transforms/utils.py:743: UserWarning: no available indices of class 2 to crop, setting the crop ratio of this class to zero.\n",
      "  warnings.warn(\n",
      "/usr/local/lib/python3.10/dist-packages/monai/transforms/utils.py:743: UserWarning: no available indices of class 7 to crop, setting the crop ratio of this class to zero.\n",
      "  warnings.warn(\n",
      "/usr/local/lib/python3.10/dist-packages/monai/transforms/utils.py:743: UserWarning: no available indices of class 2 to crop, setting the crop ratio of this class to zero.\n",
      "  warnings.warn(\n",
      "/usr/local/lib/python3.10/dist-packages/monai/transforms/utils.py:743: UserWarning: no available indices of class 7 to crop, setting the crop ratio of this class to zero.\n",
      "  warnings.warn(\n",
      "/usr/local/lib/python3.10/dist-packages/monai/transforms/utils.py:743: UserWarning: no available indices of class 2 to crop, setting the crop ratio of this class to zero.\n",
      "  warnings.warn(\n",
      "/usr/local/lib/python3.10/dist-packages/monai/transforms/utils.py:743: UserWarning: no available indices of class 7 to crop, setting the crop ratio of this class to zero.\n",
      "  warnings.warn(\n",
      "/usr/local/lib/python3.10/dist-packages/monai/transforms/utils.py:743: UserWarning: no available indices of class 2 to crop, setting the crop ratio of this class to zero.\n",
      "  warnings.warn(\n",
      "/usr/local/lib/python3.10/dist-packages/monai/transforms/utils.py:743: UserWarning: no available indices of class 7 to crop, setting the crop ratio of this class to zero.\n",
      "  warnings.warn(\n"
     ]
    },
    {
     "name": "stdout",
     "output_type": "stream",
     "text": [
      "Batch 1/10, train_loss: 0.8333\n",
      "Batch 2/10, train_loss: 0.8195\n",
      "Batch 3/10, train_loss: 0.8287\n",
      "Batch 4/10, train_loss: 0.8136\n",
      "Batch 5/10, train_loss: 0.8270\n",
      "Batch 6/10, train_loss: 0.8358\n",
      "Batch 7/10, train_loss: 0.8091\n",
      "Batch 8/10, train_loss: 0.8285\n",
      "Batch 9/10, train_loss: 0.8176\n",
      "Batch 10/10, train_loss: 0.8131\n",
      "Epoch 12 average loss: 0.8226\n"
     ]
    },
    {
     "name": "stderr",
     "output_type": "stream",
     "text": [
      "/usr/local/lib/python3.10/dist-packages/monai/transforms/utils.py:743: UserWarning: no available indices of class 2 to crop, setting the crop ratio of this class to zero.\n",
      "  warnings.warn(\n",
      "/usr/local/lib/python3.10/dist-packages/monai/transforms/utils.py:743: UserWarning: no available indices of class 7 to crop, setting the crop ratio of this class to zero.\n",
      "  warnings.warn(\n",
      "/usr/local/lib/python3.10/dist-packages/monai/transforms/utils.py:743: UserWarning: no available indices of class 2 to crop, setting the crop ratio of this class to zero.\n",
      "  warnings.warn(\n",
      "/usr/local/lib/python3.10/dist-packages/monai/transforms/utils.py:743: UserWarning: no available indices of class 7 to crop, setting the crop ratio of this class to zero.\n",
      "  warnings.warn(\n"
     ]
    },
    {
     "name": "stdout",
     "output_type": "stream",
     "text": [
      "saved new best metric model\n",
      "current epoch: 12 current mean recall per class: 0.0484, 0, 0.09379, 0.4584, 0.09747, 0.1806, 0\n",
      "best mean recall: 0.1255 at epoch: 12\n",
      "----------\n",
      "Epoch 13/200\n"
     ]
    },
    {
     "name": "stderr",
     "output_type": "stream",
     "text": [
      "/usr/local/lib/python3.10/dist-packages/monai/transforms/utils.py:743: UserWarning: no available indices of class 2 to crop, setting the crop ratio of this class to zero.\n",
      "  warnings.warn(\n",
      "/usr/local/lib/python3.10/dist-packages/monai/transforms/utils.py:743: UserWarning: no available indices of class 7 to crop, setting the crop ratio of this class to zero.\n",
      "  warnings.warn(\n",
      "/usr/local/lib/python3.10/dist-packages/monai/transforms/utils.py:743: UserWarning: no available indices of class 2 to crop, setting the crop ratio of this class to zero.\n",
      "  warnings.warn(\n",
      "/usr/local/lib/python3.10/dist-packages/monai/transforms/utils.py:743: UserWarning: no available indices of class 7 to crop, setting the crop ratio of this class to zero.\n",
      "  warnings.warn(\n",
      "/usr/local/lib/python3.10/dist-packages/monai/transforms/utils.py:743: UserWarning: no available indices of class 2 to crop, setting the crop ratio of this class to zero.\n",
      "  warnings.warn(\n",
      "/usr/local/lib/python3.10/dist-packages/monai/transforms/utils.py:743: UserWarning: no available indices of class 7 to crop, setting the crop ratio of this class to zero.\n",
      "  warnings.warn(\n",
      "/usr/local/lib/python3.10/dist-packages/monai/transforms/utils.py:743: UserWarning: no available indices of class 2 to crop, setting the crop ratio of this class to zero.\n",
      "  warnings.warn(\n",
      "/usr/local/lib/python3.10/dist-packages/monai/transforms/utils.py:743: UserWarning: no available indices of class 7 to crop, setting the crop ratio of this class to zero.\n",
      "  warnings.warn(\n"
     ]
    },
    {
     "name": "stdout",
     "output_type": "stream",
     "text": [
      "Batch 1/10, train_loss: 0.8171\n",
      "Batch 2/10, train_loss: 0.8023\n",
      "Batch 3/10, train_loss: 0.8129\n",
      "Batch 4/10, train_loss: 0.8192\n",
      "Batch 5/10, train_loss: 0.8183\n",
      "Batch 6/10, train_loss: 0.8330\n",
      "Batch 7/10, train_loss: 0.8151\n",
      "Batch 8/10, train_loss: 0.8107\n",
      "Batch 9/10, train_loss: 0.8220\n",
      "Batch 10/10, train_loss: 0.8184\n",
      "Epoch 13 average loss: 0.8169\n",
      "----------\n",
      "Epoch 14/200\n"
     ]
    },
    {
     "name": "stderr",
     "output_type": "stream",
     "text": [
      "/usr/local/lib/python3.10/dist-packages/monai/transforms/utils.py:743: UserWarning: no available indices of class 2 to crop, setting the crop ratio of this class to zero.\n",
      "  warnings.warn(\n",
      "/usr/local/lib/python3.10/dist-packages/monai/transforms/utils.py:743: UserWarning: no available indices of class 7 to crop, setting the crop ratio of this class to zero.\n",
      "  warnings.warn(\n",
      "/usr/local/lib/python3.10/dist-packages/monai/transforms/utils.py:743: UserWarning: no available indices of class 2 to crop, setting the crop ratio of this class to zero.\n",
      "  warnings.warn(\n",
      "/usr/local/lib/python3.10/dist-packages/monai/transforms/utils.py:743: UserWarning: no available indices of class 7 to crop, setting the crop ratio of this class to zero.\n",
      "  warnings.warn(\n",
      "/usr/local/lib/python3.10/dist-packages/monai/transforms/utils.py:743: UserWarning: no available indices of class 2 to crop, setting the crop ratio of this class to zero.\n",
      "  warnings.warn(\n",
      "/usr/local/lib/python3.10/dist-packages/monai/transforms/utils.py:743: UserWarning: no available indices of class 7 to crop, setting the crop ratio of this class to zero.\n",
      "  warnings.warn(\n",
      "/usr/local/lib/python3.10/dist-packages/monai/transforms/utils.py:743: UserWarning: no available indices of class 2 to crop, setting the crop ratio of this class to zero.\n",
      "  warnings.warn(\n",
      "/usr/local/lib/python3.10/dist-packages/monai/transforms/utils.py:743: UserWarning: no available indices of class 7 to crop, setting the crop ratio of this class to zero.\n",
      "  warnings.warn(\n"
     ]
    },
    {
     "name": "stdout",
     "output_type": "stream",
     "text": [
      "Batch 1/10, train_loss: 0.8314\n",
      "Batch 2/10, train_loss: 0.8095\n",
      "Batch 3/10, train_loss: 0.8172\n",
      "Batch 4/10, train_loss: 0.8126\n",
      "Batch 5/10, train_loss: 0.8125\n",
      "Batch 6/10, train_loss: 0.8142\n",
      "Batch 7/10, train_loss: 0.8155\n",
      "Batch 8/10, train_loss: 0.8090\n",
      "Batch 9/10, train_loss: 0.8265\n",
      "Batch 10/10, train_loss: 0.8124\n",
      "Epoch 14 average loss: 0.8161\n"
     ]
    },
    {
     "name": "stderr",
     "output_type": "stream",
     "text": [
      "/usr/local/lib/python3.10/dist-packages/monai/transforms/utils.py:743: UserWarning: no available indices of class 2 to crop, setting the crop ratio of this class to zero.\n",
      "  warnings.warn(\n",
      "/usr/local/lib/python3.10/dist-packages/monai/transforms/utils.py:743: UserWarning: no available indices of class 2 to crop, setting the crop ratio of this class to zero.\n",
      "  warnings.warn(\n",
      "/usr/local/lib/python3.10/dist-packages/monai/transforms/utils.py:743: UserWarning: no available indices of class 7 to crop, setting the crop ratio of this class to zero.\n",
      "  warnings.warn(\n",
      "/usr/local/lib/python3.10/dist-packages/monai/transforms/utils.py:743: UserWarning: no available indices of class 7 to crop, setting the crop ratio of this class to zero.\n",
      "  warnings.warn(\n"
     ]
    },
    {
     "name": "stdout",
     "output_type": "stream",
     "text": [
      "saved new best metric model\n",
      "current epoch: 14 current mean recall per class: 0.0583, 0, 0.08481, 0.4371, 0.1665, 0.1659, 0\n",
      "best mean recall: 0.1304 at epoch: 14\n",
      "----------\n",
      "Epoch 15/200\n"
     ]
    },
    {
     "name": "stderr",
     "output_type": "stream",
     "text": [
      "/usr/local/lib/python3.10/dist-packages/monai/transforms/utils.py:743: UserWarning: no available indices of class 2 to crop, setting the crop ratio of this class to zero.\n",
      "  warnings.warn(\n",
      "/usr/local/lib/python3.10/dist-packages/monai/transforms/utils.py:743: UserWarning: no available indices of class 7 to crop, setting the crop ratio of this class to zero.\n",
      "  warnings.warn(\n",
      "/usr/local/lib/python3.10/dist-packages/monai/transforms/utils.py:743: UserWarning: no available indices of class 2 to crop, setting the crop ratio of this class to zero.\n",
      "  warnings.warn(\n",
      "/usr/local/lib/python3.10/dist-packages/monai/transforms/utils.py:743: UserWarning: no available indices of class 7 to crop, setting the crop ratio of this class to zero.\n",
      "  warnings.warn(\n",
      "/usr/local/lib/python3.10/dist-packages/monai/transforms/utils.py:743: UserWarning: no available indices of class 2 to crop, setting the crop ratio of this class to zero.\n",
      "  warnings.warn(\n",
      "/usr/local/lib/python3.10/dist-packages/monai/transforms/utils.py:743: UserWarning: no available indices of class 7 to crop, setting the crop ratio of this class to zero.\n",
      "  warnings.warn(\n",
      "/usr/local/lib/python3.10/dist-packages/monai/transforms/utils.py:743: UserWarning: no available indices of class 2 to crop, setting the crop ratio of this class to zero.\n",
      "  warnings.warn(\n",
      "/usr/local/lib/python3.10/dist-packages/monai/transforms/utils.py:743: UserWarning: no available indices of class 7 to crop, setting the crop ratio of this class to zero.\n",
      "  warnings.warn(\n"
     ]
    },
    {
     "name": "stdout",
     "output_type": "stream",
     "text": [
      "Batch 1/10, train_loss: 0.8454\n",
      "Batch 2/10, train_loss: 0.8169\n",
      "Batch 3/10, train_loss: 0.8127\n",
      "Batch 4/10, train_loss: 0.8049\n",
      "Batch 5/10, train_loss: 0.8255\n",
      "Batch 6/10, train_loss: 0.8259\n",
      "Batch 7/10, train_loss: 0.8173\n",
      "Batch 8/10, train_loss: 0.8060\n",
      "Batch 9/10, train_loss: 0.8162\n",
      "Batch 10/10, train_loss: 0.8335\n",
      "Epoch 15 average loss: 0.8204\n",
      "----------\n",
      "Epoch 16/200\n"
     ]
    },
    {
     "name": "stderr",
     "output_type": "stream",
     "text": [
      "/usr/local/lib/python3.10/dist-packages/monai/transforms/utils.py:743: UserWarning: no available indices of class 2 to crop, setting the crop ratio of this class to zero.\n",
      "  warnings.warn(\n",
      "/usr/local/lib/python3.10/dist-packages/monai/transforms/utils.py:743: UserWarning: no available indices of class 2 to crop, setting the crop ratio of this class to zero.\n",
      "  warnings.warn(\n",
      "/usr/local/lib/python3.10/dist-packages/monai/transforms/utils.py:743: UserWarning: no available indices of class 7 to crop, setting the crop ratio of this class to zero.\n",
      "  warnings.warn(\n",
      "/usr/local/lib/python3.10/dist-packages/monai/transforms/utils.py:743: UserWarning: no available indices of class 7 to crop, setting the crop ratio of this class to zero.\n",
      "  warnings.warn(\n",
      "/usr/local/lib/python3.10/dist-packages/monai/transforms/utils.py:743: UserWarning: no available indices of class 2 to crop, setting the crop ratio of this class to zero.\n",
      "  warnings.warn(\n",
      "/usr/local/lib/python3.10/dist-packages/monai/transforms/utils.py:743: UserWarning: no available indices of class 7 to crop, setting the crop ratio of this class to zero.\n",
      "  warnings.warn(\n",
      "/usr/local/lib/python3.10/dist-packages/monai/transforms/utils.py:743: UserWarning: no available indices of class 2 to crop, setting the crop ratio of this class to zero.\n",
      "  warnings.warn(\n",
      "/usr/local/lib/python3.10/dist-packages/monai/transforms/utils.py:743: UserWarning: no available indices of class 7 to crop, setting the crop ratio of this class to zero.\n",
      "  warnings.warn(\n"
     ]
    },
    {
     "name": "stdout",
     "output_type": "stream",
     "text": [
      "Batch 1/10, train_loss: 0.8304\n",
      "Batch 2/10, train_loss: 0.8218\n",
      "Batch 3/10, train_loss: 0.8263\n",
      "Batch 4/10, train_loss: 0.8261\n",
      "Batch 5/10, train_loss: 0.8140\n",
      "Batch 6/10, train_loss: 0.8158\n",
      "Batch 7/10, train_loss: 0.8093\n",
      "Batch 8/10, train_loss: 0.8110\n",
      "Batch 9/10, train_loss: 0.8184\n",
      "Batch 10/10, train_loss: 0.8135\n",
      "Epoch 16 average loss: 0.8187\n"
     ]
    },
    {
     "name": "stderr",
     "output_type": "stream",
     "text": [
      "/usr/local/lib/python3.10/dist-packages/monai/transforms/utils.py:743: UserWarning: no available indices of class 2 to crop, setting the crop ratio of this class to zero.\n",
      "  warnings.warn(\n",
      "/usr/local/lib/python3.10/dist-packages/monai/transforms/utils.py:743: UserWarning: no available indices of class 7 to crop, setting the crop ratio of this class to zero.\n",
      "  warnings.warn(\n",
      "/usr/local/lib/python3.10/dist-packages/monai/transforms/utils.py:743: UserWarning: no available indices of class 2 to crop, setting the crop ratio of this class to zero.\n",
      "  warnings.warn(\n",
      "/usr/local/lib/python3.10/dist-packages/monai/transforms/utils.py:743: UserWarning: no available indices of class 7 to crop, setting the crop ratio of this class to zero.\n",
      "  warnings.warn(\n"
     ]
    },
    {
     "name": "stdout",
     "output_type": "stream",
     "text": [
      "saved new best metric model\n",
      "current epoch: 16 current mean recall per class: 0.05334, 0, 0.1084, 0.5094, 0.1654, 0.09445, 0\n",
      "best mean recall: 0.1330 at epoch: 16\n",
      "----------\n",
      "Epoch 17/200\n"
     ]
    },
    {
     "name": "stderr",
     "output_type": "stream",
     "text": [
      "/usr/local/lib/python3.10/dist-packages/monai/transforms/utils.py:743: UserWarning: no available indices of class 2 to crop, setting the crop ratio of this class to zero.\n",
      "  warnings.warn(\n",
      "/usr/local/lib/python3.10/dist-packages/monai/transforms/utils.py:743: UserWarning: no available indices of class 7 to crop, setting the crop ratio of this class to zero.\n",
      "  warnings.warn(\n",
      "/usr/local/lib/python3.10/dist-packages/monai/transforms/utils.py:743: UserWarning: no available indices of class 2 to crop, setting the crop ratio of this class to zero.\n",
      "  warnings.warn(\n",
      "/usr/local/lib/python3.10/dist-packages/monai/transforms/utils.py:743: UserWarning: no available indices of class 7 to crop, setting the crop ratio of this class to zero.\n",
      "  warnings.warn(\n",
      "/usr/local/lib/python3.10/dist-packages/monai/transforms/utils.py:743: UserWarning: no available indices of class 2 to crop, setting the crop ratio of this class to zero.\n",
      "  warnings.warn(\n",
      "/usr/local/lib/python3.10/dist-packages/monai/transforms/utils.py:743: UserWarning: no available indices of class 7 to crop, setting the crop ratio of this class to zero.\n",
      "  warnings.warn(\n",
      "/usr/local/lib/python3.10/dist-packages/monai/transforms/utils.py:743: UserWarning: no available indices of class 2 to crop, setting the crop ratio of this class to zero.\n",
      "  warnings.warn(\n",
      "/usr/local/lib/python3.10/dist-packages/monai/transforms/utils.py:743: UserWarning: no available indices of class 7 to crop, setting the crop ratio of this class to zero.\n",
      "  warnings.warn(\n"
     ]
    },
    {
     "name": "stdout",
     "output_type": "stream",
     "text": [
      "Batch 1/10, train_loss: 0.8013\n",
      "Batch 2/10, train_loss: 0.8244\n",
      "Batch 3/10, train_loss: 0.7940\n",
      "Batch 4/10, train_loss: 0.8145\n",
      "Batch 5/10, train_loss: 0.7773\n",
      "Batch 6/10, train_loss: 0.8315\n",
      "Batch 7/10, train_loss: 0.8191\n",
      "Batch 8/10, train_loss: 0.8090\n",
      "Batch 9/10, train_loss: 0.8232\n",
      "Batch 10/10, train_loss: 0.8207\n",
      "Epoch 17 average loss: 0.8115\n",
      "----------\n",
      "Epoch 18/200\n"
     ]
    },
    {
     "name": "stderr",
     "output_type": "stream",
     "text": [
      "/usr/local/lib/python3.10/dist-packages/monai/transforms/utils.py:743: UserWarning: no available indices of class 2 to crop, setting the crop ratio of this class to zero.\n",
      "  warnings.warn(\n",
      "/usr/local/lib/python3.10/dist-packages/monai/transforms/utils.py:743: UserWarning: no available indices of class 7 to crop, setting the crop ratio of this class to zero.\n",
      "  warnings.warn(\n",
      "/usr/local/lib/python3.10/dist-packages/monai/transforms/utils.py:743: UserWarning: no available indices of class 2 to crop, setting the crop ratio of this class to zero.\n",
      "  warnings.warn(\n",
      "/usr/local/lib/python3.10/dist-packages/monai/transforms/utils.py:743: UserWarning: no available indices of class 7 to crop, setting the crop ratio of this class to zero.\n",
      "  warnings.warn(\n",
      "/usr/local/lib/python3.10/dist-packages/monai/transforms/utils.py:743: UserWarning: no available indices of class 2 to crop, setting the crop ratio of this class to zero.\n",
      "  warnings.warn(\n",
      "/usr/local/lib/python3.10/dist-packages/monai/transforms/utils.py:743: UserWarning: no available indices of class 7 to crop, setting the crop ratio of this class to zero.\n",
      "  warnings.warn(\n",
      "/usr/local/lib/python3.10/dist-packages/monai/transforms/utils.py:743: UserWarning: no available indices of class 2 to crop, setting the crop ratio of this class to zero.\n",
      "  warnings.warn(\n",
      "/usr/local/lib/python3.10/dist-packages/monai/transforms/utils.py:743: UserWarning: no available indices of class 7 to crop, setting the crop ratio of this class to zero.\n",
      "  warnings.warn(\n"
     ]
    },
    {
     "name": "stdout",
     "output_type": "stream",
     "text": [
      "Batch 1/10, train_loss: 0.8086\n",
      "Batch 2/10, train_loss: 0.8147\n",
      "Batch 3/10, train_loss: 0.8222\n",
      "Batch 4/10, train_loss: 0.8163\n",
      "Batch 5/10, train_loss: 0.8113\n",
      "Batch 6/10, train_loss: 0.8170\n",
      "Batch 7/10, train_loss: 0.8050\n",
      "Batch 8/10, train_loss: 0.8239\n",
      "Batch 9/10, train_loss: 0.8281\n",
      "Batch 10/10, train_loss: 0.8158\n",
      "Epoch 18 average loss: 0.8163\n"
     ]
    },
    {
     "name": "stderr",
     "output_type": "stream",
     "text": [
      "/usr/local/lib/python3.10/dist-packages/monai/transforms/utils.py:743: UserWarning: no available indices of class 2 to crop, setting the crop ratio of this class to zero.\n",
      "  warnings.warn(\n",
      "/usr/local/lib/python3.10/dist-packages/monai/transforms/utils.py:743: UserWarning: no available indices of class 7 to crop, setting the crop ratio of this class to zero.\n",
      "  warnings.warn(\n",
      "/usr/local/lib/python3.10/dist-packages/monai/transforms/utils.py:743: UserWarning: no available indices of class 2 to crop, setting the crop ratio of this class to zero.\n",
      "  warnings.warn(\n",
      "/usr/local/lib/python3.10/dist-packages/monai/transforms/utils.py:743: UserWarning: no available indices of class 7 to crop, setting the crop ratio of this class to zero.\n",
      "  warnings.warn(\n"
     ]
    },
    {
     "name": "stdout",
     "output_type": "stream",
     "text": [
      "current epoch: 18 current mean recall per class: 0.06727, 0, 0.09189, 0.3012, 0.1502, 0.2615, 0\n",
      "best mean recall: 0.1330 at epoch: 16\n",
      "----------\n",
      "Epoch 19/200\n"
     ]
    },
    {
     "name": "stderr",
     "output_type": "stream",
     "text": [
      "/usr/local/lib/python3.10/dist-packages/monai/transforms/utils.py:743: UserWarning: no available indices of class 2 to crop, setting the crop ratio of this class to zero.\n",
      "  warnings.warn(\n",
      "/usr/local/lib/python3.10/dist-packages/monai/transforms/utils.py:743: UserWarning: no available indices of class 7 to crop, setting the crop ratio of this class to zero.\n",
      "  warnings.warn(\n",
      "/usr/local/lib/python3.10/dist-packages/monai/transforms/utils.py:743: UserWarning: no available indices of class 2 to crop, setting the crop ratio of this class to zero.\n",
      "  warnings.warn(\n",
      "/usr/local/lib/python3.10/dist-packages/monai/transforms/utils.py:743: UserWarning: no available indices of class 7 to crop, setting the crop ratio of this class to zero.\n",
      "  warnings.warn(\n",
      "/usr/local/lib/python3.10/dist-packages/monai/transforms/utils.py:743: UserWarning: no available indices of class 2 to crop, setting the crop ratio of this class to zero.\n",
      "  warnings.warn(\n",
      "/usr/local/lib/python3.10/dist-packages/monai/transforms/utils.py:743: UserWarning: no available indices of class 7 to crop, setting the crop ratio of this class to zero.\n",
      "  warnings.warn(\n",
      "/usr/local/lib/python3.10/dist-packages/monai/transforms/utils.py:743: UserWarning: no available indices of class 2 to crop, setting the crop ratio of this class to zero.\n",
      "  warnings.warn(\n",
      "/usr/local/lib/python3.10/dist-packages/monai/transforms/utils.py:743: UserWarning: no available indices of class 7 to crop, setting the crop ratio of this class to zero.\n",
      "  warnings.warn(\n"
     ]
    },
    {
     "name": "stdout",
     "output_type": "stream",
     "text": [
      "Batch 1/10, train_loss: 0.8014\n",
      "Batch 2/10, train_loss: 0.8178\n",
      "Batch 3/10, train_loss: 0.7996\n",
      "Batch 4/10, train_loss: 0.8140\n",
      "Batch 5/10, train_loss: 0.8059\n",
      "Batch 6/10, train_loss: 0.8036\n",
      "Batch 7/10, train_loss: 0.8084\n",
      "Batch 8/10, train_loss: 0.7970\n",
      "Batch 9/10, train_loss: 0.8026\n",
      "Batch 10/10, train_loss: 0.7993\n",
      "Epoch 19 average loss: 0.8050\n",
      "----------\n",
      "Epoch 20/200\n"
     ]
    },
    {
     "name": "stderr",
     "output_type": "stream",
     "text": [
      "/usr/local/lib/python3.10/dist-packages/monai/transforms/utils.py:743: UserWarning: no available indices of class 2 to crop, setting the crop ratio of this class to zero.\n",
      "  warnings.warn(\n",
      "/usr/local/lib/python3.10/dist-packages/monai/transforms/utils.py:743: UserWarning: no available indices of class 2 to crop, setting the crop ratio of this class to zero.\n",
      "  warnings.warn(\n",
      "/usr/local/lib/python3.10/dist-packages/monai/transforms/utils.py:743: UserWarning: no available indices of class 7 to crop, setting the crop ratio of this class to zero.\n",
      "  warnings.warn(\n",
      "/usr/local/lib/python3.10/dist-packages/monai/transforms/utils.py:743: UserWarning: no available indices of class 2 to crop, setting the crop ratio of this class to zero.\n",
      "  warnings.warn(\n",
      "/usr/local/lib/python3.10/dist-packages/monai/transforms/utils.py:743: UserWarning: no available indices of class 7 to crop, setting the crop ratio of this class to zero.\n",
      "  warnings.warn(\n",
      "/usr/local/lib/python3.10/dist-packages/monai/transforms/utils.py:743: UserWarning: no available indices of class 7 to crop, setting the crop ratio of this class to zero.\n",
      "  warnings.warn(\n",
      "/usr/local/lib/python3.10/dist-packages/monai/transforms/utils.py:743: UserWarning: no available indices of class 2 to crop, setting the crop ratio of this class to zero.\n",
      "  warnings.warn(\n",
      "/usr/local/lib/python3.10/dist-packages/monai/transforms/utils.py:743: UserWarning: no available indices of class 7 to crop, setting the crop ratio of this class to zero.\n",
      "  warnings.warn(\n"
     ]
    },
    {
     "name": "stdout",
     "output_type": "stream",
     "text": [
      "Batch 1/10, train_loss: 0.8141\n",
      "Batch 2/10, train_loss: 0.8045\n",
      "Batch 3/10, train_loss: 0.8154\n",
      "Batch 4/10, train_loss: 0.8232\n",
      "Batch 5/10, train_loss: 0.8086\n",
      "Batch 6/10, train_loss: 0.7998\n",
      "Batch 7/10, train_loss: 0.8166\n",
      "Batch 8/10, train_loss: 0.7996\n",
      "Batch 9/10, train_loss: 0.8191\n",
      "Batch 10/10, train_loss: 0.7849\n",
      "Epoch 20 average loss: 0.8086\n"
     ]
    },
    {
     "name": "stderr",
     "output_type": "stream",
     "text": [
      "/usr/local/lib/python3.10/dist-packages/monai/transforms/utils.py:743: UserWarning: no available indices of class 2 to crop, setting the crop ratio of this class to zero.\n",
      "  warnings.warn(\n",
      "/usr/local/lib/python3.10/dist-packages/monai/transforms/utils.py:743: UserWarning: no available indices of class 7 to crop, setting the crop ratio of this class to zero.\n",
      "  warnings.warn(\n",
      "/usr/local/lib/python3.10/dist-packages/monai/transforms/utils.py:743: UserWarning: no available indices of class 2 to crop, setting the crop ratio of this class to zero.\n",
      "  warnings.warn(\n",
      "/usr/local/lib/python3.10/dist-packages/monai/transforms/utils.py:743: UserWarning: no available indices of class 7 to crop, setting the crop ratio of this class to zero.\n",
      "  warnings.warn(\n"
     ]
    },
    {
     "name": "stdout",
     "output_type": "stream",
     "text": [
      "saved new best metric model\n",
      "current epoch: 20 current mean recall per class: 0.06674, 0, 0.1348, 0.472, 0.1739, 0.2726, 0\n",
      "best mean recall: 0.1600 at epoch: 20\n",
      "----------\n",
      "Epoch 21/200\n"
     ]
    },
    {
     "name": "stderr",
     "output_type": "stream",
     "text": [
      "/usr/local/lib/python3.10/dist-packages/monai/transforms/utils.py:743: UserWarning: no available indices of class 2 to crop, setting the crop ratio of this class to zero.\n",
      "  warnings.warn(\n",
      "/usr/local/lib/python3.10/dist-packages/monai/transforms/utils.py:743: UserWarning: no available indices of class 7 to crop, setting the crop ratio of this class to zero.\n",
      "  warnings.warn(\n",
      "/usr/local/lib/python3.10/dist-packages/monai/transforms/utils.py:743: UserWarning: no available indices of class 2 to crop, setting the crop ratio of this class to zero.\n",
      "  warnings.warn(\n",
      "/usr/local/lib/python3.10/dist-packages/monai/transforms/utils.py:743: UserWarning: no available indices of class 2 to crop, setting the crop ratio of this class to zero.\n",
      "  warnings.warn(\n",
      "/usr/local/lib/python3.10/dist-packages/monai/transforms/utils.py:743: UserWarning: no available indices of class 2 to crop, setting the crop ratio of this class to zero.\n",
      "  warnings.warn(\n",
      "/usr/local/lib/python3.10/dist-packages/monai/transforms/utils.py:743: UserWarning: no available indices of class 7 to crop, setting the crop ratio of this class to zero.\n",
      "  warnings.warn(\n",
      "/usr/local/lib/python3.10/dist-packages/monai/transforms/utils.py:743: UserWarning: no available indices of class 7 to crop, setting the crop ratio of this class to zero.\n",
      "  warnings.warn(\n",
      "/usr/local/lib/python3.10/dist-packages/monai/transforms/utils.py:743: UserWarning: no available indices of class 7 to crop, setting the crop ratio of this class to zero.\n",
      "  warnings.warn(\n"
     ]
    },
    {
     "name": "stdout",
     "output_type": "stream",
     "text": [
      "Batch 1/10, train_loss: 0.7875\n",
      "Batch 2/10, train_loss: 0.8269\n",
      "Batch 3/10, train_loss: 0.8021\n",
      "Batch 4/10, train_loss: 0.8149\n",
      "Batch 5/10, train_loss: 0.8052\n",
      "Batch 6/10, train_loss: 0.7993\n",
      "Batch 7/10, train_loss: 0.7727\n",
      "Batch 8/10, train_loss: 0.7793\n",
      "Batch 9/10, train_loss: 0.7873\n",
      "Batch 10/10, train_loss: 0.7919\n",
      "Epoch 21 average loss: 0.7967\n",
      "----------\n",
      "Epoch 22/200\n"
     ]
    },
    {
     "name": "stderr",
     "output_type": "stream",
     "text": [
      "/usr/local/lib/python3.10/dist-packages/monai/transforms/utils.py:743: UserWarning: no available indices of class 2 to crop, setting the crop ratio of this class to zero.\n",
      "  warnings.warn(\n",
      "/usr/local/lib/python3.10/dist-packages/monai/transforms/utils.py:743: UserWarning: no available indices of class 7 to crop, setting the crop ratio of this class to zero.\n",
      "  warnings.warn(\n",
      "/usr/local/lib/python3.10/dist-packages/monai/transforms/utils.py:743: UserWarning: no available indices of class 2 to crop, setting the crop ratio of this class to zero.\n",
      "  warnings.warn(\n",
      "/usr/local/lib/python3.10/dist-packages/monai/transforms/utils.py:743: UserWarning: no available indices of class 7 to crop, setting the crop ratio of this class to zero.\n",
      "  warnings.warn(\n",
      "/usr/local/lib/python3.10/dist-packages/monai/transforms/utils.py:743: UserWarning: no available indices of class 2 to crop, setting the crop ratio of this class to zero.\n",
      "  warnings.warn(\n",
      "/usr/local/lib/python3.10/dist-packages/monai/transforms/utils.py:743: UserWarning: no available indices of class 7 to crop, setting the crop ratio of this class to zero.\n",
      "  warnings.warn(\n",
      "/usr/local/lib/python3.10/dist-packages/monai/transforms/utils.py:743: UserWarning: no available indices of class 2 to crop, setting the crop ratio of this class to zero.\n",
      "  warnings.warn(\n",
      "/usr/local/lib/python3.10/dist-packages/monai/transforms/utils.py:743: UserWarning: no available indices of class 7 to crop, setting the crop ratio of this class to zero.\n",
      "  warnings.warn(\n"
     ]
    },
    {
     "name": "stdout",
     "output_type": "stream",
     "text": [
      "Batch 1/10, train_loss: 0.7822\n",
      "Batch 2/10, train_loss: 0.8028\n",
      "Batch 3/10, train_loss: 0.7969\n",
      "Batch 4/10, train_loss: 0.7872\n",
      "Batch 5/10, train_loss: 0.7948\n",
      "Batch 6/10, train_loss: 0.8096\n",
      "Batch 7/10, train_loss: 0.8119\n",
      "Batch 8/10, train_loss: 0.8180\n",
      "Batch 9/10, train_loss: 0.7931\n",
      "Batch 10/10, train_loss: 0.8055\n",
      "Epoch 22 average loss: 0.8002\n"
     ]
    },
    {
     "name": "stderr",
     "output_type": "stream",
     "text": [
      "/usr/local/lib/python3.10/dist-packages/monai/transforms/utils.py:743: UserWarning: no available indices of class 2 to crop, setting the crop ratio of this class to zero.\n",
      "  warnings.warn(\n",
      "/usr/local/lib/python3.10/dist-packages/monai/transforms/utils.py:743: UserWarning: no available indices of class 7 to crop, setting the crop ratio of this class to zero.\n",
      "  warnings.warn(\n",
      "/usr/local/lib/python3.10/dist-packages/monai/transforms/utils.py:743: UserWarning: no available indices of class 2 to crop, setting the crop ratio of this class to zero.\n",
      "  warnings.warn(\n",
      "/usr/local/lib/python3.10/dist-packages/monai/transforms/utils.py:743: UserWarning: no available indices of class 7 to crop, setting the crop ratio of this class to zero.\n",
      "  warnings.warn(\n"
     ]
    },
    {
     "name": "stdout",
     "output_type": "stream",
     "text": [
      "saved new best metric model\n",
      "current epoch: 22 current mean recall per class: 0.1064, 0, 0.1381, 0.4469, 0.1941, 0.394, 0\n",
      "best mean recall: 0.1828 at epoch: 22\n",
      "----------\n",
      "Epoch 23/200\n"
     ]
    },
    {
     "name": "stderr",
     "output_type": "stream",
     "text": [
      "/usr/local/lib/python3.10/dist-packages/monai/transforms/utils.py:743: UserWarning: no available indices of class 2 to crop, setting the crop ratio of this class to zero.\n",
      "  warnings.warn(\n",
      "/usr/local/lib/python3.10/dist-packages/monai/transforms/utils.py:743: UserWarning: no available indices of class 7 to crop, setting the crop ratio of this class to zero.\n",
      "  warnings.warn(\n",
      "/usr/local/lib/python3.10/dist-packages/monai/transforms/utils.py:743: UserWarning: no available indices of class 2 to crop, setting the crop ratio of this class to zero.\n",
      "  warnings.warn(\n",
      "/usr/local/lib/python3.10/dist-packages/monai/transforms/utils.py:743: UserWarning: no available indices of class 7 to crop, setting the crop ratio of this class to zero.\n",
      "  warnings.warn(\n",
      "/usr/local/lib/python3.10/dist-packages/monai/transforms/utils.py:743: UserWarning: no available indices of class 2 to crop, setting the crop ratio of this class to zero.\n",
      "  warnings.warn(\n",
      "/usr/local/lib/python3.10/dist-packages/monai/transforms/utils.py:743: UserWarning: no available indices of class 7 to crop, setting the crop ratio of this class to zero.\n",
      "  warnings.warn(\n",
      "/usr/local/lib/python3.10/dist-packages/monai/transforms/utils.py:743: UserWarning: no available indices of class 2 to crop, setting the crop ratio of this class to zero.\n",
      "  warnings.warn(\n",
      "/usr/local/lib/python3.10/dist-packages/monai/transforms/utils.py:743: UserWarning: no available indices of class 7 to crop, setting the crop ratio of this class to zero.\n",
      "  warnings.warn(\n"
     ]
    },
    {
     "name": "stdout",
     "output_type": "stream",
     "text": [
      "Batch 1/10, train_loss: 0.7874\n",
      "Batch 2/10, train_loss: 0.7976\n",
      "Batch 3/10, train_loss: 0.8067\n",
      "Batch 4/10, train_loss: 0.7905\n",
      "Batch 5/10, train_loss: 0.8041\n",
      "Batch 6/10, train_loss: 0.8057\n",
      "Batch 7/10, train_loss: 0.7819\n",
      "Batch 8/10, train_loss: 0.7834\n",
      "Batch 9/10, train_loss: 0.8125\n",
      "Batch 10/10, train_loss: 0.7835\n",
      "Epoch 23 average loss: 0.7953\n",
      "----------\n",
      "Epoch 24/200\n"
     ]
    },
    {
     "name": "stderr",
     "output_type": "stream",
     "text": [
      "/usr/local/lib/python3.10/dist-packages/monai/transforms/utils.py:743: UserWarning: no available indices of class 2 to crop, setting the crop ratio of this class to zero.\n",
      "  warnings.warn(\n",
      "/usr/local/lib/python3.10/dist-packages/monai/transforms/utils.py:743: UserWarning: no available indices of class 7 to crop, setting the crop ratio of this class to zero.\n",
      "  warnings.warn(\n",
      "/usr/local/lib/python3.10/dist-packages/monai/transforms/utils.py:743: UserWarning: no available indices of class 2 to crop, setting the crop ratio of this class to zero.\n",
      "  warnings.warn(\n",
      "/usr/local/lib/python3.10/dist-packages/monai/transforms/utils.py:743: UserWarning: no available indices of class 7 to crop, setting the crop ratio of this class to zero.\n",
      "  warnings.warn(\n",
      "/usr/local/lib/python3.10/dist-packages/monai/transforms/utils.py:743: UserWarning: no available indices of class 2 to crop, setting the crop ratio of this class to zero.\n",
      "  warnings.warn(\n",
      "/usr/local/lib/python3.10/dist-packages/monai/transforms/utils.py:743: UserWarning: no available indices of class 7 to crop, setting the crop ratio of this class to zero.\n",
      "  warnings.warn(\n",
      "/usr/local/lib/python3.10/dist-packages/monai/transforms/utils.py:743: UserWarning: no available indices of class 2 to crop, setting the crop ratio of this class to zero.\n",
      "  warnings.warn(\n",
      "/usr/local/lib/python3.10/dist-packages/monai/transforms/utils.py:743: UserWarning: no available indices of class 7 to crop, setting the crop ratio of this class to zero.\n",
      "  warnings.warn(\n"
     ]
    },
    {
     "name": "stdout",
     "output_type": "stream",
     "text": [
      "Batch 1/10, train_loss: 0.7938\n",
      "Batch 2/10, train_loss: 0.7828\n",
      "Batch 3/10, train_loss: 0.7822\n",
      "Batch 4/10, train_loss: 0.8036\n",
      "Batch 5/10, train_loss: 0.7955\n",
      "Batch 6/10, train_loss: 0.8148\n",
      "Batch 7/10, train_loss: 0.8131\n",
      "Batch 8/10, train_loss: 0.7888\n",
      "Batch 9/10, train_loss: 0.7959\n",
      "Batch 10/10, train_loss: 0.7901\n",
      "Epoch 24 average loss: 0.7961\n"
     ]
    },
    {
     "name": "stderr",
     "output_type": "stream",
     "text": [
      "/usr/local/lib/python3.10/dist-packages/monai/transforms/utils.py:743: UserWarning: no available indices of class 2 to crop, setting the crop ratio of this class to zero.\n",
      "  warnings.warn(\n",
      "/usr/local/lib/python3.10/dist-packages/monai/transforms/utils.py:743: UserWarning: no available indices of class 7 to crop, setting the crop ratio of this class to zero.\n",
      "  warnings.warn(\n",
      "/usr/local/lib/python3.10/dist-packages/monai/transforms/utils.py:743: UserWarning: no available indices of class 2 to crop, setting the crop ratio of this class to zero.\n",
      "  warnings.warn(\n",
      "/usr/local/lib/python3.10/dist-packages/monai/transforms/utils.py:743: UserWarning: no available indices of class 7 to crop, setting the crop ratio of this class to zero.\n",
      "  warnings.warn(\n"
     ]
    },
    {
     "name": "stdout",
     "output_type": "stream",
     "text": [
      "current epoch: 24 current mean recall per class: 0.1515, 0, 0.1315, 0.4547, 0.1914, 0.2404, 0\n",
      "best mean recall: 0.1828 at epoch: 22\n",
      "----------\n",
      "Epoch 25/200\n"
     ]
    },
    {
     "name": "stderr",
     "output_type": "stream",
     "text": [
      "/usr/local/lib/python3.10/dist-packages/monai/transforms/utils.py:743: UserWarning: no available indices of class 2 to crop, setting the crop ratio of this class to zero.\n",
      "  warnings.warn(\n",
      "/usr/local/lib/python3.10/dist-packages/monai/transforms/utils.py:743: UserWarning: no available indices of class 7 to crop, setting the crop ratio of this class to zero.\n",
      "  warnings.warn(\n",
      "/usr/local/lib/python3.10/dist-packages/monai/transforms/utils.py:743: UserWarning: no available indices of class 2 to crop, setting the crop ratio of this class to zero.\n",
      "  warnings.warn(\n",
      "/usr/local/lib/python3.10/dist-packages/monai/transforms/utils.py:743: UserWarning: no available indices of class 7 to crop, setting the crop ratio of this class to zero.\n",
      "  warnings.warn(\n",
      "/usr/local/lib/python3.10/dist-packages/monai/transforms/utils.py:743: UserWarning: no available indices of class 2 to crop, setting the crop ratio of this class to zero.\n",
      "  warnings.warn(\n",
      "/usr/local/lib/python3.10/dist-packages/monai/transforms/utils.py:743: UserWarning: no available indices of class 7 to crop, setting the crop ratio of this class to zero.\n",
      "  warnings.warn(\n",
      "/usr/local/lib/python3.10/dist-packages/monai/transforms/utils.py:743: UserWarning: no available indices of class 2 to crop, setting the crop ratio of this class to zero.\n",
      "  warnings.warn(\n",
      "/usr/local/lib/python3.10/dist-packages/monai/transforms/utils.py:743: UserWarning: no available indices of class 7 to crop, setting the crop ratio of this class to zero.\n",
      "  warnings.warn(\n"
     ]
    },
    {
     "name": "stdout",
     "output_type": "stream",
     "text": [
      "Batch 1/10, train_loss: 0.7909\n",
      "Batch 2/10, train_loss: 0.7826\n",
      "Batch 3/10, train_loss: 0.8161\n",
      "Batch 4/10, train_loss: 0.7992\n",
      "Batch 5/10, train_loss: 0.7935\n",
      "Batch 6/10, train_loss: 0.8128\n",
      "Batch 7/10, train_loss: 0.7916\n",
      "Batch 8/10, train_loss: 0.7923\n",
      "Batch 9/10, train_loss: 0.7912\n",
      "Batch 10/10, train_loss: 0.7750\n",
      "Epoch 25 average loss: 0.7945\n",
      "----------\n",
      "Epoch 26/200\n"
     ]
    },
    {
     "name": "stderr",
     "output_type": "stream",
     "text": [
      "/usr/local/lib/python3.10/dist-packages/monai/transforms/utils.py:743: UserWarning: no available indices of class 2 to crop, setting the crop ratio of this class to zero.\n",
      "  warnings.warn(\n",
      "/usr/local/lib/python3.10/dist-packages/monai/transforms/utils.py:743: UserWarning: no available indices of class 7 to crop, setting the crop ratio of this class to zero.\n",
      "  warnings.warn(\n",
      "/usr/local/lib/python3.10/dist-packages/monai/transforms/utils.py:743: UserWarning: no available indices of class 2 to crop, setting the crop ratio of this class to zero.\n",
      "  warnings.warn(\n",
      "/usr/local/lib/python3.10/dist-packages/monai/transforms/utils.py:743: UserWarning: no available indices of class 7 to crop, setting the crop ratio of this class to zero.\n",
      "  warnings.warn(\n",
      "/usr/local/lib/python3.10/dist-packages/monai/transforms/utils.py:743: UserWarning: no available indices of class 2 to crop, setting the crop ratio of this class to zero.\n",
      "  warnings.warn(\n",
      "/usr/local/lib/python3.10/dist-packages/monai/transforms/utils.py:743: UserWarning: no available indices of class 7 to crop, setting the crop ratio of this class to zero.\n",
      "  warnings.warn(\n",
      "/usr/local/lib/python3.10/dist-packages/monai/transforms/utils.py:743: UserWarning: no available indices of class 2 to crop, setting the crop ratio of this class to zero.\n",
      "  warnings.warn(\n",
      "/usr/local/lib/python3.10/dist-packages/monai/transforms/utils.py:743: UserWarning: no available indices of class 7 to crop, setting the crop ratio of this class to zero.\n",
      "  warnings.warn(\n"
     ]
    },
    {
     "name": "stdout",
     "output_type": "stream",
     "text": [
      "Batch 1/10, train_loss: 0.8006\n",
      "Batch 2/10, train_loss: 0.7766\n",
      "Batch 3/10, train_loss: 0.7747\n",
      "Batch 4/10, train_loss: 0.7904\n",
      "Batch 5/10, train_loss: 0.7906\n",
      "Batch 6/10, train_loss: 0.7840\n",
      "Batch 7/10, train_loss: 0.8096\n",
      "Batch 8/10, train_loss: 0.7815\n",
      "Batch 9/10, train_loss: 0.7871\n",
      "Batch 10/10, train_loss: 0.7835\n",
      "Epoch 26 average loss: 0.7879\n"
     ]
    },
    {
     "name": "stderr",
     "output_type": "stream",
     "text": [
      "/usr/local/lib/python3.10/dist-packages/monai/transforms/utils.py:743: UserWarning: no available indices of class 2 to crop, setting the crop ratio of this class to zero.\n",
      "  warnings.warn(\n",
      "/usr/local/lib/python3.10/dist-packages/monai/transforms/utils.py:743: UserWarning: no available indices of class 7 to crop, setting the crop ratio of this class to zero.\n",
      "  warnings.warn(\n",
      "/usr/local/lib/python3.10/dist-packages/monai/transforms/utils.py:743: UserWarning: no available indices of class 2 to crop, setting the crop ratio of this class to zero.\n",
      "  warnings.warn(\n",
      "/usr/local/lib/python3.10/dist-packages/monai/transforms/utils.py:743: UserWarning: no available indices of class 7 to crop, setting the crop ratio of this class to zero.\n",
      "  warnings.warn(\n"
     ]
    },
    {
     "name": "stdout",
     "output_type": "stream",
     "text": [
      "saved new best metric model\n",
      "current epoch: 26 current mean recall per class: 0.08356, 0, 0.1477, 0.4619, 0.2314, 0.4345, 0\n",
      "best mean recall: 0.1941 at epoch: 26\n",
      "----------\n",
      "Epoch 27/200\n"
     ]
    },
    {
     "name": "stderr",
     "output_type": "stream",
     "text": [
      "/usr/local/lib/python3.10/dist-packages/monai/transforms/utils.py:743: UserWarning: no available indices of class 2 to crop, setting the crop ratio of this class to zero.\n",
      "  warnings.warn(\n",
      "/usr/local/lib/python3.10/dist-packages/monai/transforms/utils.py:743: UserWarning: no available indices of class 7 to crop, setting the crop ratio of this class to zero.\n",
      "  warnings.warn(\n",
      "/usr/local/lib/python3.10/dist-packages/monai/transforms/utils.py:743: UserWarning: no available indices of class 2 to crop, setting the crop ratio of this class to zero.\n",
      "  warnings.warn(\n",
      "/usr/local/lib/python3.10/dist-packages/monai/transforms/utils.py:743: UserWarning: no available indices of class 7 to crop, setting the crop ratio of this class to zero.\n",
      "  warnings.warn(\n",
      "/usr/local/lib/python3.10/dist-packages/monai/transforms/utils.py:743: UserWarning: no available indices of class 2 to crop, setting the crop ratio of this class to zero.\n",
      "  warnings.warn(\n",
      "/usr/local/lib/python3.10/dist-packages/monai/transforms/utils.py:743: UserWarning: no available indices of class 7 to crop, setting the crop ratio of this class to zero.\n",
      "  warnings.warn(\n",
      "/usr/local/lib/python3.10/dist-packages/monai/transforms/utils.py:743: UserWarning: no available indices of class 2 to crop, setting the crop ratio of this class to zero.\n",
      "  warnings.warn(\n",
      "/usr/local/lib/python3.10/dist-packages/monai/transforms/utils.py:743: UserWarning: no available indices of class 7 to crop, setting the crop ratio of this class to zero.\n",
      "  warnings.warn(\n"
     ]
    },
    {
     "name": "stdout",
     "output_type": "stream",
     "text": [
      "Batch 1/10, train_loss: 0.8187\n",
      "Batch 2/10, train_loss: 0.7807\n",
      "Batch 3/10, train_loss: 0.7674\n",
      "Batch 4/10, train_loss: 0.7894\n",
      "Batch 5/10, train_loss: 0.8082\n",
      "Batch 6/10, train_loss: 0.8042\n",
      "Batch 7/10, train_loss: 0.7971\n",
      "Batch 8/10, train_loss: 0.7988\n",
      "Batch 9/10, train_loss: 0.7703\n",
      "Batch 10/10, train_loss: 0.7628\n",
      "Epoch 27 average loss: 0.7898\n",
      "----------\n",
      "Epoch 28/200\n"
     ]
    },
    {
     "name": "stderr",
     "output_type": "stream",
     "text": [
      "/usr/local/lib/python3.10/dist-packages/monai/transforms/utils.py:743: UserWarning: no available indices of class 2 to crop, setting the crop ratio of this class to zero.\n",
      "  warnings.warn(\n",
      "/usr/local/lib/python3.10/dist-packages/monai/transforms/utils.py:743: UserWarning: no available indices of class 7 to crop, setting the crop ratio of this class to zero.\n",
      "  warnings.warn(\n",
      "/usr/local/lib/python3.10/dist-packages/monai/transforms/utils.py:743: UserWarning: no available indices of class 2 to crop, setting the crop ratio of this class to zero.\n",
      "  warnings.warn(\n",
      "/usr/local/lib/python3.10/dist-packages/monai/transforms/utils.py:743: UserWarning: no available indices of class 7 to crop, setting the crop ratio of this class to zero.\n",
      "  warnings.warn(\n",
      "/usr/local/lib/python3.10/dist-packages/monai/transforms/utils.py:743: UserWarning: no available indices of class 2 to crop, setting the crop ratio of this class to zero.\n",
      "  warnings.warn(\n",
      "/usr/local/lib/python3.10/dist-packages/monai/transforms/utils.py:743: UserWarning: no available indices of class 2 to crop, setting the crop ratio of this class to zero.\n",
      "  warnings.warn(\n",
      "/usr/local/lib/python3.10/dist-packages/monai/transforms/utils.py:743: UserWarning: no available indices of class 7 to crop, setting the crop ratio of this class to zero.\n",
      "  warnings.warn(\n",
      "/usr/local/lib/python3.10/dist-packages/monai/transforms/utils.py:743: UserWarning: no available indices of class 7 to crop, setting the crop ratio of this class to zero.\n",
      "  warnings.warn(\n"
     ]
    },
    {
     "name": "stdout",
     "output_type": "stream",
     "text": [
      "Batch 1/10, train_loss: 0.7860\n",
      "Batch 2/10, train_loss: 0.7973\n",
      "Batch 3/10, train_loss: 0.7811\n",
      "Batch 4/10, train_loss: 0.7846\n",
      "Batch 5/10, train_loss: 0.7957\n",
      "Batch 6/10, train_loss: 0.8012\n",
      "Batch 7/10, train_loss: 0.8008\n",
      "Batch 8/10, train_loss: 0.8050\n",
      "Batch 9/10, train_loss: 0.7814\n",
      "Batch 10/10, train_loss: 0.7569\n",
      "Epoch 28 average loss: 0.7890\n"
     ]
    },
    {
     "name": "stderr",
     "output_type": "stream",
     "text": [
      "/usr/local/lib/python3.10/dist-packages/monai/transforms/utils.py:743: UserWarning: no available indices of class 2 to crop, setting the crop ratio of this class to zero.\n",
      "  warnings.warn(\n",
      "/usr/local/lib/python3.10/dist-packages/monai/transforms/utils.py:743: UserWarning: no available indices of class 7 to crop, setting the crop ratio of this class to zero.\n",
      "  warnings.warn(\n",
      "/usr/local/lib/python3.10/dist-packages/monai/transforms/utils.py:743: UserWarning: no available indices of class 2 to crop, setting the crop ratio of this class to zero.\n",
      "  warnings.warn(\n",
      "/usr/local/lib/python3.10/dist-packages/monai/transforms/utils.py:743: UserWarning: no available indices of class 7 to crop, setting the crop ratio of this class to zero.\n",
      "  warnings.warn(\n"
     ]
    },
    {
     "name": "stdout",
     "output_type": "stream",
     "text": [
      "current epoch: 28 current mean recall per class: 0.1673, 0, 0.1797, 0.4269, 0.1952, 0.3271, 0\n",
      "best mean recall: 0.1941 at epoch: 26\n",
      "----------\n",
      "Epoch 29/200\n"
     ]
    },
    {
     "name": "stderr",
     "output_type": "stream",
     "text": [
      "/usr/local/lib/python3.10/dist-packages/monai/transforms/utils.py:743: UserWarning: no available indices of class 2 to crop, setting the crop ratio of this class to zero.\n",
      "  warnings.warn(\n",
      "/usr/local/lib/python3.10/dist-packages/monai/transforms/utils.py:743: UserWarning: no available indices of class 7 to crop, setting the crop ratio of this class to zero.\n",
      "  warnings.warn(\n",
      "/usr/local/lib/python3.10/dist-packages/monai/transforms/utils.py:743: UserWarning: no available indices of class 2 to crop, setting the crop ratio of this class to zero.\n",
      "  warnings.warn(\n",
      "/usr/local/lib/python3.10/dist-packages/monai/transforms/utils.py:743: UserWarning: no available indices of class 7 to crop, setting the crop ratio of this class to zero.\n",
      "  warnings.warn(\n",
      "/usr/local/lib/python3.10/dist-packages/monai/transforms/utils.py:743: UserWarning: no available indices of class 2 to crop, setting the crop ratio of this class to zero.\n",
      "  warnings.warn(\n",
      "/usr/local/lib/python3.10/dist-packages/monai/transforms/utils.py:743: UserWarning: no available indices of class 7 to crop, setting the crop ratio of this class to zero.\n",
      "  warnings.warn(\n",
      "/usr/local/lib/python3.10/dist-packages/monai/transforms/utils.py:743: UserWarning: no available indices of class 2 to crop, setting the crop ratio of this class to zero.\n",
      "  warnings.warn(\n",
      "/usr/local/lib/python3.10/dist-packages/monai/transforms/utils.py:743: UserWarning: no available indices of class 7 to crop, setting the crop ratio of this class to zero.\n",
      "  warnings.warn(\n"
     ]
    },
    {
     "name": "stdout",
     "output_type": "stream",
     "text": [
      "Batch 1/10, train_loss: 0.8014\n",
      "Batch 2/10, train_loss: 0.7748\n",
      "Batch 3/10, train_loss: 0.7809\n",
      "Batch 4/10, train_loss: 0.7854\n",
      "Batch 5/10, train_loss: 0.7642\n",
      "Batch 6/10, train_loss: 0.7919\n",
      "Batch 7/10, train_loss: 0.7762\n",
      "Batch 8/10, train_loss: 0.7904\n",
      "Batch 9/10, train_loss: 0.7897\n",
      "Batch 10/10, train_loss: 0.8028\n",
      "Epoch 29 average loss: 0.7858\n",
      "----------\n",
      "Epoch 30/200\n"
     ]
    },
    {
     "name": "stderr",
     "output_type": "stream",
     "text": [
      "/usr/local/lib/python3.10/dist-packages/monai/transforms/utils.py:743: UserWarning: no available indices of class 2 to crop, setting the crop ratio of this class to zero.\n",
      "  warnings.warn(\n",
      "/usr/local/lib/python3.10/dist-packages/monai/transforms/utils.py:743: UserWarning: no available indices of class 7 to crop, setting the crop ratio of this class to zero.\n",
      "  warnings.warn(\n",
      "/usr/local/lib/python3.10/dist-packages/monai/transforms/utils.py:743: UserWarning: no available indices of class 2 to crop, setting the crop ratio of this class to zero.\n",
      "  warnings.warn(\n",
      "/usr/local/lib/python3.10/dist-packages/monai/transforms/utils.py:743: UserWarning: no available indices of class 7 to crop, setting the crop ratio of this class to zero.\n",
      "  warnings.warn(\n",
      "/usr/local/lib/python3.10/dist-packages/monai/transforms/utils.py:743: UserWarning: no available indices of class 2 to crop, setting the crop ratio of this class to zero.\n",
      "  warnings.warn(\n",
      "/usr/local/lib/python3.10/dist-packages/monai/transforms/utils.py:743: UserWarning: no available indices of class 7 to crop, setting the crop ratio of this class to zero.\n",
      "  warnings.warn(\n",
      "/usr/local/lib/python3.10/dist-packages/monai/transforms/utils.py:743: UserWarning: no available indices of class 2 to crop, setting the crop ratio of this class to zero.\n",
      "  warnings.warn(\n",
      "/usr/local/lib/python3.10/dist-packages/monai/transforms/utils.py:743: UserWarning: no available indices of class 7 to crop, setting the crop ratio of this class to zero.\n",
      "  warnings.warn(\n"
     ]
    },
    {
     "name": "stdout",
     "output_type": "stream",
     "text": [
      "Batch 1/10, train_loss: 0.7728\n",
      "Batch 2/10, train_loss: 0.7751\n",
      "Batch 3/10, train_loss: 0.7987\n",
      "Batch 4/10, train_loss: 0.8000\n",
      "Batch 5/10, train_loss: 0.7710\n",
      "Batch 6/10, train_loss: 0.7959\n",
      "Batch 7/10, train_loss: 0.7607\n",
      "Batch 8/10, train_loss: 0.7820\n",
      "Batch 9/10, train_loss: 0.7939\n",
      "Batch 10/10, train_loss: 0.7881\n",
      "Epoch 30 average loss: 0.7838\n"
     ]
    },
    {
     "name": "stderr",
     "output_type": "stream",
     "text": [
      "/usr/local/lib/python3.10/dist-packages/monai/transforms/utils.py:743: UserWarning: no available indices of class 2 to crop, setting the crop ratio of this class to zero.\n",
      "  warnings.warn(\n",
      "/usr/local/lib/python3.10/dist-packages/monai/transforms/utils.py:743: UserWarning: no available indices of class 7 to crop, setting the crop ratio of this class to zero.\n",
      "  warnings.warn(\n",
      "/usr/local/lib/python3.10/dist-packages/monai/transforms/utils.py:743: UserWarning: no available indices of class 2 to crop, setting the crop ratio of this class to zero.\n",
      "  warnings.warn(\n",
      "/usr/local/lib/python3.10/dist-packages/monai/transforms/utils.py:743: UserWarning: no available indices of class 7 to crop, setting the crop ratio of this class to zero.\n",
      "  warnings.warn(\n"
     ]
    },
    {
     "name": "stdout",
     "output_type": "stream",
     "text": [
      "current epoch: 30 current mean recall per class: 0.1388, 0, 0.1276, 0.4468, 0.2623, 0.2892, 0\n",
      "best mean recall: 0.1941 at epoch: 26\n",
      "----------\n",
      "Epoch 31/200\n"
     ]
    },
    {
     "name": "stderr",
     "output_type": "stream",
     "text": [
      "/usr/local/lib/python3.10/dist-packages/monai/transforms/utils.py:743: UserWarning: no available indices of class 2 to crop, setting the crop ratio of this class to zero.\n",
      "  warnings.warn(\n",
      "/usr/local/lib/python3.10/dist-packages/monai/transforms/utils.py:743: UserWarning: no available indices of class 7 to crop, setting the crop ratio of this class to zero.\n",
      "  warnings.warn(\n",
      "/usr/local/lib/python3.10/dist-packages/monai/transforms/utils.py:743: UserWarning: no available indices of class 2 to crop, setting the crop ratio of this class to zero.\n",
      "  warnings.warn(\n",
      "/usr/local/lib/python3.10/dist-packages/monai/transforms/utils.py:743: UserWarning: no available indices of class 7 to crop, setting the crop ratio of this class to zero.\n",
      "  warnings.warn(\n",
      "/usr/local/lib/python3.10/dist-packages/monai/transforms/utils.py:743: UserWarning: no available indices of class 2 to crop, setting the crop ratio of this class to zero.\n",
      "  warnings.warn(\n",
      "/usr/local/lib/python3.10/dist-packages/monai/transforms/utils.py:743: UserWarning: no available indices of class 7 to crop, setting the crop ratio of this class to zero.\n",
      "  warnings.warn(\n",
      "/usr/local/lib/python3.10/dist-packages/monai/transforms/utils.py:743: UserWarning: no available indices of class 2 to crop, setting the crop ratio of this class to zero.\n",
      "  warnings.warn(\n",
      "/usr/local/lib/python3.10/dist-packages/monai/transforms/utils.py:743: UserWarning: no available indices of class 7 to crop, setting the crop ratio of this class to zero.\n",
      "  warnings.warn(\n"
     ]
    },
    {
     "name": "stdout",
     "output_type": "stream",
     "text": [
      "Batch 1/10, train_loss: 0.7735\n",
      "Batch 2/10, train_loss: 0.7728\n",
      "Batch 3/10, train_loss: 0.7723\n",
      "Batch 4/10, train_loss: 0.8103\n",
      "Batch 5/10, train_loss: 0.8013\n",
      "Batch 6/10, train_loss: 0.7858\n",
      "Batch 7/10, train_loss: 0.7842\n",
      "Batch 8/10, train_loss: 0.8078\n",
      "Batch 9/10, train_loss: 0.7855\n",
      "Batch 10/10, train_loss: 0.7804\n",
      "Epoch 31 average loss: 0.7874\n",
      "----------\n",
      "Epoch 32/200\n"
     ]
    },
    {
     "name": "stderr",
     "output_type": "stream",
     "text": [
      "/usr/local/lib/python3.10/dist-packages/monai/transforms/utils.py:743: UserWarning: no available indices of class 2 to crop, setting the crop ratio of this class to zero.\n",
      "  warnings.warn(\n",
      "/usr/local/lib/python3.10/dist-packages/monai/transforms/utils.py:743: UserWarning: no available indices of class 7 to crop, setting the crop ratio of this class to zero.\n",
      "  warnings.warn(\n",
      "/usr/local/lib/python3.10/dist-packages/monai/transforms/utils.py:743: UserWarning: no available indices of class 2 to crop, setting the crop ratio of this class to zero.\n",
      "  warnings.warn(\n",
      "/usr/local/lib/python3.10/dist-packages/monai/transforms/utils.py:743: UserWarning: no available indices of class 2 to crop, setting the crop ratio of this class to zero.\n",
      "  warnings.warn(\n",
      "/usr/local/lib/python3.10/dist-packages/monai/transforms/utils.py:743: UserWarning: no available indices of class 7 to crop, setting the crop ratio of this class to zero.\n",
      "  warnings.warn(\n",
      "/usr/local/lib/python3.10/dist-packages/monai/transforms/utils.py:743: UserWarning: no available indices of class 7 to crop, setting the crop ratio of this class to zero.\n",
      "  warnings.warn(\n",
      "/usr/local/lib/python3.10/dist-packages/monai/transforms/utils.py:743: UserWarning: no available indices of class 2 to crop, setting the crop ratio of this class to zero.\n",
      "  warnings.warn(\n",
      "/usr/local/lib/python3.10/dist-packages/monai/transforms/utils.py:743: UserWarning: no available indices of class 7 to crop, setting the crop ratio of this class to zero.\n",
      "  warnings.warn(\n"
     ]
    },
    {
     "name": "stdout",
     "output_type": "stream",
     "text": [
      "Batch 1/10, train_loss: 0.7498\n",
      "Batch 2/10, train_loss: 0.7859\n",
      "Batch 3/10, train_loss: 0.7652\n",
      "Batch 4/10, train_loss: 0.7972\n",
      "Batch 5/10, train_loss: 0.7981\n",
      "Batch 6/10, train_loss: 0.7880\n",
      "Batch 7/10, train_loss: 0.7954\n",
      "Batch 8/10, train_loss: 0.8093\n",
      "Batch 9/10, train_loss: 0.7862\n",
      "Batch 10/10, train_loss: 0.7971\n",
      "Epoch 32 average loss: 0.7872\n"
     ]
    },
    {
     "name": "stderr",
     "output_type": "stream",
     "text": [
      "/usr/local/lib/python3.10/dist-packages/monai/transforms/utils.py:743: UserWarning: no available indices of class 2 to crop, setting the crop ratio of this class to zero.\n",
      "  warnings.warn(\n",
      "/usr/local/lib/python3.10/dist-packages/monai/transforms/utils.py:743: UserWarning: no available indices of class 2 to crop, setting the crop ratio of this class to zero.\n",
      "  warnings.warn(\n",
      "/usr/local/lib/python3.10/dist-packages/monai/transforms/utils.py:743: UserWarning: no available indices of class 7 to crop, setting the crop ratio of this class to zero.\n",
      "  warnings.warn(\n",
      "/usr/local/lib/python3.10/dist-packages/monai/transforms/utils.py:743: UserWarning: no available indices of class 7 to crop, setting the crop ratio of this class to zero.\n",
      "  warnings.warn(\n"
     ]
    },
    {
     "name": "stdout",
     "output_type": "stream",
     "text": [
      "current epoch: 32 current mean recall per class: 0.08639, 0, 0.05951, 0.4887, 0.1646, 0.373, 0\n",
      "best mean recall: 0.1941 at epoch: 26\n",
      "----------\n",
      "Epoch 33/200\n"
     ]
    },
    {
     "name": "stderr",
     "output_type": "stream",
     "text": [
      "/usr/local/lib/python3.10/dist-packages/monai/transforms/utils.py:743: UserWarning: no available indices of class 2 to crop, setting the crop ratio of this class to zero.\n",
      "  warnings.warn(\n",
      "/usr/local/lib/python3.10/dist-packages/monai/transforms/utils.py:743: UserWarning: no available indices of class 7 to crop, setting the crop ratio of this class to zero.\n",
      "  warnings.warn(\n",
      "/usr/local/lib/python3.10/dist-packages/monai/transforms/utils.py:743: UserWarning: no available indices of class 2 to crop, setting the crop ratio of this class to zero.\n",
      "  warnings.warn(\n",
      "/usr/local/lib/python3.10/dist-packages/monai/transforms/utils.py:743: UserWarning: no available indices of class 7 to crop, setting the crop ratio of this class to zero.\n",
      "  warnings.warn(\n",
      "/usr/local/lib/python3.10/dist-packages/monai/transforms/utils.py:743: UserWarning: no available indices of class 2 to crop, setting the crop ratio of this class to zero.\n",
      "  warnings.warn(\n",
      "/usr/local/lib/python3.10/dist-packages/monai/transforms/utils.py:743: UserWarning: no available indices of class 2 to crop, setting the crop ratio of this class to zero.\n",
      "  warnings.warn(\n",
      "/usr/local/lib/python3.10/dist-packages/monai/transforms/utils.py:743: UserWarning: no available indices of class 7 to crop, setting the crop ratio of this class to zero.\n",
      "  warnings.warn(\n",
      "/usr/local/lib/python3.10/dist-packages/monai/transforms/utils.py:743: UserWarning: no available indices of class 7 to crop, setting the crop ratio of this class to zero.\n",
      "  warnings.warn(\n"
     ]
    },
    {
     "name": "stdout",
     "output_type": "stream",
     "text": [
      "Batch 1/10, train_loss: 0.7998\n",
      "Batch 2/10, train_loss: 0.7701\n",
      "Batch 3/10, train_loss: 0.8018\n",
      "Batch 4/10, train_loss: 0.7875\n",
      "Batch 5/10, train_loss: 0.7648\n",
      "Batch 6/10, train_loss: 0.7953\n",
      "Batch 7/10, train_loss: 0.8000\n",
      "Batch 8/10, train_loss: 0.7640\n",
      "Batch 9/10, train_loss: 0.8111\n",
      "Batch 10/10, train_loss: 0.8017\n",
      "Epoch 33 average loss: 0.7896\n",
      "----------\n",
      "Epoch 34/200\n"
     ]
    },
    {
     "name": "stderr",
     "output_type": "stream",
     "text": [
      "/usr/local/lib/python3.10/dist-packages/monai/transforms/utils.py:743: UserWarning: no available indices of class 2 to crop, setting the crop ratio of this class to zero.\n",
      "  warnings.warn(\n",
      "/usr/local/lib/python3.10/dist-packages/monai/transforms/utils.py:743: UserWarning: no available indices of class 7 to crop, setting the crop ratio of this class to zero.\n",
      "  warnings.warn(\n",
      "/usr/local/lib/python3.10/dist-packages/monai/transforms/utils.py:743: UserWarning: no available indices of class 2 to crop, setting the crop ratio of this class to zero.\n",
      "  warnings.warn(\n",
      "/usr/local/lib/python3.10/dist-packages/monai/transforms/utils.py:743: UserWarning: no available indices of class 7 to crop, setting the crop ratio of this class to zero.\n",
      "  warnings.warn(\n",
      "/usr/local/lib/python3.10/dist-packages/monai/transforms/utils.py:743: UserWarning: no available indices of class 2 to crop, setting the crop ratio of this class to zero.\n",
      "  warnings.warn(\n",
      "/usr/local/lib/python3.10/dist-packages/monai/transforms/utils.py:743: UserWarning: no available indices of class 7 to crop, setting the crop ratio of this class to zero.\n",
      "  warnings.warn(\n",
      "/usr/local/lib/python3.10/dist-packages/monai/transforms/utils.py:743: UserWarning: no available indices of class 2 to crop, setting the crop ratio of this class to zero.\n",
      "  warnings.warn(\n",
      "/usr/local/lib/python3.10/dist-packages/monai/transforms/utils.py:743: UserWarning: no available indices of class 7 to crop, setting the crop ratio of this class to zero.\n",
      "  warnings.warn(\n"
     ]
    },
    {
     "name": "stdout",
     "output_type": "stream",
     "text": [
      "Batch 1/10, train_loss: 0.8018\n",
      "Batch 2/10, train_loss: 0.7927\n",
      "Batch 3/10, train_loss: 0.7941\n",
      "Batch 4/10, train_loss: 0.7780\n",
      "Batch 5/10, train_loss: 0.7886\n",
      "Batch 6/10, train_loss: 0.7676\n",
      "Batch 7/10, train_loss: 0.7485\n",
      "Batch 8/10, train_loss: 0.7824\n",
      "Batch 9/10, train_loss: 0.7696\n",
      "Batch 10/10, train_loss: 0.7902\n",
      "Epoch 34 average loss: 0.7814\n"
     ]
    },
    {
     "name": "stderr",
     "output_type": "stream",
     "text": [
      "/usr/local/lib/python3.10/dist-packages/monai/transforms/utils.py:743: UserWarning: no available indices of class 2 to crop, setting the crop ratio of this class to zero.\n",
      "  warnings.warn(\n",
      "/usr/local/lib/python3.10/dist-packages/monai/transforms/utils.py:743: UserWarning: no available indices of class 2 to crop, setting the crop ratio of this class to zero.\n",
      "  warnings.warn(\n",
      "/usr/local/lib/python3.10/dist-packages/monai/transforms/utils.py:743: UserWarning: no available indices of class 7 to crop, setting the crop ratio of this class to zero.\n",
      "  warnings.warn(\n",
      "/usr/local/lib/python3.10/dist-packages/monai/transforms/utils.py:743: UserWarning: no available indices of class 7 to crop, setting the crop ratio of this class to zero.\n",
      "  warnings.warn(\n"
     ]
    },
    {
     "name": "stdout",
     "output_type": "stream",
     "text": [
      "saved new best metric model\n",
      "current epoch: 34 current mean recall per class: 0.1729, 0, 0.1994, 0.5156, 0.2355, 0.3727, 0\n",
      "best mean recall: 0.2137 at epoch: 34\n",
      "----------\n",
      "Epoch 35/200\n"
     ]
    },
    {
     "name": "stderr",
     "output_type": "stream",
     "text": [
      "/usr/local/lib/python3.10/dist-packages/monai/transforms/utils.py:743: UserWarning: no available indices of class 2 to crop, setting the crop ratio of this class to zero.\n",
      "  warnings.warn(\n",
      "/usr/local/lib/python3.10/dist-packages/monai/transforms/utils.py:743: UserWarning: no available indices of class 7 to crop, setting the crop ratio of this class to zero.\n",
      "  warnings.warn(\n",
      "/usr/local/lib/python3.10/dist-packages/monai/transforms/utils.py:743: UserWarning: no available indices of class 2 to crop, setting the crop ratio of this class to zero.\n",
      "  warnings.warn(\n",
      "/usr/local/lib/python3.10/dist-packages/monai/transforms/utils.py:743: UserWarning: no available indices of class 7 to crop, setting the crop ratio of this class to zero.\n",
      "  warnings.warn(\n",
      "/usr/local/lib/python3.10/dist-packages/monai/transforms/utils.py:743: UserWarning: no available indices of class 2 to crop, setting the crop ratio of this class to zero.\n",
      "  warnings.warn(\n",
      "/usr/local/lib/python3.10/dist-packages/monai/transforms/utils.py:743: UserWarning: no available indices of class 7 to crop, setting the crop ratio of this class to zero.\n",
      "  warnings.warn(\n",
      "/usr/local/lib/python3.10/dist-packages/monai/transforms/utils.py:743: UserWarning: no available indices of class 2 to crop, setting the crop ratio of this class to zero.\n",
      "  warnings.warn(\n",
      "/usr/local/lib/python3.10/dist-packages/monai/transforms/utils.py:743: UserWarning: no available indices of class 7 to crop, setting the crop ratio of this class to zero.\n",
      "  warnings.warn(\n"
     ]
    },
    {
     "name": "stdout",
     "output_type": "stream",
     "text": [
      "Batch 1/10, train_loss: 0.7681\n",
      "Batch 2/10, train_loss: 0.7673\n",
      "Batch 3/10, train_loss: 0.7920\n",
      "Batch 4/10, train_loss: 0.7700\n",
      "Batch 5/10, train_loss: 0.7670\n",
      "Batch 6/10, train_loss: 0.7409\n",
      "Batch 7/10, train_loss: 0.7670\n",
      "Batch 8/10, train_loss: 0.7531\n",
      "Batch 9/10, train_loss: 0.7827\n",
      "Batch 10/10, train_loss: 0.8005\n",
      "Epoch 35 average loss: 0.7709\n",
      "----------\n",
      "Epoch 36/200\n"
     ]
    },
    {
     "name": "stderr",
     "output_type": "stream",
     "text": [
      "/usr/local/lib/python3.10/dist-packages/monai/transforms/utils.py:743: UserWarning: no available indices of class 2 to crop, setting the crop ratio of this class to zero.\n",
      "  warnings.warn(\n",
      "/usr/local/lib/python3.10/dist-packages/monai/transforms/utils.py:743: UserWarning: no available indices of class 7 to crop, setting the crop ratio of this class to zero.\n",
      "  warnings.warn(\n",
      "/usr/local/lib/python3.10/dist-packages/monai/transforms/utils.py:743: UserWarning: no available indices of class 2 to crop, setting the crop ratio of this class to zero.\n",
      "  warnings.warn(\n",
      "/usr/local/lib/python3.10/dist-packages/monai/transforms/utils.py:743: UserWarning: no available indices of class 7 to crop, setting the crop ratio of this class to zero.\n",
      "  warnings.warn(\n",
      "/usr/local/lib/python3.10/dist-packages/monai/transforms/utils.py:743: UserWarning: no available indices of class 2 to crop, setting the crop ratio of this class to zero.\n",
      "  warnings.warn(\n",
      "/usr/local/lib/python3.10/dist-packages/monai/transforms/utils.py:743: UserWarning: no available indices of class 2 to crop, setting the crop ratio of this class to zero.\n",
      "  warnings.warn(\n",
      "/usr/local/lib/python3.10/dist-packages/monai/transforms/utils.py:743: UserWarning: no available indices of class 7 to crop, setting the crop ratio of this class to zero.\n",
      "  warnings.warn(\n",
      "/usr/local/lib/python3.10/dist-packages/monai/transforms/utils.py:743: UserWarning: no available indices of class 7 to crop, setting the crop ratio of this class to zero.\n",
      "  warnings.warn(\n"
     ]
    },
    {
     "name": "stdout",
     "output_type": "stream",
     "text": [
      "Batch 1/10, train_loss: 0.8045\n",
      "Batch 2/10, train_loss: 0.7894\n",
      "Batch 3/10, train_loss: 0.7735\n",
      "Batch 4/10, train_loss: 0.7641\n",
      "Batch 5/10, train_loss: 0.7697\n",
      "Batch 6/10, train_loss: 0.7790\n",
      "Batch 7/10, train_loss: 0.7624\n",
      "Batch 8/10, train_loss: 0.7781\n",
      "Batch 9/10, train_loss: 0.7647\n",
      "Batch 10/10, train_loss: 0.7999\n",
      "Epoch 36 average loss: 0.7785\n"
     ]
    },
    {
     "name": "stderr",
     "output_type": "stream",
     "text": [
      "/usr/local/lib/python3.10/dist-packages/monai/transforms/utils.py:743: UserWarning: no available indices of class 2 to crop, setting the crop ratio of this class to zero.\n",
      "  warnings.warn(\n",
      "/usr/local/lib/python3.10/dist-packages/monai/transforms/utils.py:743: UserWarning: no available indices of class 7 to crop, setting the crop ratio of this class to zero.\n",
      "  warnings.warn(\n",
      "/usr/local/lib/python3.10/dist-packages/monai/transforms/utils.py:743: UserWarning: no available indices of class 2 to crop, setting the crop ratio of this class to zero.\n",
      "  warnings.warn(\n",
      "/usr/local/lib/python3.10/dist-packages/monai/transforms/utils.py:743: UserWarning: no available indices of class 7 to crop, setting the crop ratio of this class to zero.\n",
      "  warnings.warn(\n"
     ]
    },
    {
     "name": "stdout",
     "output_type": "stream",
     "text": [
      "current epoch: 36 current mean recall per class: 0.1536, 0, 0.2191, 0.5122, 0.2069, 0.3518, 0\n",
      "best mean recall: 0.2137 at epoch: 34\n",
      "----------\n",
      "Epoch 37/200\n"
     ]
    },
    {
     "name": "stderr",
     "output_type": "stream",
     "text": [
      "/usr/local/lib/python3.10/dist-packages/monai/transforms/utils.py:743: UserWarning: no available indices of class 2 to crop, setting the crop ratio of this class to zero.\n",
      "  warnings.warn(\n",
      "/usr/local/lib/python3.10/dist-packages/monai/transforms/utils.py:743: UserWarning: no available indices of class 7 to crop, setting the crop ratio of this class to zero.\n",
      "  warnings.warn(\n",
      "/usr/local/lib/python3.10/dist-packages/monai/transforms/utils.py:743: UserWarning: no available indices of class 2 to crop, setting the crop ratio of this class to zero.\n",
      "  warnings.warn(\n",
      "/usr/local/lib/python3.10/dist-packages/monai/transforms/utils.py:743: UserWarning: no available indices of class 2 to crop, setting the crop ratio of this class to zero.\n",
      "  warnings.warn(\n",
      "/usr/local/lib/python3.10/dist-packages/monai/transforms/utils.py:743: UserWarning: no available indices of class 7 to crop, setting the crop ratio of this class to zero.\n",
      "  warnings.warn(\n",
      "/usr/local/lib/python3.10/dist-packages/monai/transforms/utils.py:743: UserWarning: no available indices of class 2 to crop, setting the crop ratio of this class to zero.\n",
      "  warnings.warn(\n",
      "/usr/local/lib/python3.10/dist-packages/monai/transforms/utils.py:743: UserWarning: no available indices of class 7 to crop, setting the crop ratio of this class to zero.\n",
      "  warnings.warn(\n",
      "/usr/local/lib/python3.10/dist-packages/monai/transforms/utils.py:743: UserWarning: no available indices of class 7 to crop, setting the crop ratio of this class to zero.\n",
      "  warnings.warn(\n"
     ]
    },
    {
     "name": "stdout",
     "output_type": "stream",
     "text": [
      "Batch 1/10, train_loss: 0.7696\n",
      "Batch 2/10, train_loss: 0.7797\n",
      "Batch 3/10, train_loss: 0.7879\n",
      "Batch 4/10, train_loss: 0.7751\n",
      "Batch 5/10, train_loss: 0.7956\n",
      "Batch 6/10, train_loss: 0.7931\n",
      "Batch 7/10, train_loss: 0.7929\n",
      "Batch 8/10, train_loss: 0.7516\n",
      "Batch 9/10, train_loss: 0.8106\n",
      "Batch 10/10, train_loss: 0.7880\n",
      "Epoch 37 average loss: 0.7844\n",
      "----------\n",
      "Epoch 38/200\n"
     ]
    },
    {
     "name": "stderr",
     "output_type": "stream",
     "text": [
      "/usr/local/lib/python3.10/dist-packages/monai/transforms/utils.py:743: UserWarning: no available indices of class 2 to crop, setting the crop ratio of this class to zero.\n",
      "  warnings.warn(\n",
      "/usr/local/lib/python3.10/dist-packages/monai/transforms/utils.py:743: UserWarning: no available indices of class 2 to crop, setting the crop ratio of this class to zero.\n",
      "  warnings.warn(\n",
      "/usr/local/lib/python3.10/dist-packages/monai/transforms/utils.py:743: UserWarning: no available indices of class 7 to crop, setting the crop ratio of this class to zero.\n",
      "  warnings.warn(\n",
      "/usr/local/lib/python3.10/dist-packages/monai/transforms/utils.py:743: UserWarning: no available indices of class 7 to crop, setting the crop ratio of this class to zero.\n",
      "  warnings.warn(\n",
      "/usr/local/lib/python3.10/dist-packages/monai/transforms/utils.py:743: UserWarning: no available indices of class 2 to crop, setting the crop ratio of this class to zero.\n",
      "  warnings.warn(\n",
      "/usr/local/lib/python3.10/dist-packages/monai/transforms/utils.py:743: UserWarning: no available indices of class 2 to crop, setting the crop ratio of this class to zero.\n",
      "  warnings.warn(\n",
      "/usr/local/lib/python3.10/dist-packages/monai/transforms/utils.py:743: UserWarning: no available indices of class 7 to crop, setting the crop ratio of this class to zero.\n",
      "  warnings.warn(\n",
      "/usr/local/lib/python3.10/dist-packages/monai/transforms/utils.py:743: UserWarning: no available indices of class 7 to crop, setting the crop ratio of this class to zero.\n",
      "  warnings.warn(\n"
     ]
    },
    {
     "name": "stdout",
     "output_type": "stream",
     "text": [
      "Batch 1/10, train_loss: 0.7729\n",
      "Batch 2/10, train_loss: 0.7661\n",
      "Batch 3/10, train_loss: 0.7933\n",
      "Batch 4/10, train_loss: 0.7672\n",
      "Batch 5/10, train_loss: 0.7667\n",
      "Batch 6/10, train_loss: 0.8082\n",
      "Batch 7/10, train_loss: 0.7644\n",
      "Batch 8/10, train_loss: 0.7397\n",
      "Batch 9/10, train_loss: 0.7831\n",
      "Batch 10/10, train_loss: 0.7805\n",
      "Epoch 38 average loss: 0.7742\n"
     ]
    },
    {
     "name": "stderr",
     "output_type": "stream",
     "text": [
      "/usr/local/lib/python3.10/dist-packages/monai/transforms/utils.py:743: UserWarning: no available indices of class 2 to crop, setting the crop ratio of this class to zero.\n",
      "  warnings.warn(\n",
      "/usr/local/lib/python3.10/dist-packages/monai/transforms/utils.py:743: UserWarning: no available indices of class 7 to crop, setting the crop ratio of this class to zero.\n",
      "  warnings.warn(\n",
      "/usr/local/lib/python3.10/dist-packages/monai/transforms/utils.py:743: UserWarning: no available indices of class 2 to crop, setting the crop ratio of this class to zero.\n",
      "  warnings.warn(\n",
      "/usr/local/lib/python3.10/dist-packages/monai/transforms/utils.py:743: UserWarning: no available indices of class 7 to crop, setting the crop ratio of this class to zero.\n",
      "  warnings.warn(\n"
     ]
    },
    {
     "name": "stdout",
     "output_type": "stream",
     "text": [
      "saved new best metric model\n",
      "current epoch: 38 current mean recall per class: 0.249, 0, 0.2041, 0.5252, 0.2744, 0.3322, 0\n",
      "best mean recall: 0.2264 at epoch: 38\n",
      "----------\n",
      "Epoch 39/200\n"
     ]
    },
    {
     "name": "stderr",
     "output_type": "stream",
     "text": [
      "/usr/local/lib/python3.10/dist-packages/monai/transforms/utils.py:743: UserWarning: no available indices of class 2 to crop, setting the crop ratio of this class to zero.\n",
      "  warnings.warn(\n",
      "/usr/local/lib/python3.10/dist-packages/monai/transforms/utils.py:743: UserWarning: no available indices of class 7 to crop, setting the crop ratio of this class to zero.\n",
      "  warnings.warn(\n",
      "/usr/local/lib/python3.10/dist-packages/monai/transforms/utils.py:743: UserWarning: no available indices of class 2 to crop, setting the crop ratio of this class to zero.\n",
      "  warnings.warn(\n",
      "/usr/local/lib/python3.10/dist-packages/monai/transforms/utils.py:743: UserWarning: no available indices of class 7 to crop, setting the crop ratio of this class to zero.\n",
      "  warnings.warn(\n",
      "/usr/local/lib/python3.10/dist-packages/monai/transforms/utils.py:743: UserWarning: no available indices of class 2 to crop, setting the crop ratio of this class to zero.\n",
      "  warnings.warn(\n",
      "/usr/local/lib/python3.10/dist-packages/monai/transforms/utils.py:743: UserWarning: no available indices of class 7 to crop, setting the crop ratio of this class to zero.\n",
      "  warnings.warn(\n",
      "/usr/local/lib/python3.10/dist-packages/monai/transforms/utils.py:743: UserWarning: no available indices of class 2 to crop, setting the crop ratio of this class to zero.\n",
      "  warnings.warn(\n",
      "/usr/local/lib/python3.10/dist-packages/monai/transforms/utils.py:743: UserWarning: no available indices of class 7 to crop, setting the crop ratio of this class to zero.\n",
      "  warnings.warn(\n"
     ]
    },
    {
     "name": "stdout",
     "output_type": "stream",
     "text": [
      "Batch 1/10, train_loss: 0.7938\n",
      "Batch 2/10, train_loss: 0.7804\n",
      "Batch 3/10, train_loss: 0.7685\n",
      "Batch 4/10, train_loss: 0.7550\n",
      "Batch 5/10, train_loss: 0.7667\n",
      "Batch 6/10, train_loss: 0.7908\n",
      "Batch 7/10, train_loss: 0.7649\n",
      "Batch 8/10, train_loss: 0.7684\n",
      "Batch 9/10, train_loss: 0.7632\n",
      "Batch 10/10, train_loss: 0.7782\n",
      "Epoch 39 average loss: 0.7730\n",
      "----------\n",
      "Epoch 40/200\n"
     ]
    },
    {
     "name": "stderr",
     "output_type": "stream",
     "text": [
      "/usr/local/lib/python3.10/dist-packages/monai/transforms/utils.py:743: UserWarning: no available indices of class 2 to crop, setting the crop ratio of this class to zero.\n",
      "  warnings.warn(\n",
      "/usr/local/lib/python3.10/dist-packages/monai/transforms/utils.py:743: UserWarning: no available indices of class 7 to crop, setting the crop ratio of this class to zero.\n",
      "  warnings.warn(\n",
      "/usr/local/lib/python3.10/dist-packages/monai/transforms/utils.py:743: UserWarning: no available indices of class 2 to crop, setting the crop ratio of this class to zero.\n",
      "  warnings.warn(\n",
      "/usr/local/lib/python3.10/dist-packages/monai/transforms/utils.py:743: UserWarning: no available indices of class 2 to crop, setting the crop ratio of this class to zero.\n",
      "  warnings.warn(\n",
      "/usr/local/lib/python3.10/dist-packages/monai/transforms/utils.py:743: UserWarning: no available indices of class 7 to crop, setting the crop ratio of this class to zero.\n",
      "  warnings.warn(\n",
      "/usr/local/lib/python3.10/dist-packages/monai/transforms/utils.py:743: UserWarning: no available indices of class 7 to crop, setting the crop ratio of this class to zero.\n",
      "  warnings.warn(\n",
      "/usr/local/lib/python3.10/dist-packages/monai/transforms/utils.py:743: UserWarning: no available indices of class 2 to crop, setting the crop ratio of this class to zero.\n",
      "  warnings.warn(\n",
      "/usr/local/lib/python3.10/dist-packages/monai/transforms/utils.py:743: UserWarning: no available indices of class 7 to crop, setting the crop ratio of this class to zero.\n",
      "  warnings.warn(\n"
     ]
    },
    {
     "name": "stdout",
     "output_type": "stream",
     "text": [
      "Batch 1/10, train_loss: 0.7494\n",
      "Batch 2/10, train_loss: 0.8025\n",
      "Batch 3/10, train_loss: 0.7709\n",
      "Batch 4/10, train_loss: 0.7996\n",
      "Batch 5/10, train_loss: 0.7985\n",
      "Batch 6/10, train_loss: 0.7828\n",
      "Batch 7/10, train_loss: 0.7770\n",
      "Batch 8/10, train_loss: 0.7809\n",
      "Batch 9/10, train_loss: 0.7603\n",
      "Batch 10/10, train_loss: 0.7617\n",
      "Epoch 40 average loss: 0.7783\n"
     ]
    },
    {
     "name": "stderr",
     "output_type": "stream",
     "text": [
      "/usr/local/lib/python3.10/dist-packages/monai/transforms/utils.py:743: UserWarning: no available indices of class 2 to crop, setting the crop ratio of this class to zero.\n",
      "  warnings.warn(\n",
      "/usr/local/lib/python3.10/dist-packages/monai/transforms/utils.py:743: UserWarning: no available indices of class 7 to crop, setting the crop ratio of this class to zero.\n",
      "  warnings.warn(\n",
      "/usr/local/lib/python3.10/dist-packages/monai/transforms/utils.py:743: UserWarning: no available indices of class 2 to crop, setting the crop ratio of this class to zero.\n",
      "  warnings.warn(\n",
      "/usr/local/lib/python3.10/dist-packages/monai/transforms/utils.py:743: UserWarning: no available indices of class 7 to crop, setting the crop ratio of this class to zero.\n",
      "  warnings.warn(\n"
     ]
    },
    {
     "name": "stdout",
     "output_type": "stream",
     "text": [
      "current epoch: 40 current mean recall per class: 0.1512, 0, 0.1814, 0.4069, 0.2768, 0.366, 0\n",
      "best mean recall: 0.2264 at epoch: 38\n",
      "----------\n",
      "Epoch 41/200\n"
     ]
    },
    {
     "name": "stderr",
     "output_type": "stream",
     "text": [
      "/usr/local/lib/python3.10/dist-packages/monai/transforms/utils.py:743: UserWarning: no available indices of class 2 to crop, setting the crop ratio of this class to zero.\n",
      "  warnings.warn(\n",
      "/usr/local/lib/python3.10/dist-packages/monai/transforms/utils.py:743: UserWarning: no available indices of class 2 to crop, setting the crop ratio of this class to zero.\n",
      "  warnings.warn(\n",
      "/usr/local/lib/python3.10/dist-packages/monai/transforms/utils.py:743: UserWarning: no available indices of class 7 to crop, setting the crop ratio of this class to zero.\n",
      "  warnings.warn(\n",
      "/usr/local/lib/python3.10/dist-packages/monai/transforms/utils.py:743: UserWarning: no available indices of class 7 to crop, setting the crop ratio of this class to zero.\n",
      "  warnings.warn(\n",
      "/usr/local/lib/python3.10/dist-packages/monai/transforms/utils.py:743: UserWarning: no available indices of class 2 to crop, setting the crop ratio of this class to zero.\n",
      "  warnings.warn(\n",
      "/usr/local/lib/python3.10/dist-packages/monai/transforms/utils.py:743: UserWarning: no available indices of class 7 to crop, setting the crop ratio of this class to zero.\n",
      "  warnings.warn(\n",
      "/usr/local/lib/python3.10/dist-packages/monai/transforms/utils.py:743: UserWarning: no available indices of class 2 to crop, setting the crop ratio of this class to zero.\n",
      "  warnings.warn(\n",
      "/usr/local/lib/python3.10/dist-packages/monai/transforms/utils.py:743: UserWarning: no available indices of class 7 to crop, setting the crop ratio of this class to zero.\n",
      "  warnings.warn(\n"
     ]
    },
    {
     "name": "stdout",
     "output_type": "stream",
     "text": [
      "Batch 1/10, train_loss: 0.7715\n",
      "Batch 2/10, train_loss: 0.8099\n",
      "Batch 3/10, train_loss: 0.7806\n",
      "Batch 4/10, train_loss: 0.7703\n",
      "Batch 5/10, train_loss: 0.7864\n",
      "Batch 6/10, train_loss: 0.7820\n",
      "Batch 7/10, train_loss: 0.7778\n",
      "Batch 8/10, train_loss: 0.7840\n",
      "Batch 9/10, train_loss: 0.7857\n",
      "Batch 10/10, train_loss: 0.7910\n",
      "Epoch 41 average loss: 0.7839\n",
      "----------\n",
      "Epoch 42/200\n"
     ]
    },
    {
     "name": "stderr",
     "output_type": "stream",
     "text": [
      "/usr/local/lib/python3.10/dist-packages/monai/transforms/utils.py:743: UserWarning: no available indices of class 2 to crop, setting the crop ratio of this class to zero.\n",
      "  warnings.warn(\n",
      "/usr/local/lib/python3.10/dist-packages/monai/transforms/utils.py:743: UserWarning: no available indices of class 7 to crop, setting the crop ratio of this class to zero.\n",
      "  warnings.warn(\n",
      "/usr/local/lib/python3.10/dist-packages/monai/transforms/utils.py:743: UserWarning: no available indices of class 2 to crop, setting the crop ratio of this class to zero.\n",
      "  warnings.warn(\n",
      "/usr/local/lib/python3.10/dist-packages/monai/transforms/utils.py:743: UserWarning: no available indices of class 7 to crop, setting the crop ratio of this class to zero.\n",
      "  warnings.warn(\n",
      "/usr/local/lib/python3.10/dist-packages/monai/transforms/utils.py:743: UserWarning: no available indices of class 2 to crop, setting the crop ratio of this class to zero.\n",
      "  warnings.warn(\n",
      "/usr/local/lib/python3.10/dist-packages/monai/transforms/utils.py:743: UserWarning: no available indices of class 7 to crop, setting the crop ratio of this class to zero.\n",
      "  warnings.warn(\n",
      "/usr/local/lib/python3.10/dist-packages/monai/transforms/utils.py:743: UserWarning: no available indices of class 2 to crop, setting the crop ratio of this class to zero.\n",
      "  warnings.warn(\n",
      "/usr/local/lib/python3.10/dist-packages/monai/transforms/utils.py:743: UserWarning: no available indices of class 7 to crop, setting the crop ratio of this class to zero.\n",
      "  warnings.warn(\n"
     ]
    },
    {
     "name": "stdout",
     "output_type": "stream",
     "text": [
      "Batch 1/10, train_loss: 0.7457\n",
      "Batch 2/10, train_loss: 0.7598\n",
      "Batch 3/10, train_loss: 0.7832\n",
      "Batch 4/10, train_loss: 0.7704\n",
      "Batch 5/10, train_loss: 0.7825\n",
      "Batch 6/10, train_loss: 0.7798\n",
      "Batch 7/10, train_loss: 0.7754\n",
      "Batch 8/10, train_loss: 0.7561\n",
      "Batch 9/10, train_loss: 0.7803\n",
      "Batch 10/10, train_loss: 0.7694\n",
      "Epoch 42 average loss: 0.7703\n"
     ]
    },
    {
     "name": "stderr",
     "output_type": "stream",
     "text": [
      "/usr/local/lib/python3.10/dist-packages/monai/transforms/utils.py:743: UserWarning: no available indices of class 2 to crop, setting the crop ratio of this class to zero.\n",
      "  warnings.warn(\n",
      "/usr/local/lib/python3.10/dist-packages/monai/transforms/utils.py:743: UserWarning: no available indices of class 7 to crop, setting the crop ratio of this class to zero.\n",
      "  warnings.warn(\n",
      "/usr/local/lib/python3.10/dist-packages/monai/transforms/utils.py:743: UserWarning: no available indices of class 2 to crop, setting the crop ratio of this class to zero.\n",
      "  warnings.warn(\n",
      "/usr/local/lib/python3.10/dist-packages/monai/transforms/utils.py:743: UserWarning: no available indices of class 7 to crop, setting the crop ratio of this class to zero.\n",
      "  warnings.warn(\n"
     ]
    },
    {
     "name": "stdout",
     "output_type": "stream",
     "text": [
      "current epoch: 42 current mean recall per class: 0.1946, 0, 0.2743, 0.5605, 0.1606, 0.2501, 0\n",
      "best mean recall: 0.2264 at epoch: 38\n",
      "----------\n",
      "Epoch 43/200\n"
     ]
    },
    {
     "name": "stderr",
     "output_type": "stream",
     "text": [
      "/usr/local/lib/python3.10/dist-packages/monai/transforms/utils.py:743: UserWarning: no available indices of class 2 to crop, setting the crop ratio of this class to zero.\n",
      "  warnings.warn(\n",
      "/usr/local/lib/python3.10/dist-packages/monai/transforms/utils.py:743: UserWarning: no available indices of class 7 to crop, setting the crop ratio of this class to zero.\n",
      "  warnings.warn(\n",
      "/usr/local/lib/python3.10/dist-packages/monai/transforms/utils.py:743: UserWarning: no available indices of class 2 to crop, setting the crop ratio of this class to zero.\n",
      "  warnings.warn(\n",
      "/usr/local/lib/python3.10/dist-packages/monai/transforms/utils.py:743: UserWarning: no available indices of class 7 to crop, setting the crop ratio of this class to zero.\n",
      "  warnings.warn(\n",
      "/usr/local/lib/python3.10/dist-packages/monai/transforms/utils.py:743: UserWarning: no available indices of class 2 to crop, setting the crop ratio of this class to zero.\n",
      "  warnings.warn(\n",
      "/usr/local/lib/python3.10/dist-packages/monai/transforms/utils.py:743: UserWarning: no available indices of class 7 to crop, setting the crop ratio of this class to zero.\n",
      "  warnings.warn(\n",
      "/usr/local/lib/python3.10/dist-packages/monai/transforms/utils.py:743: UserWarning: no available indices of class 2 to crop, setting the crop ratio of this class to zero.\n",
      "  warnings.warn(\n",
      "/usr/local/lib/python3.10/dist-packages/monai/transforms/utils.py:743: UserWarning: no available indices of class 7 to crop, setting the crop ratio of this class to zero.\n",
      "  warnings.warn(\n"
     ]
    },
    {
     "name": "stdout",
     "output_type": "stream",
     "text": [
      "Batch 1/10, train_loss: 0.7932\n",
      "Batch 2/10, train_loss: 0.7819\n",
      "Batch 3/10, train_loss: 0.7640\n",
      "Batch 4/10, train_loss: 0.7656\n",
      "Batch 5/10, train_loss: 0.7821\n",
      "Batch 6/10, train_loss: 0.7998\n",
      "Batch 7/10, train_loss: 0.7752\n",
      "Batch 8/10, train_loss: 0.7830\n",
      "Batch 9/10, train_loss: 0.7878\n",
      "Batch 10/10, train_loss: 0.7782\n",
      "Epoch 43 average loss: 0.7811\n",
      "----------\n",
      "Epoch 44/200\n"
     ]
    },
    {
     "name": "stderr",
     "output_type": "stream",
     "text": [
      "/usr/local/lib/python3.10/dist-packages/monai/transforms/utils.py:743: UserWarning: no available indices of class 2 to crop, setting the crop ratio of this class to zero.\n",
      "  warnings.warn(\n",
      "/usr/local/lib/python3.10/dist-packages/monai/transforms/utils.py:743: UserWarning: no available indices of class 7 to crop, setting the crop ratio of this class to zero.\n",
      "  warnings.warn(\n",
      "/usr/local/lib/python3.10/dist-packages/monai/transforms/utils.py:743: UserWarning: no available indices of class 2 to crop, setting the crop ratio of this class to zero.\n",
      "  warnings.warn(\n",
      "/usr/local/lib/python3.10/dist-packages/monai/transforms/utils.py:743: UserWarning: no available indices of class 7 to crop, setting the crop ratio of this class to zero.\n",
      "  warnings.warn(\n",
      "/usr/local/lib/python3.10/dist-packages/monai/transforms/utils.py:743: UserWarning: no available indices of class 2 to crop, setting the crop ratio of this class to zero.\n",
      "  warnings.warn(\n",
      "/usr/local/lib/python3.10/dist-packages/monai/transforms/utils.py:743: UserWarning: no available indices of class 2 to crop, setting the crop ratio of this class to zero.\n",
      "  warnings.warn(\n",
      "/usr/local/lib/python3.10/dist-packages/monai/transforms/utils.py:743: UserWarning: no available indices of class 7 to crop, setting the crop ratio of this class to zero.\n",
      "  warnings.warn(\n",
      "/usr/local/lib/python3.10/dist-packages/monai/transforms/utils.py:743: UserWarning: no available indices of class 7 to crop, setting the crop ratio of this class to zero.\n",
      "  warnings.warn(\n"
     ]
    },
    {
     "name": "stdout",
     "output_type": "stream",
     "text": [
      "Batch 1/10, train_loss: 0.7763\n",
      "Batch 2/10, train_loss: 0.7464\n",
      "Batch 3/10, train_loss: 0.7969\n",
      "Batch 4/10, train_loss: 0.7831\n",
      "Batch 5/10, train_loss: 0.7800\n",
      "Batch 6/10, train_loss: 0.7783\n",
      "Batch 7/10, train_loss: 0.7855\n",
      "Batch 8/10, train_loss: 0.7560\n",
      "Batch 9/10, train_loss: 0.7726\n",
      "Batch 10/10, train_loss: 0.7337\n",
      "Epoch 44 average loss: 0.7709\n"
     ]
    },
    {
     "name": "stderr",
     "output_type": "stream",
     "text": [
      "/usr/local/lib/python3.10/dist-packages/monai/transforms/utils.py:743: UserWarning: no available indices of class 2 to crop, setting the crop ratio of this class to zero.\n",
      "  warnings.warn(\n",
      "/usr/local/lib/python3.10/dist-packages/monai/transforms/utils.py:743: UserWarning: no available indices of class 2 to crop, setting the crop ratio of this class to zero.\n",
      "  warnings.warn(\n",
      "/usr/local/lib/python3.10/dist-packages/monai/transforms/utils.py:743: UserWarning: no available indices of class 7 to crop, setting the crop ratio of this class to zero.\n",
      "  warnings.warn(\n",
      "/usr/local/lib/python3.10/dist-packages/monai/transforms/utils.py:743: UserWarning: no available indices of class 7 to crop, setting the crop ratio of this class to zero.\n",
      "  warnings.warn(\n"
     ]
    },
    {
     "name": "stdout",
     "output_type": "stream",
     "text": [
      "current epoch: 44 current mean recall per class: 0.2041, 0, 0.2127, 0.5073, 0.2244, 0.366, 0\n",
      "best mean recall: 0.2264 at epoch: 38\n",
      "----------\n",
      "Epoch 45/200\n"
     ]
    },
    {
     "name": "stderr",
     "output_type": "stream",
     "text": [
      "/usr/local/lib/python3.10/dist-packages/monai/transforms/utils.py:743: UserWarning: no available indices of class 2 to crop, setting the crop ratio of this class to zero.\n",
      "  warnings.warn(\n",
      "/usr/local/lib/python3.10/dist-packages/monai/transforms/utils.py:743: UserWarning: no available indices of class 2 to crop, setting the crop ratio of this class to zero.\n",
      "  warnings.warn(\n",
      "/usr/local/lib/python3.10/dist-packages/monai/transforms/utils.py:743: UserWarning: no available indices of class 2 to crop, setting the crop ratio of this class to zero.\n",
      "  warnings.warn(\n",
      "/usr/local/lib/python3.10/dist-packages/monai/transforms/utils.py:743: UserWarning: no available indices of class 7 to crop, setting the crop ratio of this class to zero.\n",
      "  warnings.warn(\n",
      "/usr/local/lib/python3.10/dist-packages/monai/transforms/utils.py:743: UserWarning: no available indices of class 7 to crop, setting the crop ratio of this class to zero.\n",
      "  warnings.warn(\n",
      "/usr/local/lib/python3.10/dist-packages/monai/transforms/utils.py:743: UserWarning: no available indices of class 7 to crop, setting the crop ratio of this class to zero.\n",
      "  warnings.warn(\n",
      "/usr/local/lib/python3.10/dist-packages/monai/transforms/utils.py:743: UserWarning: no available indices of class 2 to crop, setting the crop ratio of this class to zero.\n",
      "  warnings.warn(\n",
      "/usr/local/lib/python3.10/dist-packages/monai/transforms/utils.py:743: UserWarning: no available indices of class 7 to crop, setting the crop ratio of this class to zero.\n",
      "  warnings.warn(\n"
     ]
    },
    {
     "name": "stdout",
     "output_type": "stream",
     "text": [
      "Batch 1/10, train_loss: 0.7638\n",
      "Batch 2/10, train_loss: 0.8038\n",
      "Batch 3/10, train_loss: 0.7583\n",
      "Batch 4/10, train_loss: 0.7905\n",
      "Batch 5/10, train_loss: 0.7597\n",
      "Batch 6/10, train_loss: 0.7550\n",
      "Batch 7/10, train_loss: 0.7735\n",
      "Batch 8/10, train_loss: 0.7451\n",
      "Batch 9/10, train_loss: 0.7599\n",
      "Batch 10/10, train_loss: 0.7756\n",
      "Epoch 45 average loss: 0.7685\n",
      "----------\n",
      "Epoch 46/200\n"
     ]
    },
    {
     "name": "stderr",
     "output_type": "stream",
     "text": [
      "/usr/local/lib/python3.10/dist-packages/monai/transforms/utils.py:743: UserWarning: no available indices of class 2 to crop, setting the crop ratio of this class to zero.\n",
      "  warnings.warn(\n",
      "/usr/local/lib/python3.10/dist-packages/monai/transforms/utils.py:743: UserWarning: no available indices of class 7 to crop, setting the crop ratio of this class to zero.\n",
      "  warnings.warn(\n",
      "/usr/local/lib/python3.10/dist-packages/monai/transforms/utils.py:743: UserWarning: no available indices of class 2 to crop, setting the crop ratio of this class to zero.\n",
      "  warnings.warn(\n",
      "/usr/local/lib/python3.10/dist-packages/monai/transforms/utils.py:743: UserWarning: no available indices of class 2 to crop, setting the crop ratio of this class to zero.\n",
      "  warnings.warn(\n",
      "/usr/local/lib/python3.10/dist-packages/monai/transforms/utils.py:743: UserWarning: no available indices of class 7 to crop, setting the crop ratio of this class to zero.\n",
      "  warnings.warn(\n",
      "/usr/local/lib/python3.10/dist-packages/monai/transforms/utils.py:743: UserWarning: no available indices of class 2 to crop, setting the crop ratio of this class to zero.\n",
      "  warnings.warn(\n",
      "/usr/local/lib/python3.10/dist-packages/monai/transforms/utils.py:743: UserWarning: no available indices of class 7 to crop, setting the crop ratio of this class to zero.\n",
      "  warnings.warn(\n",
      "/usr/local/lib/python3.10/dist-packages/monai/transforms/utils.py:743: UserWarning: no available indices of class 7 to crop, setting the crop ratio of this class to zero.\n",
      "  warnings.warn(\n"
     ]
    },
    {
     "name": "stdout",
     "output_type": "stream",
     "text": [
      "Batch 1/10, train_loss: 0.7706\n",
      "Batch 2/10, train_loss: 0.7508\n",
      "Batch 3/10, train_loss: 0.7597\n",
      "Batch 4/10, train_loss: 0.7564\n",
      "Batch 5/10, train_loss: 0.7658\n",
      "Batch 6/10, train_loss: 0.7506\n",
      "Batch 7/10, train_loss: 0.7681\n",
      "Batch 8/10, train_loss: 0.7444\n",
      "Batch 9/10, train_loss: 0.7648\n",
      "Batch 10/10, train_loss: 0.7723\n",
      "Epoch 46 average loss: 0.7603\n"
     ]
    },
    {
     "name": "stderr",
     "output_type": "stream",
     "text": [
      "/usr/local/lib/python3.10/dist-packages/monai/transforms/utils.py:743: UserWarning: no available indices of class 2 to crop, setting the crop ratio of this class to zero.\n",
      "  warnings.warn(\n",
      "/usr/local/lib/python3.10/dist-packages/monai/transforms/utils.py:743: UserWarning: no available indices of class 2 to crop, setting the crop ratio of this class to zero.\n",
      "  warnings.warn(\n",
      "/usr/local/lib/python3.10/dist-packages/monai/transforms/utils.py:743: UserWarning: no available indices of class 7 to crop, setting the crop ratio of this class to zero.\n",
      "  warnings.warn(\n",
      "/usr/local/lib/python3.10/dist-packages/monai/transforms/utils.py:743: UserWarning: no available indices of class 7 to crop, setting the crop ratio of this class to zero.\n",
      "  warnings.warn(\n"
     ]
    },
    {
     "name": "stdout",
     "output_type": "stream",
     "text": [
      "saved new best metric model\n",
      "current epoch: 46 current mean recall per class: 0.195, 0, 0.2521, 0.5729, 0.2427, 0.3326, 0\n",
      "best mean recall: 0.2279 at epoch: 46\n",
      "----------\n",
      "Epoch 47/200\n"
     ]
    },
    {
     "name": "stderr",
     "output_type": "stream",
     "text": [
      "/usr/local/lib/python3.10/dist-packages/monai/transforms/utils.py:743: UserWarning: no available indices of class 2 to crop, setting the crop ratio of this class to zero.\n",
      "  warnings.warn(\n",
      "/usr/local/lib/python3.10/dist-packages/monai/transforms/utils.py:743: UserWarning: no available indices of class 7 to crop, setting the crop ratio of this class to zero.\n",
      "  warnings.warn(\n",
      "/usr/local/lib/python3.10/dist-packages/monai/transforms/utils.py:743: UserWarning: no available indices of class 2 to crop, setting the crop ratio of this class to zero.\n",
      "  warnings.warn(\n",
      "/usr/local/lib/python3.10/dist-packages/monai/transforms/utils.py:743: UserWarning: no available indices of class 7 to crop, setting the crop ratio of this class to zero.\n",
      "  warnings.warn(\n",
      "/usr/local/lib/python3.10/dist-packages/monai/transforms/utils.py:743: UserWarning: no available indices of class 2 to crop, setting the crop ratio of this class to zero.\n",
      "  warnings.warn(\n",
      "/usr/local/lib/python3.10/dist-packages/monai/transforms/utils.py:743: UserWarning: no available indices of class 7 to crop, setting the crop ratio of this class to zero.\n",
      "  warnings.warn(\n",
      "/usr/local/lib/python3.10/dist-packages/monai/transforms/utils.py:743: UserWarning: no available indices of class 2 to crop, setting the crop ratio of this class to zero.\n",
      "  warnings.warn(\n",
      "/usr/local/lib/python3.10/dist-packages/monai/transforms/utils.py:743: UserWarning: no available indices of class 7 to crop, setting the crop ratio of this class to zero.\n",
      "  warnings.warn(\n"
     ]
    },
    {
     "name": "stdout",
     "output_type": "stream",
     "text": [
      "Batch 1/10, train_loss: 0.7968\n",
      "Batch 2/10, train_loss: 0.7823\n",
      "Batch 3/10, train_loss: 0.7913\n",
      "Batch 4/10, train_loss: 0.7582\n",
      "Batch 5/10, train_loss: 0.8093\n",
      "Batch 6/10, train_loss: 0.7978\n",
      "Batch 7/10, train_loss: 0.7610\n",
      "Batch 8/10, train_loss: 0.7483\n",
      "Batch 9/10, train_loss: 0.7582\n",
      "Batch 10/10, train_loss: 0.7981\n",
      "Epoch 47 average loss: 0.7801\n",
      "----------\n",
      "Epoch 48/200\n"
     ]
    },
    {
     "name": "stderr",
     "output_type": "stream",
     "text": [
      "/usr/local/lib/python3.10/dist-packages/monai/transforms/utils.py:743: UserWarning: no available indices of class 2 to crop, setting the crop ratio of this class to zero.\n",
      "  warnings.warn(\n",
      "/usr/local/lib/python3.10/dist-packages/monai/transforms/utils.py:743: UserWarning: no available indices of class 7 to crop, setting the crop ratio of this class to zero.\n",
      "  warnings.warn(\n",
      "/usr/local/lib/python3.10/dist-packages/monai/transforms/utils.py:743: UserWarning: no available indices of class 2 to crop, setting the crop ratio of this class to zero.\n",
      "  warnings.warn(\n",
      "/usr/local/lib/python3.10/dist-packages/monai/transforms/utils.py:743: UserWarning: no available indices of class 7 to crop, setting the crop ratio of this class to zero.\n",
      "  warnings.warn(\n",
      "/usr/local/lib/python3.10/dist-packages/monai/transforms/utils.py:743: UserWarning: no available indices of class 2 to crop, setting the crop ratio of this class to zero.\n",
      "  warnings.warn(\n",
      "/usr/local/lib/python3.10/dist-packages/monai/transforms/utils.py:743: UserWarning: no available indices of class 7 to crop, setting the crop ratio of this class to zero.\n",
      "  warnings.warn(\n",
      "/usr/local/lib/python3.10/dist-packages/monai/transforms/utils.py:743: UserWarning: no available indices of class 2 to crop, setting the crop ratio of this class to zero.\n",
      "  warnings.warn(\n",
      "/usr/local/lib/python3.10/dist-packages/monai/transforms/utils.py:743: UserWarning: no available indices of class 7 to crop, setting the crop ratio of this class to zero.\n",
      "  warnings.warn(\n"
     ]
    },
    {
     "name": "stdout",
     "output_type": "stream",
     "text": [
      "Batch 1/10, train_loss: 0.7652\n",
      "Batch 2/10, train_loss: 0.7753\n",
      "Batch 3/10, train_loss: 0.8015\n",
      "Batch 4/10, train_loss: 0.7984\n",
      "Batch 5/10, train_loss: 0.7605\n",
      "Batch 6/10, train_loss: 0.7548\n",
      "Batch 7/10, train_loss: 0.7911\n",
      "Batch 8/10, train_loss: 0.7662\n",
      "Batch 9/10, train_loss: 0.7879\n",
      "Batch 10/10, train_loss: 0.7804\n",
      "Epoch 48 average loss: 0.7781\n"
     ]
    },
    {
     "name": "stderr",
     "output_type": "stream",
     "text": [
      "/usr/local/lib/python3.10/dist-packages/monai/transforms/utils.py:743: UserWarning: no available indices of class 2 to crop, setting the crop ratio of this class to zero.\n",
      "  warnings.warn(\n",
      "/usr/local/lib/python3.10/dist-packages/monai/transforms/utils.py:743: UserWarning: no available indices of class 7 to crop, setting the crop ratio of this class to zero.\n",
      "  warnings.warn(\n",
      "/usr/local/lib/python3.10/dist-packages/monai/transforms/utils.py:743: UserWarning: no available indices of class 2 to crop, setting the crop ratio of this class to zero.\n",
      "  warnings.warn(\n",
      "/usr/local/lib/python3.10/dist-packages/monai/transforms/utils.py:743: UserWarning: no available indices of class 7 to crop, setting the crop ratio of this class to zero.\n",
      "  warnings.warn(\n"
     ]
    },
    {
     "name": "stdout",
     "output_type": "stream",
     "text": [
      "saved new best metric model\n",
      "current epoch: 48 current mean recall per class: 0.2038, 0, 0.3157, 0.5149, 0.2585, 0.3544, 0\n",
      "best mean recall: 0.2353 at epoch: 48\n",
      "----------\n",
      "Epoch 49/200\n"
     ]
    },
    {
     "name": "stderr",
     "output_type": "stream",
     "text": [
      "/usr/local/lib/python3.10/dist-packages/monai/transforms/utils.py:743: UserWarning: no available indices of class 2 to crop, setting the crop ratio of this class to zero.\n",
      "  warnings.warn(\n",
      "/usr/local/lib/python3.10/dist-packages/monai/transforms/utils.py:743: UserWarning: no available indices of class 7 to crop, setting the crop ratio of this class to zero.\n",
      "  warnings.warn(\n",
      "/usr/local/lib/python3.10/dist-packages/monai/transforms/utils.py:743: UserWarning: no available indices of class 2 to crop, setting the crop ratio of this class to zero.\n",
      "  warnings.warn(\n",
      "/usr/local/lib/python3.10/dist-packages/monai/transforms/utils.py:743: UserWarning: no available indices of class 7 to crop, setting the crop ratio of this class to zero.\n",
      "  warnings.warn(\n",
      "/usr/local/lib/python3.10/dist-packages/monai/transforms/utils.py:743: UserWarning: no available indices of class 2 to crop, setting the crop ratio of this class to zero.\n",
      "  warnings.warn(\n",
      "/usr/local/lib/python3.10/dist-packages/monai/transforms/utils.py:743: UserWarning: no available indices of class 7 to crop, setting the crop ratio of this class to zero.\n",
      "  warnings.warn(\n",
      "/usr/local/lib/python3.10/dist-packages/monai/transforms/utils.py:743: UserWarning: no available indices of class 2 to crop, setting the crop ratio of this class to zero.\n",
      "  warnings.warn(\n",
      "/usr/local/lib/python3.10/dist-packages/monai/transforms/utils.py:743: UserWarning: no available indices of class 7 to crop, setting the crop ratio of this class to zero.\n",
      "  warnings.warn(\n"
     ]
    },
    {
     "name": "stdout",
     "output_type": "stream",
     "text": [
      "Batch 1/10, train_loss: 0.7343\n",
      "Batch 2/10, train_loss: 0.7486\n",
      "Batch 3/10, train_loss: 0.7469\n",
      "Batch 4/10, train_loss: 0.7647\n",
      "Batch 5/10, train_loss: 0.7829\n",
      "Batch 6/10, train_loss: 0.7809\n",
      "Batch 7/10, train_loss: 0.7901\n",
      "Batch 8/10, train_loss: 0.7696\n",
      "Batch 9/10, train_loss: 0.7879\n",
      "Batch 10/10, train_loss: 0.7643\n",
      "Epoch 49 average loss: 0.7670\n",
      "----------\n",
      "Epoch 50/200\n"
     ]
    },
    {
     "name": "stderr",
     "output_type": "stream",
     "text": [
      "/usr/local/lib/python3.10/dist-packages/monai/transforms/utils.py:743: UserWarning: no available indices of class 2 to crop, setting the crop ratio of this class to zero.\n",
      "  warnings.warn(\n",
      "/usr/local/lib/python3.10/dist-packages/monai/transforms/utils.py:743: UserWarning: no available indices of class 7 to crop, setting the crop ratio of this class to zero.\n",
      "  warnings.warn(\n",
      "/usr/local/lib/python3.10/dist-packages/monai/transforms/utils.py:743: UserWarning: no available indices of class 2 to crop, setting the crop ratio of this class to zero.\n",
      "  warnings.warn(\n",
      "/usr/local/lib/python3.10/dist-packages/monai/transforms/utils.py:743: UserWarning: no available indices of class 7 to crop, setting the crop ratio of this class to zero.\n",
      "  warnings.warn(\n",
      "/usr/local/lib/python3.10/dist-packages/monai/transforms/utils.py:743: UserWarning: no available indices of class 2 to crop, setting the crop ratio of this class to zero.\n",
      "  warnings.warn(\n",
      "/usr/local/lib/python3.10/dist-packages/monai/transforms/utils.py:743: UserWarning: no available indices of class 7 to crop, setting the crop ratio of this class to zero.\n",
      "  warnings.warn(\n",
      "/usr/local/lib/python3.10/dist-packages/monai/transforms/utils.py:743: UserWarning: no available indices of class 2 to crop, setting the crop ratio of this class to zero.\n",
      "  warnings.warn(\n",
      "/usr/local/lib/python3.10/dist-packages/monai/transforms/utils.py:743: UserWarning: no available indices of class 7 to crop, setting the crop ratio of this class to zero.\n",
      "  warnings.warn(\n"
     ]
    },
    {
     "name": "stdout",
     "output_type": "stream",
     "text": [
      "Batch 1/10, train_loss: 0.7533\n",
      "Batch 2/10, train_loss: 0.7493\n",
      "Batch 3/10, train_loss: 0.7518\n",
      "Batch 4/10, train_loss: 0.8005\n",
      "Batch 5/10, train_loss: 0.7607\n",
      "Batch 6/10, train_loss: 0.7712\n",
      "Batch 7/10, train_loss: 0.7779\n",
      "Batch 8/10, train_loss: 0.7524\n",
      "Batch 9/10, train_loss: 0.7645\n",
      "Batch 10/10, train_loss: 0.7533\n",
      "Epoch 50 average loss: 0.7635\n"
     ]
    },
    {
     "name": "stderr",
     "output_type": "stream",
     "text": [
      "/usr/local/lib/python3.10/dist-packages/monai/transforms/utils.py:743: UserWarning: no available indices of class 2 to crop, setting the crop ratio of this class to zero.\n",
      "  warnings.warn(\n",
      "/usr/local/lib/python3.10/dist-packages/monai/transforms/utils.py:743: UserWarning: no available indices of class 2 to crop, setting the crop ratio of this class to zero.\n",
      "  warnings.warn(\n",
      "/usr/local/lib/python3.10/dist-packages/monai/transforms/utils.py:743: UserWarning: no available indices of class 7 to crop, setting the crop ratio of this class to zero.\n",
      "  warnings.warn(\n",
      "/usr/local/lib/python3.10/dist-packages/monai/transforms/utils.py:743: UserWarning: no available indices of class 7 to crop, setting the crop ratio of this class to zero.\n",
      "  warnings.warn(\n"
     ]
    },
    {
     "name": "stdout",
     "output_type": "stream",
     "text": [
      "saved new best metric model\n",
      "current epoch: 50 current mean recall per class: 0.2336, 0, 0.2354, 0.5886, 0.2327, 0.3625, 0\n",
      "best mean recall: 0.2361 at epoch: 50\n",
      "----------\n",
      "Epoch 51/200\n"
     ]
    },
    {
     "name": "stderr",
     "output_type": "stream",
     "text": [
      "/usr/local/lib/python3.10/dist-packages/monai/transforms/utils.py:743: UserWarning: no available indices of class 2 to crop, setting the crop ratio of this class to zero.\n",
      "  warnings.warn(\n",
      "/usr/local/lib/python3.10/dist-packages/monai/transforms/utils.py:743: UserWarning: no available indices of class 7 to crop, setting the crop ratio of this class to zero.\n",
      "  warnings.warn(\n",
      "/usr/local/lib/python3.10/dist-packages/monai/transforms/utils.py:743: UserWarning: no available indices of class 2 to crop, setting the crop ratio of this class to zero.\n",
      "  warnings.warn(\n",
      "/usr/local/lib/python3.10/dist-packages/monai/transforms/utils.py:743: UserWarning: no available indices of class 7 to crop, setting the crop ratio of this class to zero.\n",
      "  warnings.warn(\n",
      "/usr/local/lib/python3.10/dist-packages/monai/transforms/utils.py:743: UserWarning: no available indices of class 2 to crop, setting the crop ratio of this class to zero.\n",
      "  warnings.warn(\n",
      "/usr/local/lib/python3.10/dist-packages/monai/transforms/utils.py:743: UserWarning: no available indices of class 7 to crop, setting the crop ratio of this class to zero.\n",
      "  warnings.warn(\n",
      "/usr/local/lib/python3.10/dist-packages/monai/transforms/utils.py:743: UserWarning: no available indices of class 2 to crop, setting the crop ratio of this class to zero.\n",
      "  warnings.warn(\n",
      "/usr/local/lib/python3.10/dist-packages/monai/transforms/utils.py:743: UserWarning: no available indices of class 7 to crop, setting the crop ratio of this class to zero.\n",
      "  warnings.warn(\n"
     ]
    },
    {
     "name": "stdout",
     "output_type": "stream",
     "text": [
      "Batch 1/10, train_loss: 0.7547\n",
      "Batch 2/10, train_loss: 0.7700\n",
      "Batch 3/10, train_loss: 0.7232\n",
      "Batch 4/10, train_loss: 0.7754\n",
      "Batch 5/10, train_loss: 0.7686\n",
      "Batch 6/10, train_loss: 0.7758\n",
      "Batch 7/10, train_loss: 0.7589\n",
      "Batch 8/10, train_loss: 0.7862\n",
      "Batch 9/10, train_loss: 0.7763\n",
      "Batch 10/10, train_loss: 0.7661\n",
      "Epoch 51 average loss: 0.7655\n",
      "----------\n",
      "Epoch 52/200\n"
     ]
    },
    {
     "name": "stderr",
     "output_type": "stream",
     "text": [
      "/usr/local/lib/python3.10/dist-packages/monai/transforms/utils.py:743: UserWarning: no available indices of class 2 to crop, setting the crop ratio of this class to zero.\n",
      "  warnings.warn(\n",
      "/usr/local/lib/python3.10/dist-packages/monai/transforms/utils.py:743: UserWarning: no available indices of class 7 to crop, setting the crop ratio of this class to zero.\n",
      "  warnings.warn(\n",
      "/usr/local/lib/python3.10/dist-packages/monai/transforms/utils.py:743: UserWarning: no available indices of class 2 to crop, setting the crop ratio of this class to zero.\n",
      "  warnings.warn(\n",
      "/usr/local/lib/python3.10/dist-packages/monai/transforms/utils.py:743: UserWarning: no available indices of class 7 to crop, setting the crop ratio of this class to zero.\n",
      "  warnings.warn(\n",
      "/usr/local/lib/python3.10/dist-packages/monai/transforms/utils.py:743: UserWarning: no available indices of class 2 to crop, setting the crop ratio of this class to zero.\n",
      "  warnings.warn(\n",
      "/usr/local/lib/python3.10/dist-packages/monai/transforms/utils.py:743: UserWarning: no available indices of class 2 to crop, setting the crop ratio of this class to zero.\n",
      "  warnings.warn(\n",
      "/usr/local/lib/python3.10/dist-packages/monai/transforms/utils.py:743: UserWarning: no available indices of class 7 to crop, setting the crop ratio of this class to zero.\n",
      "  warnings.warn(\n",
      "/usr/local/lib/python3.10/dist-packages/monai/transforms/utils.py:743: UserWarning: no available indices of class 7 to crop, setting the crop ratio of this class to zero.\n",
      "  warnings.warn(\n"
     ]
    },
    {
     "name": "stdout",
     "output_type": "stream",
     "text": [
      "Batch 1/10, train_loss: 0.7519\n",
      "Batch 2/10, train_loss: 0.7738\n",
      "Batch 3/10, train_loss: 0.7709\n",
      "Batch 4/10, train_loss: 0.7808\n",
      "Batch 5/10, train_loss: 0.7568\n",
      "Batch 6/10, train_loss: 0.7618\n",
      "Batch 7/10, train_loss: 0.8002\n",
      "Batch 8/10, train_loss: 0.7694\n",
      "Batch 9/10, train_loss: 0.7801\n",
      "Batch 10/10, train_loss: 0.7421\n",
      "Epoch 52 average loss: 0.7688\n"
     ]
    },
    {
     "name": "stderr",
     "output_type": "stream",
     "text": [
      "/usr/local/lib/python3.10/dist-packages/monai/transforms/utils.py:743: UserWarning: no available indices of class 2 to crop, setting the crop ratio of this class to zero.\n",
      "  warnings.warn(\n",
      "/usr/local/lib/python3.10/dist-packages/monai/transforms/utils.py:743: UserWarning: no available indices of class 2 to crop, setting the crop ratio of this class to zero.\n",
      "  warnings.warn(\n",
      "/usr/local/lib/python3.10/dist-packages/monai/transforms/utils.py:743: UserWarning: no available indices of class 7 to crop, setting the crop ratio of this class to zero.\n",
      "  warnings.warn(\n",
      "/usr/local/lib/python3.10/dist-packages/monai/transforms/utils.py:743: UserWarning: no available indices of class 7 to crop, setting the crop ratio of this class to zero.\n",
      "  warnings.warn(\n"
     ]
    },
    {
     "name": "stdout",
     "output_type": "stream",
     "text": [
      "saved new best metric model\n",
      "current epoch: 52 current mean recall per class: 0.2807, 0, 0.3245, 0.5331, 0.2943, 0.353, 0\n",
      "best mean recall: 0.2551 at epoch: 52\n",
      "----------\n",
      "Epoch 53/200\n"
     ]
    },
    {
     "name": "stderr",
     "output_type": "stream",
     "text": [
      "/usr/local/lib/python3.10/dist-packages/monai/transforms/utils.py:743: UserWarning: no available indices of class 2 to crop, setting the crop ratio of this class to zero.\n",
      "  warnings.warn(\n",
      "/usr/local/lib/python3.10/dist-packages/monai/transforms/utils.py:743: UserWarning: no available indices of class 7 to crop, setting the crop ratio of this class to zero.\n",
      "  warnings.warn(\n",
      "/usr/local/lib/python3.10/dist-packages/monai/transforms/utils.py:743: UserWarning: no available indices of class 2 to crop, setting the crop ratio of this class to zero.\n",
      "  warnings.warn(\n",
      "/usr/local/lib/python3.10/dist-packages/monai/transforms/utils.py:743: UserWarning: no available indices of class 7 to crop, setting the crop ratio of this class to zero.\n",
      "  warnings.warn(\n",
      "/usr/local/lib/python3.10/dist-packages/monai/transforms/utils.py:743: UserWarning: no available indices of class 2 to crop, setting the crop ratio of this class to zero.\n",
      "  warnings.warn(\n",
      "/usr/local/lib/python3.10/dist-packages/monai/transforms/utils.py:743: UserWarning: no available indices of class 7 to crop, setting the crop ratio of this class to zero.\n",
      "  warnings.warn(\n",
      "/usr/local/lib/python3.10/dist-packages/monai/transforms/utils.py:743: UserWarning: no available indices of class 2 to crop, setting the crop ratio of this class to zero.\n",
      "  warnings.warn(\n",
      "/usr/local/lib/python3.10/dist-packages/monai/transforms/utils.py:743: UserWarning: no available indices of class 7 to crop, setting the crop ratio of this class to zero.\n",
      "  warnings.warn(\n"
     ]
    },
    {
     "name": "stdout",
     "output_type": "stream",
     "text": [
      "Batch 1/10, train_loss: 0.7437\n",
      "Batch 2/10, train_loss: 0.7876\n",
      "Batch 3/10, train_loss: 0.7500\n",
      "Batch 4/10, train_loss: 0.7864\n",
      "Batch 5/10, train_loss: 0.7263\n",
      "Batch 6/10, train_loss: 0.7560\n",
      "Batch 7/10, train_loss: 0.7422\n",
      "Batch 8/10, train_loss: 0.7703\n",
      "Batch 9/10, train_loss: 0.7623\n",
      "Batch 10/10, train_loss: 0.7544\n",
      "Epoch 53 average loss: 0.7579\n",
      "----------\n",
      "Epoch 54/200\n"
     ]
    },
    {
     "name": "stderr",
     "output_type": "stream",
     "text": [
      "/usr/local/lib/python3.10/dist-packages/monai/transforms/utils.py:743: UserWarning: no available indices of class 2 to crop, setting the crop ratio of this class to zero.\n",
      "  warnings.warn(\n",
      "/usr/local/lib/python3.10/dist-packages/monai/transforms/utils.py:743: UserWarning: no available indices of class 7 to crop, setting the crop ratio of this class to zero.\n",
      "  warnings.warn(\n",
      "/usr/local/lib/python3.10/dist-packages/monai/transforms/utils.py:743: UserWarning: no available indices of class 2 to crop, setting the crop ratio of this class to zero.\n",
      "  warnings.warn(\n",
      "/usr/local/lib/python3.10/dist-packages/monai/transforms/utils.py:743: UserWarning: no available indices of class 7 to crop, setting the crop ratio of this class to zero.\n",
      "  warnings.warn(\n",
      "/usr/local/lib/python3.10/dist-packages/monai/transforms/utils.py:743: UserWarning: no available indices of class 2 to crop, setting the crop ratio of this class to zero.\n",
      "  warnings.warn(\n",
      "/usr/local/lib/python3.10/dist-packages/monai/transforms/utils.py:743: UserWarning: no available indices of class 7 to crop, setting the crop ratio of this class to zero.\n",
      "  warnings.warn(\n",
      "/usr/local/lib/python3.10/dist-packages/monai/transforms/utils.py:743: UserWarning: no available indices of class 2 to crop, setting the crop ratio of this class to zero.\n",
      "  warnings.warn(\n",
      "/usr/local/lib/python3.10/dist-packages/monai/transforms/utils.py:743: UserWarning: no available indices of class 7 to crop, setting the crop ratio of this class to zero.\n",
      "  warnings.warn(\n"
     ]
    },
    {
     "name": "stdout",
     "output_type": "stream",
     "text": [
      "Batch 1/10, train_loss: 0.7793\n",
      "Batch 2/10, train_loss: 0.7475\n",
      "Batch 3/10, train_loss: 0.7628\n",
      "Batch 4/10, train_loss: 0.7443\n",
      "Batch 5/10, train_loss: 0.7550\n",
      "Batch 6/10, train_loss: 0.7565\n",
      "Batch 7/10, train_loss: 0.7843\n",
      "Batch 8/10, train_loss: 0.7623\n",
      "Batch 9/10, train_loss: 0.7321\n",
      "Batch 10/10, train_loss: 0.7548\n",
      "Epoch 54 average loss: 0.7579\n"
     ]
    },
    {
     "name": "stderr",
     "output_type": "stream",
     "text": [
      "/usr/local/lib/python3.10/dist-packages/monai/transforms/utils.py:743: UserWarning: no available indices of class 2 to crop, setting the crop ratio of this class to zero.\n",
      "  warnings.warn(\n",
      "/usr/local/lib/python3.10/dist-packages/monai/transforms/utils.py:743: UserWarning: no available indices of class 7 to crop, setting the crop ratio of this class to zero.\n",
      "  warnings.warn(\n",
      "/usr/local/lib/python3.10/dist-packages/monai/transforms/utils.py:743: UserWarning: no available indices of class 2 to crop, setting the crop ratio of this class to zero.\n",
      "  warnings.warn(\n",
      "/usr/local/lib/python3.10/dist-packages/monai/transforms/utils.py:743: UserWarning: no available indices of class 7 to crop, setting the crop ratio of this class to zero.\n",
      "  warnings.warn(\n"
     ]
    },
    {
     "name": "stdout",
     "output_type": "stream",
     "text": [
      "saved new best metric model\n",
      "current epoch: 54 current mean recall per class: 0.3435, 0, 0.248, 0.5219, 0.3097, 0.4359, 0\n",
      "best mean recall: 0.2656 at epoch: 54\n",
      "----------\n",
      "Epoch 55/200\n"
     ]
    },
    {
     "name": "stderr",
     "output_type": "stream",
     "text": [
      "/usr/local/lib/python3.10/dist-packages/monai/transforms/utils.py:743: UserWarning: no available indices of class 2 to crop, setting the crop ratio of this class to zero.\n",
      "  warnings.warn(\n",
      "/usr/local/lib/python3.10/dist-packages/monai/transforms/utils.py:743: UserWarning: no available indices of class 2 to crop, setting the crop ratio of this class to zero.\n",
      "  warnings.warn(\n",
      "/usr/local/lib/python3.10/dist-packages/monai/transforms/utils.py:743: UserWarning: no available indices of class 7 to crop, setting the crop ratio of this class to zero.\n",
      "  warnings.warn(\n",
      "/usr/local/lib/python3.10/dist-packages/monai/transforms/utils.py:743: UserWarning: no available indices of class 7 to crop, setting the crop ratio of this class to zero.\n",
      "  warnings.warn(\n",
      "/usr/local/lib/python3.10/dist-packages/monai/transforms/utils.py:743: UserWarning: no available indices of class 2 to crop, setting the crop ratio of this class to zero.\n",
      "  warnings.warn(\n",
      "/usr/local/lib/python3.10/dist-packages/monai/transforms/utils.py:743: UserWarning: no available indices of class 7 to crop, setting the crop ratio of this class to zero.\n",
      "  warnings.warn(\n",
      "/usr/local/lib/python3.10/dist-packages/monai/transforms/utils.py:743: UserWarning: no available indices of class 2 to crop, setting the crop ratio of this class to zero.\n",
      "  warnings.warn(\n",
      "/usr/local/lib/python3.10/dist-packages/monai/transforms/utils.py:743: UserWarning: no available indices of class 7 to crop, setting the crop ratio of this class to zero.\n",
      "  warnings.warn(\n"
     ]
    },
    {
     "name": "stdout",
     "output_type": "stream",
     "text": [
      "Batch 1/10, train_loss: 0.7421\n",
      "Batch 2/10, train_loss: 0.7748\n",
      "Batch 3/10, train_loss: 0.7388\n",
      "Batch 4/10, train_loss: 0.7809\n",
      "Batch 5/10, train_loss: 0.7750\n",
      "Batch 6/10, train_loss: 0.7790\n",
      "Batch 7/10, train_loss: 0.7462\n",
      "Batch 8/10, train_loss: 0.7490\n",
      "Batch 9/10, train_loss: 0.7760\n",
      "Batch 10/10, train_loss: 0.7815\n",
      "Epoch 55 average loss: 0.7643\n",
      "----------\n",
      "Epoch 56/200\n"
     ]
    },
    {
     "name": "stderr",
     "output_type": "stream",
     "text": [
      "/usr/local/lib/python3.10/dist-packages/monai/transforms/utils.py:743: UserWarning: no available indices of class 2 to crop, setting the crop ratio of this class to zero.\n",
      "  warnings.warn(\n",
      "/usr/local/lib/python3.10/dist-packages/monai/transforms/utils.py:743: UserWarning: no available indices of class 7 to crop, setting the crop ratio of this class to zero.\n",
      "  warnings.warn(\n",
      "/usr/local/lib/python3.10/dist-packages/monai/transforms/utils.py:743: UserWarning: no available indices of class 2 to crop, setting the crop ratio of this class to zero.\n",
      "  warnings.warn(\n",
      "/usr/local/lib/python3.10/dist-packages/monai/transforms/utils.py:743: UserWarning: no available indices of class 7 to crop, setting the crop ratio of this class to zero.\n",
      "  warnings.warn(\n",
      "/usr/local/lib/python3.10/dist-packages/monai/transforms/utils.py:743: UserWarning: no available indices of class 2 to crop, setting the crop ratio of this class to zero.\n",
      "  warnings.warn(\n",
      "/usr/local/lib/python3.10/dist-packages/monai/transforms/utils.py:743: UserWarning: no available indices of class 7 to crop, setting the crop ratio of this class to zero.\n",
      "  warnings.warn(\n",
      "/usr/local/lib/python3.10/dist-packages/monai/transforms/utils.py:743: UserWarning: no available indices of class 2 to crop, setting the crop ratio of this class to zero.\n",
      "  warnings.warn(\n",
      "/usr/local/lib/python3.10/dist-packages/monai/transforms/utils.py:743: UserWarning: no available indices of class 7 to crop, setting the crop ratio of this class to zero.\n",
      "  warnings.warn(\n"
     ]
    },
    {
     "name": "stdout",
     "output_type": "stream",
     "text": [
      "Batch 1/10, train_loss: 0.7728\n",
      "Batch 2/10, train_loss: 0.7923\n",
      "Batch 3/10, train_loss: 0.7616\n",
      "Batch 4/10, train_loss: 0.7852\n",
      "Batch 5/10, train_loss: 0.7586\n",
      "Batch 6/10, train_loss: 0.7758\n",
      "Batch 7/10, train_loss: 0.7651\n",
      "Batch 8/10, train_loss: 0.7760\n",
      "Batch 9/10, train_loss: 0.7484\n",
      "Batch 10/10, train_loss: 0.7635\n",
      "Epoch 56 average loss: 0.7699\n"
     ]
    },
    {
     "name": "stderr",
     "output_type": "stream",
     "text": [
      "/usr/local/lib/python3.10/dist-packages/monai/transforms/utils.py:743: UserWarning: no available indices of class 2 to crop, setting the crop ratio of this class to zero.\n",
      "  warnings.warn(\n",
      "/usr/local/lib/python3.10/dist-packages/monai/transforms/utils.py:743: UserWarning: no available indices of class 7 to crop, setting the crop ratio of this class to zero.\n",
      "  warnings.warn(\n",
      "/usr/local/lib/python3.10/dist-packages/monai/transforms/utils.py:743: UserWarning: no available indices of class 2 to crop, setting the crop ratio of this class to zero.\n",
      "  warnings.warn(\n",
      "/usr/local/lib/python3.10/dist-packages/monai/transforms/utils.py:743: UserWarning: no available indices of class 7 to crop, setting the crop ratio of this class to zero.\n",
      "  warnings.warn(\n"
     ]
    },
    {
     "name": "stdout",
     "output_type": "stream",
     "text": [
      "current epoch: 56 current mean recall per class: 0.2107, 0, 0.1294, 0.5368, 0.2202, 0.4037, 0\n",
      "best mean recall: 0.2656 at epoch: 54\n",
      "----------\n",
      "Epoch 57/200\n"
     ]
    },
    {
     "name": "stderr",
     "output_type": "stream",
     "text": [
      "/usr/local/lib/python3.10/dist-packages/monai/transforms/utils.py:743: UserWarning: no available indices of class 2 to crop, setting the crop ratio of this class to zero.\n",
      "  warnings.warn(\n",
      "/usr/local/lib/python3.10/dist-packages/monai/transforms/utils.py:743: UserWarning: no available indices of class 7 to crop, setting the crop ratio of this class to zero.\n",
      "  warnings.warn(\n",
      "/usr/local/lib/python3.10/dist-packages/monai/transforms/utils.py:743: UserWarning: no available indices of class 2 to crop, setting the crop ratio of this class to zero.\n",
      "  warnings.warn(\n",
      "/usr/local/lib/python3.10/dist-packages/monai/transforms/utils.py:743: UserWarning: no available indices of class 2 to crop, setting the crop ratio of this class to zero.\n",
      "  warnings.warn(\n",
      "/usr/local/lib/python3.10/dist-packages/monai/transforms/utils.py:743: UserWarning: no available indices of class 7 to crop, setting the crop ratio of this class to zero.\n",
      "  warnings.warn(\n",
      "/usr/local/lib/python3.10/dist-packages/monai/transforms/utils.py:743: UserWarning: no available indices of class 2 to crop, setting the crop ratio of this class to zero.\n",
      "  warnings.warn(\n",
      "/usr/local/lib/python3.10/dist-packages/monai/transforms/utils.py:743: UserWarning: no available indices of class 7 to crop, setting the crop ratio of this class to zero.\n",
      "  warnings.warn(\n",
      "/usr/local/lib/python3.10/dist-packages/monai/transforms/utils.py:743: UserWarning: no available indices of class 7 to crop, setting the crop ratio of this class to zero.\n",
      "  warnings.warn(\n"
     ]
    },
    {
     "name": "stdout",
     "output_type": "stream",
     "text": [
      "Batch 1/10, train_loss: 0.7599\n",
      "Batch 2/10, train_loss: 0.7650\n",
      "Batch 3/10, train_loss: 0.7509\n",
      "Batch 4/10, train_loss: 0.7607\n",
      "Batch 5/10, train_loss: 0.7518\n",
      "Batch 6/10, train_loss: 0.7722\n",
      "Batch 7/10, train_loss: 0.7562\n",
      "Batch 8/10, train_loss: 0.7599\n",
      "Batch 9/10, train_loss: 0.7677\n",
      "Batch 10/10, train_loss: 0.7611\n",
      "Epoch 57 average loss: 0.7605\n",
      "----------\n",
      "Epoch 58/200\n"
     ]
    },
    {
     "name": "stderr",
     "output_type": "stream",
     "text": [
      "/usr/local/lib/python3.10/dist-packages/monai/transforms/utils.py:743: UserWarning: no available indices of class 2 to crop, setting the crop ratio of this class to zero.\n",
      "  warnings.warn(\n",
      "/usr/local/lib/python3.10/dist-packages/monai/transforms/utils.py:743: UserWarning: no available indices of class 7 to crop, setting the crop ratio of this class to zero.\n",
      "  warnings.warn(\n",
      "/usr/local/lib/python3.10/dist-packages/monai/transforms/utils.py:743: UserWarning: no available indices of class 2 to crop, setting the crop ratio of this class to zero.\n",
      "  warnings.warn(\n",
      "/usr/local/lib/python3.10/dist-packages/monai/transforms/utils.py:743: UserWarning: no available indices of class 7 to crop, setting the crop ratio of this class to zero.\n",
      "  warnings.warn(\n",
      "/usr/local/lib/python3.10/dist-packages/monai/transforms/utils.py:743: UserWarning: no available indices of class 2 to crop, setting the crop ratio of this class to zero.\n",
      "  warnings.warn(\n",
      "/usr/local/lib/python3.10/dist-packages/monai/transforms/utils.py:743: UserWarning: no available indices of class 7 to crop, setting the crop ratio of this class to zero.\n",
      "  warnings.warn(\n",
      "/usr/local/lib/python3.10/dist-packages/monai/transforms/utils.py:743: UserWarning: no available indices of class 2 to crop, setting the crop ratio of this class to zero.\n",
      "  warnings.warn(\n",
      "/usr/local/lib/python3.10/dist-packages/monai/transforms/utils.py:743: UserWarning: no available indices of class 7 to crop, setting the crop ratio of this class to zero.\n",
      "  warnings.warn(\n"
     ]
    },
    {
     "name": "stdout",
     "output_type": "stream",
     "text": [
      "Batch 1/10, train_loss: 0.7824\n",
      "Batch 2/10, train_loss: 0.7395\n",
      "Batch 3/10, train_loss: 0.7513\n",
      "Batch 4/10, train_loss: 0.7229\n",
      "Batch 5/10, train_loss: 0.7462\n",
      "Batch 6/10, train_loss: 0.7709\n",
      "Batch 7/10, train_loss: 0.7832\n",
      "Batch 8/10, train_loss: 0.7553\n",
      "Batch 9/10, train_loss: 0.7385\n",
      "Batch 10/10, train_loss: 0.7313\n",
      "Epoch 58 average loss: 0.7522\n"
     ]
    },
    {
     "name": "stderr",
     "output_type": "stream",
     "text": [
      "/usr/local/lib/python3.10/dist-packages/monai/transforms/utils.py:743: UserWarning: no available indices of class 2 to crop, setting the crop ratio of this class to zero.\n",
      "  warnings.warn(\n",
      "/usr/local/lib/python3.10/dist-packages/monai/transforms/utils.py:743: UserWarning: no available indices of class 7 to crop, setting the crop ratio of this class to zero.\n",
      "  warnings.warn(\n",
      "/usr/local/lib/python3.10/dist-packages/monai/transforms/utils.py:743: UserWarning: no available indices of class 2 to crop, setting the crop ratio of this class to zero.\n",
      "  warnings.warn(\n",
      "/usr/local/lib/python3.10/dist-packages/monai/transforms/utils.py:743: UserWarning: no available indices of class 7 to crop, setting the crop ratio of this class to zero.\n",
      "  warnings.warn(\n"
     ]
    },
    {
     "name": "stdout",
     "output_type": "stream",
     "text": [
      "current epoch: 58 current mean recall per class: 0.2936, 0, 0.1848, 0.5178, 0.2513, 0.4317, 0\n",
      "best mean recall: 0.2656 at epoch: 54\n",
      "----------\n",
      "Epoch 59/200\n"
     ]
    },
    {
     "name": "stderr",
     "output_type": "stream",
     "text": [
      "/usr/local/lib/python3.10/dist-packages/monai/transforms/utils.py:743: UserWarning: no available indices of class 2 to crop, setting the crop ratio of this class to zero.\n",
      "  warnings.warn(\n",
      "/usr/local/lib/python3.10/dist-packages/monai/transforms/utils.py:743: UserWarning: no available indices of class 7 to crop, setting the crop ratio of this class to zero.\n",
      "  warnings.warn(\n",
      "/usr/local/lib/python3.10/dist-packages/monai/transforms/utils.py:743: UserWarning: no available indices of class 2 to crop, setting the crop ratio of this class to zero.\n",
      "  warnings.warn(\n",
      "/usr/local/lib/python3.10/dist-packages/monai/transforms/utils.py:743: UserWarning: no available indices of class 7 to crop, setting the crop ratio of this class to zero.\n",
      "  warnings.warn(\n",
      "/usr/local/lib/python3.10/dist-packages/monai/transforms/utils.py:743: UserWarning: no available indices of class 2 to crop, setting the crop ratio of this class to zero.\n",
      "  warnings.warn(\n",
      "/usr/local/lib/python3.10/dist-packages/monai/transforms/utils.py:743: UserWarning: no available indices of class 7 to crop, setting the crop ratio of this class to zero.\n",
      "  warnings.warn(\n",
      "/usr/local/lib/python3.10/dist-packages/monai/transforms/utils.py:743: UserWarning: no available indices of class 2 to crop, setting the crop ratio of this class to zero.\n",
      "  warnings.warn(\n",
      "/usr/local/lib/python3.10/dist-packages/monai/transforms/utils.py:743: UserWarning: no available indices of class 7 to crop, setting the crop ratio of this class to zero.\n",
      "  warnings.warn(\n"
     ]
    },
    {
     "name": "stdout",
     "output_type": "stream",
     "text": [
      "Batch 1/10, train_loss: 0.7723\n",
      "Batch 2/10, train_loss: 0.7413\n",
      "Batch 3/10, train_loss: 0.7531\n",
      "Batch 4/10, train_loss: 0.7600\n",
      "Batch 5/10, train_loss: 0.7763\n",
      "Batch 6/10, train_loss: 0.7541\n",
      "Batch 7/10, train_loss: 0.7719\n",
      "Batch 8/10, train_loss: 0.7377\n",
      "Batch 9/10, train_loss: 0.8108\n",
      "Batch 10/10, train_loss: 0.7634\n",
      "Epoch 59 average loss: 0.7641\n",
      "----------\n",
      "Epoch 60/200\n"
     ]
    },
    {
     "name": "stderr",
     "output_type": "stream",
     "text": [
      "/usr/local/lib/python3.10/dist-packages/monai/transforms/utils.py:743: UserWarning: no available indices of class 2 to crop, setting the crop ratio of this class to zero.\n",
      "  warnings.warn(\n",
      "/usr/local/lib/python3.10/dist-packages/monai/transforms/utils.py:743: UserWarning: no available indices of class 7 to crop, setting the crop ratio of this class to zero.\n",
      "  warnings.warn(\n",
      "/usr/local/lib/python3.10/dist-packages/monai/transforms/utils.py:743: UserWarning: no available indices of class 2 to crop, setting the crop ratio of this class to zero.\n",
      "  warnings.warn(\n",
      "/usr/local/lib/python3.10/dist-packages/monai/transforms/utils.py:743: UserWarning: no available indices of class 2 to crop, setting the crop ratio of this class to zero.\n",
      "  warnings.warn(\n",
      "/usr/local/lib/python3.10/dist-packages/monai/transforms/utils.py:743: UserWarning: no available indices of class 7 to crop, setting the crop ratio of this class to zero.\n",
      "  warnings.warn(\n",
      "/usr/local/lib/python3.10/dist-packages/monai/transforms/utils.py:743: UserWarning: no available indices of class 2 to crop, setting the crop ratio of this class to zero.\n",
      "  warnings.warn(\n",
      "/usr/local/lib/python3.10/dist-packages/monai/transforms/utils.py:743: UserWarning: no available indices of class 7 to crop, setting the crop ratio of this class to zero.\n",
      "  warnings.warn(\n",
      "/usr/local/lib/python3.10/dist-packages/monai/transforms/utils.py:743: UserWarning: no available indices of class 7 to crop, setting the crop ratio of this class to zero.\n",
      "  warnings.warn(\n"
     ]
    },
    {
     "name": "stdout",
     "output_type": "stream",
     "text": [
      "Batch 1/10, train_loss: 0.7228\n",
      "Batch 2/10, train_loss: 0.7678\n",
      "Batch 3/10, train_loss: 0.7365\n",
      "Batch 4/10, train_loss: 0.7582\n",
      "Batch 5/10, train_loss: 0.7852\n",
      "Batch 6/10, train_loss: 0.7360\n",
      "Batch 7/10, train_loss: 0.7637\n",
      "Batch 8/10, train_loss: 0.7442\n",
      "Batch 9/10, train_loss: 0.7842\n",
      "Batch 10/10, train_loss: 0.7611\n",
      "Epoch 60 average loss: 0.7560\n"
     ]
    },
    {
     "name": "stderr",
     "output_type": "stream",
     "text": [
      "/usr/local/lib/python3.10/dist-packages/monai/transforms/utils.py:743: UserWarning: no available indices of class 2 to crop, setting the crop ratio of this class to zero.\n",
      "  warnings.warn(\n",
      "/usr/local/lib/python3.10/dist-packages/monai/transforms/utils.py:743: UserWarning: no available indices of class 7 to crop, setting the crop ratio of this class to zero.\n",
      "  warnings.warn(\n",
      "/usr/local/lib/python3.10/dist-packages/monai/transforms/utils.py:743: UserWarning: no available indices of class 2 to crop, setting the crop ratio of this class to zero.\n",
      "  warnings.warn(\n",
      "/usr/local/lib/python3.10/dist-packages/monai/transforms/utils.py:743: UserWarning: no available indices of class 7 to crop, setting the crop ratio of this class to zero.\n",
      "  warnings.warn(\n"
     ]
    },
    {
     "name": "stdout",
     "output_type": "stream",
     "text": [
      "current epoch: 60 current mean recall per class: 0.3597, 0, 0.2447, 0.4876, 0.2873, 0.3577, 0\n",
      "best mean recall: 0.2656 at epoch: 54\n",
      "----------\n",
      "Epoch 61/200\n"
     ]
    },
    {
     "name": "stderr",
     "output_type": "stream",
     "text": [
      "/usr/local/lib/python3.10/dist-packages/monai/transforms/utils.py:743: UserWarning: no available indices of class 2 to crop, setting the crop ratio of this class to zero.\n",
      "  warnings.warn(\n",
      "/usr/local/lib/python3.10/dist-packages/monai/transforms/utils.py:743: UserWarning: no available indices of class 7 to crop, setting the crop ratio of this class to zero.\n",
      "  warnings.warn(\n",
      "/usr/local/lib/python3.10/dist-packages/monai/transforms/utils.py:743: UserWarning: no available indices of class 2 to crop, setting the crop ratio of this class to zero.\n",
      "  warnings.warn(\n",
      "/usr/local/lib/python3.10/dist-packages/monai/transforms/utils.py:743: UserWarning: no available indices of class 2 to crop, setting the crop ratio of this class to zero.\n",
      "  warnings.warn(\n",
      "/usr/local/lib/python3.10/dist-packages/monai/transforms/utils.py:743: UserWarning: no available indices of class 7 to crop, setting the crop ratio of this class to zero.\n",
      "  warnings.warn(\n",
      "/usr/local/lib/python3.10/dist-packages/monai/transforms/utils.py:743: UserWarning: no available indices of class 7 to crop, setting the crop ratio of this class to zero.\n",
      "  warnings.warn(\n",
      "/usr/local/lib/python3.10/dist-packages/monai/transforms/utils.py:743: UserWarning: no available indices of class 2 to crop, setting the crop ratio of this class to zero.\n",
      "  warnings.warn(\n",
      "/usr/local/lib/python3.10/dist-packages/monai/transforms/utils.py:743: UserWarning: no available indices of class 7 to crop, setting the crop ratio of this class to zero.\n",
      "  warnings.warn(\n"
     ]
    },
    {
     "name": "stdout",
     "output_type": "stream",
     "text": [
      "Batch 1/10, train_loss: 0.7520\n",
      "Batch 2/10, train_loss: 0.7683\n",
      "Batch 3/10, train_loss: 0.7510\n",
      "Batch 4/10, train_loss: 0.7393\n",
      "Batch 5/10, train_loss: 0.7575\n",
      "Batch 6/10, train_loss: 0.7267\n",
      "Batch 7/10, train_loss: 0.7332\n",
      "Batch 8/10, train_loss: 0.7286\n",
      "Batch 9/10, train_loss: 0.7723\n",
      "Batch 10/10, train_loss: 0.7725\n",
      "Epoch 61 average loss: 0.7501\n",
      "----------\n",
      "Epoch 62/200\n"
     ]
    },
    {
     "name": "stderr",
     "output_type": "stream",
     "text": [
      "/usr/local/lib/python3.10/dist-packages/monai/transforms/utils.py:743: UserWarning: no available indices of class 2 to crop, setting the crop ratio of this class to zero.\n",
      "  warnings.warn(\n",
      "/usr/local/lib/python3.10/dist-packages/monai/transforms/utils.py:743: UserWarning: no available indices of class 7 to crop, setting the crop ratio of this class to zero.\n",
      "  warnings.warn(\n",
      "/usr/local/lib/python3.10/dist-packages/monai/transforms/utils.py:743: UserWarning: no available indices of class 2 to crop, setting the crop ratio of this class to zero.\n",
      "  warnings.warn(\n",
      "/usr/local/lib/python3.10/dist-packages/monai/transforms/utils.py:743: UserWarning: no available indices of class 7 to crop, setting the crop ratio of this class to zero.\n",
      "  warnings.warn(\n",
      "/usr/local/lib/python3.10/dist-packages/monai/transforms/utils.py:743: UserWarning: no available indices of class 2 to crop, setting the crop ratio of this class to zero.\n",
      "  warnings.warn(\n",
      "/usr/local/lib/python3.10/dist-packages/monai/transforms/utils.py:743: UserWarning: no available indices of class 7 to crop, setting the crop ratio of this class to zero.\n",
      "  warnings.warn(\n",
      "/usr/local/lib/python3.10/dist-packages/monai/transforms/utils.py:743: UserWarning: no available indices of class 2 to crop, setting the crop ratio of this class to zero.\n",
      "  warnings.warn(\n",
      "/usr/local/lib/python3.10/dist-packages/monai/transforms/utils.py:743: UserWarning: no available indices of class 7 to crop, setting the crop ratio of this class to zero.\n",
      "  warnings.warn(\n"
     ]
    },
    {
     "name": "stdout",
     "output_type": "stream",
     "text": [
      "Batch 1/10, train_loss: 0.7402\n",
      "Batch 2/10, train_loss: 0.7671\n",
      "Batch 3/10, train_loss: 0.7635\n",
      "Batch 4/10, train_loss: 0.7776\n",
      "Batch 5/10, train_loss: 0.7632\n",
      "Batch 6/10, train_loss: 0.7636\n",
      "Batch 7/10, train_loss: 0.7573\n",
      "Batch 8/10, train_loss: 0.7791\n",
      "Batch 9/10, train_loss: 0.7543\n",
      "Batch 10/10, train_loss: 0.7467\n",
      "Epoch 62 average loss: 0.7613\n"
     ]
    },
    {
     "name": "stderr",
     "output_type": "stream",
     "text": [
      "/usr/local/lib/python3.10/dist-packages/monai/transforms/utils.py:743: UserWarning: no available indices of class 2 to crop, setting the crop ratio of this class to zero.\n",
      "  warnings.warn(\n",
      "/usr/local/lib/python3.10/dist-packages/monai/transforms/utils.py:743: UserWarning: no available indices of class 2 to crop, setting the crop ratio of this class to zero.\n",
      "  warnings.warn(\n",
      "/usr/local/lib/python3.10/dist-packages/monai/transforms/utils.py:743: UserWarning: no available indices of class 7 to crop, setting the crop ratio of this class to zero.\n",
      "  warnings.warn(\n",
      "/usr/local/lib/python3.10/dist-packages/monai/transforms/utils.py:743: UserWarning: no available indices of class 7 to crop, setting the crop ratio of this class to zero.\n",
      "  warnings.warn(\n"
     ]
    },
    {
     "name": "stdout",
     "output_type": "stream",
     "text": [
      "saved new best metric model\n",
      "current epoch: 62 current mean recall per class: 0.399, 0, 0.2127, 0.595, 0.2383, 0.4312, 0\n",
      "best mean recall: 0.2680 at epoch: 62\n",
      "----------\n",
      "Epoch 63/200\n"
     ]
    },
    {
     "name": "stderr",
     "output_type": "stream",
     "text": [
      "/usr/local/lib/python3.10/dist-packages/monai/transforms/utils.py:743: UserWarning: no available indices of class 2 to crop, setting the crop ratio of this class to zero.\n",
      "  warnings.warn(\n",
      "/usr/local/lib/python3.10/dist-packages/monai/transforms/utils.py:743: UserWarning: no available indices of class 7 to crop, setting the crop ratio of this class to zero.\n",
      "  warnings.warn(\n",
      "/usr/local/lib/python3.10/dist-packages/monai/transforms/utils.py:743: UserWarning: no available indices of class 2 to crop, setting the crop ratio of this class to zero.\n",
      "  warnings.warn(\n",
      "/usr/local/lib/python3.10/dist-packages/monai/transforms/utils.py:743: UserWarning: no available indices of class 2 to crop, setting the crop ratio of this class to zero.\n",
      "  warnings.warn(\n",
      "/usr/local/lib/python3.10/dist-packages/monai/transforms/utils.py:743: UserWarning: no available indices of class 2 to crop, setting the crop ratio of this class to zero.\n",
      "  warnings.warn(\n",
      "/usr/local/lib/python3.10/dist-packages/monai/transforms/utils.py:743: UserWarning: no available indices of class 7 to crop, setting the crop ratio of this class to zero.\n",
      "  warnings.warn(\n",
      "/usr/local/lib/python3.10/dist-packages/monai/transforms/utils.py:743: UserWarning: no available indices of class 7 to crop, setting the crop ratio of this class to zero.\n",
      "  warnings.warn(\n",
      "/usr/local/lib/python3.10/dist-packages/monai/transforms/utils.py:743: UserWarning: no available indices of class 7 to crop, setting the crop ratio of this class to zero.\n",
      "  warnings.warn(\n"
     ]
    },
    {
     "name": "stdout",
     "output_type": "stream",
     "text": [
      "Batch 1/10, train_loss: 0.7526\n",
      "Batch 2/10, train_loss: 0.7705\n",
      "Batch 3/10, train_loss: 0.7663\n",
      "Batch 4/10, train_loss: 0.7919\n",
      "Batch 5/10, train_loss: 0.7273\n",
      "Batch 6/10, train_loss: 0.7450\n",
      "Batch 7/10, train_loss: 0.7850\n",
      "Batch 8/10, train_loss: 0.7121\n",
      "Batch 9/10, train_loss: 0.7621\n",
      "Batch 10/10, train_loss: 0.7686\n",
      "Epoch 63 average loss: 0.7581\n",
      "----------\n",
      "Epoch 64/200\n"
     ]
    },
    {
     "name": "stderr",
     "output_type": "stream",
     "text": [
      "/usr/local/lib/python3.10/dist-packages/monai/transforms/utils.py:743: UserWarning: no available indices of class 2 to crop, setting the crop ratio of this class to zero.\n",
      "  warnings.warn(\n",
      "/usr/local/lib/python3.10/dist-packages/monai/transforms/utils.py:743: UserWarning: no available indices of class 7 to crop, setting the crop ratio of this class to zero.\n",
      "  warnings.warn(\n",
      "/usr/local/lib/python3.10/dist-packages/monai/transforms/utils.py:743: UserWarning: no available indices of class 2 to crop, setting the crop ratio of this class to zero.\n",
      "  warnings.warn(\n",
      "/usr/local/lib/python3.10/dist-packages/monai/transforms/utils.py:743: UserWarning: no available indices of class 7 to crop, setting the crop ratio of this class to zero.\n",
      "  warnings.warn(\n",
      "/usr/local/lib/python3.10/dist-packages/monai/transforms/utils.py:743: UserWarning: no available indices of class 2 to crop, setting the crop ratio of this class to zero.\n",
      "  warnings.warn(\n",
      "/usr/local/lib/python3.10/dist-packages/monai/transforms/utils.py:743: UserWarning: no available indices of class 2 to crop, setting the crop ratio of this class to zero.\n",
      "  warnings.warn(\n",
      "/usr/local/lib/python3.10/dist-packages/monai/transforms/utils.py:743: UserWarning: no available indices of class 7 to crop, setting the crop ratio of this class to zero.\n",
      "  warnings.warn(\n",
      "/usr/local/lib/python3.10/dist-packages/monai/transforms/utils.py:743: UserWarning: no available indices of class 7 to crop, setting the crop ratio of this class to zero.\n",
      "  warnings.warn(\n"
     ]
    },
    {
     "name": "stdout",
     "output_type": "stream",
     "text": [
      "Batch 1/10, train_loss: 0.7501\n",
      "Batch 2/10, train_loss: 0.7813\n",
      "Batch 3/10, train_loss: 0.7189\n",
      "Batch 4/10, train_loss: 0.7369\n",
      "Batch 5/10, train_loss: 0.7488\n",
      "Batch 6/10, train_loss: 0.7568\n",
      "Batch 7/10, train_loss: 0.7499\n",
      "Batch 8/10, train_loss: 0.7069\n",
      "Batch 9/10, train_loss: 0.7295\n",
      "Batch 10/10, train_loss: 0.7781\n",
      "Epoch 64 average loss: 0.7457\n"
     ]
    },
    {
     "name": "stderr",
     "output_type": "stream",
     "text": [
      "/usr/local/lib/python3.10/dist-packages/monai/transforms/utils.py:743: UserWarning: no available indices of class 2 to crop, setting the crop ratio of this class to zero.\n",
      "  warnings.warn(\n",
      "/usr/local/lib/python3.10/dist-packages/monai/transforms/utils.py:743: UserWarning: no available indices of class 7 to crop, setting the crop ratio of this class to zero.\n",
      "  warnings.warn(\n",
      "/usr/local/lib/python3.10/dist-packages/monai/transforms/utils.py:743: UserWarning: no available indices of class 2 to crop, setting the crop ratio of this class to zero.\n",
      "  warnings.warn(\n",
      "/usr/local/lib/python3.10/dist-packages/monai/transforms/utils.py:743: UserWarning: no available indices of class 7 to crop, setting the crop ratio of this class to zero.\n",
      "  warnings.warn(\n"
     ]
    },
    {
     "name": "stdout",
     "output_type": "stream",
     "text": [
      "current epoch: 64 current mean recall per class: 0.4383, 0, 0.2462, 0.5688, 0.2457, 0.338, 0\n",
      "best mean recall: 0.2680 at epoch: 62\n",
      "----------\n",
      "Epoch 65/200\n"
     ]
    },
    {
     "name": "stderr",
     "output_type": "stream",
     "text": [
      "/usr/local/lib/python3.10/dist-packages/monai/transforms/utils.py:743: UserWarning: no available indices of class 2 to crop, setting the crop ratio of this class to zero.\n",
      "  warnings.warn(\n",
      "/usr/local/lib/python3.10/dist-packages/monai/transforms/utils.py:743: UserWarning: no available indices of class 7 to crop, setting the crop ratio of this class to zero.\n",
      "  warnings.warn(\n",
      "/usr/local/lib/python3.10/dist-packages/monai/transforms/utils.py:743: UserWarning: no available indices of class 2 to crop, setting the crop ratio of this class to zero.\n",
      "  warnings.warn(\n",
      "/usr/local/lib/python3.10/dist-packages/monai/transforms/utils.py:743: UserWarning: no available indices of class 7 to crop, setting the crop ratio of this class to zero.\n",
      "  warnings.warn(\n",
      "/usr/local/lib/python3.10/dist-packages/monai/transforms/utils.py:743: UserWarning: no available indices of class 2 to crop, setting the crop ratio of this class to zero.\n",
      "  warnings.warn(\n",
      "/usr/local/lib/python3.10/dist-packages/monai/transforms/utils.py:743: UserWarning: no available indices of class 7 to crop, setting the crop ratio of this class to zero.\n",
      "  warnings.warn(\n",
      "/usr/local/lib/python3.10/dist-packages/monai/transforms/utils.py:743: UserWarning: no available indices of class 2 to crop, setting the crop ratio of this class to zero.\n",
      "  warnings.warn(\n",
      "/usr/local/lib/python3.10/dist-packages/monai/transforms/utils.py:743: UserWarning: no available indices of class 7 to crop, setting the crop ratio of this class to zero.\n",
      "  warnings.warn(\n"
     ]
    },
    {
     "name": "stdout",
     "output_type": "stream",
     "text": [
      "Batch 1/10, train_loss: 0.7599\n",
      "Batch 2/10, train_loss: 0.7276\n",
      "Batch 3/10, train_loss: 0.7362\n",
      "Batch 4/10, train_loss: 0.7405\n",
      "Batch 5/10, train_loss: 0.7624\n",
      "Batch 6/10, train_loss: 0.7774\n",
      "Batch 7/10, train_loss: 0.7364\n",
      "Batch 8/10, train_loss: 0.7551\n",
      "Batch 9/10, train_loss: 0.7503\n",
      "Batch 10/10, train_loss: 0.7559\n",
      "Epoch 65 average loss: 0.7502\n",
      "----------\n",
      "Epoch 66/200\n"
     ]
    },
    {
     "name": "stderr",
     "output_type": "stream",
     "text": [
      "/usr/local/lib/python3.10/dist-packages/monai/transforms/utils.py:743: UserWarning: no available indices of class 2 to crop, setting the crop ratio of this class to zero.\n",
      "  warnings.warn(\n",
      "/usr/local/lib/python3.10/dist-packages/monai/transforms/utils.py:743: UserWarning: no available indices of class 7 to crop, setting the crop ratio of this class to zero.\n",
      "  warnings.warn(\n",
      "/usr/local/lib/python3.10/dist-packages/monai/transforms/utils.py:743: UserWarning: no available indices of class 2 to crop, setting the crop ratio of this class to zero.\n",
      "  warnings.warn(\n",
      "/usr/local/lib/python3.10/dist-packages/monai/transforms/utils.py:743: UserWarning: no available indices of class 7 to crop, setting the crop ratio of this class to zero.\n",
      "  warnings.warn(\n",
      "/usr/local/lib/python3.10/dist-packages/monai/transforms/utils.py:743: UserWarning: no available indices of class 2 to crop, setting the crop ratio of this class to zero.\n",
      "  warnings.warn(\n",
      "/usr/local/lib/python3.10/dist-packages/monai/transforms/utils.py:743: UserWarning: no available indices of class 2 to crop, setting the crop ratio of this class to zero.\n",
      "  warnings.warn(\n",
      "/usr/local/lib/python3.10/dist-packages/monai/transforms/utils.py:743: UserWarning: no available indices of class 7 to crop, setting the crop ratio of this class to zero.\n",
      "  warnings.warn(\n",
      "/usr/local/lib/python3.10/dist-packages/monai/transforms/utils.py:743: UserWarning: no available indices of class 7 to crop, setting the crop ratio of this class to zero.\n",
      "  warnings.warn(\n"
     ]
    },
    {
     "name": "stdout",
     "output_type": "stream",
     "text": [
      "Batch 1/10, train_loss: 0.7623\n",
      "Batch 2/10, train_loss: 0.7679\n",
      "Batch 3/10, train_loss: 0.7513\n",
      "Batch 4/10, train_loss: 0.7314\n",
      "Batch 5/10, train_loss: 0.7628\n",
      "Batch 6/10, train_loss: 0.7318\n",
      "Batch 7/10, train_loss: 0.7357\n",
      "Batch 8/10, train_loss: 0.7307\n",
      "Batch 9/10, train_loss: 0.7436\n",
      "Batch 10/10, train_loss: 0.7296\n",
      "Epoch 66 average loss: 0.7447\n"
     ]
    },
    {
     "name": "stderr",
     "output_type": "stream",
     "text": [
      "/usr/local/lib/python3.10/dist-packages/monai/transforms/utils.py:743: UserWarning: no available indices of class 2 to crop, setting the crop ratio of this class to zero.\n",
      "  warnings.warn(\n",
      "/usr/local/lib/python3.10/dist-packages/monai/transforms/utils.py:743: UserWarning: no available indices of class 7 to crop, setting the crop ratio of this class to zero.\n",
      "  warnings.warn(\n",
      "/usr/local/lib/python3.10/dist-packages/monai/transforms/utils.py:743: UserWarning: no available indices of class 2 to crop, setting the crop ratio of this class to zero.\n",
      "  warnings.warn(\n",
      "/usr/local/lib/python3.10/dist-packages/monai/transforms/utils.py:743: UserWarning: no available indices of class 7 to crop, setting the crop ratio of this class to zero.\n",
      "  warnings.warn(\n"
     ]
    },
    {
     "name": "stdout",
     "output_type": "stream",
     "text": [
      "current epoch: 66 current mean recall per class: 0.5339, 0, 0.1417, 0.4903, 0.272, 0.3928, 0\n",
      "best mean recall: 0.2680 at epoch: 62\n",
      "----------\n",
      "Epoch 67/200\n"
     ]
    },
    {
     "name": "stderr",
     "output_type": "stream",
     "text": [
      "/usr/local/lib/python3.10/dist-packages/monai/transforms/utils.py:743: UserWarning: no available indices of class 2 to crop, setting the crop ratio of this class to zero.\n",
      "  warnings.warn(\n",
      "/usr/local/lib/python3.10/dist-packages/monai/transforms/utils.py:743: UserWarning: no available indices of class 7 to crop, setting the crop ratio of this class to zero.\n",
      "  warnings.warn(\n",
      "/usr/local/lib/python3.10/dist-packages/monai/transforms/utils.py:743: UserWarning: no available indices of class 2 to crop, setting the crop ratio of this class to zero.\n",
      "  warnings.warn(\n",
      "/usr/local/lib/python3.10/dist-packages/monai/transforms/utils.py:743: UserWarning: no available indices of class 7 to crop, setting the crop ratio of this class to zero.\n",
      "  warnings.warn(\n",
      "/usr/local/lib/python3.10/dist-packages/monai/transforms/utils.py:743: UserWarning: no available indices of class 2 to crop, setting the crop ratio of this class to zero.\n",
      "  warnings.warn(\n",
      "/usr/local/lib/python3.10/dist-packages/monai/transforms/utils.py:743: UserWarning: no available indices of class 7 to crop, setting the crop ratio of this class to zero.\n",
      "  warnings.warn(\n",
      "/usr/local/lib/python3.10/dist-packages/monai/transforms/utils.py:743: UserWarning: no available indices of class 2 to crop, setting the crop ratio of this class to zero.\n",
      "  warnings.warn(\n",
      "/usr/local/lib/python3.10/dist-packages/monai/transforms/utils.py:743: UserWarning: no available indices of class 7 to crop, setting the crop ratio of this class to zero.\n",
      "  warnings.warn(\n"
     ]
    },
    {
     "name": "stdout",
     "output_type": "stream",
     "text": [
      "Batch 1/10, train_loss: 0.7532\n",
      "Batch 2/10, train_loss: 0.7137\n",
      "Batch 3/10, train_loss: 0.7649\n",
      "Batch 4/10, train_loss: 0.7134\n",
      "Batch 5/10, train_loss: 0.7490\n",
      "Batch 6/10, train_loss: 0.7454\n",
      "Batch 7/10, train_loss: 0.7399\n",
      "Batch 8/10, train_loss: 0.7547\n",
      "Batch 9/10, train_loss: 0.7259\n",
      "Batch 10/10, train_loss: 0.7324\n",
      "Epoch 67 average loss: 0.7393\n",
      "----------\n",
      "Epoch 68/200\n"
     ]
    },
    {
     "name": "stderr",
     "output_type": "stream",
     "text": [
      "/usr/local/lib/python3.10/dist-packages/monai/transforms/utils.py:743: UserWarning: no available indices of class 2 to crop, setting the crop ratio of this class to zero.\n",
      "  warnings.warn(\n",
      "/usr/local/lib/python3.10/dist-packages/monai/transforms/utils.py:743: UserWarning: no available indices of class 7 to crop, setting the crop ratio of this class to zero.\n",
      "  warnings.warn(\n",
      "/usr/local/lib/python3.10/dist-packages/monai/transforms/utils.py:743: UserWarning: no available indices of class 2 to crop, setting the crop ratio of this class to zero.\n",
      "  warnings.warn(\n",
      "/usr/local/lib/python3.10/dist-packages/monai/transforms/utils.py:743: UserWarning: no available indices of class 7 to crop, setting the crop ratio of this class to zero.\n",
      "  warnings.warn(\n",
      "/usr/local/lib/python3.10/dist-packages/monai/transforms/utils.py:743: UserWarning: no available indices of class 2 to crop, setting the crop ratio of this class to zero.\n",
      "  warnings.warn(\n",
      "/usr/local/lib/python3.10/dist-packages/monai/transforms/utils.py:743: UserWarning: no available indices of class 7 to crop, setting the crop ratio of this class to zero.\n",
      "  warnings.warn(\n",
      "/usr/local/lib/python3.10/dist-packages/monai/transforms/utils.py:743: UserWarning: no available indices of class 2 to crop, setting the crop ratio of this class to zero.\n",
      "  warnings.warn(\n",
      "/usr/local/lib/python3.10/dist-packages/monai/transforms/utils.py:743: UserWarning: no available indices of class 7 to crop, setting the crop ratio of this class to zero.\n",
      "  warnings.warn(\n"
     ]
    },
    {
     "name": "stdout",
     "output_type": "stream",
     "text": [
      "Batch 1/10, train_loss: 0.7756\n",
      "Batch 2/10, train_loss: 0.7326\n",
      "Batch 3/10, train_loss: 0.7697\n",
      "Batch 4/10, train_loss: 0.7475\n",
      "Batch 5/10, train_loss: 0.7564\n",
      "Batch 6/10, train_loss: 0.7423\n",
      "Batch 7/10, train_loss: 0.7670\n",
      "Batch 8/10, train_loss: 0.7641\n",
      "Batch 9/10, train_loss: 0.7123\n",
      "Batch 10/10, train_loss: 0.7446\n",
      "Epoch 68 average loss: 0.7512\n"
     ]
    },
    {
     "name": "stderr",
     "output_type": "stream",
     "text": [
      "/usr/local/lib/python3.10/dist-packages/monai/transforms/utils.py:743: UserWarning: no available indices of class 2 to crop, setting the crop ratio of this class to zero.\n",
      "  warnings.warn(\n",
      "/usr/local/lib/python3.10/dist-packages/monai/transforms/utils.py:743: UserWarning: no available indices of class 7 to crop, setting the crop ratio of this class to zero.\n",
      "  warnings.warn(\n",
      "/usr/local/lib/python3.10/dist-packages/monai/transforms/utils.py:743: UserWarning: no available indices of class 2 to crop, setting the crop ratio of this class to zero.\n",
      "  warnings.warn(\n",
      "/usr/local/lib/python3.10/dist-packages/monai/transforms/utils.py:743: UserWarning: no available indices of class 7 to crop, setting the crop ratio of this class to zero.\n",
      "  warnings.warn(\n"
     ]
    },
    {
     "name": "stdout",
     "output_type": "stream",
     "text": [
      "current epoch: 68 current mean recall per class: 0.4342, 0, 0.1591, 0.4361, 0.2482, 0.4029, 0\n",
      "best mean recall: 0.2680 at epoch: 62\n",
      "----------\n",
      "Epoch 69/200\n"
     ]
    },
    {
     "name": "stderr",
     "output_type": "stream",
     "text": [
      "/usr/local/lib/python3.10/dist-packages/monai/transforms/utils.py:743: UserWarning: no available indices of class 2 to crop, setting the crop ratio of this class to zero.\n",
      "  warnings.warn(\n",
      "/usr/local/lib/python3.10/dist-packages/monai/transforms/utils.py:743: UserWarning: no available indices of class 7 to crop, setting the crop ratio of this class to zero.\n",
      "  warnings.warn(\n",
      "/usr/local/lib/python3.10/dist-packages/monai/transforms/utils.py:743: UserWarning: no available indices of class 2 to crop, setting the crop ratio of this class to zero.\n",
      "  warnings.warn(\n",
      "/usr/local/lib/python3.10/dist-packages/monai/transforms/utils.py:743: UserWarning: no available indices of class 2 to crop, setting the crop ratio of this class to zero.\n",
      "  warnings.warn(\n",
      "/usr/local/lib/python3.10/dist-packages/monai/transforms/utils.py:743: UserWarning: no available indices of class 7 to crop, setting the crop ratio of this class to zero.\n",
      "  warnings.warn(\n",
      "/usr/local/lib/python3.10/dist-packages/monai/transforms/utils.py:743: UserWarning: no available indices of class 2 to crop, setting the crop ratio of this class to zero.\n",
      "  warnings.warn(\n",
      "/usr/local/lib/python3.10/dist-packages/monai/transforms/utils.py:743: UserWarning: no available indices of class 7 to crop, setting the crop ratio of this class to zero.\n",
      "  warnings.warn(\n",
      "/usr/local/lib/python3.10/dist-packages/monai/transforms/utils.py:743: UserWarning: no available indices of class 7 to crop, setting the crop ratio of this class to zero.\n",
      "  warnings.warn(\n"
     ]
    },
    {
     "name": "stdout",
     "output_type": "stream",
     "text": [
      "Batch 1/10, train_loss: 0.7355\n",
      "Batch 2/10, train_loss: 0.7024\n",
      "Batch 3/10, train_loss: 0.7380\n",
      "Batch 4/10, train_loss: 0.7428\n",
      "Batch 5/10, train_loss: 0.7660\n",
      "Batch 6/10, train_loss: 0.7658\n",
      "Batch 7/10, train_loss: 0.7552\n",
      "Batch 8/10, train_loss: 0.7563\n",
      "Batch 9/10, train_loss: 0.7336\n",
      "Batch 10/10, train_loss: 0.7675\n",
      "Epoch 69 average loss: 0.7463\n",
      "----------\n",
      "Epoch 70/200\n"
     ]
    },
    {
     "name": "stderr",
     "output_type": "stream",
     "text": [
      "/usr/local/lib/python3.10/dist-packages/monai/transforms/utils.py:743: UserWarning: no available indices of class 2 to crop, setting the crop ratio of this class to zero.\n",
      "  warnings.warn(\n",
      "/usr/local/lib/python3.10/dist-packages/monai/transforms/utils.py:743: UserWarning: no available indices of class 2 to crop, setting the crop ratio of this class to zero.\n",
      "  warnings.warn(\n",
      "/usr/local/lib/python3.10/dist-packages/monai/transforms/utils.py:743: UserWarning: no available indices of class 2 to crop, setting the crop ratio of this class to zero.\n",
      "  warnings.warn(\n",
      "/usr/local/lib/python3.10/dist-packages/monai/transforms/utils.py:743: UserWarning: no available indices of class 7 to crop, setting the crop ratio of this class to zero.\n",
      "  warnings.warn(\n",
      "/usr/local/lib/python3.10/dist-packages/monai/transforms/utils.py:743: UserWarning: no available indices of class 7 to crop, setting the crop ratio of this class to zero.\n",
      "  warnings.warn(\n",
      "/usr/local/lib/python3.10/dist-packages/monai/transforms/utils.py:743: UserWarning: no available indices of class 7 to crop, setting the crop ratio of this class to zero.\n",
      "  warnings.warn(\n",
      "/usr/local/lib/python3.10/dist-packages/monai/transforms/utils.py:743: UserWarning: no available indices of class 2 to crop, setting the crop ratio of this class to zero.\n",
      "  warnings.warn(\n",
      "/usr/local/lib/python3.10/dist-packages/monai/transforms/utils.py:743: UserWarning: no available indices of class 7 to crop, setting the crop ratio of this class to zero.\n",
      "  warnings.warn(\n"
     ]
    },
    {
     "name": "stdout",
     "output_type": "stream",
     "text": [
      "Batch 1/10, train_loss: 0.7798\n",
      "Batch 2/10, train_loss: 0.7621\n",
      "Batch 3/10, train_loss: 0.7466\n",
      "Batch 4/10, train_loss: 0.7637\n",
      "Batch 5/10, train_loss: 0.7497\n",
      "Batch 6/10, train_loss: 0.7622\n",
      "Batch 7/10, train_loss: 0.7718\n",
      "Batch 8/10, train_loss: 0.7492\n",
      "Batch 9/10, train_loss: 0.7420\n",
      "Batch 10/10, train_loss: 0.7438\n",
      "Epoch 70 average loss: 0.7571\n"
     ]
    },
    {
     "name": "stderr",
     "output_type": "stream",
     "text": [
      "/usr/local/lib/python3.10/dist-packages/monai/transforms/utils.py:743: UserWarning: no available indices of class 2 to crop, setting the crop ratio of this class to zero.\n",
      "  warnings.warn(\n",
      "/usr/local/lib/python3.10/dist-packages/monai/transforms/utils.py:743: UserWarning: no available indices of class 7 to crop, setting the crop ratio of this class to zero.\n",
      "  warnings.warn(\n",
      "/usr/local/lib/python3.10/dist-packages/monai/transforms/utils.py:743: UserWarning: no available indices of class 2 to crop, setting the crop ratio of this class to zero.\n",
      "  warnings.warn(\n",
      "/usr/local/lib/python3.10/dist-packages/monai/transforms/utils.py:743: UserWarning: no available indices of class 7 to crop, setting the crop ratio of this class to zero.\n",
      "  warnings.warn(\n"
     ]
    },
    {
     "name": "stdout",
     "output_type": "stream",
     "text": [
      "saved new best metric model\n",
      "current epoch: 70 current mean recall per class: 0.5618, 0, 0.2495, 0.554, 0.2781, 0.3739, 0\n",
      "best mean recall: 0.2882 at epoch: 70\n",
      "----------\n",
      "Epoch 71/200\n"
     ]
    },
    {
     "name": "stderr",
     "output_type": "stream",
     "text": [
      "/usr/local/lib/python3.10/dist-packages/monai/transforms/utils.py:743: UserWarning: no available indices of class 2 to crop, setting the crop ratio of this class to zero.\n",
      "  warnings.warn(\n",
      "/usr/local/lib/python3.10/dist-packages/monai/transforms/utils.py:743: UserWarning: no available indices of class 7 to crop, setting the crop ratio of this class to zero.\n",
      "  warnings.warn(\n",
      "/usr/local/lib/python3.10/dist-packages/monai/transforms/utils.py:743: UserWarning: no available indices of class 2 to crop, setting the crop ratio of this class to zero.\n",
      "  warnings.warn(\n",
      "/usr/local/lib/python3.10/dist-packages/monai/transforms/utils.py:743: UserWarning: no available indices of class 7 to crop, setting the crop ratio of this class to zero.\n",
      "  warnings.warn(\n",
      "/usr/local/lib/python3.10/dist-packages/monai/transforms/utils.py:743: UserWarning: no available indices of class 2 to crop, setting the crop ratio of this class to zero.\n",
      "  warnings.warn(\n",
      "/usr/local/lib/python3.10/dist-packages/monai/transforms/utils.py:743: UserWarning: no available indices of class 7 to crop, setting the crop ratio of this class to zero.\n",
      "  warnings.warn(\n",
      "/usr/local/lib/python3.10/dist-packages/monai/transforms/utils.py:743: UserWarning: no available indices of class 2 to crop, setting the crop ratio of this class to zero.\n",
      "  warnings.warn(\n",
      "/usr/local/lib/python3.10/dist-packages/monai/transforms/utils.py:743: UserWarning: no available indices of class 7 to crop, setting the crop ratio of this class to zero.\n",
      "  warnings.warn(\n"
     ]
    },
    {
     "name": "stdout",
     "output_type": "stream",
     "text": [
      "Batch 1/10, train_loss: 0.7475\n",
      "Batch 2/10, train_loss: 0.7251\n",
      "Batch 3/10, train_loss: 0.7391\n",
      "Batch 4/10, train_loss: 0.7736\n",
      "Batch 5/10, train_loss: 0.7361\n",
      "Batch 6/10, train_loss: 0.7631\n",
      "Batch 7/10, train_loss: 0.7086\n",
      "Batch 8/10, train_loss: 0.7317\n",
      "Batch 9/10, train_loss: 0.7460\n",
      "Batch 10/10, train_loss: 0.7710\n",
      "Epoch 71 average loss: 0.7442\n",
      "----------\n",
      "Epoch 72/200\n"
     ]
    },
    {
     "name": "stderr",
     "output_type": "stream",
     "text": [
      "/usr/local/lib/python3.10/dist-packages/monai/transforms/utils.py:743: UserWarning: no available indices of class 2 to crop, setting the crop ratio of this class to zero.\n",
      "  warnings.warn(\n",
      "/usr/local/lib/python3.10/dist-packages/monai/transforms/utils.py:743: UserWarning: no available indices of class 7 to crop, setting the crop ratio of this class to zero.\n",
      "  warnings.warn(\n",
      "/usr/local/lib/python3.10/dist-packages/monai/transforms/utils.py:743: UserWarning: no available indices of class 2 to crop, setting the crop ratio of this class to zero.\n",
      "  warnings.warn(\n",
      "/usr/local/lib/python3.10/dist-packages/monai/transforms/utils.py:743: UserWarning: no available indices of class 7 to crop, setting the crop ratio of this class to zero.\n",
      "  warnings.warn(\n",
      "/usr/local/lib/python3.10/dist-packages/monai/transforms/utils.py:743: UserWarning: no available indices of class 2 to crop, setting the crop ratio of this class to zero.\n",
      "  warnings.warn(\n",
      "/usr/local/lib/python3.10/dist-packages/monai/transforms/utils.py:743: UserWarning: no available indices of class 7 to crop, setting the crop ratio of this class to zero.\n",
      "  warnings.warn(\n",
      "/usr/local/lib/python3.10/dist-packages/monai/transforms/utils.py:743: UserWarning: no available indices of class 2 to crop, setting the crop ratio of this class to zero.\n",
      "  warnings.warn(\n",
      "/usr/local/lib/python3.10/dist-packages/monai/transforms/utils.py:743: UserWarning: no available indices of class 7 to crop, setting the crop ratio of this class to zero.\n",
      "  warnings.warn(\n"
     ]
    },
    {
     "name": "stdout",
     "output_type": "stream",
     "text": [
      "Batch 1/10, train_loss: 0.7310\n",
      "Batch 2/10, train_loss: 0.7417\n",
      "Batch 3/10, train_loss: 0.7203\n",
      "Batch 4/10, train_loss: 0.7559\n",
      "Batch 5/10, train_loss: 0.7516\n",
      "Batch 6/10, train_loss: 0.7183\n",
      "Batch 7/10, train_loss: 0.7683\n",
      "Batch 8/10, train_loss: 0.7259\n",
      "Batch 9/10, train_loss: 0.7539\n",
      "Batch 10/10, train_loss: 0.6797\n",
      "Epoch 72 average loss: 0.7347\n"
     ]
    },
    {
     "name": "stderr",
     "output_type": "stream",
     "text": [
      "/usr/local/lib/python3.10/dist-packages/monai/transforms/utils.py:743: UserWarning: no available indices of class 2 to crop, setting the crop ratio of this class to zero.\n",
      "  warnings.warn(\n",
      "/usr/local/lib/python3.10/dist-packages/monai/transforms/utils.py:743: UserWarning: no available indices of class 7 to crop, setting the crop ratio of this class to zero.\n",
      "  warnings.warn(\n",
      "/usr/local/lib/python3.10/dist-packages/monai/transforms/utils.py:743: UserWarning: no available indices of class 2 to crop, setting the crop ratio of this class to zero.\n",
      "  warnings.warn(\n",
      "/usr/local/lib/python3.10/dist-packages/monai/transforms/utils.py:743: UserWarning: no available indices of class 7 to crop, setting the crop ratio of this class to zero.\n",
      "  warnings.warn(\n"
     ]
    },
    {
     "name": "stdout",
     "output_type": "stream",
     "text": [
      "saved new best metric model\n",
      "current epoch: 72 current mean recall per class: 0.6286, 0, 0.3361, 0.4648, 0.2665, 0.3551, 0\n",
      "best mean recall: 0.2930 at epoch: 72\n",
      "----------\n",
      "Epoch 73/200\n"
     ]
    },
    {
     "name": "stderr",
     "output_type": "stream",
     "text": [
      "/usr/local/lib/python3.10/dist-packages/monai/transforms/utils.py:743: UserWarning: no available indices of class 2 to crop, setting the crop ratio of this class to zero.\n",
      "  warnings.warn(\n",
      "/usr/local/lib/python3.10/dist-packages/monai/transforms/utils.py:743: UserWarning: no available indices of class 2 to crop, setting the crop ratio of this class to zero.\n",
      "  warnings.warn(\n",
      "/usr/local/lib/python3.10/dist-packages/monai/transforms/utils.py:743: UserWarning: no available indices of class 7 to crop, setting the crop ratio of this class to zero.\n",
      "  warnings.warn(\n",
      "/usr/local/lib/python3.10/dist-packages/monai/transforms/utils.py:743: UserWarning: no available indices of class 7 to crop, setting the crop ratio of this class to zero.\n",
      "  warnings.warn(\n",
      "/usr/local/lib/python3.10/dist-packages/monai/transforms/utils.py:743: UserWarning: no available indices of class 2 to crop, setting the crop ratio of this class to zero.\n",
      "  warnings.warn(\n",
      "/usr/local/lib/python3.10/dist-packages/monai/transforms/utils.py:743: UserWarning: no available indices of class 7 to crop, setting the crop ratio of this class to zero.\n",
      "  warnings.warn(\n",
      "/usr/local/lib/python3.10/dist-packages/monai/transforms/utils.py:743: UserWarning: no available indices of class 2 to crop, setting the crop ratio of this class to zero.\n",
      "  warnings.warn(\n",
      "/usr/local/lib/python3.10/dist-packages/monai/transforms/utils.py:743: UserWarning: no available indices of class 7 to crop, setting the crop ratio of this class to zero.\n",
      "  warnings.warn(\n"
     ]
    },
    {
     "name": "stdout",
     "output_type": "stream",
     "text": [
      "Batch 1/10, train_loss: 0.7129\n",
      "Batch 2/10, train_loss: 0.7305\n",
      "Batch 3/10, train_loss: 0.7438\n",
      "Batch 4/10, train_loss: 0.7068\n",
      "Batch 5/10, train_loss: 0.7334\n",
      "Batch 6/10, train_loss: 0.7252\n",
      "Batch 7/10, train_loss: 0.7251\n",
      "Batch 8/10, train_loss: 0.7330\n",
      "Batch 9/10, train_loss: 0.7193\n",
      "Batch 10/10, train_loss: 0.7449\n",
      "Epoch 73 average loss: 0.7275\n",
      "----------\n",
      "Epoch 74/200\n"
     ]
    },
    {
     "name": "stderr",
     "output_type": "stream",
     "text": [
      "/usr/local/lib/python3.10/dist-packages/monai/transforms/utils.py:743: UserWarning: no available indices of class 2 to crop, setting the crop ratio of this class to zero.\n",
      "  warnings.warn(\n",
      "/usr/local/lib/python3.10/dist-packages/monai/transforms/utils.py:743: UserWarning: no available indices of class 2 to crop, setting the crop ratio of this class to zero.\n",
      "  warnings.warn(\n",
      "/usr/local/lib/python3.10/dist-packages/monai/transforms/utils.py:743: UserWarning: no available indices of class 7 to crop, setting the crop ratio of this class to zero.\n",
      "  warnings.warn(\n",
      "/usr/local/lib/python3.10/dist-packages/monai/transforms/utils.py:743: UserWarning: no available indices of class 7 to crop, setting the crop ratio of this class to zero.\n",
      "  warnings.warn(\n",
      "/usr/local/lib/python3.10/dist-packages/monai/transforms/utils.py:743: UserWarning: no available indices of class 2 to crop, setting the crop ratio of this class to zero.\n",
      "  warnings.warn(\n",
      "/usr/local/lib/python3.10/dist-packages/monai/transforms/utils.py:743: UserWarning: no available indices of class 7 to crop, setting the crop ratio of this class to zero.\n",
      "  warnings.warn(\n",
      "/usr/local/lib/python3.10/dist-packages/monai/transforms/utils.py:743: UserWarning: no available indices of class 2 to crop, setting the crop ratio of this class to zero.\n",
      "  warnings.warn(\n",
      "/usr/local/lib/python3.10/dist-packages/monai/transforms/utils.py:743: UserWarning: no available indices of class 7 to crop, setting the crop ratio of this class to zero.\n",
      "  warnings.warn(\n"
     ]
    },
    {
     "name": "stdout",
     "output_type": "stream",
     "text": [
      "Batch 1/10, train_loss: 0.7282\n",
      "Batch 2/10, train_loss: 0.6974\n",
      "Batch 3/10, train_loss: 0.7202\n",
      "Batch 4/10, train_loss: 0.7283\n",
      "Batch 5/10, train_loss: 0.7260\n",
      "Batch 6/10, train_loss: 0.7396\n",
      "Batch 7/10, train_loss: 0.7333\n",
      "Batch 8/10, train_loss: 0.7654\n",
      "Batch 9/10, train_loss: 0.6959\n",
      "Batch 10/10, train_loss: 0.7224\n",
      "Epoch 74 average loss: 0.7257\n"
     ]
    },
    {
     "name": "stderr",
     "output_type": "stream",
     "text": [
      "/usr/local/lib/python3.10/dist-packages/monai/transforms/utils.py:743: UserWarning: no available indices of class 2 to crop, setting the crop ratio of this class to zero.\n",
      "  warnings.warn(\n",
      "/usr/local/lib/python3.10/dist-packages/monai/transforms/utils.py:743: UserWarning: no available indices of class 7 to crop, setting the crop ratio of this class to zero.\n",
      "  warnings.warn(\n",
      "/usr/local/lib/python3.10/dist-packages/monai/transforms/utils.py:743: UserWarning: no available indices of class 2 to crop, setting the crop ratio of this class to zero.\n",
      "  warnings.warn(\n",
      "/usr/local/lib/python3.10/dist-packages/monai/transforms/utils.py:743: UserWarning: no available indices of class 7 to crop, setting the crop ratio of this class to zero.\n",
      "  warnings.warn(\n"
     ]
    },
    {
     "name": "stdout",
     "output_type": "stream",
     "text": [
      "saved new best metric model\n",
      "current epoch: 74 current mean recall per class: 0.6025, 0, 0.2426, 0.4835, 0.3273, 0.4436, 0\n",
      "best mean recall: 0.2999 at epoch: 74\n",
      "----------\n",
      "Epoch 75/200\n"
     ]
    },
    {
     "name": "stderr",
     "output_type": "stream",
     "text": [
      "/usr/local/lib/python3.10/dist-packages/monai/transforms/utils.py:743: UserWarning: no available indices of class 2 to crop, setting the crop ratio of this class to zero.\n",
      "  warnings.warn(\n",
      "/usr/local/lib/python3.10/dist-packages/monai/transforms/utils.py:743: UserWarning: no available indices of class 7 to crop, setting the crop ratio of this class to zero.\n",
      "  warnings.warn(\n",
      "/usr/local/lib/python3.10/dist-packages/monai/transforms/utils.py:743: UserWarning: no available indices of class 2 to crop, setting the crop ratio of this class to zero.\n",
      "  warnings.warn(\n",
      "/usr/local/lib/python3.10/dist-packages/monai/transforms/utils.py:743: UserWarning: no available indices of class 7 to crop, setting the crop ratio of this class to zero.\n",
      "  warnings.warn(\n",
      "/usr/local/lib/python3.10/dist-packages/monai/transforms/utils.py:743: UserWarning: no available indices of class 2 to crop, setting the crop ratio of this class to zero.\n",
      "  warnings.warn(\n",
      "/usr/local/lib/python3.10/dist-packages/monai/transforms/utils.py:743: UserWarning: no available indices of class 7 to crop, setting the crop ratio of this class to zero.\n",
      "  warnings.warn(\n",
      "/usr/local/lib/python3.10/dist-packages/monai/transforms/utils.py:743: UserWarning: no available indices of class 2 to crop, setting the crop ratio of this class to zero.\n",
      "  warnings.warn(\n",
      "/usr/local/lib/python3.10/dist-packages/monai/transforms/utils.py:743: UserWarning: no available indices of class 7 to crop, setting the crop ratio of this class to zero.\n",
      "  warnings.warn(\n"
     ]
    },
    {
     "name": "stdout",
     "output_type": "stream",
     "text": [
      "Batch 1/10, train_loss: 0.7371\n",
      "Batch 2/10, train_loss: 0.7138\n",
      "Batch 3/10, train_loss: 0.7098\n",
      "Batch 4/10, train_loss: 0.7204\n",
      "Batch 5/10, train_loss: 0.7300\n",
      "Batch 6/10, train_loss: 0.7054\n",
      "Batch 7/10, train_loss: 0.7618\n",
      "Batch 8/10, train_loss: 0.7628\n",
      "Batch 9/10, train_loss: 0.7280\n",
      "Batch 10/10, train_loss: 0.7279\n",
      "Epoch 75 average loss: 0.7297\n",
      "----------\n",
      "Epoch 76/200\n"
     ]
    },
    {
     "name": "stderr",
     "output_type": "stream",
     "text": [
      "/usr/local/lib/python3.10/dist-packages/monai/transforms/utils.py:743: UserWarning: no available indices of class 2 to crop, setting the crop ratio of this class to zero.\n",
      "  warnings.warn(\n",
      "/usr/local/lib/python3.10/dist-packages/monai/transforms/utils.py:743: UserWarning: no available indices of class 2 to crop, setting the crop ratio of this class to zero.\n",
      "  warnings.warn(\n",
      "/usr/local/lib/python3.10/dist-packages/monai/transforms/utils.py:743: UserWarning: no available indices of class 2 to crop, setting the crop ratio of this class to zero.\n",
      "  warnings.warn(\n",
      "/usr/local/lib/python3.10/dist-packages/monai/transforms/utils.py:743: UserWarning: no available indices of class 2 to crop, setting the crop ratio of this class to zero.\n",
      "  warnings.warn(\n",
      "/usr/local/lib/python3.10/dist-packages/monai/transforms/utils.py:743: UserWarning: no available indices of class 7 to crop, setting the crop ratio of this class to zero.\n",
      "  warnings.warn(\n",
      "/usr/local/lib/python3.10/dist-packages/monai/transforms/utils.py:743: UserWarning: no available indices of class 7 to crop, setting the crop ratio of this class to zero.\n",
      "  warnings.warn(\n",
      "/usr/local/lib/python3.10/dist-packages/monai/transforms/utils.py:743: UserWarning: no available indices of class 7 to crop, setting the crop ratio of this class to zero.\n",
      "  warnings.warn(\n",
      "/usr/local/lib/python3.10/dist-packages/monai/transforms/utils.py:743: UserWarning: no available indices of class 7 to crop, setting the crop ratio of this class to zero.\n",
      "  warnings.warn(\n"
     ]
    },
    {
     "name": "stdout",
     "output_type": "stream",
     "text": [
      "Batch 1/10, train_loss: 0.7267\n",
      "Batch 2/10, train_loss: 0.7260\n",
      "Batch 3/10, train_loss: 0.7160\n",
      "Batch 4/10, train_loss: 0.7363\n",
      "Batch 5/10, train_loss: 0.7390\n",
      "Batch 6/10, train_loss: 0.7266\n",
      "Batch 7/10, train_loss: 0.7203\n",
      "Batch 8/10, train_loss: 0.7461\n",
      "Batch 9/10, train_loss: 0.7784\n",
      "Batch 10/10, train_loss: 0.7328\n",
      "Epoch 76 average loss: 0.7348\n"
     ]
    },
    {
     "name": "stderr",
     "output_type": "stream",
     "text": [
      "/usr/local/lib/python3.10/dist-packages/monai/transforms/utils.py:743: UserWarning: no available indices of class 2 to crop, setting the crop ratio of this class to zero.\n",
      "  warnings.warn(\n",
      "/usr/local/lib/python3.10/dist-packages/monai/transforms/utils.py:743: UserWarning: no available indices of class 7 to crop, setting the crop ratio of this class to zero.\n",
      "  warnings.warn(\n",
      "/usr/local/lib/python3.10/dist-packages/monai/transforms/utils.py:743: UserWarning: no available indices of class 2 to crop, setting the crop ratio of this class to zero.\n",
      "  warnings.warn(\n",
      "/usr/local/lib/python3.10/dist-packages/monai/transforms/utils.py:743: UserWarning: no available indices of class 7 to crop, setting the crop ratio of this class to zero.\n",
      "  warnings.warn(\n"
     ]
    },
    {
     "name": "stdout",
     "output_type": "stream",
     "text": [
      "current epoch: 76 current mean recall per class: 0.5003, 0, 0.1543, 0.5779, 0.2363, 0.4108, 0\n",
      "best mean recall: 0.2999 at epoch: 74\n",
      "----------\n",
      "Epoch 77/200\n"
     ]
    },
    {
     "name": "stderr",
     "output_type": "stream",
     "text": [
      "/usr/local/lib/python3.10/dist-packages/monai/transforms/utils.py:743: UserWarning: no available indices of class 2 to crop, setting the crop ratio of this class to zero.\n",
      "  warnings.warn(\n",
      "/usr/local/lib/python3.10/dist-packages/monai/transforms/utils.py:743: UserWarning: no available indices of class 7 to crop, setting the crop ratio of this class to zero.\n",
      "  warnings.warn(\n",
      "/usr/local/lib/python3.10/dist-packages/monai/transforms/utils.py:743: UserWarning: no available indices of class 2 to crop, setting the crop ratio of this class to zero.\n",
      "  warnings.warn(\n",
      "/usr/local/lib/python3.10/dist-packages/monai/transforms/utils.py:743: UserWarning: no available indices of class 7 to crop, setting the crop ratio of this class to zero.\n",
      "  warnings.warn(\n",
      "/usr/local/lib/python3.10/dist-packages/monai/transforms/utils.py:743: UserWarning: no available indices of class 2 to crop, setting the crop ratio of this class to zero.\n",
      "  warnings.warn(\n",
      "/usr/local/lib/python3.10/dist-packages/monai/transforms/utils.py:743: UserWarning: no available indices of class 7 to crop, setting the crop ratio of this class to zero.\n",
      "  warnings.warn(\n",
      "/usr/local/lib/python3.10/dist-packages/monai/transforms/utils.py:743: UserWarning: no available indices of class 2 to crop, setting the crop ratio of this class to zero.\n",
      "  warnings.warn(\n",
      "/usr/local/lib/python3.10/dist-packages/monai/transforms/utils.py:743: UserWarning: no available indices of class 7 to crop, setting the crop ratio of this class to zero.\n",
      "  warnings.warn(\n"
     ]
    },
    {
     "name": "stdout",
     "output_type": "stream",
     "text": [
      "Batch 1/10, train_loss: 0.7523\n",
      "Batch 2/10, train_loss: 0.7071\n",
      "Batch 3/10, train_loss: 0.7468\n",
      "Batch 4/10, train_loss: 0.7379\n",
      "Batch 5/10, train_loss: 0.7494\n",
      "Batch 6/10, train_loss: 0.7438\n",
      "Batch 7/10, train_loss: 0.7435\n",
      "Batch 8/10, train_loss: 0.7190\n",
      "Batch 9/10, train_loss: 0.6852\n",
      "Batch 10/10, train_loss: 0.7324\n",
      "Epoch 77 average loss: 0.7317\n",
      "----------\n",
      "Epoch 78/200\n"
     ]
    },
    {
     "name": "stderr",
     "output_type": "stream",
     "text": [
      "/usr/local/lib/python3.10/dist-packages/monai/transforms/utils.py:743: UserWarning: no available indices of class 2 to crop, setting the crop ratio of this class to zero.\n",
      "  warnings.warn(\n",
      "/usr/local/lib/python3.10/dist-packages/monai/transforms/utils.py:743: UserWarning: no available indices of class 7 to crop, setting the crop ratio of this class to zero.\n",
      "  warnings.warn(\n",
      "/usr/local/lib/python3.10/dist-packages/monai/transforms/utils.py:743: UserWarning: no available indices of class 2 to crop, setting the crop ratio of this class to zero.\n",
      "  warnings.warn(\n",
      "/usr/local/lib/python3.10/dist-packages/monai/transforms/utils.py:743: UserWarning: no available indices of class 7 to crop, setting the crop ratio of this class to zero.\n",
      "  warnings.warn(\n",
      "/usr/local/lib/python3.10/dist-packages/monai/transforms/utils.py:743: UserWarning: no available indices of class 2 to crop, setting the crop ratio of this class to zero.\n",
      "  warnings.warn(\n",
      "/usr/local/lib/python3.10/dist-packages/monai/transforms/utils.py:743: UserWarning: no available indices of class 7 to crop, setting the crop ratio of this class to zero.\n",
      "  warnings.warn(\n",
      "/usr/local/lib/python3.10/dist-packages/monai/transforms/utils.py:743: UserWarning: no available indices of class 2 to crop, setting the crop ratio of this class to zero.\n",
      "  warnings.warn(\n",
      "/usr/local/lib/python3.10/dist-packages/monai/transforms/utils.py:743: UserWarning: no available indices of class 7 to crop, setting the crop ratio of this class to zero.\n",
      "  warnings.warn(\n"
     ]
    },
    {
     "name": "stdout",
     "output_type": "stream",
     "text": [
      "Batch 1/10, train_loss: 0.7354\n",
      "Batch 2/10, train_loss: 0.6746\n",
      "Batch 3/10, train_loss: 0.7602\n",
      "Batch 4/10, train_loss: 0.7505\n",
      "Batch 5/10, train_loss: 0.7068\n",
      "Batch 6/10, train_loss: 0.7446\n",
      "Batch 7/10, train_loss: 0.7209\n",
      "Batch 8/10, train_loss: 0.7403\n",
      "Batch 9/10, train_loss: 0.7533\n",
      "Batch 10/10, train_loss: 0.7385\n",
      "Epoch 78 average loss: 0.7325\n"
     ]
    },
    {
     "name": "stderr",
     "output_type": "stream",
     "text": [
      "/usr/local/lib/python3.10/dist-packages/monai/transforms/utils.py:743: UserWarning: no available indices of class 2 to crop, setting the crop ratio of this class to zero.\n",
      "  warnings.warn(\n",
      "/usr/local/lib/python3.10/dist-packages/monai/transforms/utils.py:743: UserWarning: no available indices of class 7 to crop, setting the crop ratio of this class to zero.\n",
      "  warnings.warn(\n",
      "/usr/local/lib/python3.10/dist-packages/monai/transforms/utils.py:743: UserWarning: no available indices of class 2 to crop, setting the crop ratio of this class to zero.\n",
      "  warnings.warn(\n",
      "/usr/local/lib/python3.10/dist-packages/monai/transforms/utils.py:743: UserWarning: no available indices of class 7 to crop, setting the crop ratio of this class to zero.\n",
      "  warnings.warn(\n"
     ]
    },
    {
     "name": "stdout",
     "output_type": "stream",
     "text": [
      "saved new best metric model\n",
      "current epoch: 78 current mean recall per class: 0.5607, 0, 0.3158, 0.4559, 0.3847, 0.4288, 0\n",
      "best mean recall: 0.3065 at epoch: 78\n",
      "----------\n",
      "Epoch 79/200\n"
     ]
    },
    {
     "name": "stderr",
     "output_type": "stream",
     "text": [
      "/usr/local/lib/python3.10/dist-packages/monai/transforms/utils.py:743: UserWarning: no available indices of class 2 to crop, setting the crop ratio of this class to zero.\n",
      "  warnings.warn(\n",
      "/usr/local/lib/python3.10/dist-packages/monai/transforms/utils.py:743: UserWarning: no available indices of class 2 to crop, setting the crop ratio of this class to zero.\n",
      "  warnings.warn(\n",
      "/usr/local/lib/python3.10/dist-packages/monai/transforms/utils.py:743: UserWarning: no available indices of class 7 to crop, setting the crop ratio of this class to zero.\n",
      "  warnings.warn(\n",
      "/usr/local/lib/python3.10/dist-packages/monai/transforms/utils.py:743: UserWarning: no available indices of class 7 to crop, setting the crop ratio of this class to zero.\n",
      "  warnings.warn(\n",
      "/usr/local/lib/python3.10/dist-packages/monai/transforms/utils.py:743: UserWarning: no available indices of class 2 to crop, setting the crop ratio of this class to zero.\n",
      "  warnings.warn(\n",
      "/usr/local/lib/python3.10/dist-packages/monai/transforms/utils.py:743: UserWarning: no available indices of class 2 to crop, setting the crop ratio of this class to zero.\n",
      "  warnings.warn(\n",
      "/usr/local/lib/python3.10/dist-packages/monai/transforms/utils.py:743: UserWarning: no available indices of class 7 to crop, setting the crop ratio of this class to zero.\n",
      "  warnings.warn(\n",
      "/usr/local/lib/python3.10/dist-packages/monai/transforms/utils.py:743: UserWarning: no available indices of class 7 to crop, setting the crop ratio of this class to zero.\n",
      "  warnings.warn(\n"
     ]
    },
    {
     "name": "stdout",
     "output_type": "stream",
     "text": [
      "Batch 1/10, train_loss: 0.7112\n",
      "Batch 2/10, train_loss: 0.7326\n",
      "Batch 3/10, train_loss: 0.7109\n",
      "Batch 4/10, train_loss: 0.7441\n",
      "Batch 5/10, train_loss: 0.7292\n",
      "Batch 6/10, train_loss: 0.7380\n",
      "Batch 7/10, train_loss: 0.7171\n",
      "Batch 8/10, train_loss: 0.7195\n",
      "Batch 9/10, train_loss: 0.7448\n",
      "Batch 10/10, train_loss: 0.7501\n",
      "Epoch 79 average loss: 0.7298\n",
      "----------\n",
      "Epoch 80/200\n"
     ]
    },
    {
     "name": "stderr",
     "output_type": "stream",
     "text": [
      "/usr/local/lib/python3.10/dist-packages/monai/transforms/utils.py:743: UserWarning: no available indices of class 2 to crop, setting the crop ratio of this class to zero.\n",
      "  warnings.warn(\n",
      "/usr/local/lib/python3.10/dist-packages/monai/transforms/utils.py:743: UserWarning: no available indices of class 7 to crop, setting the crop ratio of this class to zero.\n",
      "  warnings.warn(\n",
      "/usr/local/lib/python3.10/dist-packages/monai/transforms/utils.py:743: UserWarning: no available indices of class 2 to crop, setting the crop ratio of this class to zero.\n",
      "  warnings.warn(\n",
      "/usr/local/lib/python3.10/dist-packages/monai/transforms/utils.py:743: UserWarning: no available indices of class 7 to crop, setting the crop ratio of this class to zero.\n",
      "  warnings.warn(\n",
      "/usr/local/lib/python3.10/dist-packages/monai/transforms/utils.py:743: UserWarning: no available indices of class 2 to crop, setting the crop ratio of this class to zero.\n",
      "  warnings.warn(\n",
      "/usr/local/lib/python3.10/dist-packages/monai/transforms/utils.py:743: UserWarning: no available indices of class 7 to crop, setting the crop ratio of this class to zero.\n",
      "  warnings.warn(\n",
      "/usr/local/lib/python3.10/dist-packages/monai/transforms/utils.py:743: UserWarning: no available indices of class 2 to crop, setting the crop ratio of this class to zero.\n",
      "  warnings.warn(\n",
      "/usr/local/lib/python3.10/dist-packages/monai/transforms/utils.py:743: UserWarning: no available indices of class 7 to crop, setting the crop ratio of this class to zero.\n",
      "  warnings.warn(\n"
     ]
    },
    {
     "name": "stdout",
     "output_type": "stream",
     "text": [
      "Batch 1/10, train_loss: 0.6963\n",
      "Batch 2/10, train_loss: 0.7290\n",
      "Batch 3/10, train_loss: 0.7463\n",
      "Batch 4/10, train_loss: 0.7589\n",
      "Batch 5/10, train_loss: 0.7354\n",
      "Batch 6/10, train_loss: 0.7466\n",
      "Batch 7/10, train_loss: 0.7079\n",
      "Batch 8/10, train_loss: 0.7282\n",
      "Batch 9/10, train_loss: 0.7361\n",
      "Batch 10/10, train_loss: 0.7222\n",
      "Epoch 80 average loss: 0.7307\n"
     ]
    },
    {
     "name": "stderr",
     "output_type": "stream",
     "text": [
      "/usr/local/lib/python3.10/dist-packages/monai/transforms/utils.py:743: UserWarning: no available indices of class 2 to crop, setting the crop ratio of this class to zero.\n",
      "  warnings.warn(\n",
      "/usr/local/lib/python3.10/dist-packages/monai/transforms/utils.py:743: UserWarning: no available indices of class 7 to crop, setting the crop ratio of this class to zero.\n",
      "  warnings.warn(\n",
      "/usr/local/lib/python3.10/dist-packages/monai/transforms/utils.py:743: UserWarning: no available indices of class 2 to crop, setting the crop ratio of this class to zero.\n",
      "  warnings.warn(\n",
      "/usr/local/lib/python3.10/dist-packages/monai/transforms/utils.py:743: UserWarning: no available indices of class 7 to crop, setting the crop ratio of this class to zero.\n",
      "  warnings.warn(\n"
     ]
    },
    {
     "name": "stdout",
     "output_type": "stream",
     "text": [
      "current epoch: 80 current mean recall per class: 0.5649, 0, 0.2785, 0.4891, 0.3512, 0.3909, 0\n",
      "best mean recall: 0.3065 at epoch: 78\n",
      "----------\n",
      "Epoch 81/200\n"
     ]
    },
    {
     "name": "stderr",
     "output_type": "stream",
     "text": [
      "/usr/local/lib/python3.10/dist-packages/monai/transforms/utils.py:743: UserWarning: no available indices of class 2 to crop, setting the crop ratio of this class to zero.\n",
      "  warnings.warn(\n",
      "/usr/local/lib/python3.10/dist-packages/monai/transforms/utils.py:743: UserWarning: no available indices of class 2 to crop, setting the crop ratio of this class to zero.\n",
      "  warnings.warn(\n",
      "/usr/local/lib/python3.10/dist-packages/monai/transforms/utils.py:743: UserWarning: no available indices of class 2 to crop, setting the crop ratio of this class to zero.\n",
      "  warnings.warn(\n",
      "/usr/local/lib/python3.10/dist-packages/monai/transforms/utils.py:743: UserWarning: no available indices of class 7 to crop, setting the crop ratio of this class to zero.\n",
      "  warnings.warn(\n",
      "/usr/local/lib/python3.10/dist-packages/monai/transforms/utils.py:743: UserWarning: no available indices of class 7 to crop, setting the crop ratio of this class to zero.\n",
      "  warnings.warn(\n",
      "/usr/local/lib/python3.10/dist-packages/monai/transforms/utils.py:743: UserWarning: no available indices of class 7 to crop, setting the crop ratio of this class to zero.\n",
      "  warnings.warn(\n",
      "/usr/local/lib/python3.10/dist-packages/monai/transforms/utils.py:743: UserWarning: no available indices of class 2 to crop, setting the crop ratio of this class to zero.\n",
      "  warnings.warn(\n",
      "/usr/local/lib/python3.10/dist-packages/monai/transforms/utils.py:743: UserWarning: no available indices of class 7 to crop, setting the crop ratio of this class to zero.\n",
      "  warnings.warn(\n"
     ]
    },
    {
     "name": "stdout",
     "output_type": "stream",
     "text": [
      "Batch 1/10, train_loss: 0.7368\n",
      "Batch 2/10, train_loss: 0.7323\n",
      "Batch 3/10, train_loss: 0.7237\n",
      "Batch 4/10, train_loss: 0.7485\n",
      "Batch 5/10, train_loss: 0.7143\n",
      "Batch 6/10, train_loss: 0.7244\n",
      "Batch 7/10, train_loss: 0.7312\n",
      "Batch 8/10, train_loss: 0.7062\n",
      "Batch 9/10, train_loss: 0.6935\n",
      "Batch 10/10, train_loss: 0.7488\n",
      "Epoch 81 average loss: 0.7260\n",
      "----------\n",
      "Epoch 82/200\n"
     ]
    },
    {
     "name": "stderr",
     "output_type": "stream",
     "text": [
      "/usr/local/lib/python3.10/dist-packages/monai/transforms/utils.py:743: UserWarning: no available indices of class 2 to crop, setting the crop ratio of this class to zero.\n",
      "  warnings.warn(\n",
      "/usr/local/lib/python3.10/dist-packages/monai/transforms/utils.py:743: UserWarning: no available indices of class 7 to crop, setting the crop ratio of this class to zero.\n",
      "  warnings.warn(\n",
      "/usr/local/lib/python3.10/dist-packages/monai/transforms/utils.py:743: UserWarning: no available indices of class 2 to crop, setting the crop ratio of this class to zero.\n",
      "  warnings.warn(\n",
      "/usr/local/lib/python3.10/dist-packages/monai/transforms/utils.py:743: UserWarning: no available indices of class 7 to crop, setting the crop ratio of this class to zero.\n",
      "  warnings.warn(\n",
      "/usr/local/lib/python3.10/dist-packages/monai/transforms/utils.py:743: UserWarning: no available indices of class 2 to crop, setting the crop ratio of this class to zero.\n",
      "  warnings.warn(\n",
      "/usr/local/lib/python3.10/dist-packages/monai/transforms/utils.py:743: UserWarning: no available indices of class 2 to crop, setting the crop ratio of this class to zero.\n",
      "  warnings.warn(\n",
      "/usr/local/lib/python3.10/dist-packages/monai/transforms/utils.py:743: UserWarning: no available indices of class 7 to crop, setting the crop ratio of this class to zero.\n",
      "  warnings.warn(\n",
      "/usr/local/lib/python3.10/dist-packages/monai/transforms/utils.py:743: UserWarning: no available indices of class 7 to crop, setting the crop ratio of this class to zero.\n",
      "  warnings.warn(\n"
     ]
    },
    {
     "name": "stdout",
     "output_type": "stream",
     "text": [
      "Batch 1/10, train_loss: 0.7098\n",
      "Batch 2/10, train_loss: 0.7429\n",
      "Batch 3/10, train_loss: 0.7354\n",
      "Batch 4/10, train_loss: 0.7057\n",
      "Batch 5/10, train_loss: 0.7585\n",
      "Batch 6/10, train_loss: 0.7302\n",
      "Batch 7/10, train_loss: 0.7139\n",
      "Batch 8/10, train_loss: 0.7604\n",
      "Batch 9/10, train_loss: 0.6979\n",
      "Batch 10/10, train_loss: 0.7431\n",
      "Epoch 82 average loss: 0.7298\n"
     ]
    },
    {
     "name": "stderr",
     "output_type": "stream",
     "text": [
      "/usr/local/lib/python3.10/dist-packages/monai/transforms/utils.py:743: UserWarning: no available indices of class 2 to crop, setting the crop ratio of this class to zero.\n",
      "  warnings.warn(\n",
      "/usr/local/lib/python3.10/dist-packages/monai/transforms/utils.py:743: UserWarning: no available indices of class 7 to crop, setting the crop ratio of this class to zero.\n",
      "  warnings.warn(\n",
      "/usr/local/lib/python3.10/dist-packages/monai/transforms/utils.py:743: UserWarning: no available indices of class 2 to crop, setting the crop ratio of this class to zero.\n",
      "  warnings.warn(\n",
      "/usr/local/lib/python3.10/dist-packages/monai/transforms/utils.py:743: UserWarning: no available indices of class 7 to crop, setting the crop ratio of this class to zero.\n",
      "  warnings.warn(\n"
     ]
    },
    {
     "name": "stdout",
     "output_type": "stream",
     "text": [
      "saved new best metric model\n",
      "current epoch: 82 current mean recall per class: 0.5435, 0, 0.3778, 0.4855, 0.3929, 0.354, 0\n",
      "best mean recall: 0.3077 at epoch: 82\n",
      "----------\n",
      "Epoch 83/200\n"
     ]
    },
    {
     "name": "stderr",
     "output_type": "stream",
     "text": [
      "/usr/local/lib/python3.10/dist-packages/monai/transforms/utils.py:743: UserWarning: no available indices of class 2 to crop, setting the crop ratio of this class to zero.\n",
      "  warnings.warn(\n",
      "/usr/local/lib/python3.10/dist-packages/monai/transforms/utils.py:743: UserWarning: no available indices of class 7 to crop, setting the crop ratio of this class to zero.\n",
      "  warnings.warn(\n",
      "/usr/local/lib/python3.10/dist-packages/monai/transforms/utils.py:743: UserWarning: no available indices of class 2 to crop, setting the crop ratio of this class to zero.\n",
      "  warnings.warn(\n",
      "/usr/local/lib/python3.10/dist-packages/monai/transforms/utils.py:743: UserWarning: no available indices of class 7 to crop, setting the crop ratio of this class to zero.\n",
      "  warnings.warn(\n",
      "/usr/local/lib/python3.10/dist-packages/monai/transforms/utils.py:743: UserWarning: no available indices of class 2 to crop, setting the crop ratio of this class to zero.\n",
      "  warnings.warn(\n",
      "/usr/local/lib/python3.10/dist-packages/monai/transforms/utils.py:743: UserWarning: no available indices of class 7 to crop, setting the crop ratio of this class to zero.\n",
      "  warnings.warn(\n",
      "/usr/local/lib/python3.10/dist-packages/monai/transforms/utils.py:743: UserWarning: no available indices of class 2 to crop, setting the crop ratio of this class to zero.\n",
      "  warnings.warn(\n",
      "/usr/local/lib/python3.10/dist-packages/monai/transforms/utils.py:743: UserWarning: no available indices of class 7 to crop, setting the crop ratio of this class to zero.\n",
      "  warnings.warn(\n"
     ]
    },
    {
     "name": "stdout",
     "output_type": "stream",
     "text": [
      "Batch 1/10, train_loss: 0.7376\n",
      "Batch 2/10, train_loss: 0.7344\n",
      "Batch 3/10, train_loss: 0.7489\n",
      "Batch 4/10, train_loss: 0.7382\n",
      "Batch 5/10, train_loss: 0.7504\n",
      "Batch 6/10, train_loss: 0.7341\n",
      "Batch 7/10, train_loss: 0.7432\n",
      "Batch 8/10, train_loss: 0.7413\n",
      "Batch 9/10, train_loss: 0.7164\n",
      "Batch 10/10, train_loss: 0.7143\n",
      "Epoch 83 average loss: 0.7359\n",
      "----------\n",
      "Epoch 84/200\n"
     ]
    },
    {
     "name": "stderr",
     "output_type": "stream",
     "text": [
      "/usr/local/lib/python3.10/dist-packages/monai/transforms/utils.py:743: UserWarning: no available indices of class 2 to crop, setting the crop ratio of this class to zero.\n",
      "  warnings.warn(\n",
      "/usr/local/lib/python3.10/dist-packages/monai/transforms/utils.py:743: UserWarning: no available indices of class 7 to crop, setting the crop ratio of this class to zero.\n",
      "  warnings.warn(\n",
      "/usr/local/lib/python3.10/dist-packages/monai/transforms/utils.py:743: UserWarning: no available indices of class 2 to crop, setting the crop ratio of this class to zero.\n",
      "  warnings.warn(\n",
      "/usr/local/lib/python3.10/dist-packages/monai/transforms/utils.py:743: UserWarning: no available indices of class 7 to crop, setting the crop ratio of this class to zero.\n",
      "  warnings.warn(\n",
      "/usr/local/lib/python3.10/dist-packages/monai/transforms/utils.py:743: UserWarning: no available indices of class 2 to crop, setting the crop ratio of this class to zero.\n",
      "  warnings.warn(\n",
      "/usr/local/lib/python3.10/dist-packages/monai/transforms/utils.py:743: UserWarning: no available indices of class 7 to crop, setting the crop ratio of this class to zero.\n",
      "  warnings.warn(\n",
      "/usr/local/lib/python3.10/dist-packages/monai/transforms/utils.py:743: UserWarning: no available indices of class 2 to crop, setting the crop ratio of this class to zero.\n",
      "  warnings.warn(\n",
      "/usr/local/lib/python3.10/dist-packages/monai/transforms/utils.py:743: UserWarning: no available indices of class 7 to crop, setting the crop ratio of this class to zero.\n",
      "  warnings.warn(\n"
     ]
    },
    {
     "name": "stdout",
     "output_type": "stream",
     "text": [
      "Batch 1/10, train_loss: 0.7703\n",
      "Batch 2/10, train_loss: 0.7203\n",
      "Batch 3/10, train_loss: 0.7259\n",
      "Batch 4/10, train_loss: 0.7452\n",
      "Batch 5/10, train_loss: 0.7187\n",
      "Batch 6/10, train_loss: 0.7102\n",
      "Batch 7/10, train_loss: 0.7361\n",
      "Batch 8/10, train_loss: 0.7381\n",
      "Batch 9/10, train_loss: 0.7042\n",
      "Batch 10/10, train_loss: 0.7553\n",
      "Epoch 84 average loss: 0.7324\n"
     ]
    },
    {
     "name": "stderr",
     "output_type": "stream",
     "text": [
      "/usr/local/lib/python3.10/dist-packages/monai/transforms/utils.py:743: UserWarning: no available indices of class 2 to crop, setting the crop ratio of this class to zero.\n",
      "  warnings.warn(\n",
      "/usr/local/lib/python3.10/dist-packages/monai/transforms/utils.py:743: UserWarning: no available indices of class 7 to crop, setting the crop ratio of this class to zero.\n",
      "  warnings.warn(\n",
      "/usr/local/lib/python3.10/dist-packages/monai/transforms/utils.py:743: UserWarning: no available indices of class 2 to crop, setting the crop ratio of this class to zero.\n",
      "  warnings.warn(\n",
      "/usr/local/lib/python3.10/dist-packages/monai/transforms/utils.py:743: UserWarning: no available indices of class 7 to crop, setting the crop ratio of this class to zero.\n",
      "  warnings.warn(\n"
     ]
    },
    {
     "name": "stdout",
     "output_type": "stream",
     "text": [
      "saved new best metric model\n",
      "current epoch: 84 current mean recall per class: 0.4914, 0, 0.3566, 0.5941, 0.3468, 0.443, 0\n",
      "best mean recall: 0.3188 at epoch: 84\n",
      "----------\n",
      "Epoch 85/200\n"
     ]
    },
    {
     "name": "stderr",
     "output_type": "stream",
     "text": [
      "/usr/local/lib/python3.10/dist-packages/monai/transforms/utils.py:743: UserWarning: no available indices of class 2 to crop, setting the crop ratio of this class to zero.\n",
      "  warnings.warn(\n",
      "/usr/local/lib/python3.10/dist-packages/monai/transforms/utils.py:743: UserWarning: no available indices of class 7 to crop, setting the crop ratio of this class to zero.\n",
      "  warnings.warn(\n",
      "/usr/local/lib/python3.10/dist-packages/monai/transforms/utils.py:743: UserWarning: no available indices of class 2 to crop, setting the crop ratio of this class to zero.\n",
      "  warnings.warn(\n",
      "/usr/local/lib/python3.10/dist-packages/monai/transforms/utils.py:743: UserWarning: no available indices of class 7 to crop, setting the crop ratio of this class to zero.\n",
      "  warnings.warn(\n",
      "/usr/local/lib/python3.10/dist-packages/monai/transforms/utils.py:743: UserWarning: no available indices of class 2 to crop, setting the crop ratio of this class to zero.\n",
      "  warnings.warn(\n",
      "/usr/local/lib/python3.10/dist-packages/monai/transforms/utils.py:743: UserWarning: no available indices of class 7 to crop, setting the crop ratio of this class to zero.\n",
      "  warnings.warn(\n",
      "/usr/local/lib/python3.10/dist-packages/monai/transforms/utils.py:743: UserWarning: no available indices of class 2 to crop, setting the crop ratio of this class to zero.\n",
      "  warnings.warn(\n",
      "/usr/local/lib/python3.10/dist-packages/monai/transforms/utils.py:743: UserWarning: no available indices of class 7 to crop, setting the crop ratio of this class to zero.\n",
      "  warnings.warn(\n"
     ]
    },
    {
     "name": "stdout",
     "output_type": "stream",
     "text": [
      "Batch 1/10, train_loss: 0.6946\n",
      "Batch 2/10, train_loss: 0.7276\n",
      "Batch 3/10, train_loss: 0.7315\n",
      "Batch 4/10, train_loss: 0.7462\n",
      "Batch 5/10, train_loss: 0.7387\n",
      "Batch 6/10, train_loss: 0.7350\n",
      "Batch 7/10, train_loss: 0.7422\n",
      "Batch 8/10, train_loss: 0.7455\n",
      "Batch 9/10, train_loss: 0.7549\n",
      "Batch 10/10, train_loss: 0.7234\n",
      "Epoch 85 average loss: 0.7340\n",
      "----------\n",
      "Epoch 86/200\n"
     ]
    },
    {
     "name": "stderr",
     "output_type": "stream",
     "text": [
      "/usr/local/lib/python3.10/dist-packages/monai/transforms/utils.py:743: UserWarning: no available indices of class 2 to crop, setting the crop ratio of this class to zero.\n",
      "  warnings.warn(\n",
      "/usr/local/lib/python3.10/dist-packages/monai/transforms/utils.py:743: UserWarning: no available indices of class 2 to crop, setting the crop ratio of this class to zero.\n",
      "  warnings.warn(\n",
      "/usr/local/lib/python3.10/dist-packages/monai/transforms/utils.py:743: UserWarning: no available indices of class 7 to crop, setting the crop ratio of this class to zero.\n",
      "  warnings.warn(\n",
      "/usr/local/lib/python3.10/dist-packages/monai/transforms/utils.py:743: UserWarning: no available indices of class 7 to crop, setting the crop ratio of this class to zero.\n",
      "  warnings.warn(\n",
      "/usr/local/lib/python3.10/dist-packages/monai/transforms/utils.py:743: UserWarning: no available indices of class 2 to crop, setting the crop ratio of this class to zero.\n",
      "  warnings.warn(\n",
      "/usr/local/lib/python3.10/dist-packages/monai/transforms/utils.py:743: UserWarning: no available indices of class 7 to crop, setting the crop ratio of this class to zero.\n",
      "  warnings.warn(\n",
      "/usr/local/lib/python3.10/dist-packages/monai/transforms/utils.py:743: UserWarning: no available indices of class 2 to crop, setting the crop ratio of this class to zero.\n",
      "  warnings.warn(\n",
      "/usr/local/lib/python3.10/dist-packages/monai/transforms/utils.py:743: UserWarning: no available indices of class 7 to crop, setting the crop ratio of this class to zero.\n",
      "  warnings.warn(\n"
     ]
    },
    {
     "name": "stdout",
     "output_type": "stream",
     "text": [
      "Batch 1/10, train_loss: 0.7349\n",
      "Batch 2/10, train_loss: 0.7658\n",
      "Batch 3/10, train_loss: 0.6922\n",
      "Batch 4/10, train_loss: 0.7373\n",
      "Batch 5/10, train_loss: 0.7110\n",
      "Batch 6/10, train_loss: 0.7316\n",
      "Batch 7/10, train_loss: 0.7136\n",
      "Batch 8/10, train_loss: 0.7039\n",
      "Batch 9/10, train_loss: 0.7194\n",
      "Batch 10/10, train_loss: 0.7385\n",
      "Epoch 86 average loss: 0.7248\n"
     ]
    },
    {
     "name": "stderr",
     "output_type": "stream",
     "text": [
      "/usr/local/lib/python3.10/dist-packages/monai/transforms/utils.py:743: UserWarning: no available indices of class 2 to crop, setting the crop ratio of this class to zero.\n",
      "  warnings.warn(\n",
      "/usr/local/lib/python3.10/dist-packages/monai/transforms/utils.py:743: UserWarning: no available indices of class 7 to crop, setting the crop ratio of this class to zero.\n",
      "  warnings.warn(\n",
      "/usr/local/lib/python3.10/dist-packages/monai/transforms/utils.py:743: UserWarning: no available indices of class 2 to crop, setting the crop ratio of this class to zero.\n",
      "  warnings.warn(\n",
      "/usr/local/lib/python3.10/dist-packages/monai/transforms/utils.py:743: UserWarning: no available indices of class 7 to crop, setting the crop ratio of this class to zero.\n",
      "  warnings.warn(\n"
     ]
    },
    {
     "name": "stdout",
     "output_type": "stream",
     "text": [
      "current epoch: 86 current mean recall per class: 0.637, 0, 0.2632, 0.5213, 0.3553, 0.4544, 0\n",
      "best mean recall: 0.3188 at epoch: 84\n",
      "----------\n",
      "Epoch 87/200\n"
     ]
    },
    {
     "name": "stderr",
     "output_type": "stream",
     "text": [
      "/usr/local/lib/python3.10/dist-packages/monai/transforms/utils.py:743: UserWarning: no available indices of class 2 to crop, setting the crop ratio of this class to zero.\n",
      "  warnings.warn(\n",
      "/usr/local/lib/python3.10/dist-packages/monai/transforms/utils.py:743: UserWarning: no available indices of class 2 to crop, setting the crop ratio of this class to zero.\n",
      "  warnings.warn(\n",
      "/usr/local/lib/python3.10/dist-packages/monai/transforms/utils.py:743: UserWarning: no available indices of class 7 to crop, setting the crop ratio of this class to zero.\n",
      "  warnings.warn(\n",
      "/usr/local/lib/python3.10/dist-packages/monai/transforms/utils.py:743: UserWarning: no available indices of class 7 to crop, setting the crop ratio of this class to zero.\n",
      "  warnings.warn(\n",
      "/usr/local/lib/python3.10/dist-packages/monai/transforms/utils.py:743: UserWarning: no available indices of class 2 to crop, setting the crop ratio of this class to zero.\n",
      "  warnings.warn(\n",
      "/usr/local/lib/python3.10/dist-packages/monai/transforms/utils.py:743: UserWarning: no available indices of class 7 to crop, setting the crop ratio of this class to zero.\n",
      "  warnings.warn(\n",
      "/usr/local/lib/python3.10/dist-packages/monai/transforms/utils.py:743: UserWarning: no available indices of class 2 to crop, setting the crop ratio of this class to zero.\n",
      "  warnings.warn(\n",
      "/usr/local/lib/python3.10/dist-packages/monai/transforms/utils.py:743: UserWarning: no available indices of class 7 to crop, setting the crop ratio of this class to zero.\n",
      "  warnings.warn(\n"
     ]
    },
    {
     "name": "stdout",
     "output_type": "stream",
     "text": [
      "Batch 1/10, train_loss: 0.6989\n",
      "Batch 2/10, train_loss: 0.7146\n",
      "Batch 3/10, train_loss: 0.7361\n",
      "Batch 4/10, train_loss: 0.7505\n",
      "Batch 5/10, train_loss: 0.7796\n",
      "Batch 6/10, train_loss: 0.6843\n",
      "Batch 7/10, train_loss: 0.7300\n",
      "Batch 8/10, train_loss: 0.7141\n",
      "Batch 9/10, train_loss: 0.7516\n",
      "Batch 10/10, train_loss: 0.7490\n",
      "Epoch 87 average loss: 0.7309\n",
      "----------\n",
      "Epoch 88/200\n"
     ]
    },
    {
     "name": "stderr",
     "output_type": "stream",
     "text": [
      "/usr/local/lib/python3.10/dist-packages/monai/transforms/utils.py:743: UserWarning: no available indices of class 2 to crop, setting the crop ratio of this class to zero.\n",
      "  warnings.warn(\n",
      "/usr/local/lib/python3.10/dist-packages/monai/transforms/utils.py:743: UserWarning: no available indices of class 7 to crop, setting the crop ratio of this class to zero.\n",
      "  warnings.warn(\n",
      "/usr/local/lib/python3.10/dist-packages/monai/transforms/utils.py:743: UserWarning: no available indices of class 2 to crop, setting the crop ratio of this class to zero.\n",
      "  warnings.warn(\n",
      "/usr/local/lib/python3.10/dist-packages/monai/transforms/utils.py:743: UserWarning: no available indices of class 7 to crop, setting the crop ratio of this class to zero.\n",
      "  warnings.warn(\n",
      "/usr/local/lib/python3.10/dist-packages/monai/transforms/utils.py:743: UserWarning: no available indices of class 2 to crop, setting the crop ratio of this class to zero.\n",
      "  warnings.warn(\n",
      "/usr/local/lib/python3.10/dist-packages/monai/transforms/utils.py:743: UserWarning: no available indices of class 7 to crop, setting the crop ratio of this class to zero.\n",
      "  warnings.warn(\n",
      "/usr/local/lib/python3.10/dist-packages/monai/transforms/utils.py:743: UserWarning: no available indices of class 2 to crop, setting the crop ratio of this class to zero.\n",
      "  warnings.warn(\n",
      "/usr/local/lib/python3.10/dist-packages/monai/transforms/utils.py:743: UserWarning: no available indices of class 7 to crop, setting the crop ratio of this class to zero.\n",
      "  warnings.warn(\n"
     ]
    },
    {
     "name": "stdout",
     "output_type": "stream",
     "text": [
      "Batch 1/10, train_loss: 0.7411\n",
      "Batch 2/10, train_loss: 0.7258\n",
      "Batch 3/10, train_loss: 0.7261\n",
      "Batch 4/10, train_loss: 0.7835\n",
      "Batch 5/10, train_loss: 0.7185\n",
      "Batch 6/10, train_loss: 0.7018\n",
      "Batch 7/10, train_loss: 0.7544\n",
      "Batch 8/10, train_loss: 0.6958\n",
      "Batch 9/10, train_loss: 0.6859\n",
      "Batch 10/10, train_loss: 0.7096\n",
      "Epoch 88 average loss: 0.7242\n"
     ]
    },
    {
     "name": "stderr",
     "output_type": "stream",
     "text": [
      "/usr/local/lib/python3.10/dist-packages/monai/transforms/utils.py:743: UserWarning: no available indices of class 2 to crop, setting the crop ratio of this class to zero.\n",
      "  warnings.warn(\n",
      "/usr/local/lib/python3.10/dist-packages/monai/transforms/utils.py:743: UserWarning: no available indices of class 7 to crop, setting the crop ratio of this class to zero.\n",
      "  warnings.warn(\n",
      "/usr/local/lib/python3.10/dist-packages/monai/transforms/utils.py:743: UserWarning: no available indices of class 2 to crop, setting the crop ratio of this class to zero.\n",
      "  warnings.warn(\n",
      "/usr/local/lib/python3.10/dist-packages/monai/transforms/utils.py:743: UserWarning: no available indices of class 7 to crop, setting the crop ratio of this class to zero.\n",
      "  warnings.warn(\n"
     ]
    },
    {
     "name": "stdout",
     "output_type": "stream",
     "text": [
      "saved new best metric model\n",
      "current epoch: 88 current mean recall per class: 0.5779, 0, 0.3247, 0.5138, 0.3196, 0.5408, 0\n",
      "best mean recall: 0.3252 at epoch: 88\n",
      "----------\n",
      "Epoch 89/200\n"
     ]
    },
    {
     "name": "stderr",
     "output_type": "stream",
     "text": [
      "/usr/local/lib/python3.10/dist-packages/monai/transforms/utils.py:743: UserWarning: no available indices of class 2 to crop, setting the crop ratio of this class to zero.\n",
      "  warnings.warn(\n",
      "/usr/local/lib/python3.10/dist-packages/monai/transforms/utils.py:743: UserWarning: no available indices of class 7 to crop, setting the crop ratio of this class to zero.\n",
      "  warnings.warn(\n",
      "/usr/local/lib/python3.10/dist-packages/monai/transforms/utils.py:743: UserWarning: no available indices of class 2 to crop, setting the crop ratio of this class to zero.\n",
      "  warnings.warn(\n",
      "/usr/local/lib/python3.10/dist-packages/monai/transforms/utils.py:743: UserWarning: no available indices of class 7 to crop, setting the crop ratio of this class to zero.\n",
      "  warnings.warn(\n",
      "/usr/local/lib/python3.10/dist-packages/monai/transforms/utils.py:743: UserWarning: no available indices of class 2 to crop, setting the crop ratio of this class to zero.\n",
      "  warnings.warn(\n",
      "/usr/local/lib/python3.10/dist-packages/monai/transforms/utils.py:743: UserWarning: no available indices of class 2 to crop, setting the crop ratio of this class to zero.\n",
      "  warnings.warn(\n",
      "/usr/local/lib/python3.10/dist-packages/monai/transforms/utils.py:743: UserWarning: no available indices of class 7 to crop, setting the crop ratio of this class to zero.\n",
      "  warnings.warn(\n",
      "/usr/local/lib/python3.10/dist-packages/monai/transforms/utils.py:743: UserWarning: no available indices of class 7 to crop, setting the crop ratio of this class to zero.\n",
      "  warnings.warn(\n"
     ]
    },
    {
     "name": "stdout",
     "output_type": "stream",
     "text": [
      "Batch 1/10, train_loss: 0.7074\n",
      "Batch 2/10, train_loss: 0.7450\n",
      "Batch 3/10, train_loss: 0.7243\n",
      "Batch 4/10, train_loss: 0.7117\n",
      "Batch 5/10, train_loss: 0.7362\n",
      "Batch 6/10, train_loss: 0.6565\n",
      "Batch 7/10, train_loss: 0.7027\n",
      "Batch 8/10, train_loss: 0.7332\n",
      "Batch 9/10, train_loss: 0.6867\n",
      "Batch 10/10, train_loss: 0.6955\n",
      "Epoch 89 average loss: 0.7099\n",
      "----------\n",
      "Epoch 90/200\n"
     ]
    },
    {
     "name": "stderr",
     "output_type": "stream",
     "text": [
      "/usr/local/lib/python3.10/dist-packages/monai/transforms/utils.py:743: UserWarning: no available indices of class 2 to crop, setting the crop ratio of this class to zero.\n",
      "  warnings.warn(\n",
      "/usr/local/lib/python3.10/dist-packages/monai/transforms/utils.py:743: UserWarning: no available indices of class 7 to crop, setting the crop ratio of this class to zero.\n",
      "  warnings.warn(\n",
      "/usr/local/lib/python3.10/dist-packages/monai/transforms/utils.py:743: UserWarning: no available indices of class 2 to crop, setting the crop ratio of this class to zero.\n",
      "  warnings.warn(\n",
      "/usr/local/lib/python3.10/dist-packages/monai/transforms/utils.py:743: UserWarning: no available indices of class 7 to crop, setting the crop ratio of this class to zero.\n",
      "  warnings.warn(\n",
      "/usr/local/lib/python3.10/dist-packages/monai/transforms/utils.py:743: UserWarning: no available indices of class 2 to crop, setting the crop ratio of this class to zero.\n",
      "  warnings.warn(\n",
      "/usr/local/lib/python3.10/dist-packages/monai/transforms/utils.py:743: UserWarning: no available indices of class 2 to crop, setting the crop ratio of this class to zero.\n",
      "  warnings.warn(\n",
      "/usr/local/lib/python3.10/dist-packages/monai/transforms/utils.py:743: UserWarning: no available indices of class 7 to crop, setting the crop ratio of this class to zero.\n",
      "  warnings.warn(\n",
      "/usr/local/lib/python3.10/dist-packages/monai/transforms/utils.py:743: UserWarning: no available indices of class 7 to crop, setting the crop ratio of this class to zero.\n",
      "  warnings.warn(\n"
     ]
    },
    {
     "name": "stdout",
     "output_type": "stream",
     "text": [
      "Batch 1/10, train_loss: 0.7173\n",
      "Batch 2/10, train_loss: 0.6822\n",
      "Batch 3/10, train_loss: 0.7448\n",
      "Batch 4/10, train_loss: 0.6747\n",
      "Batch 5/10, train_loss: 0.7023\n",
      "Batch 6/10, train_loss: 0.6971\n",
      "Batch 7/10, train_loss: 0.7466\n",
      "Batch 8/10, train_loss: 0.7050\n",
      "Batch 9/10, train_loss: 0.7451\n",
      "Batch 10/10, train_loss: 0.7224\n",
      "Epoch 90 average loss: 0.7137\n"
     ]
    },
    {
     "name": "stderr",
     "output_type": "stream",
     "text": [
      "/usr/local/lib/python3.10/dist-packages/monai/transforms/utils.py:743: UserWarning: no available indices of class 2 to crop, setting the crop ratio of this class to zero.\n",
      "  warnings.warn(\n",
      "/usr/local/lib/python3.10/dist-packages/monai/transforms/utils.py:743: UserWarning: no available indices of class 7 to crop, setting the crop ratio of this class to zero.\n",
      "  warnings.warn(\n",
      "/usr/local/lib/python3.10/dist-packages/monai/transforms/utils.py:743: UserWarning: no available indices of class 2 to crop, setting the crop ratio of this class to zero.\n",
      "  warnings.warn(\n",
      "/usr/local/lib/python3.10/dist-packages/monai/transforms/utils.py:743: UserWarning: no available indices of class 7 to crop, setting the crop ratio of this class to zero.\n",
      "  warnings.warn(\n"
     ]
    },
    {
     "name": "stdout",
     "output_type": "stream",
     "text": [
      "current epoch: 90 current mean recall per class: 0.5455, 0, 0.2668, 0.51, 0.3179, 0.4479, 0\n",
      "best mean recall: 0.3252 at epoch: 88\n",
      "----------\n",
      "Epoch 91/200\n"
     ]
    },
    {
     "name": "stderr",
     "output_type": "stream",
     "text": [
      "/usr/local/lib/python3.10/dist-packages/monai/transforms/utils.py:743: UserWarning: no available indices of class 2 to crop, setting the crop ratio of this class to zero.\n",
      "  warnings.warn(\n",
      "/usr/local/lib/python3.10/dist-packages/monai/transforms/utils.py:743: UserWarning: no available indices of class 7 to crop, setting the crop ratio of this class to zero.\n",
      "  warnings.warn(\n",
      "/usr/local/lib/python3.10/dist-packages/monai/transforms/utils.py:743: UserWarning: no available indices of class 2 to crop, setting the crop ratio of this class to zero.\n",
      "  warnings.warn(\n",
      "/usr/local/lib/python3.10/dist-packages/monai/transforms/utils.py:743: UserWarning: no available indices of class 7 to crop, setting the crop ratio of this class to zero.\n",
      "  warnings.warn(\n",
      "/usr/local/lib/python3.10/dist-packages/monai/transforms/utils.py:743: UserWarning: no available indices of class 2 to crop, setting the crop ratio of this class to zero.\n",
      "  warnings.warn(\n",
      "/usr/local/lib/python3.10/dist-packages/monai/transforms/utils.py:743: UserWarning: no available indices of class 2 to crop, setting the crop ratio of this class to zero.\n",
      "  warnings.warn(\n",
      "/usr/local/lib/python3.10/dist-packages/monai/transforms/utils.py:743: UserWarning: no available indices of class 7 to crop, setting the crop ratio of this class to zero.\n",
      "  warnings.warn(\n",
      "/usr/local/lib/python3.10/dist-packages/monai/transforms/utils.py:743: UserWarning: no available indices of class 7 to crop, setting the crop ratio of this class to zero.\n",
      "  warnings.warn(\n"
     ]
    },
    {
     "name": "stdout",
     "output_type": "stream",
     "text": [
      "Batch 1/10, train_loss: 0.7444\n",
      "Batch 2/10, train_loss: 0.7113\n",
      "Batch 3/10, train_loss: 0.7117\n",
      "Batch 4/10, train_loss: 0.7165\n",
      "Batch 5/10, train_loss: 0.7318\n",
      "Batch 6/10, train_loss: 0.7282\n",
      "Batch 7/10, train_loss: 0.7109\n",
      "Batch 8/10, train_loss: 0.7101\n",
      "Batch 9/10, train_loss: 0.7203\n",
      "Batch 10/10, train_loss: 0.7201\n",
      "Epoch 91 average loss: 0.7205\n",
      "----------\n",
      "Epoch 92/200\n"
     ]
    },
    {
     "name": "stderr",
     "output_type": "stream",
     "text": [
      "/usr/local/lib/python3.10/dist-packages/monai/transforms/utils.py:743: UserWarning: no available indices of class 2 to crop, setting the crop ratio of this class to zero.\n",
      "  warnings.warn(\n",
      "/usr/local/lib/python3.10/dist-packages/monai/transforms/utils.py:743: UserWarning: no available indices of class 2 to crop, setting the crop ratio of this class to zero.\n",
      "  warnings.warn(\n",
      "/usr/local/lib/python3.10/dist-packages/monai/transforms/utils.py:743: UserWarning: no available indices of class 7 to crop, setting the crop ratio of this class to zero.\n",
      "  warnings.warn(\n",
      "/usr/local/lib/python3.10/dist-packages/monai/transforms/utils.py:743: UserWarning: no available indices of class 7 to crop, setting the crop ratio of this class to zero.\n",
      "  warnings.warn(\n",
      "/usr/local/lib/python3.10/dist-packages/monai/transforms/utils.py:743: UserWarning: no available indices of class 2 to crop, setting the crop ratio of this class to zero.\n",
      "  warnings.warn(\n",
      "/usr/local/lib/python3.10/dist-packages/monai/transforms/utils.py:743: UserWarning: no available indices of class 2 to crop, setting the crop ratio of this class to zero.\n",
      "  warnings.warn(\n",
      "/usr/local/lib/python3.10/dist-packages/monai/transforms/utils.py:743: UserWarning: no available indices of class 7 to crop, setting the crop ratio of this class to zero.\n",
      "  warnings.warn(\n",
      "/usr/local/lib/python3.10/dist-packages/monai/transforms/utils.py:743: UserWarning: no available indices of class 7 to crop, setting the crop ratio of this class to zero.\n",
      "  warnings.warn(\n"
     ]
    },
    {
     "name": "stdout",
     "output_type": "stream",
     "text": [
      "Batch 1/10, train_loss: 0.7265\n",
      "Batch 2/10, train_loss: 0.7176\n",
      "Batch 3/10, train_loss: 0.7027\n",
      "Batch 4/10, train_loss: 0.7496\n",
      "Batch 5/10, train_loss: 0.6950\n",
      "Batch 6/10, train_loss: 0.7519\n",
      "Batch 7/10, train_loss: 0.7021\n",
      "Batch 8/10, train_loss: 0.6848\n",
      "Batch 9/10, train_loss: 0.6870\n",
      "Batch 10/10, train_loss: 0.7427\n",
      "Epoch 92 average loss: 0.7160\n"
     ]
    },
    {
     "name": "stderr",
     "output_type": "stream",
     "text": [
      "/usr/local/lib/python3.10/dist-packages/monai/transforms/utils.py:743: UserWarning: no available indices of class 2 to crop, setting the crop ratio of this class to zero.\n",
      "  warnings.warn(\n",
      "/usr/local/lib/python3.10/dist-packages/monai/transforms/utils.py:743: UserWarning: no available indices of class 7 to crop, setting the crop ratio of this class to zero.\n",
      "  warnings.warn(\n",
      "/usr/local/lib/python3.10/dist-packages/monai/transforms/utils.py:743: UserWarning: no available indices of class 2 to crop, setting the crop ratio of this class to zero.\n",
      "  warnings.warn(\n",
      "/usr/local/lib/python3.10/dist-packages/monai/transforms/utils.py:743: UserWarning: no available indices of class 7 to crop, setting the crop ratio of this class to zero.\n",
      "  warnings.warn(\n"
     ]
    },
    {
     "name": "stdout",
     "output_type": "stream",
     "text": [
      "current epoch: 92 current mean recall per class: 0.5479, 0, 0.355, 0.5261, 0.3139, 0.4156, 0\n",
      "best mean recall: 0.3252 at epoch: 88\n",
      "----------\n",
      "Epoch 93/200\n"
     ]
    },
    {
     "name": "stderr",
     "output_type": "stream",
     "text": [
      "/usr/local/lib/python3.10/dist-packages/monai/transforms/utils.py:743: UserWarning: no available indices of class 2 to crop, setting the crop ratio of this class to zero.\n",
      "  warnings.warn(\n",
      "/usr/local/lib/python3.10/dist-packages/monai/transforms/utils.py:743: UserWarning: no available indices of class 7 to crop, setting the crop ratio of this class to zero.\n",
      "  warnings.warn(\n",
      "/usr/local/lib/python3.10/dist-packages/monai/transforms/utils.py:743: UserWarning: no available indices of class 2 to crop, setting the crop ratio of this class to zero.\n",
      "  warnings.warn(\n",
      "/usr/local/lib/python3.10/dist-packages/monai/transforms/utils.py:743: UserWarning: no available indices of class 7 to crop, setting the crop ratio of this class to zero.\n",
      "  warnings.warn(\n",
      "/usr/local/lib/python3.10/dist-packages/monai/transforms/utils.py:743: UserWarning: no available indices of class 2 to crop, setting the crop ratio of this class to zero.\n",
      "  warnings.warn(\n",
      "/usr/local/lib/python3.10/dist-packages/monai/transforms/utils.py:743: UserWarning: no available indices of class 7 to crop, setting the crop ratio of this class to zero.\n",
      "  warnings.warn(\n",
      "/usr/local/lib/python3.10/dist-packages/monai/transforms/utils.py:743: UserWarning: no available indices of class 2 to crop, setting the crop ratio of this class to zero.\n",
      "  warnings.warn(\n",
      "/usr/local/lib/python3.10/dist-packages/monai/transforms/utils.py:743: UserWarning: no available indices of class 7 to crop, setting the crop ratio of this class to zero.\n",
      "  warnings.warn(\n"
     ]
    },
    {
     "name": "stdout",
     "output_type": "stream",
     "text": [
      "Batch 1/10, train_loss: 0.7239\n",
      "Batch 2/10, train_loss: 0.7238\n",
      "Batch 3/10, train_loss: 0.7026\n",
      "Batch 4/10, train_loss: 0.7267\n",
      "Batch 5/10, train_loss: 0.7186\n",
      "Batch 6/10, train_loss: 0.7059\n",
      "Batch 7/10, train_loss: 0.7045\n",
      "Batch 8/10, train_loss: 0.7019\n",
      "Batch 9/10, train_loss: 0.7169\n",
      "Batch 10/10, train_loss: 0.7512\n",
      "Epoch 93 average loss: 0.7176\n",
      "----------\n",
      "Epoch 94/200\n"
     ]
    },
    {
     "name": "stderr",
     "output_type": "stream",
     "text": [
      "/usr/local/lib/python3.10/dist-packages/monai/transforms/utils.py:743: UserWarning: no available indices of class 2 to crop, setting the crop ratio of this class to zero.\n",
      "  warnings.warn(\n",
      "/usr/local/lib/python3.10/dist-packages/monai/transforms/utils.py:743: UserWarning: no available indices of class 7 to crop, setting the crop ratio of this class to zero.\n",
      "  warnings.warn(\n",
      "/usr/local/lib/python3.10/dist-packages/monai/transforms/utils.py:743: UserWarning: no available indices of class 2 to crop, setting the crop ratio of this class to zero.\n",
      "  warnings.warn(\n",
      "/usr/local/lib/python3.10/dist-packages/monai/transforms/utils.py:743: UserWarning: no available indices of class 7 to crop, setting the crop ratio of this class to zero.\n",
      "  warnings.warn(\n",
      "/usr/local/lib/python3.10/dist-packages/monai/transforms/utils.py:743: UserWarning: no available indices of class 2 to crop, setting the crop ratio of this class to zero.\n",
      "  warnings.warn(\n",
      "/usr/local/lib/python3.10/dist-packages/monai/transforms/utils.py:743: UserWarning: no available indices of class 2 to crop, setting the crop ratio of this class to zero.\n",
      "  warnings.warn(\n",
      "/usr/local/lib/python3.10/dist-packages/monai/transforms/utils.py:743: UserWarning: no available indices of class 7 to crop, setting the crop ratio of this class to zero.\n",
      "  warnings.warn(\n",
      "/usr/local/lib/python3.10/dist-packages/monai/transforms/utils.py:743: UserWarning: no available indices of class 7 to crop, setting the crop ratio of this class to zero.\n",
      "  warnings.warn(\n"
     ]
    },
    {
     "name": "stdout",
     "output_type": "stream",
     "text": [
      "Batch 1/10, train_loss: 0.7266\n",
      "Batch 2/10, train_loss: 0.6976\n",
      "Batch 3/10, train_loss: 0.7153\n",
      "Batch 4/10, train_loss: 0.7051\n",
      "Batch 5/10, train_loss: 0.7162\n",
      "Batch 6/10, train_loss: 0.7090\n",
      "Batch 7/10, train_loss: 0.7335\n",
      "Batch 8/10, train_loss: 0.7074\n",
      "Batch 9/10, train_loss: 0.7873\n",
      "Batch 10/10, train_loss: 0.7260\n",
      "Epoch 94 average loss: 0.7224\n"
     ]
    },
    {
     "name": "stderr",
     "output_type": "stream",
     "text": [
      "/usr/local/lib/python3.10/dist-packages/monai/transforms/utils.py:743: UserWarning: no available indices of class 2 to crop, setting the crop ratio of this class to zero.\n",
      "  warnings.warn(\n",
      "/usr/local/lib/python3.10/dist-packages/monai/transforms/utils.py:743: UserWarning: no available indices of class 7 to crop, setting the crop ratio of this class to zero.\n",
      "  warnings.warn(\n",
      "/usr/local/lib/python3.10/dist-packages/monai/transforms/utils.py:743: UserWarning: no available indices of class 2 to crop, setting the crop ratio of this class to zero.\n",
      "  warnings.warn(\n",
      "/usr/local/lib/python3.10/dist-packages/monai/transforms/utils.py:743: UserWarning: no available indices of class 7 to crop, setting the crop ratio of this class to zero.\n",
      "  warnings.warn(\n"
     ]
    },
    {
     "name": "stdout",
     "output_type": "stream",
     "text": [
      "current epoch: 94 current mean recall per class: 0.6686, 0, 0.3439, 0.4999, 0.312, 0.4289, 0\n",
      "best mean recall: 0.3252 at epoch: 88\n",
      "----------\n",
      "Epoch 95/200\n"
     ]
    },
    {
     "name": "stderr",
     "output_type": "stream",
     "text": [
      "/usr/local/lib/python3.10/dist-packages/monai/transforms/utils.py:743: UserWarning: no available indices of class 2 to crop, setting the crop ratio of this class to zero.\n",
      "  warnings.warn(\n",
      "/usr/local/lib/python3.10/dist-packages/monai/transforms/utils.py:743: UserWarning: no available indices of class 7 to crop, setting the crop ratio of this class to zero.\n",
      "  warnings.warn(\n",
      "/usr/local/lib/python3.10/dist-packages/monai/transforms/utils.py:743: UserWarning: no available indices of class 2 to crop, setting the crop ratio of this class to zero.\n",
      "  warnings.warn(\n",
      "/usr/local/lib/python3.10/dist-packages/monai/transforms/utils.py:743: UserWarning: no available indices of class 7 to crop, setting the crop ratio of this class to zero.\n",
      "  warnings.warn(\n",
      "/usr/local/lib/python3.10/dist-packages/monai/transforms/utils.py:743: UserWarning: no available indices of class 2 to crop, setting the crop ratio of this class to zero.\n",
      "  warnings.warn(\n",
      "/usr/local/lib/python3.10/dist-packages/monai/transforms/utils.py:743: UserWarning: no available indices of class 2 to crop, setting the crop ratio of this class to zero.\n",
      "  warnings.warn(\n",
      "/usr/local/lib/python3.10/dist-packages/monai/transforms/utils.py:743: UserWarning: no available indices of class 7 to crop, setting the crop ratio of this class to zero.\n",
      "  warnings.warn(\n",
      "/usr/local/lib/python3.10/dist-packages/monai/transforms/utils.py:743: UserWarning: no available indices of class 7 to crop, setting the crop ratio of this class to zero.\n",
      "  warnings.warn(\n"
     ]
    },
    {
     "name": "stdout",
     "output_type": "stream",
     "text": [
      "Batch 1/10, train_loss: 0.7295\n",
      "Batch 2/10, train_loss: 0.7377\n",
      "Batch 3/10, train_loss: 0.7293\n",
      "Batch 4/10, train_loss: 0.7269\n",
      "Batch 5/10, train_loss: 0.7064\n",
      "Batch 6/10, train_loss: 0.6986\n",
      "Batch 7/10, train_loss: 0.7228\n",
      "Batch 8/10, train_loss: 0.7286\n",
      "Batch 9/10, train_loss: 0.6956\n",
      "Batch 10/10, train_loss: 0.7066\n",
      "Epoch 95 average loss: 0.7182\n",
      "----------\n",
      "Epoch 96/200\n"
     ]
    },
    {
     "name": "stderr",
     "output_type": "stream",
     "text": [
      "/usr/local/lib/python3.10/dist-packages/monai/transforms/utils.py:743: UserWarning: no available indices of class 2 to crop, setting the crop ratio of this class to zero.\n",
      "  warnings.warn(\n",
      "/usr/local/lib/python3.10/dist-packages/monai/transforms/utils.py:743: UserWarning: no available indices of class 7 to crop, setting the crop ratio of this class to zero.\n",
      "  warnings.warn(\n",
      "/usr/local/lib/python3.10/dist-packages/monai/transforms/utils.py:743: UserWarning: no available indices of class 2 to crop, setting the crop ratio of this class to zero.\n",
      "  warnings.warn(\n",
      "/usr/local/lib/python3.10/dist-packages/monai/transforms/utils.py:743: UserWarning: no available indices of class 2 to crop, setting the crop ratio of this class to zero.\n",
      "  warnings.warn(\n",
      "/usr/local/lib/python3.10/dist-packages/monai/transforms/utils.py:743: UserWarning: no available indices of class 7 to crop, setting the crop ratio of this class to zero.\n",
      "  warnings.warn(\n",
      "/usr/local/lib/python3.10/dist-packages/monai/transforms/utils.py:743: UserWarning: no available indices of class 7 to crop, setting the crop ratio of this class to zero.\n",
      "  warnings.warn(\n",
      "/usr/local/lib/python3.10/dist-packages/monai/transforms/utils.py:743: UserWarning: no available indices of class 2 to crop, setting the crop ratio of this class to zero.\n",
      "  warnings.warn(\n",
      "/usr/local/lib/python3.10/dist-packages/monai/transforms/utils.py:743: UserWarning: no available indices of class 7 to crop, setting the crop ratio of this class to zero.\n",
      "  warnings.warn(\n"
     ]
    },
    {
     "name": "stdout",
     "output_type": "stream",
     "text": [
      "Batch 1/10, train_loss: 0.6979\n",
      "Batch 2/10, train_loss: 0.7143\n",
      "Batch 3/10, train_loss: 0.7042\n",
      "Batch 4/10, train_loss: 0.7356\n",
      "Batch 5/10, train_loss: 0.7143\n",
      "Batch 6/10, train_loss: 0.7640\n",
      "Batch 7/10, train_loss: 0.7041\n",
      "Batch 8/10, train_loss: 0.7197\n",
      "Batch 9/10, train_loss: 0.7275\n",
      "Batch 10/10, train_loss: 0.7075\n",
      "Epoch 96 average loss: 0.7189\n"
     ]
    },
    {
     "name": "stderr",
     "output_type": "stream",
     "text": [
      "/usr/local/lib/python3.10/dist-packages/monai/transforms/utils.py:743: UserWarning: no available indices of class 2 to crop, setting the crop ratio of this class to zero.\n",
      "  warnings.warn(\n",
      "/usr/local/lib/python3.10/dist-packages/monai/transforms/utils.py:743: UserWarning: no available indices of class 7 to crop, setting the crop ratio of this class to zero.\n",
      "  warnings.warn(\n",
      "/usr/local/lib/python3.10/dist-packages/monai/transforms/utils.py:743: UserWarning: no available indices of class 2 to crop, setting the crop ratio of this class to zero.\n",
      "  warnings.warn(\n",
      "/usr/local/lib/python3.10/dist-packages/monai/transforms/utils.py:743: UserWarning: no available indices of class 7 to crop, setting the crop ratio of this class to zero.\n",
      "  warnings.warn(\n"
     ]
    },
    {
     "name": "stdout",
     "output_type": "stream",
     "text": [
      "current epoch: 96 current mean recall per class: 0.5452, 0, 0.2847, 0.6166, 0.3262, 0.407, 0\n",
      "best mean recall: 0.3252 at epoch: 88\n",
      "----------\n",
      "Epoch 97/200\n"
     ]
    },
    {
     "name": "stderr",
     "output_type": "stream",
     "text": [
      "/usr/local/lib/python3.10/dist-packages/monai/transforms/utils.py:743: UserWarning: no available indices of class 2 to crop, setting the crop ratio of this class to zero.\n",
      "  warnings.warn(\n",
      "/usr/local/lib/python3.10/dist-packages/monai/transforms/utils.py:743: UserWarning: no available indices of class 2 to crop, setting the crop ratio of this class to zero.\n",
      "  warnings.warn(\n",
      "/usr/local/lib/python3.10/dist-packages/monai/transforms/utils.py:743: UserWarning: no available indices of class 7 to crop, setting the crop ratio of this class to zero.\n",
      "  warnings.warn(\n",
      "/usr/local/lib/python3.10/dist-packages/monai/transforms/utils.py:743: UserWarning: no available indices of class 7 to crop, setting the crop ratio of this class to zero.\n",
      "  warnings.warn(\n",
      "/usr/local/lib/python3.10/dist-packages/monai/transforms/utils.py:743: UserWarning: no available indices of class 2 to crop, setting the crop ratio of this class to zero.\n",
      "  warnings.warn(\n",
      "/usr/local/lib/python3.10/dist-packages/monai/transforms/utils.py:743: UserWarning: no available indices of class 7 to crop, setting the crop ratio of this class to zero.\n",
      "  warnings.warn(\n",
      "/usr/local/lib/python3.10/dist-packages/monai/transforms/utils.py:743: UserWarning: no available indices of class 2 to crop, setting the crop ratio of this class to zero.\n",
      "  warnings.warn(\n",
      "/usr/local/lib/python3.10/dist-packages/monai/transforms/utils.py:743: UserWarning: no available indices of class 7 to crop, setting the crop ratio of this class to zero.\n",
      "  warnings.warn(\n"
     ]
    },
    {
     "name": "stdout",
     "output_type": "stream",
     "text": [
      "Batch 1/10, train_loss: 0.7023\n",
      "Batch 2/10, train_loss: 0.7096\n",
      "Batch 3/10, train_loss: 0.7175\n",
      "Batch 4/10, train_loss: 0.7354\n",
      "Batch 5/10, train_loss: 0.6809\n",
      "Batch 6/10, train_loss: 0.7128\n",
      "Batch 7/10, train_loss: 0.6970\n",
      "Batch 8/10, train_loss: 0.7118\n",
      "Batch 9/10, train_loss: 0.6985\n",
      "Batch 10/10, train_loss: 0.7041\n",
      "Epoch 97 average loss: 0.7070\n",
      "----------\n",
      "Epoch 98/200\n"
     ]
    },
    {
     "name": "stderr",
     "output_type": "stream",
     "text": [
      "/usr/local/lib/python3.10/dist-packages/monai/transforms/utils.py:743: UserWarning: no available indices of class 2 to crop, setting the crop ratio of this class to zero.\n",
      "  warnings.warn(\n",
      "/usr/local/lib/python3.10/dist-packages/monai/transforms/utils.py:743: UserWarning: no available indices of class 7 to crop, setting the crop ratio of this class to zero.\n",
      "  warnings.warn(\n",
      "/usr/local/lib/python3.10/dist-packages/monai/transforms/utils.py:743: UserWarning: no available indices of class 2 to crop, setting the crop ratio of this class to zero.\n",
      "  warnings.warn(\n",
      "/usr/local/lib/python3.10/dist-packages/monai/transforms/utils.py:743: UserWarning: no available indices of class 2 to crop, setting the crop ratio of this class to zero.\n",
      "  warnings.warn(\n",
      "/usr/local/lib/python3.10/dist-packages/monai/transforms/utils.py:743: UserWarning: no available indices of class 7 to crop, setting the crop ratio of this class to zero.\n",
      "  warnings.warn(\n",
      "/usr/local/lib/python3.10/dist-packages/monai/transforms/utils.py:743: UserWarning: no available indices of class 7 to crop, setting the crop ratio of this class to zero.\n",
      "  warnings.warn(\n",
      "/usr/local/lib/python3.10/dist-packages/monai/transforms/utils.py:743: UserWarning: no available indices of class 2 to crop, setting the crop ratio of this class to zero.\n",
      "  warnings.warn(\n",
      "/usr/local/lib/python3.10/dist-packages/monai/transforms/utils.py:743: UserWarning: no available indices of class 7 to crop, setting the crop ratio of this class to zero.\n",
      "  warnings.warn(\n"
     ]
    },
    {
     "name": "stdout",
     "output_type": "stream",
     "text": [
      "Batch 1/10, train_loss: 0.7508\n",
      "Batch 2/10, train_loss: 0.7046\n",
      "Batch 3/10, train_loss: 0.7183\n",
      "Batch 4/10, train_loss: 0.7247\n",
      "Batch 5/10, train_loss: 0.6900\n",
      "Batch 6/10, train_loss: 0.7121\n",
      "Batch 7/10, train_loss: 0.7108\n",
      "Batch 8/10, train_loss: 0.7436\n",
      "Batch 9/10, train_loss: 0.6896\n",
      "Batch 10/10, train_loss: 0.7087\n",
      "Epoch 98 average loss: 0.7153\n"
     ]
    },
    {
     "name": "stderr",
     "output_type": "stream",
     "text": [
      "/usr/local/lib/python3.10/dist-packages/monai/transforms/utils.py:743: UserWarning: no available indices of class 2 to crop, setting the crop ratio of this class to zero.\n",
      "  warnings.warn(\n",
      "/usr/local/lib/python3.10/dist-packages/monai/transforms/utils.py:743: UserWarning: no available indices of class 7 to crop, setting the crop ratio of this class to zero.\n",
      "  warnings.warn(\n",
      "/usr/local/lib/python3.10/dist-packages/monai/transforms/utils.py:743: UserWarning: no available indices of class 2 to crop, setting the crop ratio of this class to zero.\n",
      "  warnings.warn(\n",
      "/usr/local/lib/python3.10/dist-packages/monai/transforms/utils.py:743: UserWarning: no available indices of class 7 to crop, setting the crop ratio of this class to zero.\n",
      "  warnings.warn(\n"
     ]
    },
    {
     "name": "stdout",
     "output_type": "stream",
     "text": [
      "current epoch: 98 current mean recall per class: 0.712, 0, 0.2555, 0.4734, 0.3751, 0.4419, 0\n",
      "best mean recall: 0.3252 at epoch: 88\n",
      "----------\n",
      "Epoch 99/200\n"
     ]
    },
    {
     "name": "stderr",
     "output_type": "stream",
     "text": [
      "/usr/local/lib/python3.10/dist-packages/monai/transforms/utils.py:743: UserWarning: no available indices of class 2 to crop, setting the crop ratio of this class to zero.\n",
      "  warnings.warn(\n",
      "/usr/local/lib/python3.10/dist-packages/monai/transforms/utils.py:743: UserWarning: no available indices of class 7 to crop, setting the crop ratio of this class to zero.\n",
      "  warnings.warn(\n",
      "/usr/local/lib/python3.10/dist-packages/monai/transforms/utils.py:743: UserWarning: no available indices of class 2 to crop, setting the crop ratio of this class to zero.\n",
      "  warnings.warn(\n",
      "/usr/local/lib/python3.10/dist-packages/monai/transforms/utils.py:743: UserWarning: no available indices of class 7 to crop, setting the crop ratio of this class to zero.\n",
      "  warnings.warn(\n",
      "/usr/local/lib/python3.10/dist-packages/monai/transforms/utils.py:743: UserWarning: no available indices of class 2 to crop, setting the crop ratio of this class to zero.\n",
      "  warnings.warn(\n",
      "/usr/local/lib/python3.10/dist-packages/monai/transforms/utils.py:743: UserWarning: no available indices of class 2 to crop, setting the crop ratio of this class to zero.\n",
      "  warnings.warn(\n",
      "/usr/local/lib/python3.10/dist-packages/monai/transforms/utils.py:743: UserWarning: no available indices of class 7 to crop, setting the crop ratio of this class to zero.\n",
      "  warnings.warn(\n",
      "/usr/local/lib/python3.10/dist-packages/monai/transforms/utils.py:743: UserWarning: no available indices of class 7 to crop, setting the crop ratio of this class to zero.\n",
      "  warnings.warn(\n"
     ]
    },
    {
     "name": "stdout",
     "output_type": "stream",
     "text": [
      "Batch 1/10, train_loss: 0.7707\n",
      "Batch 2/10, train_loss: 0.7212\n",
      "Batch 3/10, train_loss: 0.6904\n",
      "Batch 4/10, train_loss: 0.7231\n",
      "Batch 5/10, train_loss: 0.7051\n",
      "Batch 6/10, train_loss: 0.7352\n",
      "Batch 7/10, train_loss: 0.7516\n",
      "Batch 8/10, train_loss: 0.7246\n",
      "Batch 9/10, train_loss: 0.7307\n",
      "Batch 10/10, train_loss: 0.7417\n",
      "Epoch 99 average loss: 0.7294\n",
      "----------\n",
      "Epoch 100/200\n"
     ]
    },
    {
     "name": "stderr",
     "output_type": "stream",
     "text": [
      "/usr/local/lib/python3.10/dist-packages/monai/transforms/utils.py:743: UserWarning: no available indices of class 2 to crop, setting the crop ratio of this class to zero.\n",
      "  warnings.warn(\n",
      "/usr/local/lib/python3.10/dist-packages/monai/transforms/utils.py:743: UserWarning: no available indices of class 7 to crop, setting the crop ratio of this class to zero.\n",
      "  warnings.warn(\n",
      "/usr/local/lib/python3.10/dist-packages/monai/transforms/utils.py:743: UserWarning: no available indices of class 2 to crop, setting the crop ratio of this class to zero.\n",
      "  warnings.warn(\n",
      "/usr/local/lib/python3.10/dist-packages/monai/transforms/utils.py:743: UserWarning: no available indices of class 7 to crop, setting the crop ratio of this class to zero.\n",
      "  warnings.warn(\n",
      "/usr/local/lib/python3.10/dist-packages/monai/transforms/utils.py:743: UserWarning: no available indices of class 2 to crop, setting the crop ratio of this class to zero.\n",
      "  warnings.warn(\n",
      "/usr/local/lib/python3.10/dist-packages/monai/transforms/utils.py:743: UserWarning: no available indices of class 7 to crop, setting the crop ratio of this class to zero.\n",
      "  warnings.warn(\n",
      "/usr/local/lib/python3.10/dist-packages/monai/transforms/utils.py:743: UserWarning: no available indices of class 2 to crop, setting the crop ratio of this class to zero.\n",
      "  warnings.warn(\n",
      "/usr/local/lib/python3.10/dist-packages/monai/transforms/utils.py:743: UserWarning: no available indices of class 7 to crop, setting the crop ratio of this class to zero.\n",
      "  warnings.warn(\n"
     ]
    },
    {
     "name": "stdout",
     "output_type": "stream",
     "text": [
      "Batch 1/10, train_loss: 0.7357\n",
      "Batch 2/10, train_loss: 0.6711\n",
      "Batch 3/10, train_loss: 0.6869\n",
      "Batch 4/10, train_loss: 0.7349\n",
      "Batch 5/10, train_loss: 0.6504\n",
      "Batch 6/10, train_loss: 0.7322\n",
      "Batch 7/10, train_loss: 0.7511\n",
      "Batch 8/10, train_loss: 0.7236\n",
      "Batch 9/10, train_loss: 0.7089\n",
      "Batch 10/10, train_loss: 0.7259\n",
      "Epoch 100 average loss: 0.7121\n"
     ]
    },
    {
     "name": "stderr",
     "output_type": "stream",
     "text": [
      "/usr/local/lib/python3.10/dist-packages/monai/transforms/utils.py:743: UserWarning: no available indices of class 2 to crop, setting the crop ratio of this class to zero.\n",
      "  warnings.warn(\n",
      "/usr/local/lib/python3.10/dist-packages/monai/transforms/utils.py:743: UserWarning: no available indices of class 7 to crop, setting the crop ratio of this class to zero.\n",
      "  warnings.warn(\n",
      "/usr/local/lib/python3.10/dist-packages/monai/transforms/utils.py:743: UserWarning: no available indices of class 2 to crop, setting the crop ratio of this class to zero.\n",
      "  warnings.warn(\n",
      "/usr/local/lib/python3.10/dist-packages/monai/transforms/utils.py:743: UserWarning: no available indices of class 7 to crop, setting the crop ratio of this class to zero.\n",
      "  warnings.warn(\n"
     ]
    },
    {
     "name": "stdout",
     "output_type": "stream",
     "text": [
      "saved new best metric model\n",
      "current epoch: 100 current mean recall per class: 0.6316, 0, 0.2847, 0.5841, 0.3613, 0.49, 0\n",
      "best mean recall: 0.3359 at epoch: 100\n",
      "----------\n",
      "Epoch 101/200\n"
     ]
    },
    {
     "name": "stderr",
     "output_type": "stream",
     "text": [
      "/usr/local/lib/python3.10/dist-packages/monai/transforms/utils.py:743: UserWarning: no available indices of class 2 to crop, setting the crop ratio of this class to zero.\n",
      "  warnings.warn(\n",
      "/usr/local/lib/python3.10/dist-packages/monai/transforms/utils.py:743: UserWarning: no available indices of class 2 to crop, setting the crop ratio of this class to zero.\n",
      "  warnings.warn(\n",
      "/usr/local/lib/python3.10/dist-packages/monai/transforms/utils.py:743: UserWarning: no available indices of class 2 to crop, setting the crop ratio of this class to zero.\n",
      "  warnings.warn(\n",
      "/usr/local/lib/python3.10/dist-packages/monai/transforms/utils.py:743: UserWarning: no available indices of class 7 to crop, setting the crop ratio of this class to zero.\n",
      "  warnings.warn(\n",
      "/usr/local/lib/python3.10/dist-packages/monai/transforms/utils.py:743: UserWarning: no available indices of class 2 to crop, setting the crop ratio of this class to zero.\n",
      "  warnings.warn(\n",
      "/usr/local/lib/python3.10/dist-packages/monai/transforms/utils.py:743: UserWarning: no available indices of class 7 to crop, setting the crop ratio of this class to zero.\n",
      "  warnings.warn(\n",
      "/usr/local/lib/python3.10/dist-packages/monai/transforms/utils.py:743: UserWarning: no available indices of class 7 to crop, setting the crop ratio of this class to zero.\n",
      "  warnings.warn(\n",
      "/usr/local/lib/python3.10/dist-packages/monai/transforms/utils.py:743: UserWarning: no available indices of class 7 to crop, setting the crop ratio of this class to zero.\n",
      "  warnings.warn(\n"
     ]
    },
    {
     "name": "stdout",
     "output_type": "stream",
     "text": [
      "Batch 1/10, train_loss: 0.7647\n",
      "Batch 2/10, train_loss: 0.7226\n",
      "Batch 3/10, train_loss: 0.7143\n",
      "Batch 4/10, train_loss: 0.7342\n",
      "Batch 5/10, train_loss: 0.6943\n",
      "Batch 6/10, train_loss: 0.7299\n",
      "Batch 7/10, train_loss: 0.7079\n",
      "Batch 8/10, train_loss: 0.7160\n",
      "Batch 9/10, train_loss: 0.6978\n",
      "Batch 10/10, train_loss: 0.6921\n",
      "Epoch 101 average loss: 0.7174\n",
      "----------\n",
      "Epoch 102/200\n"
     ]
    },
    {
     "name": "stderr",
     "output_type": "stream",
     "text": [
      "/usr/local/lib/python3.10/dist-packages/monai/transforms/utils.py:743: UserWarning: no available indices of class 2 to crop, setting the crop ratio of this class to zero.\n",
      "  warnings.warn(\n",
      "/usr/local/lib/python3.10/dist-packages/monai/transforms/utils.py:743: UserWarning: no available indices of class 7 to crop, setting the crop ratio of this class to zero.\n",
      "  warnings.warn(\n",
      "/usr/local/lib/python3.10/dist-packages/monai/transforms/utils.py:743: UserWarning: no available indices of class 2 to crop, setting the crop ratio of this class to zero.\n",
      "  warnings.warn(\n",
      "/usr/local/lib/python3.10/dist-packages/monai/transforms/utils.py:743: UserWarning: no available indices of class 7 to crop, setting the crop ratio of this class to zero.\n",
      "  warnings.warn(\n",
      "/usr/local/lib/python3.10/dist-packages/monai/transforms/utils.py:743: UserWarning: no available indices of class 2 to crop, setting the crop ratio of this class to zero.\n",
      "  warnings.warn(\n",
      "/usr/local/lib/python3.10/dist-packages/monai/transforms/utils.py:743: UserWarning: no available indices of class 2 to crop, setting the crop ratio of this class to zero.\n",
      "  warnings.warn(\n",
      "/usr/local/lib/python3.10/dist-packages/monai/transforms/utils.py:743: UserWarning: no available indices of class 7 to crop, setting the crop ratio of this class to zero.\n",
      "  warnings.warn(\n",
      "/usr/local/lib/python3.10/dist-packages/monai/transforms/utils.py:743: UserWarning: no available indices of class 7 to crop, setting the crop ratio of this class to zero.\n",
      "  warnings.warn(\n"
     ]
    },
    {
     "name": "stdout",
     "output_type": "stream",
     "text": [
      "Batch 1/10, train_loss: 0.7015\n",
      "Batch 2/10, train_loss: 0.7161\n",
      "Batch 3/10, train_loss: 0.7766\n",
      "Batch 4/10, train_loss: 0.7244\n",
      "Batch 5/10, train_loss: 0.7541\n",
      "Batch 6/10, train_loss: 0.7120\n",
      "Batch 7/10, train_loss: 0.7266\n",
      "Batch 8/10, train_loss: 0.7078\n",
      "Batch 9/10, train_loss: 0.7216\n",
      "Batch 10/10, train_loss: 0.7017\n",
      "Epoch 102 average loss: 0.7242\n"
     ]
    },
    {
     "name": "stderr",
     "output_type": "stream",
     "text": [
      "/usr/local/lib/python3.10/dist-packages/monai/transforms/utils.py:743: UserWarning: no available indices of class 2 to crop, setting the crop ratio of this class to zero.\n",
      "  warnings.warn(\n",
      "/usr/local/lib/python3.10/dist-packages/monai/transforms/utils.py:743: UserWarning: no available indices of class 7 to crop, setting the crop ratio of this class to zero.\n",
      "  warnings.warn(\n",
      "/usr/local/lib/python3.10/dist-packages/monai/transforms/utils.py:743: UserWarning: no available indices of class 2 to crop, setting the crop ratio of this class to zero.\n",
      "  warnings.warn(\n",
      "/usr/local/lib/python3.10/dist-packages/monai/transforms/utils.py:743: UserWarning: no available indices of class 7 to crop, setting the crop ratio of this class to zero.\n",
      "  warnings.warn(\n"
     ]
    },
    {
     "name": "stdout",
     "output_type": "stream",
     "text": [
      "current epoch: 102 current mean recall per class: 0.5391, 0, 0.4187, 0.6148, 0.3106, 0.4565, 0\n",
      "best mean recall: 0.3359 at epoch: 100\n",
      "----------\n",
      "Epoch 103/200\n"
     ]
    },
    {
     "name": "stderr",
     "output_type": "stream",
     "text": [
      "/usr/local/lib/python3.10/dist-packages/monai/transforms/utils.py:743: UserWarning: no available indices of class 2 to crop, setting the crop ratio of this class to zero.\n",
      "  warnings.warn(\n",
      "/usr/local/lib/python3.10/dist-packages/monai/transforms/utils.py:743: UserWarning: no available indices of class 7 to crop, setting the crop ratio of this class to zero.\n",
      "  warnings.warn(\n",
      "/usr/local/lib/python3.10/dist-packages/monai/transforms/utils.py:743: UserWarning: no available indices of class 2 to crop, setting the crop ratio of this class to zero.\n",
      "  warnings.warn(\n",
      "/usr/local/lib/python3.10/dist-packages/monai/transforms/utils.py:743: UserWarning: no available indices of class 7 to crop, setting the crop ratio of this class to zero.\n",
      "  warnings.warn(\n",
      "/usr/local/lib/python3.10/dist-packages/monai/transforms/utils.py:743: UserWarning: no available indices of class 2 to crop, setting the crop ratio of this class to zero.\n",
      "  warnings.warn(\n",
      "/usr/local/lib/python3.10/dist-packages/monai/transforms/utils.py:743: UserWarning: no available indices of class 7 to crop, setting the crop ratio of this class to zero.\n",
      "  warnings.warn(\n",
      "/usr/local/lib/python3.10/dist-packages/monai/transforms/utils.py:743: UserWarning: no available indices of class 2 to crop, setting the crop ratio of this class to zero.\n",
      "  warnings.warn(\n",
      "/usr/local/lib/python3.10/dist-packages/monai/transforms/utils.py:743: UserWarning: no available indices of class 7 to crop, setting the crop ratio of this class to zero.\n",
      "  warnings.warn(\n"
     ]
    },
    {
     "name": "stdout",
     "output_type": "stream",
     "text": [
      "Batch 1/10, train_loss: 0.7174\n",
      "Batch 2/10, train_loss: 0.6924\n",
      "Batch 3/10, train_loss: 0.7250\n",
      "Batch 4/10, train_loss: 0.7013\n",
      "Batch 5/10, train_loss: 0.6751\n",
      "Batch 6/10, train_loss: 0.7103\n",
      "Batch 7/10, train_loss: 0.7100\n",
      "Batch 8/10, train_loss: 0.7251\n",
      "Batch 9/10, train_loss: 0.7152\n",
      "Batch 10/10, train_loss: 0.7062\n",
      "Epoch 103 average loss: 0.7078\n",
      "----------\n",
      "Epoch 104/200\n"
     ]
    },
    {
     "name": "stderr",
     "output_type": "stream",
     "text": [
      "/usr/local/lib/python3.10/dist-packages/monai/transforms/utils.py:743: UserWarning: no available indices of class 2 to crop, setting the crop ratio of this class to zero.\n",
      "  warnings.warn(\n",
      "/usr/local/lib/python3.10/dist-packages/monai/transforms/utils.py:743: UserWarning: no available indices of class 7 to crop, setting the crop ratio of this class to zero.\n",
      "  warnings.warn(\n",
      "/usr/local/lib/python3.10/dist-packages/monai/transforms/utils.py:743: UserWarning: no available indices of class 2 to crop, setting the crop ratio of this class to zero.\n",
      "  warnings.warn(\n",
      "/usr/local/lib/python3.10/dist-packages/monai/transforms/utils.py:743: UserWarning: no available indices of class 7 to crop, setting the crop ratio of this class to zero.\n",
      "  warnings.warn(\n",
      "/usr/local/lib/python3.10/dist-packages/monai/transforms/utils.py:743: UserWarning: no available indices of class 2 to crop, setting the crop ratio of this class to zero.\n",
      "  warnings.warn(\n",
      "/usr/local/lib/python3.10/dist-packages/monai/transforms/utils.py:743: UserWarning: no available indices of class 7 to crop, setting the crop ratio of this class to zero.\n",
      "  warnings.warn(\n",
      "/usr/local/lib/python3.10/dist-packages/monai/transforms/utils.py:743: UserWarning: no available indices of class 2 to crop, setting the crop ratio of this class to zero.\n",
      "  warnings.warn(\n",
      "/usr/local/lib/python3.10/dist-packages/monai/transforms/utils.py:743: UserWarning: no available indices of class 7 to crop, setting the crop ratio of this class to zero.\n",
      "  warnings.warn(\n"
     ]
    },
    {
     "name": "stdout",
     "output_type": "stream",
     "text": [
      "Batch 1/10, train_loss: 0.6928\n",
      "Batch 2/10, train_loss: 0.7185\n",
      "Batch 3/10, train_loss: 0.6796\n",
      "Batch 4/10, train_loss: 0.7205\n",
      "Batch 5/10, train_loss: 0.7026\n",
      "Batch 6/10, train_loss: 0.6742\n",
      "Batch 7/10, train_loss: 0.7216\n",
      "Batch 8/10, train_loss: 0.6819\n",
      "Batch 9/10, train_loss: 0.7362\n",
      "Batch 10/10, train_loss: 0.6840\n",
      "Epoch 104 average loss: 0.7012\n"
     ]
    },
    {
     "name": "stderr",
     "output_type": "stream",
     "text": [
      "/usr/local/lib/python3.10/dist-packages/monai/transforms/utils.py:743: UserWarning: no available indices of class 2 to crop, setting the crop ratio of this class to zero.\n",
      "  warnings.warn(\n",
      "/usr/local/lib/python3.10/dist-packages/monai/transforms/utils.py:743: UserWarning: no available indices of class 7 to crop, setting the crop ratio of this class to zero.\n",
      "  warnings.warn(\n",
      "/usr/local/lib/python3.10/dist-packages/monai/transforms/utils.py:743: UserWarning: no available indices of class 2 to crop, setting the crop ratio of this class to zero.\n",
      "  warnings.warn(\n",
      "/usr/local/lib/python3.10/dist-packages/monai/transforms/utils.py:743: UserWarning: no available indices of class 7 to crop, setting the crop ratio of this class to zero.\n",
      "  warnings.warn(\n"
     ]
    },
    {
     "name": "stdout",
     "output_type": "stream",
     "text": [
      "current epoch: 104 current mean recall per class: 0.5052, 0, 0.3345, 0.6672, 0.3135, 0.4871, 0\n",
      "best mean recall: 0.3359 at epoch: 100\n",
      "----------\n",
      "Epoch 105/200\n"
     ]
    },
    {
     "name": "stderr",
     "output_type": "stream",
     "text": [
      "/usr/local/lib/python3.10/dist-packages/monai/transforms/utils.py:743: UserWarning: no available indices of class 2 to crop, setting the crop ratio of this class to zero.\n",
      "  warnings.warn(\n",
      "/usr/local/lib/python3.10/dist-packages/monai/transforms/utils.py:743: UserWarning: no available indices of class 7 to crop, setting the crop ratio of this class to zero.\n",
      "  warnings.warn(\n",
      "/usr/local/lib/python3.10/dist-packages/monai/transforms/utils.py:743: UserWarning: no available indices of class 2 to crop, setting the crop ratio of this class to zero.\n",
      "  warnings.warn(\n",
      "/usr/local/lib/python3.10/dist-packages/monai/transforms/utils.py:743: UserWarning: no available indices of class 7 to crop, setting the crop ratio of this class to zero.\n",
      "  warnings.warn(\n",
      "/usr/local/lib/python3.10/dist-packages/monai/transforms/utils.py:743: UserWarning: no available indices of class 2 to crop, setting the crop ratio of this class to zero.\n",
      "  warnings.warn(\n",
      "/usr/local/lib/python3.10/dist-packages/monai/transforms/utils.py:743: UserWarning: no available indices of class 7 to crop, setting the crop ratio of this class to zero.\n",
      "  warnings.warn(\n",
      "/usr/local/lib/python3.10/dist-packages/monai/transforms/utils.py:743: UserWarning: no available indices of class 2 to crop, setting the crop ratio of this class to zero.\n",
      "  warnings.warn(\n",
      "/usr/local/lib/python3.10/dist-packages/monai/transforms/utils.py:743: UserWarning: no available indices of class 7 to crop, setting the crop ratio of this class to zero.\n",
      "  warnings.warn(\n"
     ]
    },
    {
     "name": "stdout",
     "output_type": "stream",
     "text": [
      "Batch 1/10, train_loss: 0.6893\n",
      "Batch 2/10, train_loss: 0.7098\n",
      "Batch 3/10, train_loss: 0.6992\n",
      "Batch 4/10, train_loss: 0.7066\n",
      "Batch 5/10, train_loss: 0.7097\n",
      "Batch 6/10, train_loss: 0.7000\n",
      "Batch 7/10, train_loss: 0.7238\n",
      "Batch 8/10, train_loss: 0.7074\n",
      "Batch 9/10, train_loss: 0.7588\n",
      "Batch 10/10, train_loss: 0.7134\n",
      "Epoch 105 average loss: 0.7118\n",
      "----------\n",
      "Epoch 106/200\n"
     ]
    },
    {
     "name": "stderr",
     "output_type": "stream",
     "text": [
      "/usr/local/lib/python3.10/dist-packages/monai/transforms/utils.py:743: UserWarning: no available indices of class 2 to crop, setting the crop ratio of this class to zero.\n",
      "  warnings.warn(\n",
      "/usr/local/lib/python3.10/dist-packages/monai/transforms/utils.py:743: UserWarning: no available indices of class 7 to crop, setting the crop ratio of this class to zero.\n",
      "  warnings.warn(\n",
      "/usr/local/lib/python3.10/dist-packages/monai/transforms/utils.py:743: UserWarning: no available indices of class 2 to crop, setting the crop ratio of this class to zero.\n",
      "  warnings.warn(\n",
      "/usr/local/lib/python3.10/dist-packages/monai/transforms/utils.py:743: UserWarning: no available indices of class 7 to crop, setting the crop ratio of this class to zero.\n",
      "  warnings.warn(\n",
      "/usr/local/lib/python3.10/dist-packages/monai/transforms/utils.py:743: UserWarning: no available indices of class 2 to crop, setting the crop ratio of this class to zero.\n",
      "  warnings.warn(\n",
      "/usr/local/lib/python3.10/dist-packages/monai/transforms/utils.py:743: UserWarning: no available indices of class 2 to crop, setting the crop ratio of this class to zero.\n",
      "  warnings.warn(\n",
      "/usr/local/lib/python3.10/dist-packages/monai/transforms/utils.py:743: UserWarning: no available indices of class 7 to crop, setting the crop ratio of this class to zero.\n",
      "  warnings.warn(\n",
      "/usr/local/lib/python3.10/dist-packages/monai/transforms/utils.py:743: UserWarning: no available indices of class 7 to crop, setting the crop ratio of this class to zero.\n",
      "  warnings.warn(\n"
     ]
    },
    {
     "name": "stdout",
     "output_type": "stream",
     "text": [
      "Batch 1/10, train_loss: 0.7489\n",
      "Batch 2/10, train_loss: 0.7057\n",
      "Batch 3/10, train_loss: 0.7417\n",
      "Batch 4/10, train_loss: 0.7026\n",
      "Batch 5/10, train_loss: 0.7193\n",
      "Batch 6/10, train_loss: 0.7076\n",
      "Batch 7/10, train_loss: 0.6952\n",
      "Batch 8/10, train_loss: 0.7018\n",
      "Batch 9/10, train_loss: 0.7165\n",
      "Batch 10/10, train_loss: 0.7048\n",
      "Epoch 106 average loss: 0.7144\n"
     ]
    },
    {
     "name": "stderr",
     "output_type": "stream",
     "text": [
      "/usr/local/lib/python3.10/dist-packages/monai/transforms/utils.py:743: UserWarning: no available indices of class 2 to crop, setting the crop ratio of this class to zero.\n",
      "  warnings.warn(\n",
      "/usr/local/lib/python3.10/dist-packages/monai/transforms/utils.py:743: UserWarning: no available indices of class 7 to crop, setting the crop ratio of this class to zero.\n",
      "  warnings.warn(\n",
      "/usr/local/lib/python3.10/dist-packages/monai/transforms/utils.py:743: UserWarning: no available indices of class 2 to crop, setting the crop ratio of this class to zero.\n",
      "  warnings.warn(\n",
      "/usr/local/lib/python3.10/dist-packages/monai/transforms/utils.py:743: UserWarning: no available indices of class 7 to crop, setting the crop ratio of this class to zero.\n",
      "  warnings.warn(\n"
     ]
    },
    {
     "name": "stdout",
     "output_type": "stream",
     "text": [
      "saved new best metric model\n",
      "current epoch: 106 current mean recall per class: 0.643, 0, 0.3877, 0.5966, 0.3318, 0.4696, 0\n",
      "best mean recall: 0.3470 at epoch: 106\n",
      "----------\n",
      "Epoch 107/200\n"
     ]
    },
    {
     "name": "stderr",
     "output_type": "stream",
     "text": [
      "/usr/local/lib/python3.10/dist-packages/monai/transforms/utils.py:743: UserWarning: no available indices of class 2 to crop, setting the crop ratio of this class to zero.\n",
      "  warnings.warn(\n",
      "/usr/local/lib/python3.10/dist-packages/monai/transforms/utils.py:743: UserWarning: no available indices of class 7 to crop, setting the crop ratio of this class to zero.\n",
      "  warnings.warn(\n",
      "/usr/local/lib/python3.10/dist-packages/monai/transforms/utils.py:743: UserWarning: no available indices of class 2 to crop, setting the crop ratio of this class to zero.\n",
      "  warnings.warn(\n",
      "/usr/local/lib/python3.10/dist-packages/monai/transforms/utils.py:743: UserWarning: no available indices of class 7 to crop, setting the crop ratio of this class to zero.\n",
      "  warnings.warn(\n",
      "/usr/local/lib/python3.10/dist-packages/monai/transforms/utils.py:743: UserWarning: no available indices of class 2 to crop, setting the crop ratio of this class to zero.\n",
      "  warnings.warn(\n",
      "/usr/local/lib/python3.10/dist-packages/monai/transforms/utils.py:743: UserWarning: no available indices of class 7 to crop, setting the crop ratio of this class to zero.\n",
      "  warnings.warn(\n",
      "/usr/local/lib/python3.10/dist-packages/monai/transforms/utils.py:743: UserWarning: no available indices of class 2 to crop, setting the crop ratio of this class to zero.\n",
      "  warnings.warn(\n",
      "/usr/local/lib/python3.10/dist-packages/monai/transforms/utils.py:743: UserWarning: no available indices of class 7 to crop, setting the crop ratio of this class to zero.\n",
      "  warnings.warn(\n"
     ]
    },
    {
     "name": "stdout",
     "output_type": "stream",
     "text": [
      "Batch 1/10, train_loss: 0.7260\n",
      "Batch 2/10, train_loss: 0.7022\n",
      "Batch 3/10, train_loss: 0.6995\n",
      "Batch 4/10, train_loss: 0.6867\n",
      "Batch 5/10, train_loss: 0.6651\n",
      "Batch 6/10, train_loss: 0.7270\n",
      "Batch 7/10, train_loss: 0.7214\n",
      "Batch 8/10, train_loss: 0.6698\n",
      "Batch 9/10, train_loss: 0.7062\n",
      "Batch 10/10, train_loss: 0.7267\n",
      "Epoch 107 average loss: 0.7031\n",
      "----------\n",
      "Epoch 108/200\n"
     ]
    },
    {
     "name": "stderr",
     "output_type": "stream",
     "text": [
      "/usr/local/lib/python3.10/dist-packages/monai/transforms/utils.py:743: UserWarning: no available indices of class 2 to crop, setting the crop ratio of this class to zero.\n",
      "  warnings.warn(\n",
      "/usr/local/lib/python3.10/dist-packages/monai/transforms/utils.py:743: UserWarning: no available indices of class 7 to crop, setting the crop ratio of this class to zero.\n",
      "  warnings.warn(\n",
      "/usr/local/lib/python3.10/dist-packages/monai/transforms/utils.py:743: UserWarning: no available indices of class 2 to crop, setting the crop ratio of this class to zero.\n",
      "  warnings.warn(\n",
      "/usr/local/lib/python3.10/dist-packages/monai/transforms/utils.py:743: UserWarning: no available indices of class 7 to crop, setting the crop ratio of this class to zero.\n",
      "  warnings.warn(\n",
      "/usr/local/lib/python3.10/dist-packages/monai/transforms/utils.py:743: UserWarning: no available indices of class 2 to crop, setting the crop ratio of this class to zero.\n",
      "  warnings.warn(\n",
      "/usr/local/lib/python3.10/dist-packages/monai/transforms/utils.py:743: UserWarning: no available indices of class 2 to crop, setting the crop ratio of this class to zero.\n",
      "  warnings.warn(\n",
      "/usr/local/lib/python3.10/dist-packages/monai/transforms/utils.py:743: UserWarning: no available indices of class 7 to crop, setting the crop ratio of this class to zero.\n",
      "  warnings.warn(\n",
      "/usr/local/lib/python3.10/dist-packages/monai/transforms/utils.py:743: UserWarning: no available indices of class 7 to crop, setting the crop ratio of this class to zero.\n",
      "  warnings.warn(\n"
     ]
    },
    {
     "name": "stdout",
     "output_type": "stream",
     "text": [
      "Batch 1/10, train_loss: 0.7129\n",
      "Batch 2/10, train_loss: 0.7446\n",
      "Batch 3/10, train_loss: 0.7276\n",
      "Batch 4/10, train_loss: 0.6949\n",
      "Batch 5/10, train_loss: 0.7242\n",
      "Batch 6/10, train_loss: 0.7349\n",
      "Batch 7/10, train_loss: 0.6951\n",
      "Batch 8/10, train_loss: 0.7026\n",
      "Batch 9/10, train_loss: 0.7245\n",
      "Batch 10/10, train_loss: 0.6996\n",
      "Epoch 108 average loss: 0.7161\n"
     ]
    },
    {
     "name": "stderr",
     "output_type": "stream",
     "text": [
      "/usr/local/lib/python3.10/dist-packages/monai/transforms/utils.py:743: UserWarning: no available indices of class 2 to crop, setting the crop ratio of this class to zero.\n",
      "  warnings.warn(\n",
      "/usr/local/lib/python3.10/dist-packages/monai/transforms/utils.py:743: UserWarning: no available indices of class 7 to crop, setting the crop ratio of this class to zero.\n",
      "  warnings.warn(\n",
      "/usr/local/lib/python3.10/dist-packages/monai/transforms/utils.py:743: UserWarning: no available indices of class 2 to crop, setting the crop ratio of this class to zero.\n",
      "  warnings.warn(\n",
      "/usr/local/lib/python3.10/dist-packages/monai/transforms/utils.py:743: UserWarning: no available indices of class 7 to crop, setting the crop ratio of this class to zero.\n",
      "  warnings.warn(\n"
     ]
    },
    {
     "name": "stdout",
     "output_type": "stream",
     "text": [
      "current epoch: 108 current mean recall per class: 0.492, 0, 0.1327, 0.6499, 0.3547, 0.4631, 0\n",
      "best mean recall: 0.3470 at epoch: 106\n",
      "----------\n",
      "Epoch 109/200\n"
     ]
    },
    {
     "name": "stderr",
     "output_type": "stream",
     "text": [
      "/usr/local/lib/python3.10/dist-packages/monai/transforms/utils.py:743: UserWarning: no available indices of class 2 to crop, setting the crop ratio of this class to zero.\n",
      "  warnings.warn(\n",
      "/usr/local/lib/python3.10/dist-packages/monai/transforms/utils.py:743: UserWarning: no available indices of class 7 to crop, setting the crop ratio of this class to zero.\n",
      "  warnings.warn(\n",
      "/usr/local/lib/python3.10/dist-packages/monai/transforms/utils.py:743: UserWarning: no available indices of class 2 to crop, setting the crop ratio of this class to zero.\n",
      "  warnings.warn(\n",
      "/usr/local/lib/python3.10/dist-packages/monai/transforms/utils.py:743: UserWarning: no available indices of class 7 to crop, setting the crop ratio of this class to zero.\n",
      "  warnings.warn(\n",
      "/usr/local/lib/python3.10/dist-packages/monai/transforms/utils.py:743: UserWarning: no available indices of class 2 to crop, setting the crop ratio of this class to zero.\n",
      "  warnings.warn(\n",
      "/usr/local/lib/python3.10/dist-packages/monai/transforms/utils.py:743: UserWarning: no available indices of class 7 to crop, setting the crop ratio of this class to zero.\n",
      "  warnings.warn(\n",
      "/usr/local/lib/python3.10/dist-packages/monai/transforms/utils.py:743: UserWarning: no available indices of class 2 to crop, setting the crop ratio of this class to zero.\n",
      "  warnings.warn(\n",
      "/usr/local/lib/python3.10/dist-packages/monai/transforms/utils.py:743: UserWarning: no available indices of class 7 to crop, setting the crop ratio of this class to zero.\n",
      "  warnings.warn(\n"
     ]
    },
    {
     "name": "stdout",
     "output_type": "stream",
     "text": [
      "Batch 1/10, train_loss: 0.7303\n",
      "Batch 2/10, train_loss: 0.6756\n",
      "Batch 3/10, train_loss: 0.6894\n",
      "Batch 4/10, train_loss: 0.7093\n",
      "Batch 5/10, train_loss: 0.7214\n",
      "Batch 6/10, train_loss: 0.7031\n",
      "Batch 7/10, train_loss: 0.7017\n",
      "Batch 8/10, train_loss: 0.7049\n",
      "Batch 9/10, train_loss: 0.6693\n",
      "Batch 10/10, train_loss: 0.7107\n",
      "Epoch 109 average loss: 0.7016\n",
      "----------\n",
      "Epoch 110/200\n"
     ]
    },
    {
     "name": "stderr",
     "output_type": "stream",
     "text": [
      "/usr/local/lib/python3.10/dist-packages/monai/transforms/utils.py:743: UserWarning: no available indices of class 2 to crop, setting the crop ratio of this class to zero.\n",
      "  warnings.warn(\n",
      "/usr/local/lib/python3.10/dist-packages/monai/transforms/utils.py:743: UserWarning: no available indices of class 7 to crop, setting the crop ratio of this class to zero.\n",
      "  warnings.warn(\n",
      "/usr/local/lib/python3.10/dist-packages/monai/transforms/utils.py:743: UserWarning: no available indices of class 2 to crop, setting the crop ratio of this class to zero.\n",
      "  warnings.warn(\n",
      "/usr/local/lib/python3.10/dist-packages/monai/transforms/utils.py:743: UserWarning: no available indices of class 7 to crop, setting the crop ratio of this class to zero.\n",
      "  warnings.warn(\n",
      "/usr/local/lib/python3.10/dist-packages/monai/transforms/utils.py:743: UserWarning: no available indices of class 2 to crop, setting the crop ratio of this class to zero.\n",
      "  warnings.warn(\n",
      "/usr/local/lib/python3.10/dist-packages/monai/transforms/utils.py:743: UserWarning: no available indices of class 7 to crop, setting the crop ratio of this class to zero.\n",
      "  warnings.warn(\n",
      "/usr/local/lib/python3.10/dist-packages/monai/transforms/utils.py:743: UserWarning: no available indices of class 2 to crop, setting the crop ratio of this class to zero.\n",
      "  warnings.warn(\n",
      "/usr/local/lib/python3.10/dist-packages/monai/transforms/utils.py:743: UserWarning: no available indices of class 7 to crop, setting the crop ratio of this class to zero.\n",
      "  warnings.warn(\n"
     ]
    },
    {
     "name": "stdout",
     "output_type": "stream",
     "text": [
      "Batch 1/10, train_loss: 0.7239\n",
      "Batch 2/10, train_loss: 0.7150\n",
      "Batch 3/10, train_loss: 0.6660\n",
      "Batch 4/10, train_loss: 0.6818\n",
      "Batch 5/10, train_loss: 0.7383\n",
      "Batch 6/10, train_loss: 0.6773\n",
      "Batch 7/10, train_loss: 0.6795\n",
      "Batch 8/10, train_loss: 0.7177\n",
      "Batch 9/10, train_loss: 0.6950\n",
      "Batch 10/10, train_loss: 0.7056\n",
      "Epoch 110 average loss: 0.7000\n"
     ]
    },
    {
     "name": "stderr",
     "output_type": "stream",
     "text": [
      "/usr/local/lib/python3.10/dist-packages/monai/transforms/utils.py:743: UserWarning: no available indices of class 2 to crop, setting the crop ratio of this class to zero.\n",
      "  warnings.warn(\n",
      "/usr/local/lib/python3.10/dist-packages/monai/transforms/utils.py:743: UserWarning: no available indices of class 2 to crop, setting the crop ratio of this class to zero.\n",
      "  warnings.warn(\n",
      "/usr/local/lib/python3.10/dist-packages/monai/transforms/utils.py:743: UserWarning: no available indices of class 7 to crop, setting the crop ratio of this class to zero.\n",
      "  warnings.warn(\n",
      "/usr/local/lib/python3.10/dist-packages/monai/transforms/utils.py:743: UserWarning: no available indices of class 7 to crop, setting the crop ratio of this class to zero.\n",
      "  warnings.warn(\n"
     ]
    },
    {
     "name": "stdout",
     "output_type": "stream",
     "text": [
      "current epoch: 110 current mean recall per class: 0.6213, 0, 0.3796, 0.5326, 0.3024, 0.5, 0\n",
      "best mean recall: 0.3470 at epoch: 106\n",
      "----------\n",
      "Epoch 111/200\n"
     ]
    },
    {
     "name": "stderr",
     "output_type": "stream",
     "text": [
      "/usr/local/lib/python3.10/dist-packages/monai/transforms/utils.py:743: UserWarning: no available indices of class 2 to crop, setting the crop ratio of this class to zero.\n",
      "  warnings.warn(\n",
      "/usr/local/lib/python3.10/dist-packages/monai/transforms/utils.py:743: UserWarning: no available indices of class 7 to crop, setting the crop ratio of this class to zero.\n",
      "  warnings.warn(\n",
      "/usr/local/lib/python3.10/dist-packages/monai/transforms/utils.py:743: UserWarning: no available indices of class 2 to crop, setting the crop ratio of this class to zero.\n",
      "  warnings.warn(\n",
      "/usr/local/lib/python3.10/dist-packages/monai/transforms/utils.py:743: UserWarning: no available indices of class 7 to crop, setting the crop ratio of this class to zero.\n",
      "  warnings.warn(\n",
      "/usr/local/lib/python3.10/dist-packages/monai/transforms/utils.py:743: UserWarning: no available indices of class 2 to crop, setting the crop ratio of this class to zero.\n",
      "  warnings.warn(\n",
      "/usr/local/lib/python3.10/dist-packages/monai/transforms/utils.py:743: UserWarning: no available indices of class 2 to crop, setting the crop ratio of this class to zero.\n",
      "  warnings.warn(\n",
      "/usr/local/lib/python3.10/dist-packages/monai/transforms/utils.py:743: UserWarning: no available indices of class 7 to crop, setting the crop ratio of this class to zero.\n",
      "  warnings.warn(\n",
      "/usr/local/lib/python3.10/dist-packages/monai/transforms/utils.py:743: UserWarning: no available indices of class 7 to crop, setting the crop ratio of this class to zero.\n",
      "  warnings.warn(\n"
     ]
    },
    {
     "name": "stdout",
     "output_type": "stream",
     "text": [
      "Batch 1/10, train_loss: 0.7061\n",
      "Batch 2/10, train_loss: 0.7179\n",
      "Batch 3/10, train_loss: 0.7298\n",
      "Batch 4/10, train_loss: 0.7218\n",
      "Batch 5/10, train_loss: 0.7097\n",
      "Batch 6/10, train_loss: 0.6880\n",
      "Batch 7/10, train_loss: 0.6858\n",
      "Batch 8/10, train_loss: 0.7160\n",
      "Batch 9/10, train_loss: 0.7124\n",
      "Batch 10/10, train_loss: 0.7037\n",
      "Epoch 111 average loss: 0.7091\n",
      "----------\n",
      "Epoch 112/200\n"
     ]
    },
    {
     "name": "stderr",
     "output_type": "stream",
     "text": [
      "/usr/local/lib/python3.10/dist-packages/monai/transforms/utils.py:743: UserWarning: no available indices of class 2 to crop, setting the crop ratio of this class to zero.\n",
      "  warnings.warn(\n",
      "/usr/local/lib/python3.10/dist-packages/monai/transforms/utils.py:743: UserWarning: no available indices of class 7 to crop, setting the crop ratio of this class to zero.\n",
      "  warnings.warn(\n",
      "/usr/local/lib/python3.10/dist-packages/monai/transforms/utils.py:743: UserWarning: no available indices of class 2 to crop, setting the crop ratio of this class to zero.\n",
      "  warnings.warn(\n",
      "/usr/local/lib/python3.10/dist-packages/monai/transforms/utils.py:743: UserWarning: no available indices of class 7 to crop, setting the crop ratio of this class to zero.\n",
      "  warnings.warn(\n",
      "/usr/local/lib/python3.10/dist-packages/monai/transforms/utils.py:743: UserWarning: no available indices of class 2 to crop, setting the crop ratio of this class to zero.\n",
      "  warnings.warn(\n",
      "/usr/local/lib/python3.10/dist-packages/monai/transforms/utils.py:743: UserWarning: no available indices of class 2 to crop, setting the crop ratio of this class to zero.\n",
      "  warnings.warn(\n",
      "/usr/local/lib/python3.10/dist-packages/monai/transforms/utils.py:743: UserWarning: no available indices of class 7 to crop, setting the crop ratio of this class to zero.\n",
      "  warnings.warn(\n",
      "/usr/local/lib/python3.10/dist-packages/monai/transforms/utils.py:743: UserWarning: no available indices of class 7 to crop, setting the crop ratio of this class to zero.\n",
      "  warnings.warn(\n"
     ]
    },
    {
     "name": "stdout",
     "output_type": "stream",
     "text": [
      "Batch 1/10, train_loss: 0.7179\n",
      "Batch 2/10, train_loss: 0.6725\n",
      "Batch 3/10, train_loss: 0.6551\n",
      "Batch 4/10, train_loss: 0.7258\n",
      "Batch 5/10, train_loss: 0.6775\n",
      "Batch 6/10, train_loss: 0.7526\n",
      "Batch 7/10, train_loss: 0.7112\n",
      "Batch 8/10, train_loss: 0.6763\n",
      "Batch 9/10, train_loss: 0.7071\n",
      "Batch 10/10, train_loss: 0.7309\n",
      "Epoch 112 average loss: 0.7027\n"
     ]
    },
    {
     "name": "stderr",
     "output_type": "stream",
     "text": [
      "/usr/local/lib/python3.10/dist-packages/monai/transforms/utils.py:743: UserWarning: no available indices of class 2 to crop, setting the crop ratio of this class to zero.\n",
      "  warnings.warn(\n",
      "/usr/local/lib/python3.10/dist-packages/monai/transforms/utils.py:743: UserWarning: no available indices of class 7 to crop, setting the crop ratio of this class to zero.\n",
      "  warnings.warn(\n",
      "/usr/local/lib/python3.10/dist-packages/monai/transforms/utils.py:743: UserWarning: no available indices of class 2 to crop, setting the crop ratio of this class to zero.\n",
      "  warnings.warn(\n",
      "/usr/local/lib/python3.10/dist-packages/monai/transforms/utils.py:743: UserWarning: no available indices of class 7 to crop, setting the crop ratio of this class to zero.\n",
      "  warnings.warn(\n"
     ]
    },
    {
     "name": "stdout",
     "output_type": "stream",
     "text": [
      "saved new best metric model\n",
      "current epoch: 112 current mean recall per class: 0.7092, 0, 0.3689, 0.5157, 0.3862, 0.5137, 0\n",
      "best mean recall: 0.3562 at epoch: 112\n",
      "----------\n",
      "Epoch 113/200\n"
     ]
    },
    {
     "name": "stderr",
     "output_type": "stream",
     "text": [
      "/usr/local/lib/python3.10/dist-packages/monai/transforms/utils.py:743: UserWarning: no available indices of class 2 to crop, setting the crop ratio of this class to zero.\n",
      "  warnings.warn(\n",
      "/usr/local/lib/python3.10/dist-packages/monai/transforms/utils.py:743: UserWarning: no available indices of class 7 to crop, setting the crop ratio of this class to zero.\n",
      "  warnings.warn(\n",
      "/usr/local/lib/python3.10/dist-packages/monai/transforms/utils.py:743: UserWarning: no available indices of class 2 to crop, setting the crop ratio of this class to zero.\n",
      "  warnings.warn(\n",
      "/usr/local/lib/python3.10/dist-packages/monai/transforms/utils.py:743: UserWarning: no available indices of class 7 to crop, setting the crop ratio of this class to zero.\n",
      "  warnings.warn(\n",
      "/usr/local/lib/python3.10/dist-packages/monai/transforms/utils.py:743: UserWarning: no available indices of class 2 to crop, setting the crop ratio of this class to zero.\n",
      "  warnings.warn(\n",
      "/usr/local/lib/python3.10/dist-packages/monai/transforms/utils.py:743: UserWarning: no available indices of class 7 to crop, setting the crop ratio of this class to zero.\n",
      "  warnings.warn(\n",
      "/usr/local/lib/python3.10/dist-packages/monai/transforms/utils.py:743: UserWarning: no available indices of class 2 to crop, setting the crop ratio of this class to zero.\n",
      "  warnings.warn(\n",
      "/usr/local/lib/python3.10/dist-packages/monai/transforms/utils.py:743: UserWarning: no available indices of class 7 to crop, setting the crop ratio of this class to zero.\n",
      "  warnings.warn(\n"
     ]
    },
    {
     "name": "stdout",
     "output_type": "stream",
     "text": [
      "Batch 1/10, train_loss: 0.7298\n",
      "Batch 2/10, train_loss: 0.6595\n",
      "Batch 3/10, train_loss: 0.7201\n",
      "Batch 4/10, train_loss: 0.7369\n",
      "Batch 5/10, train_loss: 0.7033\n",
      "Batch 6/10, train_loss: 0.6950\n",
      "Batch 7/10, train_loss: 0.7157\n",
      "Batch 8/10, train_loss: 0.6932\n",
      "Batch 9/10, train_loss: 0.6875\n",
      "Batch 10/10, train_loss: 0.7385\n",
      "Epoch 113 average loss: 0.7080\n",
      "----------\n",
      "Epoch 114/200\n"
     ]
    },
    {
     "name": "stderr",
     "output_type": "stream",
     "text": [
      "/usr/local/lib/python3.10/dist-packages/monai/transforms/utils.py:743: UserWarning: no available indices of class 2 to crop, setting the crop ratio of this class to zero.\n",
      "  warnings.warn(\n",
      "/usr/local/lib/python3.10/dist-packages/monai/transforms/utils.py:743: UserWarning: no available indices of class 7 to crop, setting the crop ratio of this class to zero.\n",
      "  warnings.warn(\n",
      "/usr/local/lib/python3.10/dist-packages/monai/transforms/utils.py:743: UserWarning: no available indices of class 2 to crop, setting the crop ratio of this class to zero.\n",
      "  warnings.warn(\n",
      "/usr/local/lib/python3.10/dist-packages/monai/transforms/utils.py:743: UserWarning: no available indices of class 7 to crop, setting the crop ratio of this class to zero.\n",
      "  warnings.warn(\n",
      "/usr/local/lib/python3.10/dist-packages/monai/transforms/utils.py:743: UserWarning: no available indices of class 2 to crop, setting the crop ratio of this class to zero.\n",
      "  warnings.warn(\n",
      "/usr/local/lib/python3.10/dist-packages/monai/transforms/utils.py:743: UserWarning: no available indices of class 7 to crop, setting the crop ratio of this class to zero.\n",
      "  warnings.warn(\n",
      "/usr/local/lib/python3.10/dist-packages/monai/transforms/utils.py:743: UserWarning: no available indices of class 2 to crop, setting the crop ratio of this class to zero.\n",
      "  warnings.warn(\n",
      "/usr/local/lib/python3.10/dist-packages/monai/transforms/utils.py:743: UserWarning: no available indices of class 7 to crop, setting the crop ratio of this class to zero.\n",
      "  warnings.warn(\n"
     ]
    },
    {
     "name": "stdout",
     "output_type": "stream",
     "text": [
      "Batch 1/10, train_loss: 0.6498\n",
      "Batch 2/10, train_loss: 0.6863\n",
      "Batch 3/10, train_loss: 0.6909\n",
      "Batch 4/10, train_loss: 0.7091\n",
      "Batch 5/10, train_loss: 0.6965\n",
      "Batch 6/10, train_loss: 0.7183\n",
      "Batch 7/10, train_loss: 0.7056\n",
      "Batch 8/10, train_loss: 0.7070\n",
      "Batch 9/10, train_loss: 0.7129\n",
      "Batch 10/10, train_loss: 0.6807\n",
      "Epoch 114 average loss: 0.6957\n"
     ]
    },
    {
     "name": "stderr",
     "output_type": "stream",
     "text": [
      "/usr/local/lib/python3.10/dist-packages/monai/transforms/utils.py:743: UserWarning: no available indices of class 2 to crop, setting the crop ratio of this class to zero.\n",
      "  warnings.warn(\n",
      "/usr/local/lib/python3.10/dist-packages/monai/transforms/utils.py:743: UserWarning: no available indices of class 7 to crop, setting the crop ratio of this class to zero.\n",
      "  warnings.warn(\n",
      "/usr/local/lib/python3.10/dist-packages/monai/transforms/utils.py:743: UserWarning: no available indices of class 2 to crop, setting the crop ratio of this class to zero.\n",
      "  warnings.warn(\n",
      "/usr/local/lib/python3.10/dist-packages/monai/transforms/utils.py:743: UserWarning: no available indices of class 7 to crop, setting the crop ratio of this class to zero.\n",
      "  warnings.warn(\n"
     ]
    },
    {
     "name": "stdout",
     "output_type": "stream",
     "text": [
      "saved new best metric model\n",
      "current epoch: 114 current mean recall per class: 0.6509, 0, 0.41, 0.5831, 0.4521, 0.4332, 0\n",
      "best mean recall: 0.3613 at epoch: 114\n",
      "----------\n",
      "Epoch 115/200\n"
     ]
    },
    {
     "name": "stderr",
     "output_type": "stream",
     "text": [
      "/usr/local/lib/python3.10/dist-packages/monai/transforms/utils.py:743: UserWarning: no available indices of class 2 to crop, setting the crop ratio of this class to zero.\n",
      "  warnings.warn(\n",
      "/usr/local/lib/python3.10/dist-packages/monai/transforms/utils.py:743: UserWarning: no available indices of class 7 to crop, setting the crop ratio of this class to zero.\n",
      "  warnings.warn(\n",
      "/usr/local/lib/python3.10/dist-packages/monai/transforms/utils.py:743: UserWarning: no available indices of class 2 to crop, setting the crop ratio of this class to zero.\n",
      "  warnings.warn(\n",
      "/usr/local/lib/python3.10/dist-packages/monai/transforms/utils.py:743: UserWarning: no available indices of class 7 to crop, setting the crop ratio of this class to zero.\n",
      "  warnings.warn(\n",
      "/usr/local/lib/python3.10/dist-packages/monai/transforms/utils.py:743: UserWarning: no available indices of class 2 to crop, setting the crop ratio of this class to zero.\n",
      "  warnings.warn(\n",
      "/usr/local/lib/python3.10/dist-packages/monai/transforms/utils.py:743: UserWarning: no available indices of class 7 to crop, setting the crop ratio of this class to zero.\n",
      "  warnings.warn(\n",
      "/usr/local/lib/python3.10/dist-packages/monai/transforms/utils.py:743: UserWarning: no available indices of class 2 to crop, setting the crop ratio of this class to zero.\n",
      "  warnings.warn(\n",
      "/usr/local/lib/python3.10/dist-packages/monai/transforms/utils.py:743: UserWarning: no available indices of class 7 to crop, setting the crop ratio of this class to zero.\n",
      "  warnings.warn(\n"
     ]
    },
    {
     "name": "stdout",
     "output_type": "stream",
     "text": [
      "Batch 1/10, train_loss: 0.7350\n",
      "Batch 2/10, train_loss: 0.7186\n",
      "Batch 3/10, train_loss: 0.7306\n",
      "Batch 4/10, train_loss: 0.7250\n",
      "Batch 5/10, train_loss: 0.7062\n",
      "Batch 6/10, train_loss: 0.7100\n",
      "Batch 7/10, train_loss: 0.7713\n",
      "Batch 8/10, train_loss: 0.7085\n",
      "Batch 9/10, train_loss: 0.6867\n",
      "Batch 10/10, train_loss: 0.6801\n",
      "Epoch 115 average loss: 0.7172\n",
      "----------\n",
      "Epoch 116/200\n"
     ]
    },
    {
     "name": "stderr",
     "output_type": "stream",
     "text": [
      "/usr/local/lib/python3.10/dist-packages/monai/transforms/utils.py:743: UserWarning: no available indices of class 2 to crop, setting the crop ratio of this class to zero.\n",
      "  warnings.warn(\n",
      "/usr/local/lib/python3.10/dist-packages/monai/transforms/utils.py:743: UserWarning: no available indices of class 7 to crop, setting the crop ratio of this class to zero.\n",
      "  warnings.warn(\n",
      "/usr/local/lib/python3.10/dist-packages/monai/transforms/utils.py:743: UserWarning: no available indices of class 2 to crop, setting the crop ratio of this class to zero.\n",
      "  warnings.warn(\n",
      "/usr/local/lib/python3.10/dist-packages/monai/transforms/utils.py:743: UserWarning: no available indices of class 7 to crop, setting the crop ratio of this class to zero.\n",
      "  warnings.warn(\n",
      "/usr/local/lib/python3.10/dist-packages/monai/transforms/utils.py:743: UserWarning: no available indices of class 2 to crop, setting the crop ratio of this class to zero.\n",
      "  warnings.warn(\n",
      "/usr/local/lib/python3.10/dist-packages/monai/transforms/utils.py:743: UserWarning: no available indices of class 7 to crop, setting the crop ratio of this class to zero.\n",
      "  warnings.warn(\n",
      "/usr/local/lib/python3.10/dist-packages/monai/transforms/utils.py:743: UserWarning: no available indices of class 2 to crop, setting the crop ratio of this class to zero.\n",
      "  warnings.warn(\n",
      "/usr/local/lib/python3.10/dist-packages/monai/transforms/utils.py:743: UserWarning: no available indices of class 7 to crop, setting the crop ratio of this class to zero.\n",
      "  warnings.warn(\n"
     ]
    },
    {
     "name": "stdout",
     "output_type": "stream",
     "text": [
      "Batch 1/10, train_loss: 0.7451\n",
      "Batch 2/10, train_loss: 0.7425\n",
      "Batch 3/10, train_loss: 0.6642\n",
      "Batch 4/10, train_loss: 0.6728\n",
      "Batch 5/10, train_loss: 0.6796\n",
      "Batch 6/10, train_loss: 0.6776\n",
      "Batch 7/10, train_loss: 0.7207\n",
      "Batch 8/10, train_loss: 0.7158\n",
      "Batch 9/10, train_loss: 0.6917\n",
      "Batch 10/10, train_loss: 0.7088\n",
      "Epoch 116 average loss: 0.7019\n"
     ]
    },
    {
     "name": "stderr",
     "output_type": "stream",
     "text": [
      "/usr/local/lib/python3.10/dist-packages/monai/transforms/utils.py:743: UserWarning: no available indices of class 2 to crop, setting the crop ratio of this class to zero.\n",
      "  warnings.warn(\n",
      "/usr/local/lib/python3.10/dist-packages/monai/transforms/utils.py:743: UserWarning: no available indices of class 7 to crop, setting the crop ratio of this class to zero.\n",
      "  warnings.warn(\n",
      "/usr/local/lib/python3.10/dist-packages/monai/transforms/utils.py:743: UserWarning: no available indices of class 2 to crop, setting the crop ratio of this class to zero.\n",
      "  warnings.warn(\n",
      "/usr/local/lib/python3.10/dist-packages/monai/transforms/utils.py:743: UserWarning: no available indices of class 7 to crop, setting the crop ratio of this class to zero.\n",
      "  warnings.warn(\n"
     ]
    },
    {
     "name": "stdout",
     "output_type": "stream",
     "text": [
      "current epoch: 116 current mean recall per class: 0.6312, 0, 0.2565, 0.6083, 0.41, 0.4247, 0\n",
      "best mean recall: 0.3613 at epoch: 114\n",
      "----------\n",
      "Epoch 117/200\n"
     ]
    },
    {
     "name": "stderr",
     "output_type": "stream",
     "text": [
      "/usr/local/lib/python3.10/dist-packages/monai/transforms/utils.py:743: UserWarning: no available indices of class 2 to crop, setting the crop ratio of this class to zero.\n",
      "  warnings.warn(\n",
      "/usr/local/lib/python3.10/dist-packages/monai/transforms/utils.py:743: UserWarning: no available indices of class 7 to crop, setting the crop ratio of this class to zero.\n",
      "  warnings.warn(\n",
      "/usr/local/lib/python3.10/dist-packages/monai/transforms/utils.py:743: UserWarning: no available indices of class 2 to crop, setting the crop ratio of this class to zero.\n",
      "  warnings.warn(\n",
      "/usr/local/lib/python3.10/dist-packages/monai/transforms/utils.py:743: UserWarning: no available indices of class 7 to crop, setting the crop ratio of this class to zero.\n",
      "  warnings.warn(\n",
      "/usr/local/lib/python3.10/dist-packages/monai/transforms/utils.py:743: UserWarning: no available indices of class 2 to crop, setting the crop ratio of this class to zero.\n",
      "  warnings.warn(\n",
      "/usr/local/lib/python3.10/dist-packages/monai/transforms/utils.py:743: UserWarning: no available indices of class 7 to crop, setting the crop ratio of this class to zero.\n",
      "  warnings.warn(\n",
      "/usr/local/lib/python3.10/dist-packages/monai/transforms/utils.py:743: UserWarning: no available indices of class 2 to crop, setting the crop ratio of this class to zero.\n",
      "  warnings.warn(\n",
      "/usr/local/lib/python3.10/dist-packages/monai/transforms/utils.py:743: UserWarning: no available indices of class 7 to crop, setting the crop ratio of this class to zero.\n",
      "  warnings.warn(\n"
     ]
    },
    {
     "name": "stdout",
     "output_type": "stream",
     "text": [
      "Batch 1/10, train_loss: 0.6592\n",
      "Batch 2/10, train_loss: 0.7287\n",
      "Batch 3/10, train_loss: 0.6936\n",
      "Batch 4/10, train_loss: 0.6619\n",
      "Batch 5/10, train_loss: 0.6946\n",
      "Batch 6/10, train_loss: 0.6704\n",
      "Batch 7/10, train_loss: 0.7402\n",
      "Batch 8/10, train_loss: 0.6732\n",
      "Batch 9/10, train_loss: 0.7046\n",
      "Batch 10/10, train_loss: 0.7168\n",
      "Epoch 117 average loss: 0.6943\n",
      "----------\n",
      "Epoch 118/200\n"
     ]
    },
    {
     "name": "stderr",
     "output_type": "stream",
     "text": [
      "/usr/local/lib/python3.10/dist-packages/monai/transforms/utils.py:743: UserWarning: no available indices of class 2 to crop, setting the crop ratio of this class to zero.\n",
      "  warnings.warn(\n",
      "/usr/local/lib/python3.10/dist-packages/monai/transforms/utils.py:743: UserWarning: no available indices of class 7 to crop, setting the crop ratio of this class to zero.\n",
      "  warnings.warn(\n",
      "/usr/local/lib/python3.10/dist-packages/monai/transforms/utils.py:743: UserWarning: no available indices of class 2 to crop, setting the crop ratio of this class to zero.\n",
      "  warnings.warn(\n",
      "/usr/local/lib/python3.10/dist-packages/monai/transforms/utils.py:743: UserWarning: no available indices of class 7 to crop, setting the crop ratio of this class to zero.\n",
      "  warnings.warn(\n",
      "/usr/local/lib/python3.10/dist-packages/monai/transforms/utils.py:743: UserWarning: no available indices of class 2 to crop, setting the crop ratio of this class to zero.\n",
      "  warnings.warn(\n",
      "/usr/local/lib/python3.10/dist-packages/monai/transforms/utils.py:743: UserWarning: no available indices of class 2 to crop, setting the crop ratio of this class to zero.\n",
      "  warnings.warn(\n",
      "/usr/local/lib/python3.10/dist-packages/monai/transforms/utils.py:743: UserWarning: no available indices of class 7 to crop, setting the crop ratio of this class to zero.\n",
      "  warnings.warn(\n",
      "/usr/local/lib/python3.10/dist-packages/monai/transforms/utils.py:743: UserWarning: no available indices of class 7 to crop, setting the crop ratio of this class to zero.\n",
      "  warnings.warn(\n"
     ]
    },
    {
     "name": "stdout",
     "output_type": "stream",
     "text": [
      "Batch 1/10, train_loss: 0.7095\n",
      "Batch 2/10, train_loss: 0.7131\n",
      "Batch 3/10, train_loss: 0.7451\n",
      "Batch 4/10, train_loss: 0.7164\n",
      "Batch 5/10, train_loss: 0.7056\n",
      "Batch 6/10, train_loss: 0.6947\n",
      "Batch 7/10, train_loss: 0.7356\n",
      "Batch 8/10, train_loss: 0.7242\n",
      "Batch 9/10, train_loss: 0.7258\n",
      "Batch 10/10, train_loss: 0.6979\n",
      "Epoch 118 average loss: 0.7168\n"
     ]
    },
    {
     "name": "stderr",
     "output_type": "stream",
     "text": [
      "/usr/local/lib/python3.10/dist-packages/monai/transforms/utils.py:743: UserWarning: no available indices of class 2 to crop, setting the crop ratio of this class to zero.\n",
      "  warnings.warn(\n",
      "/usr/local/lib/python3.10/dist-packages/monai/transforms/utils.py:743: UserWarning: no available indices of class 7 to crop, setting the crop ratio of this class to zero.\n",
      "  warnings.warn(\n",
      "/usr/local/lib/python3.10/dist-packages/monai/transforms/utils.py:743: UserWarning: no available indices of class 2 to crop, setting the crop ratio of this class to zero.\n",
      "  warnings.warn(\n",
      "/usr/local/lib/python3.10/dist-packages/monai/transforms/utils.py:743: UserWarning: no available indices of class 7 to crop, setting the crop ratio of this class to zero.\n",
      "  warnings.warn(\n"
     ]
    },
    {
     "name": "stdout",
     "output_type": "stream",
     "text": [
      "current epoch: 118 current mean recall per class: 0.6776, 0, 0.3599, 0.6016, 0.313, 0.5013, 0\n",
      "best mean recall: 0.3613 at epoch: 114\n",
      "----------\n",
      "Epoch 119/200\n"
     ]
    },
    {
     "name": "stderr",
     "output_type": "stream",
     "text": [
      "/usr/local/lib/python3.10/dist-packages/monai/transforms/utils.py:743: UserWarning: no available indices of class 2 to crop, setting the crop ratio of this class to zero.\n",
      "  warnings.warn(\n",
      "/usr/local/lib/python3.10/dist-packages/monai/transforms/utils.py:743: UserWarning: no available indices of class 7 to crop, setting the crop ratio of this class to zero.\n",
      "  warnings.warn(\n",
      "/usr/local/lib/python3.10/dist-packages/monai/transforms/utils.py:743: UserWarning: no available indices of class 2 to crop, setting the crop ratio of this class to zero.\n",
      "  warnings.warn(\n",
      "/usr/local/lib/python3.10/dist-packages/monai/transforms/utils.py:743: UserWarning: no available indices of class 7 to crop, setting the crop ratio of this class to zero.\n",
      "  warnings.warn(\n",
      "/usr/local/lib/python3.10/dist-packages/monai/transforms/utils.py:743: UserWarning: no available indices of class 2 to crop, setting the crop ratio of this class to zero.\n",
      "  warnings.warn(\n",
      "/usr/local/lib/python3.10/dist-packages/monai/transforms/utils.py:743: UserWarning: no available indices of class 2 to crop, setting the crop ratio of this class to zero.\n",
      "  warnings.warn(\n",
      "/usr/local/lib/python3.10/dist-packages/monai/transforms/utils.py:743: UserWarning: no available indices of class 7 to crop, setting the crop ratio of this class to zero.\n",
      "  warnings.warn(\n",
      "/usr/local/lib/python3.10/dist-packages/monai/transforms/utils.py:743: UserWarning: no available indices of class 7 to crop, setting the crop ratio of this class to zero.\n",
      "  warnings.warn(\n"
     ]
    },
    {
     "name": "stdout",
     "output_type": "stream",
     "text": [
      "Batch 1/10, train_loss: 0.7833\n",
      "Batch 2/10, train_loss: 0.6863\n",
      "Batch 3/10, train_loss: 0.7141\n",
      "Batch 4/10, train_loss: 0.6858\n",
      "Batch 5/10, train_loss: 0.6790\n",
      "Batch 6/10, train_loss: 0.6575\n",
      "Batch 7/10, train_loss: 0.6767\n",
      "Batch 8/10, train_loss: 0.6965\n",
      "Batch 9/10, train_loss: 0.6536\n",
      "Batch 10/10, train_loss: 0.7316\n",
      "Epoch 119 average loss: 0.6964\n",
      "----------\n",
      "Epoch 120/200\n"
     ]
    },
    {
     "name": "stderr",
     "output_type": "stream",
     "text": [
      "/usr/local/lib/python3.10/dist-packages/monai/transforms/utils.py:743: UserWarning: no available indices of class 2 to crop, setting the crop ratio of this class to zero.\n",
      "  warnings.warn(\n",
      "/usr/local/lib/python3.10/dist-packages/monai/transforms/utils.py:743: UserWarning: no available indices of class 7 to crop, setting the crop ratio of this class to zero.\n",
      "  warnings.warn(\n",
      "/usr/local/lib/python3.10/dist-packages/monai/transforms/utils.py:743: UserWarning: no available indices of class 2 to crop, setting the crop ratio of this class to zero.\n",
      "  warnings.warn(\n",
      "/usr/local/lib/python3.10/dist-packages/monai/transforms/utils.py:743: UserWarning: no available indices of class 7 to crop, setting the crop ratio of this class to zero.\n",
      "  warnings.warn(\n",
      "/usr/local/lib/python3.10/dist-packages/monai/transforms/utils.py:743: UserWarning: no available indices of class 2 to crop, setting the crop ratio of this class to zero.\n",
      "  warnings.warn(\n",
      "/usr/local/lib/python3.10/dist-packages/monai/transforms/utils.py:743: UserWarning: no available indices of class 7 to crop, setting the crop ratio of this class to zero.\n",
      "  warnings.warn(\n",
      "/usr/local/lib/python3.10/dist-packages/monai/transforms/utils.py:743: UserWarning: no available indices of class 2 to crop, setting the crop ratio of this class to zero.\n",
      "  warnings.warn(\n",
      "/usr/local/lib/python3.10/dist-packages/monai/transforms/utils.py:743: UserWarning: no available indices of class 7 to crop, setting the crop ratio of this class to zero.\n",
      "  warnings.warn(\n"
     ]
    },
    {
     "name": "stdout",
     "output_type": "stream",
     "text": [
      "Batch 1/10, train_loss: 0.7125\n",
      "Batch 2/10, train_loss: 0.6863\n",
      "Batch 3/10, train_loss: 0.7239\n",
      "Batch 4/10, train_loss: 0.7117\n",
      "Batch 5/10, train_loss: 0.7115\n",
      "Batch 6/10, train_loss: 0.6765\n",
      "Batch 7/10, train_loss: 0.7171\n",
      "Batch 8/10, train_loss: 0.7400\n",
      "Batch 9/10, train_loss: 0.7133\n",
      "Batch 10/10, train_loss: 0.7395\n",
      "Epoch 120 average loss: 0.7132\n"
     ]
    },
    {
     "name": "stderr",
     "output_type": "stream",
     "text": [
      "/usr/local/lib/python3.10/dist-packages/monai/transforms/utils.py:743: UserWarning: no available indices of class 2 to crop, setting the crop ratio of this class to zero.\n",
      "  warnings.warn(\n",
      "/usr/local/lib/python3.10/dist-packages/monai/transforms/utils.py:743: UserWarning: no available indices of class 2 to crop, setting the crop ratio of this class to zero.\n",
      "  warnings.warn(\n",
      "/usr/local/lib/python3.10/dist-packages/monai/transforms/utils.py:743: UserWarning: no available indices of class 7 to crop, setting the crop ratio of this class to zero.\n",
      "  warnings.warn(\n",
      "/usr/local/lib/python3.10/dist-packages/monai/transforms/utils.py:743: UserWarning: no available indices of class 7 to crop, setting the crop ratio of this class to zero.\n",
      "  warnings.warn(\n"
     ]
    },
    {
     "name": "stdout",
     "output_type": "stream",
     "text": [
      "current epoch: 120 current mean recall per class: 0.675, 0, 0.2991, 0.4347, 0.3839, 0.5402, 0\n",
      "best mean recall: 0.3613 at epoch: 114\n",
      "----------\n",
      "Epoch 121/200\n"
     ]
    },
    {
     "name": "stderr",
     "output_type": "stream",
     "text": [
      "/usr/local/lib/python3.10/dist-packages/monai/transforms/utils.py:743: UserWarning: no available indices of class 2 to crop, setting the crop ratio of this class to zero.\n",
      "  warnings.warn(\n",
      "/usr/local/lib/python3.10/dist-packages/monai/transforms/utils.py:743: UserWarning: no available indices of class 2 to crop, setting the crop ratio of this class to zero.\n",
      "  warnings.warn(\n",
      "/usr/local/lib/python3.10/dist-packages/monai/transforms/utils.py:743: UserWarning: no available indices of class 7 to crop, setting the crop ratio of this class to zero.\n",
      "  warnings.warn(\n",
      "/usr/local/lib/python3.10/dist-packages/monai/transforms/utils.py:743: UserWarning: no available indices of class 2 to crop, setting the crop ratio of this class to zero.\n",
      "  warnings.warn(\n",
      "/usr/local/lib/python3.10/dist-packages/monai/transforms/utils.py:743: UserWarning: no available indices of class 2 to crop, setting the crop ratio of this class to zero.\n",
      "  warnings.warn(\n",
      "/usr/local/lib/python3.10/dist-packages/monai/transforms/utils.py:743: UserWarning: no available indices of class 7 to crop, setting the crop ratio of this class to zero.\n",
      "  warnings.warn(\n",
      "/usr/local/lib/python3.10/dist-packages/monai/transforms/utils.py:743: UserWarning: no available indices of class 7 to crop, setting the crop ratio of this class to zero.\n",
      "  warnings.warn(\n",
      "/usr/local/lib/python3.10/dist-packages/monai/transforms/utils.py:743: UserWarning: no available indices of class 7 to crop, setting the crop ratio of this class to zero.\n",
      "  warnings.warn(\n"
     ]
    },
    {
     "name": "stdout",
     "output_type": "stream",
     "text": [
      "Batch 1/10, train_loss: 0.7409\n",
      "Batch 2/10, train_loss: 0.7041\n",
      "Batch 3/10, train_loss: 0.6500\n",
      "Batch 4/10, train_loss: 0.6959\n",
      "Batch 5/10, train_loss: 0.6655\n",
      "Batch 6/10, train_loss: 0.7395\n",
      "Batch 7/10, train_loss: 0.7531\n",
      "Batch 8/10, train_loss: 0.6988\n",
      "Batch 9/10, train_loss: 0.7067\n",
      "Batch 10/10, train_loss: 0.6901\n",
      "Epoch 121 average loss: 0.7044\n",
      "----------\n",
      "Epoch 122/200\n"
     ]
    },
    {
     "name": "stderr",
     "output_type": "stream",
     "text": [
      "/usr/local/lib/python3.10/dist-packages/monai/transforms/utils.py:743: UserWarning: no available indices of class 2 to crop, setting the crop ratio of this class to zero.\n",
      "  warnings.warn(\n",
      "/usr/local/lib/python3.10/dist-packages/monai/transforms/utils.py:743: UserWarning: no available indices of class 7 to crop, setting the crop ratio of this class to zero.\n",
      "  warnings.warn(\n",
      "/usr/local/lib/python3.10/dist-packages/monai/transforms/utils.py:743: UserWarning: no available indices of class 2 to crop, setting the crop ratio of this class to zero.\n",
      "  warnings.warn(\n",
      "/usr/local/lib/python3.10/dist-packages/monai/transforms/utils.py:743: UserWarning: no available indices of class 7 to crop, setting the crop ratio of this class to zero.\n",
      "  warnings.warn(\n",
      "/usr/local/lib/python3.10/dist-packages/monai/transforms/utils.py:743: UserWarning: no available indices of class 2 to crop, setting the crop ratio of this class to zero.\n",
      "  warnings.warn(\n",
      "/usr/local/lib/python3.10/dist-packages/monai/transforms/utils.py:743: UserWarning: no available indices of class 7 to crop, setting the crop ratio of this class to zero.\n",
      "  warnings.warn(\n",
      "/usr/local/lib/python3.10/dist-packages/monai/transforms/utils.py:743: UserWarning: no available indices of class 2 to crop, setting the crop ratio of this class to zero.\n",
      "  warnings.warn(\n",
      "/usr/local/lib/python3.10/dist-packages/monai/transforms/utils.py:743: UserWarning: no available indices of class 7 to crop, setting the crop ratio of this class to zero.\n",
      "  warnings.warn(\n"
     ]
    },
    {
     "name": "stdout",
     "output_type": "stream",
     "text": [
      "Batch 1/10, train_loss: 0.7378\n",
      "Batch 2/10, train_loss: 0.7013\n",
      "Batch 3/10, train_loss: 0.6980\n",
      "Batch 4/10, train_loss: 0.6984\n",
      "Batch 5/10, train_loss: 0.7373\n",
      "Batch 6/10, train_loss: 0.6859\n",
      "Batch 7/10, train_loss: 0.6801\n",
      "Batch 8/10, train_loss: 0.7281\n",
      "Batch 9/10, train_loss: 0.7156\n",
      "Batch 10/10, train_loss: 0.7094\n",
      "Epoch 122 average loss: 0.7092\n"
     ]
    },
    {
     "name": "stderr",
     "output_type": "stream",
     "text": [
      "/usr/local/lib/python3.10/dist-packages/monai/transforms/utils.py:743: UserWarning: no available indices of class 2 to crop, setting the crop ratio of this class to zero.\n",
      "  warnings.warn(\n",
      "/usr/local/lib/python3.10/dist-packages/monai/transforms/utils.py:743: UserWarning: no available indices of class 7 to crop, setting the crop ratio of this class to zero.\n",
      "  warnings.warn(\n",
      "/usr/local/lib/python3.10/dist-packages/monai/transforms/utils.py:743: UserWarning: no available indices of class 2 to crop, setting the crop ratio of this class to zero.\n",
      "  warnings.warn(\n",
      "/usr/local/lib/python3.10/dist-packages/monai/transforms/utils.py:743: UserWarning: no available indices of class 7 to crop, setting the crop ratio of this class to zero.\n",
      "  warnings.warn(\n"
     ]
    },
    {
     "name": "stdout",
     "output_type": "stream",
     "text": [
      "current epoch: 122 current mean recall per class: 0.656, 0, 0.2959, 0.602, 0.3955, 0.5258, 0\n",
      "best mean recall: 0.3613 at epoch: 114\n",
      "----------\n",
      "Epoch 123/200\n"
     ]
    },
    {
     "name": "stderr",
     "output_type": "stream",
     "text": [
      "/usr/local/lib/python3.10/dist-packages/monai/transforms/utils.py:743: UserWarning: no available indices of class 2 to crop, setting the crop ratio of this class to zero.\n",
      "  warnings.warn(\n",
      "/usr/local/lib/python3.10/dist-packages/monai/transforms/utils.py:743: UserWarning: no available indices of class 7 to crop, setting the crop ratio of this class to zero.\n",
      "  warnings.warn(\n",
      "/usr/local/lib/python3.10/dist-packages/monai/transforms/utils.py:743: UserWarning: no available indices of class 2 to crop, setting the crop ratio of this class to zero.\n",
      "  warnings.warn(\n",
      "/usr/local/lib/python3.10/dist-packages/monai/transforms/utils.py:743: UserWarning: no available indices of class 7 to crop, setting the crop ratio of this class to zero.\n",
      "  warnings.warn(\n",
      "/usr/local/lib/python3.10/dist-packages/monai/transforms/utils.py:743: UserWarning: no available indices of class 2 to crop, setting the crop ratio of this class to zero.\n",
      "  warnings.warn(\n",
      "/usr/local/lib/python3.10/dist-packages/monai/transforms/utils.py:743: UserWarning: no available indices of class 7 to crop, setting the crop ratio of this class to zero.\n",
      "  warnings.warn(\n",
      "/usr/local/lib/python3.10/dist-packages/monai/transforms/utils.py:743: UserWarning: no available indices of class 2 to crop, setting the crop ratio of this class to zero.\n",
      "  warnings.warn(\n",
      "/usr/local/lib/python3.10/dist-packages/monai/transforms/utils.py:743: UserWarning: no available indices of class 7 to crop, setting the crop ratio of this class to zero.\n",
      "  warnings.warn(\n"
     ]
    },
    {
     "name": "stdout",
     "output_type": "stream",
     "text": [
      "Batch 1/10, train_loss: 0.6815\n",
      "Batch 2/10, train_loss: 0.7324\n",
      "Batch 3/10, train_loss: 0.7144\n",
      "Batch 4/10, train_loss: 0.7106\n",
      "Batch 5/10, train_loss: 0.6793\n",
      "Batch 6/10, train_loss: 0.7146\n",
      "Batch 7/10, train_loss: 0.6766\n",
      "Batch 8/10, train_loss: 0.7231\n",
      "Batch 9/10, train_loss: 0.7366\n",
      "Batch 10/10, train_loss: 0.7136\n",
      "Epoch 123 average loss: 0.7083\n",
      "----------\n",
      "Epoch 124/200\n"
     ]
    },
    {
     "name": "stderr",
     "output_type": "stream",
     "text": [
      "/usr/local/lib/python3.10/dist-packages/monai/transforms/utils.py:743: UserWarning: no available indices of class 2 to crop, setting the crop ratio of this class to zero.\n",
      "  warnings.warn(\n",
      "/usr/local/lib/python3.10/dist-packages/monai/transforms/utils.py:743: UserWarning: no available indices of class 2 to crop, setting the crop ratio of this class to zero.\n",
      "  warnings.warn(\n",
      "/usr/local/lib/python3.10/dist-packages/monai/transforms/utils.py:743: UserWarning: no available indices of class 7 to crop, setting the crop ratio of this class to zero.\n",
      "  warnings.warn(\n",
      "/usr/local/lib/python3.10/dist-packages/monai/transforms/utils.py:743: UserWarning: no available indices of class 7 to crop, setting the crop ratio of this class to zero.\n",
      "  warnings.warn(\n",
      "/usr/local/lib/python3.10/dist-packages/monai/transforms/utils.py:743: UserWarning: no available indices of class 2 to crop, setting the crop ratio of this class to zero.\n",
      "  warnings.warn(\n",
      "/usr/local/lib/python3.10/dist-packages/monai/transforms/utils.py:743: UserWarning: no available indices of class 7 to crop, setting the crop ratio of this class to zero.\n",
      "  warnings.warn(\n",
      "/usr/local/lib/python3.10/dist-packages/monai/transforms/utils.py:743: UserWarning: no available indices of class 2 to crop, setting the crop ratio of this class to zero.\n",
      "  warnings.warn(\n",
      "/usr/local/lib/python3.10/dist-packages/monai/transforms/utils.py:743: UserWarning: no available indices of class 7 to crop, setting the crop ratio of this class to zero.\n",
      "  warnings.warn(\n"
     ]
    },
    {
     "name": "stdout",
     "output_type": "stream",
     "text": [
      "Batch 1/10, train_loss: 0.7116\n",
      "Batch 2/10, train_loss: 0.7079\n",
      "Batch 3/10, train_loss: 0.7358\n",
      "Batch 4/10, train_loss: 0.7047\n",
      "Batch 5/10, train_loss: 0.7183\n",
      "Batch 6/10, train_loss: 0.7360\n",
      "Batch 7/10, train_loss: 0.6817\n",
      "Batch 8/10, train_loss: 0.6695\n",
      "Batch 9/10, train_loss: 0.7071\n",
      "Batch 10/10, train_loss: 0.7072\n",
      "Epoch 124 average loss: 0.7080\n"
     ]
    },
    {
     "name": "stderr",
     "output_type": "stream",
     "text": [
      "/usr/local/lib/python3.10/dist-packages/monai/transforms/utils.py:743: UserWarning: no available indices of class 2 to crop, setting the crop ratio of this class to zero.\n",
      "  warnings.warn(\n",
      "/usr/local/lib/python3.10/dist-packages/monai/transforms/utils.py:743: UserWarning: no available indices of class 7 to crop, setting the crop ratio of this class to zero.\n",
      "  warnings.warn(\n",
      "/usr/local/lib/python3.10/dist-packages/monai/transforms/utils.py:743: UserWarning: no available indices of class 2 to crop, setting the crop ratio of this class to zero.\n",
      "  warnings.warn(\n",
      "/usr/local/lib/python3.10/dist-packages/monai/transforms/utils.py:743: UserWarning: no available indices of class 7 to crop, setting the crop ratio of this class to zero.\n",
      "  warnings.warn(\n"
     ]
    },
    {
     "name": "stdout",
     "output_type": "stream",
     "text": [
      "current epoch: 124 current mean recall per class: 0.7295, 0, 0.2217, 0.5318, 0.3301, 0.5408, 0\n",
      "best mean recall: 0.3613 at epoch: 114\n",
      "----------\n",
      "Epoch 125/200\n"
     ]
    },
    {
     "name": "stderr",
     "output_type": "stream",
     "text": [
      "/usr/local/lib/python3.10/dist-packages/monai/transforms/utils.py:743: UserWarning: no available indices of class 2 to crop, setting the crop ratio of this class to zero.\n",
      "  warnings.warn(\n",
      "/usr/local/lib/python3.10/dist-packages/monai/transforms/utils.py:743: UserWarning: no available indices of class 7 to crop, setting the crop ratio of this class to zero.\n",
      "  warnings.warn(\n",
      "/usr/local/lib/python3.10/dist-packages/monai/transforms/utils.py:743: UserWarning: no available indices of class 2 to crop, setting the crop ratio of this class to zero.\n",
      "  warnings.warn(\n",
      "/usr/local/lib/python3.10/dist-packages/monai/transforms/utils.py:743: UserWarning: no available indices of class 7 to crop, setting the crop ratio of this class to zero.\n",
      "  warnings.warn(\n",
      "/usr/local/lib/python3.10/dist-packages/monai/transforms/utils.py:743: UserWarning: no available indices of class 2 to crop, setting the crop ratio of this class to zero.\n",
      "  warnings.warn(\n",
      "/usr/local/lib/python3.10/dist-packages/monai/transforms/utils.py:743: UserWarning: no available indices of class 7 to crop, setting the crop ratio of this class to zero.\n",
      "  warnings.warn(\n",
      "/usr/local/lib/python3.10/dist-packages/monai/transforms/utils.py:743: UserWarning: no available indices of class 2 to crop, setting the crop ratio of this class to zero.\n",
      "  warnings.warn(\n",
      "/usr/local/lib/python3.10/dist-packages/monai/transforms/utils.py:743: UserWarning: no available indices of class 7 to crop, setting the crop ratio of this class to zero.\n",
      "  warnings.warn(\n"
     ]
    },
    {
     "name": "stdout",
     "output_type": "stream",
     "text": [
      "Batch 1/10, train_loss: 0.6751\n",
      "Batch 2/10, train_loss: 0.6969\n",
      "Batch 3/10, train_loss: 0.7003\n",
      "Batch 4/10, train_loss: 0.6789\n",
      "Batch 5/10, train_loss: 0.7282\n",
      "Batch 6/10, train_loss: 0.6916\n",
      "Batch 7/10, train_loss: 0.7198\n",
      "Batch 8/10, train_loss: 0.6573\n",
      "Batch 9/10, train_loss: 0.6898\n",
      "Batch 10/10, train_loss: 0.6831\n",
      "Epoch 125 average loss: 0.6921\n",
      "----------\n",
      "Epoch 126/200\n"
     ]
    },
    {
     "name": "stderr",
     "output_type": "stream",
     "text": [
      "/usr/local/lib/python3.10/dist-packages/monai/transforms/utils.py:743: UserWarning: no available indices of class 2 to crop, setting the crop ratio of this class to zero.\n",
      "  warnings.warn(\n",
      "/usr/local/lib/python3.10/dist-packages/monai/transforms/utils.py:743: UserWarning: no available indices of class 7 to crop, setting the crop ratio of this class to zero.\n",
      "  warnings.warn(\n",
      "/usr/local/lib/python3.10/dist-packages/monai/transforms/utils.py:743: UserWarning: no available indices of class 2 to crop, setting the crop ratio of this class to zero.\n",
      "  warnings.warn(\n",
      "/usr/local/lib/python3.10/dist-packages/monai/transforms/utils.py:743: UserWarning: no available indices of class 7 to crop, setting the crop ratio of this class to zero.\n",
      "  warnings.warn(\n",
      "/usr/local/lib/python3.10/dist-packages/monai/transforms/utils.py:743: UserWarning: no available indices of class 2 to crop, setting the crop ratio of this class to zero.\n",
      "  warnings.warn(\n",
      "/usr/local/lib/python3.10/dist-packages/monai/transforms/utils.py:743: UserWarning: no available indices of class 7 to crop, setting the crop ratio of this class to zero.\n",
      "  warnings.warn(\n",
      "/usr/local/lib/python3.10/dist-packages/monai/transforms/utils.py:743: UserWarning: no available indices of class 2 to crop, setting the crop ratio of this class to zero.\n",
      "  warnings.warn(\n",
      "/usr/local/lib/python3.10/dist-packages/monai/transforms/utils.py:743: UserWarning: no available indices of class 7 to crop, setting the crop ratio of this class to zero.\n",
      "  warnings.warn(\n"
     ]
    },
    {
     "name": "stdout",
     "output_type": "stream",
     "text": [
      "Batch 1/10, train_loss: 0.6806\n",
      "Batch 2/10, train_loss: 0.7296\n",
      "Batch 3/10, train_loss: 0.7016\n",
      "Batch 4/10, train_loss: 0.7106\n",
      "Batch 5/10, train_loss: 0.6685\n",
      "Batch 6/10, train_loss: 0.6466\n",
      "Batch 7/10, train_loss: 0.6641\n",
      "Batch 8/10, train_loss: 0.7134\n",
      "Batch 9/10, train_loss: 0.6926\n",
      "Batch 10/10, train_loss: 0.7256\n",
      "Epoch 126 average loss: 0.6933\n"
     ]
    },
    {
     "name": "stderr",
     "output_type": "stream",
     "text": [
      "/usr/local/lib/python3.10/dist-packages/monai/transforms/utils.py:743: UserWarning: no available indices of class 2 to crop, setting the crop ratio of this class to zero.\n",
      "  warnings.warn(\n",
      "/usr/local/lib/python3.10/dist-packages/monai/transforms/utils.py:743: UserWarning: no available indices of class 7 to crop, setting the crop ratio of this class to zero.\n",
      "  warnings.warn(\n",
      "/usr/local/lib/python3.10/dist-packages/monai/transforms/utils.py:743: UserWarning: no available indices of class 2 to crop, setting the crop ratio of this class to zero.\n",
      "  warnings.warn(\n",
      "/usr/local/lib/python3.10/dist-packages/monai/transforms/utils.py:743: UserWarning: no available indices of class 7 to crop, setting the crop ratio of this class to zero.\n",
      "  warnings.warn(\n"
     ]
    },
    {
     "name": "stdout",
     "output_type": "stream",
     "text": [
      "saved new best metric model\n",
      "current epoch: 126 current mean recall per class: 0.6673, 0, 0.3608, 0.6005, 0.4462, 0.5115, 0\n",
      "best mean recall: 0.3695 at epoch: 126\n",
      "----------\n",
      "Epoch 127/200\n"
     ]
    },
    {
     "name": "stderr",
     "output_type": "stream",
     "text": [
      "/usr/local/lib/python3.10/dist-packages/monai/transforms/utils.py:743: UserWarning: no available indices of class 2 to crop, setting the crop ratio of this class to zero.\n",
      "  warnings.warn(\n",
      "/usr/local/lib/python3.10/dist-packages/monai/transforms/utils.py:743: UserWarning: no available indices of class 7 to crop, setting the crop ratio of this class to zero.\n",
      "  warnings.warn(\n",
      "/usr/local/lib/python3.10/dist-packages/monai/transforms/utils.py:743: UserWarning: no available indices of class 2 to crop, setting the crop ratio of this class to zero.\n",
      "  warnings.warn(\n",
      "/usr/local/lib/python3.10/dist-packages/monai/transforms/utils.py:743: UserWarning: no available indices of class 2 to crop, setting the crop ratio of this class to zero.\n",
      "  warnings.warn(\n",
      "/usr/local/lib/python3.10/dist-packages/monai/transforms/utils.py:743: UserWarning: no available indices of class 7 to crop, setting the crop ratio of this class to zero.\n",
      "  warnings.warn(\n",
      "/usr/local/lib/python3.10/dist-packages/monai/transforms/utils.py:743: UserWarning: no available indices of class 7 to crop, setting the crop ratio of this class to zero.\n",
      "  warnings.warn(\n",
      "/usr/local/lib/python3.10/dist-packages/monai/transforms/utils.py:743: UserWarning: no available indices of class 2 to crop, setting the crop ratio of this class to zero.\n",
      "  warnings.warn(\n",
      "/usr/local/lib/python3.10/dist-packages/monai/transforms/utils.py:743: UserWarning: no available indices of class 7 to crop, setting the crop ratio of this class to zero.\n",
      "  warnings.warn(\n"
     ]
    },
    {
     "name": "stdout",
     "output_type": "stream",
     "text": [
      "Batch 1/10, train_loss: 0.6801\n",
      "Batch 2/10, train_loss: 0.6755\n",
      "Batch 3/10, train_loss: 0.7133\n",
      "Batch 4/10, train_loss: 0.7180\n",
      "Batch 5/10, train_loss: 0.6843\n",
      "Batch 6/10, train_loss: 0.6864\n",
      "Batch 7/10, train_loss: 0.6950\n",
      "Batch 8/10, train_loss: 0.7204\n",
      "Batch 9/10, train_loss: 0.7327\n",
      "Batch 10/10, train_loss: 0.6995\n",
      "Epoch 127 average loss: 0.7005\n",
      "----------\n",
      "Epoch 128/200\n"
     ]
    },
    {
     "name": "stderr",
     "output_type": "stream",
     "text": [
      "/usr/local/lib/python3.10/dist-packages/monai/transforms/utils.py:743: UserWarning: no available indices of class 2 to crop, setting the crop ratio of this class to zero.\n",
      "  warnings.warn(\n",
      "/usr/local/lib/python3.10/dist-packages/monai/transforms/utils.py:743: UserWarning: no available indices of class 7 to crop, setting the crop ratio of this class to zero.\n",
      "  warnings.warn(\n",
      "/usr/local/lib/python3.10/dist-packages/monai/transforms/utils.py:743: UserWarning: no available indices of class 2 to crop, setting the crop ratio of this class to zero.\n",
      "  warnings.warn(\n",
      "/usr/local/lib/python3.10/dist-packages/monai/transforms/utils.py:743: UserWarning: no available indices of class 7 to crop, setting the crop ratio of this class to zero.\n",
      "  warnings.warn(\n",
      "/usr/local/lib/python3.10/dist-packages/monai/transforms/utils.py:743: UserWarning: no available indices of class 2 to crop, setting the crop ratio of this class to zero.\n",
      "  warnings.warn(\n",
      "/usr/local/lib/python3.10/dist-packages/monai/transforms/utils.py:743: UserWarning: no available indices of class 7 to crop, setting the crop ratio of this class to zero.\n",
      "  warnings.warn(\n",
      "/usr/local/lib/python3.10/dist-packages/monai/transforms/utils.py:743: UserWarning: no available indices of class 2 to crop, setting the crop ratio of this class to zero.\n",
      "  warnings.warn(\n",
      "/usr/local/lib/python3.10/dist-packages/monai/transforms/utils.py:743: UserWarning: no available indices of class 7 to crop, setting the crop ratio of this class to zero.\n",
      "  warnings.warn(\n"
     ]
    },
    {
     "name": "stdout",
     "output_type": "stream",
     "text": [
      "Batch 1/10, train_loss: 0.7215\n",
      "Batch 2/10, train_loss: 0.7280\n",
      "Batch 3/10, train_loss: 0.6932\n",
      "Batch 4/10, train_loss: 0.7254\n",
      "Batch 5/10, train_loss: 0.7048\n",
      "Batch 6/10, train_loss: 0.6689\n",
      "Batch 7/10, train_loss: 0.7029\n",
      "Batch 8/10, train_loss: 0.7208\n",
      "Batch 9/10, train_loss: 0.7385\n",
      "Batch 10/10, train_loss: 0.6946\n",
      "Epoch 128 average loss: 0.7099\n"
     ]
    },
    {
     "name": "stderr",
     "output_type": "stream",
     "text": [
      "/usr/local/lib/python3.10/dist-packages/monai/transforms/utils.py:743: UserWarning: no available indices of class 2 to crop, setting the crop ratio of this class to zero.\n",
      "  warnings.warn(\n",
      "/usr/local/lib/python3.10/dist-packages/monai/transforms/utils.py:743: UserWarning: no available indices of class 7 to crop, setting the crop ratio of this class to zero.\n",
      "  warnings.warn(\n",
      "/usr/local/lib/python3.10/dist-packages/monai/transforms/utils.py:743: UserWarning: no available indices of class 2 to crop, setting the crop ratio of this class to zero.\n",
      "  warnings.warn(\n",
      "/usr/local/lib/python3.10/dist-packages/monai/transforms/utils.py:743: UserWarning: no available indices of class 7 to crop, setting the crop ratio of this class to zero.\n",
      "  warnings.warn(\n"
     ]
    },
    {
     "name": "stdout",
     "output_type": "stream",
     "text": [
      "current epoch: 128 current mean recall per class: 0.4055, 0, 0.4658, 0.5988, 0.3989, 0.4223, 0\n",
      "best mean recall: 0.3695 at epoch: 126\n",
      "----------\n",
      "Epoch 129/200\n"
     ]
    },
    {
     "name": "stderr",
     "output_type": "stream",
     "text": [
      "/usr/local/lib/python3.10/dist-packages/monai/transforms/utils.py:743: UserWarning: no available indices of class 2 to crop, setting the crop ratio of this class to zero.\n",
      "  warnings.warn(\n",
      "/usr/local/lib/python3.10/dist-packages/monai/transforms/utils.py:743: UserWarning: no available indices of class 7 to crop, setting the crop ratio of this class to zero.\n",
      "  warnings.warn(\n",
      "/usr/local/lib/python3.10/dist-packages/monai/transforms/utils.py:743: UserWarning: no available indices of class 2 to crop, setting the crop ratio of this class to zero.\n",
      "  warnings.warn(\n",
      "/usr/local/lib/python3.10/dist-packages/monai/transforms/utils.py:743: UserWarning: no available indices of class 7 to crop, setting the crop ratio of this class to zero.\n",
      "  warnings.warn(\n",
      "/usr/local/lib/python3.10/dist-packages/monai/transforms/utils.py:743: UserWarning: no available indices of class 2 to crop, setting the crop ratio of this class to zero.\n",
      "  warnings.warn(\n",
      "/usr/local/lib/python3.10/dist-packages/monai/transforms/utils.py:743: UserWarning: no available indices of class 2 to crop, setting the crop ratio of this class to zero.\n",
      "  warnings.warn(\n",
      "/usr/local/lib/python3.10/dist-packages/monai/transforms/utils.py:743: UserWarning: no available indices of class 7 to crop, setting the crop ratio of this class to zero.\n",
      "  warnings.warn(\n",
      "/usr/local/lib/python3.10/dist-packages/monai/transforms/utils.py:743: UserWarning: no available indices of class 7 to crop, setting the crop ratio of this class to zero.\n",
      "  warnings.warn(\n"
     ]
    },
    {
     "name": "stdout",
     "output_type": "stream",
     "text": [
      "Batch 1/10, train_loss: 0.7057\n",
      "Batch 2/10, train_loss: 0.6628\n",
      "Batch 3/10, train_loss: 0.7476\n",
      "Batch 4/10, train_loss: 0.6870\n",
      "Batch 5/10, train_loss: 0.6647\n",
      "Batch 6/10, train_loss: 0.6504\n",
      "Batch 7/10, train_loss: 0.6934\n",
      "Batch 8/10, train_loss: 0.7038\n",
      "Batch 9/10, train_loss: 0.7265\n",
      "Batch 10/10, train_loss: 0.7241\n",
      "Epoch 129 average loss: 0.6966\n",
      "----------\n",
      "Epoch 130/200\n"
     ]
    },
    {
     "name": "stderr",
     "output_type": "stream",
     "text": [
      "/usr/local/lib/python3.10/dist-packages/monai/transforms/utils.py:743: UserWarning: no available indices of class 2 to crop, setting the crop ratio of this class to zero.\n",
      "  warnings.warn(\n",
      "/usr/local/lib/python3.10/dist-packages/monai/transforms/utils.py:743: UserWarning: no available indices of class 7 to crop, setting the crop ratio of this class to zero.\n",
      "  warnings.warn(\n",
      "/usr/local/lib/python3.10/dist-packages/monai/transforms/utils.py:743: UserWarning: no available indices of class 2 to crop, setting the crop ratio of this class to zero.\n",
      "  warnings.warn(\n",
      "/usr/local/lib/python3.10/dist-packages/monai/transforms/utils.py:743: UserWarning: no available indices of class 7 to crop, setting the crop ratio of this class to zero.\n",
      "  warnings.warn(\n",
      "/usr/local/lib/python3.10/dist-packages/monai/transforms/utils.py:743: UserWarning: no available indices of class 2 to crop, setting the crop ratio of this class to zero.\n",
      "  warnings.warn(\n",
      "/usr/local/lib/python3.10/dist-packages/monai/transforms/utils.py:743: UserWarning: no available indices of class 2 to crop, setting the crop ratio of this class to zero.\n",
      "  warnings.warn(\n",
      "/usr/local/lib/python3.10/dist-packages/monai/transforms/utils.py:743: UserWarning: no available indices of class 7 to crop, setting the crop ratio of this class to zero.\n",
      "  warnings.warn(\n",
      "/usr/local/lib/python3.10/dist-packages/monai/transforms/utils.py:743: UserWarning: no available indices of class 7 to crop, setting the crop ratio of this class to zero.\n",
      "  warnings.warn(\n"
     ]
    },
    {
     "name": "stdout",
     "output_type": "stream",
     "text": [
      "Batch 1/10, train_loss: 0.6978\n",
      "Batch 2/10, train_loss: 0.7220\n",
      "Batch 3/10, train_loss: 0.7641\n",
      "Batch 4/10, train_loss: 0.7024\n",
      "Batch 5/10, train_loss: 0.6907\n",
      "Batch 6/10, train_loss: 0.6889\n",
      "Batch 7/10, train_loss: 0.6533\n",
      "Batch 8/10, train_loss: 0.7275\n",
      "Batch 9/10, train_loss: 0.6958\n",
      "Batch 10/10, train_loss: 0.7304\n",
      "Epoch 130 average loss: 0.7073\n"
     ]
    },
    {
     "name": "stderr",
     "output_type": "stream",
     "text": [
      "/usr/local/lib/python3.10/dist-packages/monai/transforms/utils.py:743: UserWarning: no available indices of class 2 to crop, setting the crop ratio of this class to zero.\n",
      "  warnings.warn(\n",
      "/usr/local/lib/python3.10/dist-packages/monai/transforms/utils.py:743: UserWarning: no available indices of class 2 to crop, setting the crop ratio of this class to zero.\n",
      "  warnings.warn(\n",
      "/usr/local/lib/python3.10/dist-packages/monai/transforms/utils.py:743: UserWarning: no available indices of class 7 to crop, setting the crop ratio of this class to zero.\n",
      "  warnings.warn(\n",
      "/usr/local/lib/python3.10/dist-packages/monai/transforms/utils.py:743: UserWarning: no available indices of class 7 to crop, setting the crop ratio of this class to zero.\n",
      "  warnings.warn(\n"
     ]
    },
    {
     "name": "stdout",
     "output_type": "stream",
     "text": [
      "current epoch: 130 current mean recall per class: 0.7358, 0, 0.2673, 0.5442, 0.3167, 0.5593, 0\n",
      "best mean recall: 0.3695 at epoch: 126\n",
      "----------\n",
      "Epoch 131/200\n"
     ]
    },
    {
     "name": "stderr",
     "output_type": "stream",
     "text": [
      "/usr/local/lib/python3.10/dist-packages/monai/transforms/utils.py:743: UserWarning: no available indices of class 2 to crop, setting the crop ratio of this class to zero.\n",
      "  warnings.warn(\n",
      "/usr/local/lib/python3.10/dist-packages/monai/transforms/utils.py:743: UserWarning: no available indices of class 7 to crop, setting the crop ratio of this class to zero.\n",
      "  warnings.warn(\n",
      "/usr/local/lib/python3.10/dist-packages/monai/transforms/utils.py:743: UserWarning: no available indices of class 2 to crop, setting the crop ratio of this class to zero.\n",
      "  warnings.warn(\n",
      "/usr/local/lib/python3.10/dist-packages/monai/transforms/utils.py:743: UserWarning: no available indices of class 7 to crop, setting the crop ratio of this class to zero.\n",
      "  warnings.warn(\n",
      "/usr/local/lib/python3.10/dist-packages/monai/transforms/utils.py:743: UserWarning: no available indices of class 2 to crop, setting the crop ratio of this class to zero.\n",
      "  warnings.warn(\n",
      "/usr/local/lib/python3.10/dist-packages/monai/transforms/utils.py:743: UserWarning: no available indices of class 2 to crop, setting the crop ratio of this class to zero.\n",
      "  warnings.warn(\n",
      "/usr/local/lib/python3.10/dist-packages/monai/transforms/utils.py:743: UserWarning: no available indices of class 7 to crop, setting the crop ratio of this class to zero.\n",
      "  warnings.warn(\n",
      "/usr/local/lib/python3.10/dist-packages/monai/transforms/utils.py:743: UserWarning: no available indices of class 7 to crop, setting the crop ratio of this class to zero.\n",
      "  warnings.warn(\n"
     ]
    },
    {
     "name": "stdout",
     "output_type": "stream",
     "text": [
      "Batch 1/10, train_loss: 0.6771\n",
      "Batch 2/10, train_loss: 0.6603\n",
      "Batch 3/10, train_loss: 0.7216\n",
      "Batch 4/10, train_loss: 0.6900\n",
      "Batch 5/10, train_loss: 0.7325\n",
      "Batch 6/10, train_loss: 0.6592\n",
      "Batch 7/10, train_loss: 0.7061\n",
      "Batch 8/10, train_loss: 0.7139\n",
      "Batch 9/10, train_loss: 0.7000\n",
      "Batch 10/10, train_loss: 0.6956\n",
      "Epoch 131 average loss: 0.6956\n",
      "----------\n",
      "Epoch 132/200\n"
     ]
    },
    {
     "name": "stderr",
     "output_type": "stream",
     "text": [
      "/usr/local/lib/python3.10/dist-packages/monai/transforms/utils.py:743: UserWarning: no available indices of class 2 to crop, setting the crop ratio of this class to zero.\n",
      "  warnings.warn(\n",
      "/usr/local/lib/python3.10/dist-packages/monai/transforms/utils.py:743: UserWarning: no available indices of class 7 to crop, setting the crop ratio of this class to zero.\n",
      "  warnings.warn(\n",
      "/usr/local/lib/python3.10/dist-packages/monai/transforms/utils.py:743: UserWarning: no available indices of class 2 to crop, setting the crop ratio of this class to zero.\n",
      "  warnings.warn(\n",
      "/usr/local/lib/python3.10/dist-packages/monai/transforms/utils.py:743: UserWarning: no available indices of class 7 to crop, setting the crop ratio of this class to zero.\n",
      "  warnings.warn(\n",
      "/usr/local/lib/python3.10/dist-packages/monai/transforms/utils.py:743: UserWarning: no available indices of class 2 to crop, setting the crop ratio of this class to zero.\n",
      "  warnings.warn(\n",
      "/usr/local/lib/python3.10/dist-packages/monai/transforms/utils.py:743: UserWarning: no available indices of class 7 to crop, setting the crop ratio of this class to zero.\n",
      "  warnings.warn(\n",
      "/usr/local/lib/python3.10/dist-packages/monai/transforms/utils.py:743: UserWarning: no available indices of class 2 to crop, setting the crop ratio of this class to zero.\n",
      "  warnings.warn(\n",
      "/usr/local/lib/python3.10/dist-packages/monai/transforms/utils.py:743: UserWarning: no available indices of class 7 to crop, setting the crop ratio of this class to zero.\n",
      "  warnings.warn(\n"
     ]
    },
    {
     "name": "stdout",
     "output_type": "stream",
     "text": [
      "Batch 1/10, train_loss: 0.6724\n",
      "Batch 2/10, train_loss: 0.6766\n",
      "Batch 3/10, train_loss: 0.7339\n",
      "Batch 4/10, train_loss: 0.6860\n",
      "Batch 5/10, train_loss: 0.7537\n",
      "Batch 6/10, train_loss: 0.7052\n",
      "Batch 7/10, train_loss: 0.6734\n",
      "Batch 8/10, train_loss: 0.6552\n",
      "Batch 9/10, train_loss: 0.6736\n",
      "Batch 10/10, train_loss: 0.6548\n",
      "Epoch 132 average loss: 0.6885\n"
     ]
    },
    {
     "name": "stderr",
     "output_type": "stream",
     "text": [
      "/usr/local/lib/python3.10/dist-packages/monai/transforms/utils.py:743: UserWarning: no available indices of class 2 to crop, setting the crop ratio of this class to zero.\n",
      "  warnings.warn(\n",
      "/usr/local/lib/python3.10/dist-packages/monai/transforms/utils.py:743: UserWarning: no available indices of class 7 to crop, setting the crop ratio of this class to zero.\n",
      "  warnings.warn(\n",
      "/usr/local/lib/python3.10/dist-packages/monai/transforms/utils.py:743: UserWarning: no available indices of class 2 to crop, setting the crop ratio of this class to zero.\n",
      "  warnings.warn(\n",
      "/usr/local/lib/python3.10/dist-packages/monai/transforms/utils.py:743: UserWarning: no available indices of class 7 to crop, setting the crop ratio of this class to zero.\n",
      "  warnings.warn(\n"
     ]
    },
    {
     "name": "stdout",
     "output_type": "stream",
     "text": [
      "current epoch: 132 current mean recall per class: 0.7133, 0, 0.3159, 0.6029, 0.4205, 0.5031, 0\n",
      "best mean recall: 0.3695 at epoch: 126\n",
      "----------\n",
      "Epoch 133/200\n"
     ]
    },
    {
     "name": "stderr",
     "output_type": "stream",
     "text": [
      "/usr/local/lib/python3.10/dist-packages/monai/transforms/utils.py:743: UserWarning: no available indices of class 2 to crop, setting the crop ratio of this class to zero.\n",
      "  warnings.warn(\n",
      "/usr/local/lib/python3.10/dist-packages/monai/transforms/utils.py:743: UserWarning: no available indices of class 7 to crop, setting the crop ratio of this class to zero.\n",
      "  warnings.warn(\n",
      "/usr/local/lib/python3.10/dist-packages/monai/transforms/utils.py:743: UserWarning: no available indices of class 2 to crop, setting the crop ratio of this class to zero.\n",
      "  warnings.warn(\n",
      "/usr/local/lib/python3.10/dist-packages/monai/transforms/utils.py:743: UserWarning: no available indices of class 7 to crop, setting the crop ratio of this class to zero.\n",
      "  warnings.warn(\n",
      "/usr/local/lib/python3.10/dist-packages/monai/transforms/utils.py:743: UserWarning: no available indices of class 2 to crop, setting the crop ratio of this class to zero.\n",
      "  warnings.warn(\n",
      "/usr/local/lib/python3.10/dist-packages/monai/transforms/utils.py:743: UserWarning: no available indices of class 2 to crop, setting the crop ratio of this class to zero.\n",
      "  warnings.warn(\n",
      "/usr/local/lib/python3.10/dist-packages/monai/transforms/utils.py:743: UserWarning: no available indices of class 7 to crop, setting the crop ratio of this class to zero.\n",
      "  warnings.warn(\n",
      "/usr/local/lib/python3.10/dist-packages/monai/transforms/utils.py:743: UserWarning: no available indices of class 7 to crop, setting the crop ratio of this class to zero.\n",
      "  warnings.warn(\n"
     ]
    },
    {
     "name": "stdout",
     "output_type": "stream",
     "text": [
      "Batch 1/10, train_loss: 0.7242\n",
      "Batch 2/10, train_loss: 0.6538\n",
      "Batch 3/10, train_loss: 0.7224\n",
      "Batch 4/10, train_loss: 0.7095\n",
      "Batch 5/10, train_loss: 0.6839\n",
      "Batch 6/10, train_loss: 0.6825\n",
      "Batch 7/10, train_loss: 0.7219\n",
      "Batch 8/10, train_loss: 0.7103\n",
      "Batch 9/10, train_loss: 0.7194\n",
      "Batch 10/10, train_loss: 0.6776\n",
      "Epoch 133 average loss: 0.7005\n",
      "----------\n",
      "Epoch 134/200\n"
     ]
    },
    {
     "name": "stderr",
     "output_type": "stream",
     "text": [
      "/usr/local/lib/python3.10/dist-packages/monai/transforms/utils.py:743: UserWarning: no available indices of class 2 to crop, setting the crop ratio of this class to zero.\n",
      "  warnings.warn(\n",
      "/usr/local/lib/python3.10/dist-packages/monai/transforms/utils.py:743: UserWarning: no available indices of class 7 to crop, setting the crop ratio of this class to zero.\n",
      "  warnings.warn(\n",
      "/usr/local/lib/python3.10/dist-packages/monai/transforms/utils.py:743: UserWarning: no available indices of class 2 to crop, setting the crop ratio of this class to zero.\n",
      "  warnings.warn(\n",
      "/usr/local/lib/python3.10/dist-packages/monai/transforms/utils.py:743: UserWarning: no available indices of class 7 to crop, setting the crop ratio of this class to zero.\n",
      "  warnings.warn(\n",
      "/usr/local/lib/python3.10/dist-packages/monai/transforms/utils.py:743: UserWarning: no available indices of class 2 to crop, setting the crop ratio of this class to zero.\n",
      "  warnings.warn(\n",
      "/usr/local/lib/python3.10/dist-packages/monai/transforms/utils.py:743: UserWarning: no available indices of class 7 to crop, setting the crop ratio of this class to zero.\n",
      "  warnings.warn(\n",
      "/usr/local/lib/python3.10/dist-packages/monai/transforms/utils.py:743: UserWarning: no available indices of class 2 to crop, setting the crop ratio of this class to zero.\n",
      "  warnings.warn(\n",
      "/usr/local/lib/python3.10/dist-packages/monai/transforms/utils.py:743: UserWarning: no available indices of class 7 to crop, setting the crop ratio of this class to zero.\n",
      "  warnings.warn(\n"
     ]
    },
    {
     "name": "stdout",
     "output_type": "stream",
     "text": [
      "Batch 1/10, train_loss: 0.7013\n",
      "Batch 2/10, train_loss: 0.7111\n",
      "Batch 3/10, train_loss: 0.7063\n",
      "Batch 4/10, train_loss: 0.6966\n",
      "Batch 5/10, train_loss: 0.6363\n",
      "Batch 6/10, train_loss: 0.7347\n",
      "Batch 7/10, train_loss: 0.7020\n",
      "Batch 8/10, train_loss: 0.7336\n",
      "Batch 9/10, train_loss: 0.6904\n",
      "Batch 10/10, train_loss: 0.6996\n",
      "Epoch 134 average loss: 0.7012\n"
     ]
    },
    {
     "name": "stderr",
     "output_type": "stream",
     "text": [
      "/usr/local/lib/python3.10/dist-packages/monai/transforms/utils.py:743: UserWarning: no available indices of class 2 to crop, setting the crop ratio of this class to zero.\n",
      "  warnings.warn(\n",
      "/usr/local/lib/python3.10/dist-packages/monai/transforms/utils.py:743: UserWarning: no available indices of class 7 to crop, setting the crop ratio of this class to zero.\n",
      "  warnings.warn(\n",
      "/usr/local/lib/python3.10/dist-packages/monai/transforms/utils.py:743: UserWarning: no available indices of class 2 to crop, setting the crop ratio of this class to zero.\n",
      "  warnings.warn(\n",
      "/usr/local/lib/python3.10/dist-packages/monai/transforms/utils.py:743: UserWarning: no available indices of class 7 to crop, setting the crop ratio of this class to zero.\n",
      "  warnings.warn(\n"
     ]
    },
    {
     "name": "stdout",
     "output_type": "stream",
     "text": [
      "current epoch: 134 current mean recall per class: 0.7392, 0, 0.3294, 0.5411, 0.2882, 0.4893, 0\n",
      "best mean recall: 0.3695 at epoch: 126\n",
      "----------\n",
      "Epoch 135/200\n"
     ]
    },
    {
     "name": "stderr",
     "output_type": "stream",
     "text": [
      "/usr/local/lib/python3.10/dist-packages/monai/transforms/utils.py:743: UserWarning: no available indices of class 2 to crop, setting the crop ratio of this class to zero.\n",
      "  warnings.warn(\n",
      "/usr/local/lib/python3.10/dist-packages/monai/transforms/utils.py:743: UserWarning: no available indices of class 7 to crop, setting the crop ratio of this class to zero.\n",
      "  warnings.warn(\n",
      "/usr/local/lib/python3.10/dist-packages/monai/transforms/utils.py:743: UserWarning: no available indices of class 2 to crop, setting the crop ratio of this class to zero.\n",
      "  warnings.warn(\n",
      "/usr/local/lib/python3.10/dist-packages/monai/transforms/utils.py:743: UserWarning: no available indices of class 7 to crop, setting the crop ratio of this class to zero.\n",
      "  warnings.warn(\n",
      "/usr/local/lib/python3.10/dist-packages/monai/transforms/utils.py:743: UserWarning: no available indices of class 2 to crop, setting the crop ratio of this class to zero.\n",
      "  warnings.warn(\n",
      "/usr/local/lib/python3.10/dist-packages/monai/transforms/utils.py:743: UserWarning: no available indices of class 7 to crop, setting the crop ratio of this class to zero.\n",
      "  warnings.warn(\n",
      "/usr/local/lib/python3.10/dist-packages/monai/transforms/utils.py:743: UserWarning: no available indices of class 2 to crop, setting the crop ratio of this class to zero.\n",
      "  warnings.warn(\n",
      "/usr/local/lib/python3.10/dist-packages/monai/transforms/utils.py:743: UserWarning: no available indices of class 7 to crop, setting the crop ratio of this class to zero.\n",
      "  warnings.warn(\n"
     ]
    },
    {
     "name": "stdout",
     "output_type": "stream",
     "text": [
      "Batch 1/10, train_loss: 0.7257\n",
      "Batch 2/10, train_loss: 0.7109\n",
      "Batch 3/10, train_loss: 0.6731\n",
      "Batch 4/10, train_loss: 0.6825\n",
      "Batch 5/10, train_loss: 0.6992\n",
      "Batch 6/10, train_loss: 0.6552\n",
      "Batch 7/10, train_loss: 0.7332\n",
      "Batch 8/10, train_loss: 0.7172\n",
      "Batch 9/10, train_loss: 0.6561\n",
      "Batch 10/10, train_loss: 0.7115\n",
      "Epoch 135 average loss: 0.6964\n",
      "----------\n",
      "Epoch 136/200\n"
     ]
    },
    {
     "name": "stderr",
     "output_type": "stream",
     "text": [
      "/usr/local/lib/python3.10/dist-packages/monai/transforms/utils.py:743: UserWarning: no available indices of class 2 to crop, setting the crop ratio of this class to zero.\n",
      "  warnings.warn(\n",
      "/usr/local/lib/python3.10/dist-packages/monai/transforms/utils.py:743: UserWarning: no available indices of class 7 to crop, setting the crop ratio of this class to zero.\n",
      "  warnings.warn(\n",
      "/usr/local/lib/python3.10/dist-packages/monai/transforms/utils.py:743: UserWarning: no available indices of class 2 to crop, setting the crop ratio of this class to zero.\n",
      "  warnings.warn(\n",
      "/usr/local/lib/python3.10/dist-packages/monai/transforms/utils.py:743: UserWarning: no available indices of class 7 to crop, setting the crop ratio of this class to zero.\n",
      "  warnings.warn(\n",
      "/usr/local/lib/python3.10/dist-packages/monai/transforms/utils.py:743: UserWarning: no available indices of class 2 to crop, setting the crop ratio of this class to zero.\n",
      "  warnings.warn(\n",
      "/usr/local/lib/python3.10/dist-packages/monai/transforms/utils.py:743: UserWarning: no available indices of class 7 to crop, setting the crop ratio of this class to zero.\n",
      "  warnings.warn(\n",
      "/usr/local/lib/python3.10/dist-packages/monai/transforms/utils.py:743: UserWarning: no available indices of class 2 to crop, setting the crop ratio of this class to zero.\n",
      "  warnings.warn(\n",
      "/usr/local/lib/python3.10/dist-packages/monai/transforms/utils.py:743: UserWarning: no available indices of class 7 to crop, setting the crop ratio of this class to zero.\n",
      "  warnings.warn(\n"
     ]
    },
    {
     "name": "stdout",
     "output_type": "stream",
     "text": [
      "Batch 1/10, train_loss: 0.6952\n",
      "Batch 2/10, train_loss: 0.6698\n",
      "Batch 3/10, train_loss: 0.7383\n",
      "Batch 4/10, train_loss: 0.6801\n",
      "Batch 5/10, train_loss: 0.7283\n",
      "Batch 6/10, train_loss: 0.6768\n",
      "Batch 7/10, train_loss: 0.7230\n",
      "Batch 8/10, train_loss: 0.7066\n",
      "Batch 9/10, train_loss: 0.7039\n",
      "Batch 10/10, train_loss: 0.7099\n",
      "Epoch 136 average loss: 0.7032\n"
     ]
    },
    {
     "name": "stderr",
     "output_type": "stream",
     "text": [
      "/usr/local/lib/python3.10/dist-packages/monai/transforms/utils.py:743: UserWarning: no available indices of class 2 to crop, setting the crop ratio of this class to zero.\n",
      "  warnings.warn(\n",
      "/usr/local/lib/python3.10/dist-packages/monai/transforms/utils.py:743: UserWarning: no available indices of class 7 to crop, setting the crop ratio of this class to zero.\n",
      "  warnings.warn(\n",
      "/usr/local/lib/python3.10/dist-packages/monai/transforms/utils.py:743: UserWarning: no available indices of class 2 to crop, setting the crop ratio of this class to zero.\n",
      "  warnings.warn(\n",
      "/usr/local/lib/python3.10/dist-packages/monai/transforms/utils.py:743: UserWarning: no available indices of class 7 to crop, setting the crop ratio of this class to zero.\n",
      "  warnings.warn(\n"
     ]
    },
    {
     "name": "stdout",
     "output_type": "stream",
     "text": [
      "current epoch: 136 current mean recall per class: 0.597, 0, 0.3132, 0.6736, 0.4227, 0.4456, 0\n",
      "best mean recall: 0.3695 at epoch: 126\n",
      "----------\n",
      "Epoch 137/200\n"
     ]
    },
    {
     "name": "stderr",
     "output_type": "stream",
     "text": [
      "/usr/local/lib/python3.10/dist-packages/monai/transforms/utils.py:743: UserWarning: no available indices of class 2 to crop, setting the crop ratio of this class to zero.\n",
      "  warnings.warn(\n",
      "/usr/local/lib/python3.10/dist-packages/monai/transforms/utils.py:743: UserWarning: no available indices of class 7 to crop, setting the crop ratio of this class to zero.\n",
      "  warnings.warn(\n",
      "/usr/local/lib/python3.10/dist-packages/monai/transforms/utils.py:743: UserWarning: no available indices of class 2 to crop, setting the crop ratio of this class to zero.\n",
      "  warnings.warn(\n",
      "/usr/local/lib/python3.10/dist-packages/monai/transforms/utils.py:743: UserWarning: no available indices of class 7 to crop, setting the crop ratio of this class to zero.\n",
      "  warnings.warn(\n",
      "/usr/local/lib/python3.10/dist-packages/monai/transforms/utils.py:743: UserWarning: no available indices of class 2 to crop, setting the crop ratio of this class to zero.\n",
      "  warnings.warn(\n",
      "/usr/local/lib/python3.10/dist-packages/monai/transforms/utils.py:743: UserWarning: no available indices of class 7 to crop, setting the crop ratio of this class to zero.\n",
      "  warnings.warn(\n",
      "/usr/local/lib/python3.10/dist-packages/monai/transforms/utils.py:743: UserWarning: no available indices of class 2 to crop, setting the crop ratio of this class to zero.\n",
      "  warnings.warn(\n",
      "/usr/local/lib/python3.10/dist-packages/monai/transforms/utils.py:743: UserWarning: no available indices of class 7 to crop, setting the crop ratio of this class to zero.\n",
      "  warnings.warn(\n"
     ]
    },
    {
     "name": "stdout",
     "output_type": "stream",
     "text": [
      "Batch 1/10, train_loss: 0.6970\n",
      "Batch 2/10, train_loss: 0.7611\n",
      "Batch 3/10, train_loss: 0.6961\n",
      "Batch 4/10, train_loss: 0.6913\n",
      "Batch 5/10, train_loss: 0.6723\n",
      "Batch 6/10, train_loss: 0.7247\n",
      "Batch 7/10, train_loss: 0.7046\n",
      "Batch 8/10, train_loss: 0.7404\n",
      "Batch 9/10, train_loss: 0.6623\n",
      "Batch 10/10, train_loss: 0.6527\n",
      "Epoch 137 average loss: 0.7002\n",
      "----------\n",
      "Epoch 138/200\n"
     ]
    },
    {
     "name": "stderr",
     "output_type": "stream",
     "text": [
      "/usr/local/lib/python3.10/dist-packages/monai/transforms/utils.py:743: UserWarning: no available indices of class 2 to crop, setting the crop ratio of this class to zero.\n",
      "  warnings.warn(\n",
      "/usr/local/lib/python3.10/dist-packages/monai/transforms/utils.py:743: UserWarning: no available indices of class 7 to crop, setting the crop ratio of this class to zero.\n",
      "  warnings.warn(\n",
      "/usr/local/lib/python3.10/dist-packages/monai/transforms/utils.py:743: UserWarning: no available indices of class 2 to crop, setting the crop ratio of this class to zero.\n",
      "  warnings.warn(\n",
      "/usr/local/lib/python3.10/dist-packages/monai/transforms/utils.py:743: UserWarning: no available indices of class 7 to crop, setting the crop ratio of this class to zero.\n",
      "  warnings.warn(\n",
      "/usr/local/lib/python3.10/dist-packages/monai/transforms/utils.py:743: UserWarning: no available indices of class 2 to crop, setting the crop ratio of this class to zero.\n",
      "  warnings.warn(\n",
      "/usr/local/lib/python3.10/dist-packages/monai/transforms/utils.py:743: UserWarning: no available indices of class 2 to crop, setting the crop ratio of this class to zero.\n",
      "  warnings.warn(\n",
      "/usr/local/lib/python3.10/dist-packages/monai/transforms/utils.py:743: UserWarning: no available indices of class 7 to crop, setting the crop ratio of this class to zero.\n",
      "  warnings.warn(\n",
      "/usr/local/lib/python3.10/dist-packages/monai/transforms/utils.py:743: UserWarning: no available indices of class 7 to crop, setting the crop ratio of this class to zero.\n",
      "  warnings.warn(\n"
     ]
    },
    {
     "name": "stdout",
     "output_type": "stream",
     "text": [
      "Batch 1/10, train_loss: 0.6966\n",
      "Batch 2/10, train_loss: 0.6903\n",
      "Batch 3/10, train_loss: 0.7392\n",
      "Batch 4/10, train_loss: 0.7333\n",
      "Batch 5/10, train_loss: 0.6841\n",
      "Batch 6/10, train_loss: 0.6695\n",
      "Batch 7/10, train_loss: 0.7039\n",
      "Batch 8/10, train_loss: 0.7113\n",
      "Batch 9/10, train_loss: 0.6597\n",
      "Batch 10/10, train_loss: 0.6836\n",
      "Epoch 138 average loss: 0.6971\n"
     ]
    },
    {
     "name": "stderr",
     "output_type": "stream",
     "text": [
      "/usr/local/lib/python3.10/dist-packages/monai/transforms/utils.py:743: UserWarning: no available indices of class 2 to crop, setting the crop ratio of this class to zero.\n",
      "  warnings.warn(\n",
      "/usr/local/lib/python3.10/dist-packages/monai/transforms/utils.py:743: UserWarning: no available indices of class 7 to crop, setting the crop ratio of this class to zero.\n",
      "  warnings.warn(\n",
      "/usr/local/lib/python3.10/dist-packages/monai/transforms/utils.py:743: UserWarning: no available indices of class 2 to crop, setting the crop ratio of this class to zero.\n",
      "  warnings.warn(\n",
      "/usr/local/lib/python3.10/dist-packages/monai/transforms/utils.py:743: UserWarning: no available indices of class 7 to crop, setting the crop ratio of this class to zero.\n",
      "  warnings.warn(\n"
     ]
    },
    {
     "name": "stdout",
     "output_type": "stream",
     "text": [
      "saved new best metric model\n",
      "current epoch: 138 current mean recall per class: 0.7665, 0, 0.2856, 0.6325, 0.4586, 0.5225, 0\n",
      "best mean recall: 0.3808 at epoch: 138\n",
      "----------\n",
      "Epoch 139/200\n"
     ]
    },
    {
     "name": "stderr",
     "output_type": "stream",
     "text": [
      "/usr/local/lib/python3.10/dist-packages/monai/transforms/utils.py:743: UserWarning: no available indices of class 2 to crop, setting the crop ratio of this class to zero.\n",
      "  warnings.warn(\n",
      "/usr/local/lib/python3.10/dist-packages/monai/transforms/utils.py:743: UserWarning: no available indices of class 7 to crop, setting the crop ratio of this class to zero.\n",
      "  warnings.warn(\n",
      "/usr/local/lib/python3.10/dist-packages/monai/transforms/utils.py:743: UserWarning: no available indices of class 2 to crop, setting the crop ratio of this class to zero.\n",
      "  warnings.warn(\n",
      "/usr/local/lib/python3.10/dist-packages/monai/transforms/utils.py:743: UserWarning: no available indices of class 7 to crop, setting the crop ratio of this class to zero.\n",
      "  warnings.warn(\n",
      "/usr/local/lib/python3.10/dist-packages/monai/transforms/utils.py:743: UserWarning: no available indices of class 2 to crop, setting the crop ratio of this class to zero.\n",
      "  warnings.warn(\n",
      "/usr/local/lib/python3.10/dist-packages/monai/transforms/utils.py:743: UserWarning: no available indices of class 7 to crop, setting the crop ratio of this class to zero.\n",
      "  warnings.warn(\n",
      "/usr/local/lib/python3.10/dist-packages/monai/transforms/utils.py:743: UserWarning: no available indices of class 2 to crop, setting the crop ratio of this class to zero.\n",
      "  warnings.warn(\n",
      "/usr/local/lib/python3.10/dist-packages/monai/transforms/utils.py:743: UserWarning: no available indices of class 7 to crop, setting the crop ratio of this class to zero.\n",
      "  warnings.warn(\n"
     ]
    },
    {
     "name": "stdout",
     "output_type": "stream",
     "text": [
      "Batch 1/10, train_loss: 0.6814\n",
      "Batch 2/10, train_loss: 0.7510\n",
      "Batch 3/10, train_loss: 0.7103\n",
      "Batch 4/10, train_loss: 0.6624\n",
      "Batch 5/10, train_loss: 0.7104\n",
      "Batch 6/10, train_loss: 0.6953\n",
      "Batch 7/10, train_loss: 0.6927\n",
      "Batch 8/10, train_loss: 0.6640\n",
      "Batch 9/10, train_loss: 0.6544\n",
      "Batch 10/10, train_loss: 0.6229\n",
      "Epoch 139 average loss: 0.6845\n",
      "----------\n",
      "Epoch 140/200\n"
     ]
    },
    {
     "name": "stderr",
     "output_type": "stream",
     "text": [
      "/usr/local/lib/python3.10/dist-packages/monai/transforms/utils.py:743: UserWarning: no available indices of class 2 to crop, setting the crop ratio of this class to zero.\n",
      "  warnings.warn(\n",
      "/usr/local/lib/python3.10/dist-packages/monai/transforms/utils.py:743: UserWarning: no available indices of class 7 to crop, setting the crop ratio of this class to zero.\n",
      "  warnings.warn(\n",
      "/usr/local/lib/python3.10/dist-packages/monai/transforms/utils.py:743: UserWarning: no available indices of class 2 to crop, setting the crop ratio of this class to zero.\n",
      "  warnings.warn(\n",
      "/usr/local/lib/python3.10/dist-packages/monai/transforms/utils.py:743: UserWarning: no available indices of class 7 to crop, setting the crop ratio of this class to zero.\n",
      "  warnings.warn(\n",
      "/usr/local/lib/python3.10/dist-packages/monai/transforms/utils.py:743: UserWarning: no available indices of class 2 to crop, setting the crop ratio of this class to zero.\n",
      "  warnings.warn(\n",
      "/usr/local/lib/python3.10/dist-packages/monai/transforms/utils.py:743: UserWarning: no available indices of class 7 to crop, setting the crop ratio of this class to zero.\n",
      "  warnings.warn(\n",
      "/usr/local/lib/python3.10/dist-packages/monai/transforms/utils.py:743: UserWarning: no available indices of class 2 to crop, setting the crop ratio of this class to zero.\n",
      "  warnings.warn(\n",
      "/usr/local/lib/python3.10/dist-packages/monai/transforms/utils.py:743: UserWarning: no available indices of class 7 to crop, setting the crop ratio of this class to zero.\n",
      "  warnings.warn(\n"
     ]
    },
    {
     "name": "stdout",
     "output_type": "stream",
     "text": [
      "Batch 1/10, train_loss: 0.6957\n",
      "Batch 2/10, train_loss: 0.6968\n",
      "Batch 3/10, train_loss: 0.6927\n",
      "Batch 4/10, train_loss: 0.7398\n",
      "Batch 5/10, train_loss: 0.7085\n",
      "Batch 6/10, train_loss: 0.7080\n",
      "Batch 7/10, train_loss: 0.7080\n",
      "Batch 8/10, train_loss: 0.6848\n",
      "Batch 9/10, train_loss: 0.7434\n",
      "Batch 10/10, train_loss: 0.7065\n",
      "Epoch 140 average loss: 0.7084\n"
     ]
    },
    {
     "name": "stderr",
     "output_type": "stream",
     "text": [
      "/usr/local/lib/python3.10/dist-packages/monai/transforms/utils.py:743: UserWarning: no available indices of class 2 to crop, setting the crop ratio of this class to zero.\n",
      "  warnings.warn(\n",
      "/usr/local/lib/python3.10/dist-packages/monai/transforms/utils.py:743: UserWarning: no available indices of class 7 to crop, setting the crop ratio of this class to zero.\n",
      "  warnings.warn(\n",
      "/usr/local/lib/python3.10/dist-packages/monai/transforms/utils.py:743: UserWarning: no available indices of class 2 to crop, setting the crop ratio of this class to zero.\n",
      "  warnings.warn(\n",
      "/usr/local/lib/python3.10/dist-packages/monai/transforms/utils.py:743: UserWarning: no available indices of class 7 to crop, setting the crop ratio of this class to zero.\n",
      "  warnings.warn(\n"
     ]
    },
    {
     "name": "stdout",
     "output_type": "stream",
     "text": [
      "current epoch: 140 current mean recall per class: 0.6978, 0, 0.2984, 0.6108, 0.3497, 0.521, 0\n",
      "best mean recall: 0.3808 at epoch: 138\n",
      "----------\n",
      "Epoch 141/200\n"
     ]
    },
    {
     "name": "stderr",
     "output_type": "stream",
     "text": [
      "/usr/local/lib/python3.10/dist-packages/monai/transforms/utils.py:743: UserWarning: no available indices of class 2 to crop, setting the crop ratio of this class to zero.\n",
      "  warnings.warn(\n",
      "/usr/local/lib/python3.10/dist-packages/monai/transforms/utils.py:743: UserWarning: no available indices of class 7 to crop, setting the crop ratio of this class to zero.\n",
      "  warnings.warn(\n",
      "/usr/local/lib/python3.10/dist-packages/monai/transforms/utils.py:743: UserWarning: no available indices of class 2 to crop, setting the crop ratio of this class to zero.\n",
      "  warnings.warn(\n",
      "/usr/local/lib/python3.10/dist-packages/monai/transforms/utils.py:743: UserWarning: no available indices of class 2 to crop, setting the crop ratio of this class to zero.\n",
      "  warnings.warn(\n",
      "/usr/local/lib/python3.10/dist-packages/monai/transforms/utils.py:743: UserWarning: no available indices of class 7 to crop, setting the crop ratio of this class to zero.\n",
      "  warnings.warn(\n",
      "/usr/local/lib/python3.10/dist-packages/monai/transforms/utils.py:743: UserWarning: no available indices of class 7 to crop, setting the crop ratio of this class to zero.\n",
      "  warnings.warn(\n",
      "/usr/local/lib/python3.10/dist-packages/monai/transforms/utils.py:743: UserWarning: no available indices of class 2 to crop, setting the crop ratio of this class to zero.\n",
      "  warnings.warn(\n",
      "/usr/local/lib/python3.10/dist-packages/monai/transforms/utils.py:743: UserWarning: no available indices of class 7 to crop, setting the crop ratio of this class to zero.\n",
      "  warnings.warn(\n"
     ]
    },
    {
     "name": "stdout",
     "output_type": "stream",
     "text": [
      "Batch 1/10, train_loss: 0.6984\n",
      "Batch 2/10, train_loss: 0.7312\n",
      "Batch 3/10, train_loss: 0.7189\n",
      "Batch 4/10, train_loss: 0.7566\n",
      "Batch 5/10, train_loss: 0.6733\n",
      "Batch 6/10, train_loss: 0.6988\n",
      "Batch 7/10, train_loss: 0.6101\n",
      "Batch 8/10, train_loss: 0.6884\n",
      "Batch 9/10, train_loss: 0.6731\n",
      "Batch 10/10, train_loss: 0.7060\n",
      "Epoch 141 average loss: 0.6955\n",
      "----------\n",
      "Epoch 142/200\n"
     ]
    },
    {
     "name": "stderr",
     "output_type": "stream",
     "text": [
      "/usr/local/lib/python3.10/dist-packages/monai/transforms/utils.py:743: UserWarning: no available indices of class 2 to crop, setting the crop ratio of this class to zero.\n",
      "  warnings.warn(\n",
      "/usr/local/lib/python3.10/dist-packages/monai/transforms/utils.py:743: UserWarning: no available indices of class 7 to crop, setting the crop ratio of this class to zero.\n",
      "  warnings.warn(\n",
      "/usr/local/lib/python3.10/dist-packages/monai/transforms/utils.py:743: UserWarning: no available indices of class 2 to crop, setting the crop ratio of this class to zero.\n",
      "  warnings.warn(\n",
      "/usr/local/lib/python3.10/dist-packages/monai/transforms/utils.py:743: UserWarning: no available indices of class 2 to crop, setting the crop ratio of this class to zero.\n",
      "  warnings.warn(\n",
      "/usr/local/lib/python3.10/dist-packages/monai/transforms/utils.py:743: UserWarning: no available indices of class 7 to crop, setting the crop ratio of this class to zero.\n",
      "  warnings.warn(\n",
      "/usr/local/lib/python3.10/dist-packages/monai/transforms/utils.py:743: UserWarning: no available indices of class 7 to crop, setting the crop ratio of this class to zero.\n",
      "  warnings.warn(\n",
      "/usr/local/lib/python3.10/dist-packages/monai/transforms/utils.py:743: UserWarning: no available indices of class 2 to crop, setting the crop ratio of this class to zero.\n",
      "  warnings.warn(\n",
      "/usr/local/lib/python3.10/dist-packages/monai/transforms/utils.py:743: UserWarning: no available indices of class 7 to crop, setting the crop ratio of this class to zero.\n",
      "  warnings.warn(\n"
     ]
    },
    {
     "name": "stdout",
     "output_type": "stream",
     "text": [
      "Batch 1/10, train_loss: 0.6753\n",
      "Batch 2/10, train_loss: 0.6558\n",
      "Batch 3/10, train_loss: 0.6745\n",
      "Batch 4/10, train_loss: 0.6991\n",
      "Batch 5/10, train_loss: 0.7019\n",
      "Batch 6/10, train_loss: 0.7323\n",
      "Batch 7/10, train_loss: 0.6902\n",
      "Batch 8/10, train_loss: 0.7051\n",
      "Batch 9/10, train_loss: 0.6680\n",
      "Batch 10/10, train_loss: 0.7308\n",
      "Epoch 142 average loss: 0.6933\n"
     ]
    },
    {
     "name": "stderr",
     "output_type": "stream",
     "text": [
      "/usr/local/lib/python3.10/dist-packages/monai/transforms/utils.py:743: UserWarning: no available indices of class 2 to crop, setting the crop ratio of this class to zero.\n",
      "  warnings.warn(\n",
      "/usr/local/lib/python3.10/dist-packages/monai/transforms/utils.py:743: UserWarning: no available indices of class 7 to crop, setting the crop ratio of this class to zero.\n",
      "  warnings.warn(\n",
      "/usr/local/lib/python3.10/dist-packages/monai/transforms/utils.py:743: UserWarning: no available indices of class 2 to crop, setting the crop ratio of this class to zero.\n",
      "  warnings.warn(\n",
      "/usr/local/lib/python3.10/dist-packages/monai/transforms/utils.py:743: UserWarning: no available indices of class 7 to crop, setting the crop ratio of this class to zero.\n",
      "  warnings.warn(\n"
     ]
    },
    {
     "name": "stdout",
     "output_type": "stream",
     "text": [
      "current epoch: 142 current mean recall per class: 0.6798, 0, 0.3467, 0.517, 0.3169, 0.5038, 0\n",
      "best mean recall: 0.3808 at epoch: 138\n",
      "----------\n",
      "Epoch 143/200\n"
     ]
    },
    {
     "name": "stderr",
     "output_type": "stream",
     "text": [
      "/usr/local/lib/python3.10/dist-packages/monai/transforms/utils.py:743: UserWarning: no available indices of class 2 to crop, setting the crop ratio of this class to zero.\n",
      "  warnings.warn(\n",
      "/usr/local/lib/python3.10/dist-packages/monai/transforms/utils.py:743: UserWarning: no available indices of class 7 to crop, setting the crop ratio of this class to zero.\n",
      "  warnings.warn(\n",
      "/usr/local/lib/python3.10/dist-packages/monai/transforms/utils.py:743: UserWarning: no available indices of class 2 to crop, setting the crop ratio of this class to zero.\n",
      "  warnings.warn(\n",
      "/usr/local/lib/python3.10/dist-packages/monai/transforms/utils.py:743: UserWarning: no available indices of class 7 to crop, setting the crop ratio of this class to zero.\n",
      "  warnings.warn(\n",
      "/usr/local/lib/python3.10/dist-packages/monai/transforms/utils.py:743: UserWarning: no available indices of class 2 to crop, setting the crop ratio of this class to zero.\n",
      "  warnings.warn(\n",
      "/usr/local/lib/python3.10/dist-packages/monai/transforms/utils.py:743: UserWarning: no available indices of class 2 to crop, setting the crop ratio of this class to zero.\n",
      "  warnings.warn(\n",
      "/usr/local/lib/python3.10/dist-packages/monai/transforms/utils.py:743: UserWarning: no available indices of class 7 to crop, setting the crop ratio of this class to zero.\n",
      "  warnings.warn(\n",
      "/usr/local/lib/python3.10/dist-packages/monai/transforms/utils.py:743: UserWarning: no available indices of class 7 to crop, setting the crop ratio of this class to zero.\n",
      "  warnings.warn(\n"
     ]
    },
    {
     "name": "stdout",
     "output_type": "stream",
     "text": [
      "Batch 1/10, train_loss: 0.6875\n",
      "Batch 2/10, train_loss: 0.6735\n",
      "Batch 3/10, train_loss: 0.7079\n",
      "Batch 4/10, train_loss: 0.6430\n",
      "Batch 5/10, train_loss: 0.7029\n",
      "Batch 6/10, train_loss: 0.6927\n",
      "Batch 7/10, train_loss: 0.6921\n",
      "Batch 8/10, train_loss: 0.6882\n",
      "Batch 9/10, train_loss: 0.7067\n",
      "Batch 10/10, train_loss: 0.6973\n",
      "Epoch 143 average loss: 0.6892\n",
      "----------\n",
      "Epoch 144/200\n"
     ]
    },
    {
     "name": "stderr",
     "output_type": "stream",
     "text": [
      "/usr/local/lib/python3.10/dist-packages/monai/transforms/utils.py:743: UserWarning: no available indices of class 2 to crop, setting the crop ratio of this class to zero.\n",
      "  warnings.warn(\n",
      "/usr/local/lib/python3.10/dist-packages/monai/transforms/utils.py:743: UserWarning: no available indices of class 7 to crop, setting the crop ratio of this class to zero.\n",
      "  warnings.warn(\n",
      "/usr/local/lib/python3.10/dist-packages/monai/transforms/utils.py:743: UserWarning: no available indices of class 2 to crop, setting the crop ratio of this class to zero.\n",
      "  warnings.warn(\n",
      "/usr/local/lib/python3.10/dist-packages/monai/transforms/utils.py:743: UserWarning: no available indices of class 7 to crop, setting the crop ratio of this class to zero.\n",
      "  warnings.warn(\n",
      "/usr/local/lib/python3.10/dist-packages/monai/transforms/utils.py:743: UserWarning: no available indices of class 2 to crop, setting the crop ratio of this class to zero.\n",
      "  warnings.warn(\n",
      "/usr/local/lib/python3.10/dist-packages/monai/transforms/utils.py:743: UserWarning: no available indices of class 7 to crop, setting the crop ratio of this class to zero.\n",
      "  warnings.warn(\n",
      "/usr/local/lib/python3.10/dist-packages/monai/transforms/utils.py:743: UserWarning: no available indices of class 2 to crop, setting the crop ratio of this class to zero.\n",
      "  warnings.warn(\n",
      "/usr/local/lib/python3.10/dist-packages/monai/transforms/utils.py:743: UserWarning: no available indices of class 7 to crop, setting the crop ratio of this class to zero.\n",
      "  warnings.warn(\n"
     ]
    },
    {
     "name": "stdout",
     "output_type": "stream",
     "text": [
      "Batch 1/10, train_loss: 0.7120\n",
      "Batch 2/10, train_loss: 0.6901\n",
      "Batch 3/10, train_loss: 0.6387\n",
      "Batch 4/10, train_loss: 0.6717\n",
      "Batch 5/10, train_loss: 0.6684\n",
      "Batch 6/10, train_loss: 0.7243\n",
      "Batch 7/10, train_loss: 0.6818\n",
      "Batch 8/10, train_loss: 0.7293\n",
      "Batch 9/10, train_loss: 0.7672\n",
      "Batch 10/10, train_loss: 0.6794\n",
      "Epoch 144 average loss: 0.6963\n"
     ]
    },
    {
     "name": "stderr",
     "output_type": "stream",
     "text": [
      "/usr/local/lib/python3.10/dist-packages/monai/transforms/utils.py:743: UserWarning: no available indices of class 2 to crop, setting the crop ratio of this class to zero.\n",
      "  warnings.warn(\n",
      "/usr/local/lib/python3.10/dist-packages/monai/transforms/utils.py:743: UserWarning: no available indices of class 2 to crop, setting the crop ratio of this class to zero.\n",
      "  warnings.warn(\n",
      "/usr/local/lib/python3.10/dist-packages/monai/transforms/utils.py:743: UserWarning: no available indices of class 7 to crop, setting the crop ratio of this class to zero.\n",
      "  warnings.warn(\n",
      "/usr/local/lib/python3.10/dist-packages/monai/transforms/utils.py:743: UserWarning: no available indices of class 7 to crop, setting the crop ratio of this class to zero.\n",
      "  warnings.warn(\n"
     ]
    },
    {
     "name": "stdout",
     "output_type": "stream",
     "text": [
      "current epoch: 144 current mean recall per class: 0.7178, 0, 0.3947, 0.567, 0.4308, 0.4201, 0\n",
      "best mean recall: 0.3808 at epoch: 138\n",
      "----------\n",
      "Epoch 145/200\n"
     ]
    },
    {
     "name": "stderr",
     "output_type": "stream",
     "text": [
      "/usr/local/lib/python3.10/dist-packages/monai/transforms/utils.py:743: UserWarning: no available indices of class 2 to crop, setting the crop ratio of this class to zero.\n",
      "  warnings.warn(\n",
      "/usr/local/lib/python3.10/dist-packages/monai/transforms/utils.py:743: UserWarning: no available indices of class 2 to crop, setting the crop ratio of this class to zero.\n",
      "  warnings.warn(\n",
      "/usr/local/lib/python3.10/dist-packages/monai/transforms/utils.py:743: UserWarning: no available indices of class 2 to crop, setting the crop ratio of this class to zero.\n",
      "  warnings.warn(\n",
      "/usr/local/lib/python3.10/dist-packages/monai/transforms/utils.py:743: UserWarning: no available indices of class 7 to crop, setting the crop ratio of this class to zero.\n",
      "  warnings.warn(\n",
      "/usr/local/lib/python3.10/dist-packages/monai/transforms/utils.py:743: UserWarning: no available indices of class 7 to crop, setting the crop ratio of this class to zero.\n",
      "  warnings.warn(\n",
      "/usr/local/lib/python3.10/dist-packages/monai/transforms/utils.py:743: UserWarning: no available indices of class 7 to crop, setting the crop ratio of this class to zero.\n",
      "  warnings.warn(\n",
      "/usr/local/lib/python3.10/dist-packages/monai/transforms/utils.py:743: UserWarning: no available indices of class 2 to crop, setting the crop ratio of this class to zero.\n",
      "  warnings.warn(\n",
      "/usr/local/lib/python3.10/dist-packages/monai/transforms/utils.py:743: UserWarning: no available indices of class 7 to crop, setting the crop ratio of this class to zero.\n",
      "  warnings.warn(\n"
     ]
    },
    {
     "name": "stdout",
     "output_type": "stream",
     "text": [
      "Batch 1/10, train_loss: 0.7493\n",
      "Batch 2/10, train_loss: 0.6963\n",
      "Batch 3/10, train_loss: 0.6962\n",
      "Batch 4/10, train_loss: 0.7088\n",
      "Batch 5/10, train_loss: 0.7368\n",
      "Batch 6/10, train_loss: 0.6790\n",
      "Batch 7/10, train_loss: 0.6845\n",
      "Batch 8/10, train_loss: 0.7088\n",
      "Batch 9/10, train_loss: 0.6771\n",
      "Batch 10/10, train_loss: 0.7155\n",
      "Epoch 145 average loss: 0.7052\n",
      "----------\n",
      "Epoch 146/200\n"
     ]
    },
    {
     "name": "stderr",
     "output_type": "stream",
     "text": [
      "/usr/local/lib/python3.10/dist-packages/monai/transforms/utils.py:743: UserWarning: no available indices of class 2 to crop, setting the crop ratio of this class to zero.\n",
      "  warnings.warn(\n",
      "/usr/local/lib/python3.10/dist-packages/monai/transforms/utils.py:743: UserWarning: no available indices of class 7 to crop, setting the crop ratio of this class to zero.\n",
      "  warnings.warn(\n",
      "/usr/local/lib/python3.10/dist-packages/monai/transforms/utils.py:743: UserWarning: no available indices of class 2 to crop, setting the crop ratio of this class to zero.\n",
      "  warnings.warn(\n",
      "/usr/local/lib/python3.10/dist-packages/monai/transforms/utils.py:743: UserWarning: no available indices of class 2 to crop, setting the crop ratio of this class to zero.\n",
      "  warnings.warn(\n",
      "/usr/local/lib/python3.10/dist-packages/monai/transforms/utils.py:743: UserWarning: no available indices of class 7 to crop, setting the crop ratio of this class to zero.\n",
      "  warnings.warn(\n",
      "/usr/local/lib/python3.10/dist-packages/monai/transforms/utils.py:743: UserWarning: no available indices of class 7 to crop, setting the crop ratio of this class to zero.\n",
      "  warnings.warn(\n",
      "/usr/local/lib/python3.10/dist-packages/monai/transforms/utils.py:743: UserWarning: no available indices of class 2 to crop, setting the crop ratio of this class to zero.\n",
      "  warnings.warn(\n",
      "/usr/local/lib/python3.10/dist-packages/monai/transforms/utils.py:743: UserWarning: no available indices of class 7 to crop, setting the crop ratio of this class to zero.\n",
      "  warnings.warn(\n"
     ]
    },
    {
     "name": "stdout",
     "output_type": "stream",
     "text": [
      "Batch 1/10, train_loss: 0.7479\n",
      "Batch 2/10, train_loss: 0.7558\n",
      "Batch 3/10, train_loss: 0.6726\n",
      "Batch 4/10, train_loss: 0.6864\n",
      "Batch 5/10, train_loss: 0.7428\n",
      "Batch 6/10, train_loss: 0.6670\n",
      "Batch 7/10, train_loss: 0.6566\n",
      "Batch 8/10, train_loss: 0.6592\n",
      "Batch 9/10, train_loss: 0.5953\n",
      "Batch 10/10, train_loss: 0.6908\n",
      "Epoch 146 average loss: 0.6874\n"
     ]
    },
    {
     "name": "stderr",
     "output_type": "stream",
     "text": [
      "/usr/local/lib/python3.10/dist-packages/monai/transforms/utils.py:743: UserWarning: no available indices of class 2 to crop, setting the crop ratio of this class to zero.\n",
      "  warnings.warn(\n",
      "/usr/local/lib/python3.10/dist-packages/monai/transforms/utils.py:743: UserWarning: no available indices of class 7 to crop, setting the crop ratio of this class to zero.\n",
      "  warnings.warn(\n",
      "/usr/local/lib/python3.10/dist-packages/monai/transforms/utils.py:743: UserWarning: no available indices of class 2 to crop, setting the crop ratio of this class to zero.\n",
      "  warnings.warn(\n",
      "/usr/local/lib/python3.10/dist-packages/monai/transforms/utils.py:743: UserWarning: no available indices of class 7 to crop, setting the crop ratio of this class to zero.\n",
      "  warnings.warn(\n"
     ]
    },
    {
     "name": "stdout",
     "output_type": "stream",
     "text": [
      "saved new best metric model\n",
      "current epoch: 146 current mean recall per class: 0.6818, 0, 0.4825, 0.5951, 0.5018, 0.512, 0\n",
      "best mean recall: 0.3962 at epoch: 146\n",
      "----------\n",
      "Epoch 147/200\n"
     ]
    },
    {
     "name": "stderr",
     "output_type": "stream",
     "text": [
      "/usr/local/lib/python3.10/dist-packages/monai/transforms/utils.py:743: UserWarning: no available indices of class 2 to crop, setting the crop ratio of this class to zero.\n",
      "  warnings.warn(\n",
      "/usr/local/lib/python3.10/dist-packages/monai/transforms/utils.py:743: UserWarning: no available indices of class 7 to crop, setting the crop ratio of this class to zero.\n",
      "  warnings.warn(\n",
      "/usr/local/lib/python3.10/dist-packages/monai/transforms/utils.py:743: UserWarning: no available indices of class 2 to crop, setting the crop ratio of this class to zero.\n",
      "  warnings.warn(\n",
      "/usr/local/lib/python3.10/dist-packages/monai/transforms/utils.py:743: UserWarning: no available indices of class 2 to crop, setting the crop ratio of this class to zero.\n",
      "  warnings.warn(\n",
      "/usr/local/lib/python3.10/dist-packages/monai/transforms/utils.py:743: UserWarning: no available indices of class 7 to crop, setting the crop ratio of this class to zero.\n",
      "  warnings.warn(\n",
      "/usr/local/lib/python3.10/dist-packages/monai/transforms/utils.py:743: UserWarning: no available indices of class 7 to crop, setting the crop ratio of this class to zero.\n",
      "  warnings.warn(\n",
      "/usr/local/lib/python3.10/dist-packages/monai/transforms/utils.py:743: UserWarning: no available indices of class 2 to crop, setting the crop ratio of this class to zero.\n",
      "  warnings.warn(\n",
      "/usr/local/lib/python3.10/dist-packages/monai/transforms/utils.py:743: UserWarning: no available indices of class 7 to crop, setting the crop ratio of this class to zero.\n",
      "  warnings.warn(\n"
     ]
    },
    {
     "name": "stdout",
     "output_type": "stream",
     "text": [
      "Batch 1/10, train_loss: 0.6869\n",
      "Batch 2/10, train_loss: 0.7240\n",
      "Batch 3/10, train_loss: 0.6877\n",
      "Batch 4/10, train_loss: 0.6686\n",
      "Batch 5/10, train_loss: 0.7006\n",
      "Batch 6/10, train_loss: 0.7382\n",
      "Batch 7/10, train_loss: 0.6727\n",
      "Batch 8/10, train_loss: 0.7017\n",
      "Batch 9/10, train_loss: 0.6591\n",
      "Batch 10/10, train_loss: 0.7104\n",
      "Epoch 147 average loss: 0.6950\n",
      "----------\n",
      "Epoch 148/200\n"
     ]
    },
    {
     "name": "stderr",
     "output_type": "stream",
     "text": [
      "/usr/local/lib/python3.10/dist-packages/monai/transforms/utils.py:743: UserWarning: no available indices of class 2 to crop, setting the crop ratio of this class to zero.\n",
      "  warnings.warn(\n",
      "/usr/local/lib/python3.10/dist-packages/monai/transforms/utils.py:743: UserWarning: no available indices of class 2 to crop, setting the crop ratio of this class to zero.\n",
      "  warnings.warn(\n",
      "/usr/local/lib/python3.10/dist-packages/monai/transforms/utils.py:743: UserWarning: no available indices of class 7 to crop, setting the crop ratio of this class to zero.\n",
      "  warnings.warn(\n",
      "/usr/local/lib/python3.10/dist-packages/monai/transforms/utils.py:743: UserWarning: no available indices of class 7 to crop, setting the crop ratio of this class to zero.\n",
      "  warnings.warn(\n",
      "/usr/local/lib/python3.10/dist-packages/monai/transforms/utils.py:743: UserWarning: no available indices of class 2 to crop, setting the crop ratio of this class to zero.\n",
      "  warnings.warn(\n",
      "/usr/local/lib/python3.10/dist-packages/monai/transforms/utils.py:743: UserWarning: no available indices of class 7 to crop, setting the crop ratio of this class to zero.\n",
      "  warnings.warn(\n",
      "/usr/local/lib/python3.10/dist-packages/monai/transforms/utils.py:743: UserWarning: no available indices of class 2 to crop, setting the crop ratio of this class to zero.\n",
      "  warnings.warn(\n",
      "/usr/local/lib/python3.10/dist-packages/monai/transforms/utils.py:743: UserWarning: no available indices of class 7 to crop, setting the crop ratio of this class to zero.\n",
      "  warnings.warn(\n"
     ]
    },
    {
     "name": "stdout",
     "output_type": "stream",
     "text": [
      "Batch 1/10, train_loss: 0.7390\n",
      "Batch 2/10, train_loss: 0.7326\n",
      "Batch 3/10, train_loss: 0.7151\n",
      "Batch 4/10, train_loss: 0.6850\n",
      "Batch 5/10, train_loss: 0.6948\n",
      "Batch 6/10, train_loss: 0.6926\n",
      "Batch 7/10, train_loss: 0.6910\n",
      "Batch 8/10, train_loss: 0.6450\n",
      "Batch 9/10, train_loss: 0.6993\n",
      "Batch 10/10, train_loss: 0.7105\n",
      "Epoch 148 average loss: 0.7005\n"
     ]
    },
    {
     "name": "stderr",
     "output_type": "stream",
     "text": [
      "/usr/local/lib/python3.10/dist-packages/monai/transforms/utils.py:743: UserWarning: no available indices of class 2 to crop, setting the crop ratio of this class to zero.\n",
      "  warnings.warn(\n",
      "/usr/local/lib/python3.10/dist-packages/monai/transforms/utils.py:743: UserWarning: no available indices of class 7 to crop, setting the crop ratio of this class to zero.\n",
      "  warnings.warn(\n",
      "/usr/local/lib/python3.10/dist-packages/monai/transforms/utils.py:743: UserWarning: no available indices of class 2 to crop, setting the crop ratio of this class to zero.\n",
      "  warnings.warn(\n",
      "/usr/local/lib/python3.10/dist-packages/monai/transforms/utils.py:743: UserWarning: no available indices of class 7 to crop, setting the crop ratio of this class to zero.\n",
      "  warnings.warn(\n"
     ]
    },
    {
     "name": "stdout",
     "output_type": "stream",
     "text": [
      "current epoch: 148 current mean recall per class: 0.6624, 0, 0.309, 0.5535, 0.3101, 0.4902, 0\n",
      "best mean recall: 0.3962 at epoch: 146\n",
      "----------\n",
      "Epoch 149/200\n"
     ]
    },
    {
     "name": "stderr",
     "output_type": "stream",
     "text": [
      "/usr/local/lib/python3.10/dist-packages/monai/transforms/utils.py:743: UserWarning: no available indices of class 2 to crop, setting the crop ratio of this class to zero.\n",
      "  warnings.warn(\n",
      "/usr/local/lib/python3.10/dist-packages/monai/transforms/utils.py:743: UserWarning: no available indices of class 7 to crop, setting the crop ratio of this class to zero.\n",
      "  warnings.warn(\n",
      "/usr/local/lib/python3.10/dist-packages/monai/transforms/utils.py:743: UserWarning: no available indices of class 2 to crop, setting the crop ratio of this class to zero.\n",
      "  warnings.warn(\n",
      "/usr/local/lib/python3.10/dist-packages/monai/transforms/utils.py:743: UserWarning: no available indices of class 7 to crop, setting the crop ratio of this class to zero.\n",
      "  warnings.warn(\n",
      "/usr/local/lib/python3.10/dist-packages/monai/transforms/utils.py:743: UserWarning: no available indices of class 2 to crop, setting the crop ratio of this class to zero.\n",
      "  warnings.warn(\n",
      "/usr/local/lib/python3.10/dist-packages/monai/transforms/utils.py:743: UserWarning: no available indices of class 7 to crop, setting the crop ratio of this class to zero.\n",
      "  warnings.warn(\n",
      "/usr/local/lib/python3.10/dist-packages/monai/transforms/utils.py:743: UserWarning: no available indices of class 2 to crop, setting the crop ratio of this class to zero.\n",
      "  warnings.warn(\n",
      "/usr/local/lib/python3.10/dist-packages/monai/transforms/utils.py:743: UserWarning: no available indices of class 7 to crop, setting the crop ratio of this class to zero.\n",
      "  warnings.warn(\n"
     ]
    },
    {
     "name": "stdout",
     "output_type": "stream",
     "text": [
      "Batch 1/10, train_loss: 0.6425\n",
      "Batch 2/10, train_loss: 0.6730\n",
      "Batch 3/10, train_loss: 0.7084\n",
      "Batch 4/10, train_loss: 0.6984\n",
      "Batch 5/10, train_loss: 0.6875\n",
      "Batch 6/10, train_loss: 0.6617\n",
      "Batch 7/10, train_loss: 0.7337\n",
      "Batch 8/10, train_loss: 0.6697\n",
      "Batch 9/10, train_loss: 0.7214\n",
      "Batch 10/10, train_loss: 0.6976\n",
      "Epoch 149 average loss: 0.6894\n",
      "----------\n",
      "Epoch 150/200\n"
     ]
    },
    {
     "name": "stderr",
     "output_type": "stream",
     "text": [
      "/usr/local/lib/python3.10/dist-packages/monai/transforms/utils.py:743: UserWarning: no available indices of class 2 to crop, setting the crop ratio of this class to zero.\n",
      "  warnings.warn(\n",
      "/usr/local/lib/python3.10/dist-packages/monai/transforms/utils.py:743: UserWarning: no available indices of class 7 to crop, setting the crop ratio of this class to zero.\n",
      "  warnings.warn(\n",
      "/usr/local/lib/python3.10/dist-packages/monai/transforms/utils.py:743: UserWarning: no available indices of class 2 to crop, setting the crop ratio of this class to zero.\n",
      "  warnings.warn(\n",
      "/usr/local/lib/python3.10/dist-packages/monai/transforms/utils.py:743: UserWarning: no available indices of class 7 to crop, setting the crop ratio of this class to zero.\n",
      "  warnings.warn(\n",
      "/usr/local/lib/python3.10/dist-packages/monai/transforms/utils.py:743: UserWarning: no available indices of class 2 to crop, setting the crop ratio of this class to zero.\n",
      "  warnings.warn(\n",
      "/usr/local/lib/python3.10/dist-packages/monai/transforms/utils.py:743: UserWarning: no available indices of class 7 to crop, setting the crop ratio of this class to zero.\n",
      "  warnings.warn(\n",
      "/usr/local/lib/python3.10/dist-packages/monai/transforms/utils.py:743: UserWarning: no available indices of class 2 to crop, setting the crop ratio of this class to zero.\n",
      "  warnings.warn(\n",
      "/usr/local/lib/python3.10/dist-packages/monai/transforms/utils.py:743: UserWarning: no available indices of class 7 to crop, setting the crop ratio of this class to zero.\n",
      "  warnings.warn(\n"
     ]
    },
    {
     "name": "stdout",
     "output_type": "stream",
     "text": [
      "Batch 1/10, train_loss: 0.7419\n",
      "Batch 2/10, train_loss: 0.6321\n",
      "Batch 3/10, train_loss: 0.7440\n",
      "Batch 4/10, train_loss: 0.6772\n",
      "Batch 5/10, train_loss: 0.7452\n",
      "Batch 6/10, train_loss: 0.6976\n",
      "Batch 7/10, train_loss: 0.6598\n",
      "Batch 8/10, train_loss: 0.6768\n",
      "Batch 9/10, train_loss: 0.7033\n",
      "Batch 10/10, train_loss: 0.6817\n",
      "Epoch 150 average loss: 0.6960\n"
     ]
    },
    {
     "name": "stderr",
     "output_type": "stream",
     "text": [
      "/usr/local/lib/python3.10/dist-packages/monai/transforms/utils.py:743: UserWarning: no available indices of class 2 to crop, setting the crop ratio of this class to zero.\n",
      "  warnings.warn(\n",
      "/usr/local/lib/python3.10/dist-packages/monai/transforms/utils.py:743: UserWarning: no available indices of class 7 to crop, setting the crop ratio of this class to zero.\n",
      "  warnings.warn(\n",
      "/usr/local/lib/python3.10/dist-packages/monai/transforms/utils.py:743: UserWarning: no available indices of class 2 to crop, setting the crop ratio of this class to zero.\n",
      "  warnings.warn(\n",
      "/usr/local/lib/python3.10/dist-packages/monai/transforms/utils.py:743: UserWarning: no available indices of class 7 to crop, setting the crop ratio of this class to zero.\n",
      "  warnings.warn(\n"
     ]
    },
    {
     "name": "stdout",
     "output_type": "stream",
     "text": [
      "current epoch: 150 current mean recall per class: 0.6766, 0, 0.2805, 0.6407, 0.3509, 0.5266, 0\n",
      "best mean recall: 0.3962 at epoch: 146\n",
      "----------\n",
      "Epoch 151/200\n"
     ]
    },
    {
     "name": "stderr",
     "output_type": "stream",
     "text": [
      "/usr/local/lib/python3.10/dist-packages/monai/transforms/utils.py:743: UserWarning: no available indices of class 2 to crop, setting the crop ratio of this class to zero.\n",
      "  warnings.warn(\n",
      "/usr/local/lib/python3.10/dist-packages/monai/transforms/utils.py:743: UserWarning: no available indices of class 7 to crop, setting the crop ratio of this class to zero.\n",
      "  warnings.warn(\n",
      "/usr/local/lib/python3.10/dist-packages/monai/transforms/utils.py:743: UserWarning: no available indices of class 2 to crop, setting the crop ratio of this class to zero.\n",
      "  warnings.warn(\n",
      "/usr/local/lib/python3.10/dist-packages/monai/transforms/utils.py:743: UserWarning: no available indices of class 7 to crop, setting the crop ratio of this class to zero.\n",
      "  warnings.warn(\n",
      "/usr/local/lib/python3.10/dist-packages/monai/transforms/utils.py:743: UserWarning: no available indices of class 2 to crop, setting the crop ratio of this class to zero.\n",
      "  warnings.warn(\n",
      "/usr/local/lib/python3.10/dist-packages/monai/transforms/utils.py:743: UserWarning: no available indices of class 7 to crop, setting the crop ratio of this class to zero.\n",
      "  warnings.warn(\n",
      "/usr/local/lib/python3.10/dist-packages/monai/transforms/utils.py:743: UserWarning: no available indices of class 2 to crop, setting the crop ratio of this class to zero.\n",
      "  warnings.warn(\n",
      "/usr/local/lib/python3.10/dist-packages/monai/transforms/utils.py:743: UserWarning: no available indices of class 7 to crop, setting the crop ratio of this class to zero.\n",
      "  warnings.warn(\n"
     ]
    },
    {
     "name": "stdout",
     "output_type": "stream",
     "text": [
      "Batch 1/10, train_loss: 0.7076\n",
      "Batch 2/10, train_loss: 0.7238\n",
      "Batch 3/10, train_loss: 0.6946\n",
      "Batch 4/10, train_loss: 0.7275\n",
      "Batch 5/10, train_loss: 0.7097\n",
      "Batch 6/10, train_loss: 0.7046\n",
      "Batch 7/10, train_loss: 0.6400\n",
      "Batch 8/10, train_loss: 0.7289\n",
      "Batch 9/10, train_loss: 0.7114\n",
      "Batch 10/10, train_loss: 0.6961\n",
      "Epoch 151 average loss: 0.7044\n",
      "----------\n",
      "Epoch 152/200\n"
     ]
    },
    {
     "name": "stderr",
     "output_type": "stream",
     "text": [
      "/usr/local/lib/python3.10/dist-packages/monai/transforms/utils.py:743: UserWarning: no available indices of class 2 to crop, setting the crop ratio of this class to zero.\n",
      "  warnings.warn(\n",
      "/usr/local/lib/python3.10/dist-packages/monai/transforms/utils.py:743: UserWarning: no available indices of class 7 to crop, setting the crop ratio of this class to zero.\n",
      "  warnings.warn(\n",
      "/usr/local/lib/python3.10/dist-packages/monai/transforms/utils.py:743: UserWarning: no available indices of class 2 to crop, setting the crop ratio of this class to zero.\n",
      "  warnings.warn(\n",
      "/usr/local/lib/python3.10/dist-packages/monai/transforms/utils.py:743: UserWarning: no available indices of class 7 to crop, setting the crop ratio of this class to zero.\n",
      "  warnings.warn(\n",
      "/usr/local/lib/python3.10/dist-packages/monai/transforms/utils.py:743: UserWarning: no available indices of class 2 to crop, setting the crop ratio of this class to zero.\n",
      "  warnings.warn(\n",
      "/usr/local/lib/python3.10/dist-packages/monai/transforms/utils.py:743: UserWarning: no available indices of class 7 to crop, setting the crop ratio of this class to zero.\n",
      "  warnings.warn(\n",
      "/usr/local/lib/python3.10/dist-packages/monai/transforms/utils.py:743: UserWarning: no available indices of class 2 to crop, setting the crop ratio of this class to zero.\n",
      "  warnings.warn(\n",
      "/usr/local/lib/python3.10/dist-packages/monai/transforms/utils.py:743: UserWarning: no available indices of class 7 to crop, setting the crop ratio of this class to zero.\n",
      "  warnings.warn(\n"
     ]
    },
    {
     "name": "stdout",
     "output_type": "stream",
     "text": [
      "Batch 1/10, train_loss: 0.6913\n",
      "Batch 2/10, train_loss: 0.6369\n",
      "Batch 3/10, train_loss: 0.6900\n",
      "Batch 4/10, train_loss: 0.6912\n",
      "Batch 5/10, train_loss: 0.6729\n",
      "Batch 6/10, train_loss: 0.6830\n",
      "Batch 7/10, train_loss: 0.6796\n",
      "Batch 8/10, train_loss: 0.6908\n",
      "Batch 9/10, train_loss: 0.6942\n",
      "Batch 10/10, train_loss: 0.6874\n",
      "Epoch 152 average loss: 0.6817\n"
     ]
    },
    {
     "name": "stderr",
     "output_type": "stream",
     "text": [
      "/usr/local/lib/python3.10/dist-packages/monai/transforms/utils.py:743: UserWarning: no available indices of class 2 to crop, setting the crop ratio of this class to zero.\n",
      "  warnings.warn(\n",
      "/usr/local/lib/python3.10/dist-packages/monai/transforms/utils.py:743: UserWarning: no available indices of class 7 to crop, setting the crop ratio of this class to zero.\n",
      "  warnings.warn(\n",
      "/usr/local/lib/python3.10/dist-packages/monai/transforms/utils.py:743: UserWarning: no available indices of class 2 to crop, setting the crop ratio of this class to zero.\n",
      "  warnings.warn(\n",
      "/usr/local/lib/python3.10/dist-packages/monai/transforms/utils.py:743: UserWarning: no available indices of class 7 to crop, setting the crop ratio of this class to zero.\n",
      "  warnings.warn(\n"
     ]
    },
    {
     "name": "stdout",
     "output_type": "stream",
     "text": [
      "saved new best metric model\n",
      "current epoch: 152 current mean recall per class: 0.7726, 0, 0.4336, 0.6409, 0.4604, 0.5087, 0\n",
      "best mean recall: 0.4023 at epoch: 152\n",
      "----------\n",
      "Epoch 153/200\n"
     ]
    },
    {
     "name": "stderr",
     "output_type": "stream",
     "text": [
      "/usr/local/lib/python3.10/dist-packages/monai/transforms/utils.py:743: UserWarning: no available indices of class 2 to crop, setting the crop ratio of this class to zero.\n",
      "  warnings.warn(\n",
      "/usr/local/lib/python3.10/dist-packages/monai/transforms/utils.py:743: UserWarning: no available indices of class 7 to crop, setting the crop ratio of this class to zero.\n",
      "  warnings.warn(\n",
      "/usr/local/lib/python3.10/dist-packages/monai/transforms/utils.py:743: UserWarning: no available indices of class 2 to crop, setting the crop ratio of this class to zero.\n",
      "  warnings.warn(\n",
      "/usr/local/lib/python3.10/dist-packages/monai/transforms/utils.py:743: UserWarning: no available indices of class 7 to crop, setting the crop ratio of this class to zero.\n",
      "  warnings.warn(\n",
      "/usr/local/lib/python3.10/dist-packages/monai/transforms/utils.py:743: UserWarning: no available indices of class 2 to crop, setting the crop ratio of this class to zero.\n",
      "  warnings.warn(\n",
      "/usr/local/lib/python3.10/dist-packages/monai/transforms/utils.py:743: UserWarning: no available indices of class 7 to crop, setting the crop ratio of this class to zero.\n",
      "  warnings.warn(\n",
      "/usr/local/lib/python3.10/dist-packages/monai/transforms/utils.py:743: UserWarning: no available indices of class 2 to crop, setting the crop ratio of this class to zero.\n",
      "  warnings.warn(\n",
      "/usr/local/lib/python3.10/dist-packages/monai/transforms/utils.py:743: UserWarning: no available indices of class 7 to crop, setting the crop ratio of this class to zero.\n",
      "  warnings.warn(\n"
     ]
    },
    {
     "name": "stdout",
     "output_type": "stream",
     "text": [
      "Batch 1/10, train_loss: 0.7244\n",
      "Batch 2/10, train_loss: 0.7000\n",
      "Batch 3/10, train_loss: 0.7323\n",
      "Batch 4/10, train_loss: 0.6433\n",
      "Batch 5/10, train_loss: 0.6956\n",
      "Batch 6/10, train_loss: 0.7696\n",
      "Batch 7/10, train_loss: 0.6620\n",
      "Batch 8/10, train_loss: 0.6950\n",
      "Batch 9/10, train_loss: 0.6366\n",
      "Batch 10/10, train_loss: 0.6546\n",
      "Epoch 153 average loss: 0.6913\n",
      "----------\n",
      "Epoch 154/200\n"
     ]
    },
    {
     "name": "stderr",
     "output_type": "stream",
     "text": [
      "/usr/local/lib/python3.10/dist-packages/monai/transforms/utils.py:743: UserWarning: no available indices of class 2 to crop, setting the crop ratio of this class to zero.\n",
      "  warnings.warn(\n",
      "/usr/local/lib/python3.10/dist-packages/monai/transforms/utils.py:743: UserWarning: no available indices of class 7 to crop, setting the crop ratio of this class to zero.\n",
      "  warnings.warn(\n",
      "/usr/local/lib/python3.10/dist-packages/monai/transforms/utils.py:743: UserWarning: no available indices of class 2 to crop, setting the crop ratio of this class to zero.\n",
      "  warnings.warn(\n",
      "/usr/local/lib/python3.10/dist-packages/monai/transforms/utils.py:743: UserWarning: no available indices of class 7 to crop, setting the crop ratio of this class to zero.\n",
      "  warnings.warn(\n",
      "/usr/local/lib/python3.10/dist-packages/monai/transforms/utils.py:743: UserWarning: no available indices of class 2 to crop, setting the crop ratio of this class to zero.\n",
      "  warnings.warn(\n",
      "/usr/local/lib/python3.10/dist-packages/monai/transforms/utils.py:743: UserWarning: no available indices of class 7 to crop, setting the crop ratio of this class to zero.\n",
      "  warnings.warn(\n",
      "/usr/local/lib/python3.10/dist-packages/monai/transforms/utils.py:743: UserWarning: no available indices of class 2 to crop, setting the crop ratio of this class to zero.\n",
      "  warnings.warn(\n",
      "/usr/local/lib/python3.10/dist-packages/monai/transforms/utils.py:743: UserWarning: no available indices of class 7 to crop, setting the crop ratio of this class to zero.\n",
      "  warnings.warn(\n"
     ]
    },
    {
     "name": "stdout",
     "output_type": "stream",
     "text": [
      "Batch 1/10, train_loss: 0.7018\n",
      "Batch 2/10, train_loss: 0.6687\n",
      "Batch 3/10, train_loss: 0.7148\n",
      "Batch 4/10, train_loss: 0.6470\n",
      "Batch 5/10, train_loss: 0.7243\n",
      "Batch 6/10, train_loss: 0.7145\n",
      "Batch 7/10, train_loss: 0.7006\n",
      "Batch 8/10, train_loss: 0.6712\n",
      "Batch 9/10, train_loss: 0.6911\n",
      "Batch 10/10, train_loss: 0.7339\n",
      "Epoch 154 average loss: 0.6968\n"
     ]
    },
    {
     "name": "stderr",
     "output_type": "stream",
     "text": [
      "/usr/local/lib/python3.10/dist-packages/monai/transforms/utils.py:743: UserWarning: no available indices of class 2 to crop, setting the crop ratio of this class to zero.\n",
      "  warnings.warn(\n",
      "/usr/local/lib/python3.10/dist-packages/monai/transforms/utils.py:743: UserWarning: no available indices of class 7 to crop, setting the crop ratio of this class to zero.\n",
      "  warnings.warn(\n",
      "/usr/local/lib/python3.10/dist-packages/monai/transforms/utils.py:743: UserWarning: no available indices of class 2 to crop, setting the crop ratio of this class to zero.\n",
      "  warnings.warn(\n",
      "/usr/local/lib/python3.10/dist-packages/monai/transforms/utils.py:743: UserWarning: no available indices of class 7 to crop, setting the crop ratio of this class to zero.\n",
      "  warnings.warn(\n"
     ]
    },
    {
     "name": "stdout",
     "output_type": "stream",
     "text": [
      "current epoch: 154 current mean recall per class: 0.687, 0, 0.3286, 0.6477, 0.3617, 0.5315, 0\n",
      "best mean recall: 0.4023 at epoch: 152\n",
      "----------\n",
      "Epoch 155/200\n"
     ]
    },
    {
     "name": "stderr",
     "output_type": "stream",
     "text": [
      "/usr/local/lib/python3.10/dist-packages/monai/transforms/utils.py:743: UserWarning: no available indices of class 2 to crop, setting the crop ratio of this class to zero.\n",
      "  warnings.warn(\n",
      "/usr/local/lib/python3.10/dist-packages/monai/transforms/utils.py:743: UserWarning: no available indices of class 7 to crop, setting the crop ratio of this class to zero.\n",
      "  warnings.warn(\n",
      "/usr/local/lib/python3.10/dist-packages/monai/transforms/utils.py:743: UserWarning: no available indices of class 2 to crop, setting the crop ratio of this class to zero.\n",
      "  warnings.warn(\n",
      "/usr/local/lib/python3.10/dist-packages/monai/transforms/utils.py:743: UserWarning: no available indices of class 7 to crop, setting the crop ratio of this class to zero.\n",
      "  warnings.warn(\n",
      "/usr/local/lib/python3.10/dist-packages/monai/transforms/utils.py:743: UserWarning: no available indices of class 2 to crop, setting the crop ratio of this class to zero.\n",
      "  warnings.warn(\n",
      "/usr/local/lib/python3.10/dist-packages/monai/transforms/utils.py:743: UserWarning: no available indices of class 7 to crop, setting the crop ratio of this class to zero.\n",
      "  warnings.warn(\n",
      "/usr/local/lib/python3.10/dist-packages/monai/transforms/utils.py:743: UserWarning: no available indices of class 2 to crop, setting the crop ratio of this class to zero.\n",
      "  warnings.warn(\n",
      "/usr/local/lib/python3.10/dist-packages/monai/transforms/utils.py:743: UserWarning: no available indices of class 7 to crop, setting the crop ratio of this class to zero.\n",
      "  warnings.warn(\n"
     ]
    },
    {
     "name": "stdout",
     "output_type": "stream",
     "text": [
      "Batch 1/10, train_loss: 0.7042\n",
      "Batch 2/10, train_loss: 0.6612\n",
      "Batch 3/10, train_loss: 0.6686\n",
      "Batch 4/10, train_loss: 0.6806\n",
      "Batch 5/10, train_loss: 0.6997\n",
      "Batch 6/10, train_loss: 0.6683\n",
      "Batch 7/10, train_loss: 0.7400\n",
      "Batch 8/10, train_loss: 0.6845\n",
      "Batch 9/10, train_loss: 0.7151\n",
      "Batch 10/10, train_loss: 0.6788\n",
      "Epoch 155 average loss: 0.6901\n",
      "----------\n",
      "Epoch 156/200\n"
     ]
    },
    {
     "name": "stderr",
     "output_type": "stream",
     "text": [
      "/usr/local/lib/python3.10/dist-packages/monai/transforms/utils.py:743: UserWarning: no available indices of class 2 to crop, setting the crop ratio of this class to zero.\n",
      "  warnings.warn(\n",
      "/usr/local/lib/python3.10/dist-packages/monai/transforms/utils.py:743: UserWarning: no available indices of class 7 to crop, setting the crop ratio of this class to zero.\n",
      "  warnings.warn(\n",
      "/usr/local/lib/python3.10/dist-packages/monai/transforms/utils.py:743: UserWarning: no available indices of class 2 to crop, setting the crop ratio of this class to zero.\n",
      "  warnings.warn(\n",
      "/usr/local/lib/python3.10/dist-packages/monai/transforms/utils.py:743: UserWarning: no available indices of class 7 to crop, setting the crop ratio of this class to zero.\n",
      "  warnings.warn(\n",
      "/usr/local/lib/python3.10/dist-packages/monai/transforms/utils.py:743: UserWarning: no available indices of class 2 to crop, setting the crop ratio of this class to zero.\n",
      "  warnings.warn(\n",
      "/usr/local/lib/python3.10/dist-packages/monai/transforms/utils.py:743: UserWarning: no available indices of class 7 to crop, setting the crop ratio of this class to zero.\n",
      "  warnings.warn(\n",
      "/usr/local/lib/python3.10/dist-packages/monai/transforms/utils.py:743: UserWarning: no available indices of class 2 to crop, setting the crop ratio of this class to zero.\n",
      "  warnings.warn(\n",
      "/usr/local/lib/python3.10/dist-packages/monai/transforms/utils.py:743: UserWarning: no available indices of class 7 to crop, setting the crop ratio of this class to zero.\n",
      "  warnings.warn(\n"
     ]
    },
    {
     "name": "stdout",
     "output_type": "stream",
     "text": [
      "Batch 1/10, train_loss: 0.6803\n",
      "Batch 2/10, train_loss: 0.6764\n",
      "Batch 3/10, train_loss: 0.6657\n",
      "Batch 4/10, train_loss: 0.7376\n",
      "Batch 5/10, train_loss: 0.6928\n",
      "Batch 6/10, train_loss: 0.6875\n",
      "Batch 7/10, train_loss: 0.7250\n",
      "Batch 8/10, train_loss: 0.7060\n",
      "Batch 9/10, train_loss: 0.6567\n",
      "Batch 10/10, train_loss: 0.6965\n",
      "Epoch 156 average loss: 0.6925\n"
     ]
    },
    {
     "name": "stderr",
     "output_type": "stream",
     "text": [
      "/usr/local/lib/python3.10/dist-packages/monai/transforms/utils.py:743: UserWarning: no available indices of class 2 to crop, setting the crop ratio of this class to zero.\n",
      "  warnings.warn(\n",
      "/usr/local/lib/python3.10/dist-packages/monai/transforms/utils.py:743: UserWarning: no available indices of class 7 to crop, setting the crop ratio of this class to zero.\n",
      "  warnings.warn(\n",
      "/usr/local/lib/python3.10/dist-packages/monai/transforms/utils.py:743: UserWarning: no available indices of class 2 to crop, setting the crop ratio of this class to zero.\n",
      "  warnings.warn(\n",
      "/usr/local/lib/python3.10/dist-packages/monai/transforms/utils.py:743: UserWarning: no available indices of class 7 to crop, setting the crop ratio of this class to zero.\n",
      "  warnings.warn(\n"
     ]
    },
    {
     "name": "stdout",
     "output_type": "stream",
     "text": [
      "current epoch: 156 current mean recall per class: 0.721, 0, 0.2127, 0.5929, 0.4216, 0.47, 0\n",
      "best mean recall: 0.4023 at epoch: 152\n",
      "----------\n",
      "Epoch 157/200\n"
     ]
    },
    {
     "name": "stderr",
     "output_type": "stream",
     "text": [
      "/usr/local/lib/python3.10/dist-packages/monai/transforms/utils.py:743: UserWarning: no available indices of class 2 to crop, setting the crop ratio of this class to zero.\n",
      "  warnings.warn(\n",
      "/usr/local/lib/python3.10/dist-packages/monai/transforms/utils.py:743: UserWarning: no available indices of class 7 to crop, setting the crop ratio of this class to zero.\n",
      "  warnings.warn(\n",
      "/usr/local/lib/python3.10/dist-packages/monai/transforms/utils.py:743: UserWarning: no available indices of class 2 to crop, setting the crop ratio of this class to zero.\n",
      "  warnings.warn(\n",
      "/usr/local/lib/python3.10/dist-packages/monai/transforms/utils.py:743: UserWarning: no available indices of class 7 to crop, setting the crop ratio of this class to zero.\n",
      "  warnings.warn(\n",
      "/usr/local/lib/python3.10/dist-packages/monai/transforms/utils.py:743: UserWarning: no available indices of class 2 to crop, setting the crop ratio of this class to zero.\n",
      "  warnings.warn(\n",
      "/usr/local/lib/python3.10/dist-packages/monai/transforms/utils.py:743: UserWarning: no available indices of class 7 to crop, setting the crop ratio of this class to zero.\n",
      "  warnings.warn(\n",
      "/usr/local/lib/python3.10/dist-packages/monai/transforms/utils.py:743: UserWarning: no available indices of class 2 to crop, setting the crop ratio of this class to zero.\n",
      "  warnings.warn(\n",
      "/usr/local/lib/python3.10/dist-packages/monai/transforms/utils.py:743: UserWarning: no available indices of class 7 to crop, setting the crop ratio of this class to zero.\n",
      "  warnings.warn(\n"
     ]
    },
    {
     "name": "stdout",
     "output_type": "stream",
     "text": [
      "Batch 1/10, train_loss: 0.6618\n",
      "Batch 2/10, train_loss: 0.7457\n",
      "Batch 3/10, train_loss: 0.6531\n",
      "Batch 4/10, train_loss: 0.6955\n",
      "Batch 5/10, train_loss: 0.6854\n",
      "Batch 6/10, train_loss: 0.6869\n",
      "Batch 7/10, train_loss: 0.7538\n",
      "Batch 8/10, train_loss: 0.7195\n",
      "Batch 9/10, train_loss: 0.6579\n",
      "Batch 10/10, train_loss: 0.7036\n",
      "Epoch 157 average loss: 0.6963\n",
      "----------\n",
      "Epoch 158/200\n"
     ]
    },
    {
     "name": "stderr",
     "output_type": "stream",
     "text": [
      "/usr/local/lib/python3.10/dist-packages/monai/transforms/utils.py:743: UserWarning: no available indices of class 2 to crop, setting the crop ratio of this class to zero.\n",
      "  warnings.warn(\n",
      "/usr/local/lib/python3.10/dist-packages/monai/transforms/utils.py:743: UserWarning: no available indices of class 7 to crop, setting the crop ratio of this class to zero.\n",
      "  warnings.warn(\n",
      "/usr/local/lib/python3.10/dist-packages/monai/transforms/utils.py:743: UserWarning: no available indices of class 2 to crop, setting the crop ratio of this class to zero.\n",
      "  warnings.warn(\n",
      "/usr/local/lib/python3.10/dist-packages/monai/transforms/utils.py:743: UserWarning: no available indices of class 2 to crop, setting the crop ratio of this class to zero.\n",
      "  warnings.warn(\n",
      "/usr/local/lib/python3.10/dist-packages/monai/transforms/utils.py:743: UserWarning: no available indices of class 7 to crop, setting the crop ratio of this class to zero.\n",
      "  warnings.warn(\n",
      "/usr/local/lib/python3.10/dist-packages/monai/transforms/utils.py:743: UserWarning: no available indices of class 7 to crop, setting the crop ratio of this class to zero.\n",
      "  warnings.warn(\n",
      "/usr/local/lib/python3.10/dist-packages/monai/transforms/utils.py:743: UserWarning: no available indices of class 2 to crop, setting the crop ratio of this class to zero.\n",
      "  warnings.warn(\n",
      "/usr/local/lib/python3.10/dist-packages/monai/transforms/utils.py:743: UserWarning: no available indices of class 7 to crop, setting the crop ratio of this class to zero.\n",
      "  warnings.warn(\n"
     ]
    },
    {
     "name": "stdout",
     "output_type": "stream",
     "text": [
      "Batch 1/10, train_loss: 0.6466\n",
      "Batch 2/10, train_loss: 0.6691\n",
      "Batch 3/10, train_loss: 0.6724\n",
      "Batch 4/10, train_loss: 0.7106\n",
      "Batch 5/10, train_loss: 0.6928\n",
      "Batch 6/10, train_loss: 0.6910\n",
      "Batch 7/10, train_loss: 0.7189\n",
      "Batch 8/10, train_loss: 0.6751\n",
      "Batch 9/10, train_loss: 0.6793\n",
      "Batch 10/10, train_loss: 0.7146\n",
      "Epoch 158 average loss: 0.6870\n"
     ]
    },
    {
     "name": "stderr",
     "output_type": "stream",
     "text": [
      "/usr/local/lib/python3.10/dist-packages/monai/transforms/utils.py:743: UserWarning: no available indices of class 2 to crop, setting the crop ratio of this class to zero.\n",
      "  warnings.warn(\n",
      "/usr/local/lib/python3.10/dist-packages/monai/transforms/utils.py:743: UserWarning: no available indices of class 7 to crop, setting the crop ratio of this class to zero.\n",
      "  warnings.warn(\n",
      "/usr/local/lib/python3.10/dist-packages/monai/transforms/utils.py:743: UserWarning: no available indices of class 2 to crop, setting the crop ratio of this class to zero.\n",
      "  warnings.warn(\n",
      "/usr/local/lib/python3.10/dist-packages/monai/transforms/utils.py:743: UserWarning: no available indices of class 7 to crop, setting the crop ratio of this class to zero.\n",
      "  warnings.warn(\n"
     ]
    },
    {
     "name": "stdout",
     "output_type": "stream",
     "text": [
      "current epoch: 158 current mean recall per class: 0.6033, 0, 0.1651, 0.6207, 0.37, 0.5843, 0\n",
      "best mean recall: 0.4023 at epoch: 152\n",
      "----------\n",
      "Epoch 159/200\n"
     ]
    },
    {
     "name": "stderr",
     "output_type": "stream",
     "text": [
      "/usr/local/lib/python3.10/dist-packages/monai/transforms/utils.py:743: UserWarning: no available indices of class 2 to crop, setting the crop ratio of this class to zero.\n",
      "  warnings.warn(\n",
      "/usr/local/lib/python3.10/dist-packages/monai/transforms/utils.py:743: UserWarning: no available indices of class 7 to crop, setting the crop ratio of this class to zero.\n",
      "  warnings.warn(\n",
      "/usr/local/lib/python3.10/dist-packages/monai/transforms/utils.py:743: UserWarning: no available indices of class 2 to crop, setting the crop ratio of this class to zero.\n",
      "  warnings.warn(\n",
      "/usr/local/lib/python3.10/dist-packages/monai/transforms/utils.py:743: UserWarning: no available indices of class 7 to crop, setting the crop ratio of this class to zero.\n",
      "  warnings.warn(\n",
      "/usr/local/lib/python3.10/dist-packages/monai/transforms/utils.py:743: UserWarning: no available indices of class 2 to crop, setting the crop ratio of this class to zero.\n",
      "  warnings.warn(\n",
      "/usr/local/lib/python3.10/dist-packages/monai/transforms/utils.py:743: UserWarning: no available indices of class 2 to crop, setting the crop ratio of this class to zero.\n",
      "  warnings.warn(\n",
      "/usr/local/lib/python3.10/dist-packages/monai/transforms/utils.py:743: UserWarning: no available indices of class 7 to crop, setting the crop ratio of this class to zero.\n",
      "  warnings.warn(\n",
      "/usr/local/lib/python3.10/dist-packages/monai/transforms/utils.py:743: UserWarning: no available indices of class 7 to crop, setting the crop ratio of this class to zero.\n",
      "  warnings.warn(\n"
     ]
    },
    {
     "name": "stdout",
     "output_type": "stream",
     "text": [
      "Batch 1/10, train_loss: 0.6411\n",
      "Batch 2/10, train_loss: 0.6646\n",
      "Batch 3/10, train_loss: 0.6850\n",
      "Batch 4/10, train_loss: 0.6850\n",
      "Batch 5/10, train_loss: 0.6786\n",
      "Batch 6/10, train_loss: 0.6669\n",
      "Batch 7/10, train_loss: 0.7198\n",
      "Batch 8/10, train_loss: 0.6454\n",
      "Batch 9/10, train_loss: 0.6885\n",
      "Batch 10/10, train_loss: 0.6537\n",
      "Epoch 159 average loss: 0.6729\n",
      "----------\n",
      "Epoch 160/200\n"
     ]
    },
    {
     "name": "stderr",
     "output_type": "stream",
     "text": [
      "/usr/local/lib/python3.10/dist-packages/monai/transforms/utils.py:743: UserWarning: no available indices of class 2 to crop, setting the crop ratio of this class to zero.\n",
      "  warnings.warn(\n",
      "/usr/local/lib/python3.10/dist-packages/monai/transforms/utils.py:743: UserWarning: no available indices of class 7 to crop, setting the crop ratio of this class to zero.\n",
      "  warnings.warn(\n",
      "/usr/local/lib/python3.10/dist-packages/monai/transforms/utils.py:743: UserWarning: no available indices of class 2 to crop, setting the crop ratio of this class to zero.\n",
      "  warnings.warn(\n",
      "/usr/local/lib/python3.10/dist-packages/monai/transforms/utils.py:743: UserWarning: no available indices of class 7 to crop, setting the crop ratio of this class to zero.\n",
      "  warnings.warn(\n",
      "/usr/local/lib/python3.10/dist-packages/monai/transforms/utils.py:743: UserWarning: no available indices of class 2 to crop, setting the crop ratio of this class to zero.\n",
      "  warnings.warn(\n",
      "/usr/local/lib/python3.10/dist-packages/monai/transforms/utils.py:743: UserWarning: no available indices of class 7 to crop, setting the crop ratio of this class to zero.\n",
      "  warnings.warn(\n",
      "/usr/local/lib/python3.10/dist-packages/monai/transforms/utils.py:743: UserWarning: no available indices of class 2 to crop, setting the crop ratio of this class to zero.\n",
      "  warnings.warn(\n",
      "/usr/local/lib/python3.10/dist-packages/monai/transforms/utils.py:743: UserWarning: no available indices of class 7 to crop, setting the crop ratio of this class to zero.\n",
      "  warnings.warn(\n"
     ]
    },
    {
     "name": "stdout",
     "output_type": "stream",
     "text": [
      "Batch 1/10, train_loss: 0.6764\n",
      "Batch 2/10, train_loss: 0.6934\n",
      "Batch 3/10, train_loss: 0.6663\n",
      "Batch 4/10, train_loss: 0.7011\n",
      "Batch 5/10, train_loss: 0.6749\n",
      "Batch 6/10, train_loss: 0.7309\n",
      "Batch 7/10, train_loss: 0.7099\n",
      "Batch 8/10, train_loss: 0.6983\n",
      "Batch 9/10, train_loss: 0.6866\n",
      "Batch 10/10, train_loss: 0.6565\n",
      "Epoch 160 average loss: 0.6894\n"
     ]
    },
    {
     "name": "stderr",
     "output_type": "stream",
     "text": [
      "/usr/local/lib/python3.10/dist-packages/monai/transforms/utils.py:743: UserWarning: no available indices of class 2 to crop, setting the crop ratio of this class to zero.\n",
      "  warnings.warn(\n",
      "/usr/local/lib/python3.10/dist-packages/monai/transforms/utils.py:743: UserWarning: no available indices of class 7 to crop, setting the crop ratio of this class to zero.\n",
      "  warnings.warn(\n",
      "/usr/local/lib/python3.10/dist-packages/monai/transforms/utils.py:743: UserWarning: no available indices of class 2 to crop, setting the crop ratio of this class to zero.\n",
      "  warnings.warn(\n",
      "/usr/local/lib/python3.10/dist-packages/monai/transforms/utils.py:743: UserWarning: no available indices of class 7 to crop, setting the crop ratio of this class to zero.\n",
      "  warnings.warn(\n"
     ]
    },
    {
     "name": "stdout",
     "output_type": "stream",
     "text": [
      "current epoch: 160 current mean recall per class: 0.728, 0, 0.3693, 0.6279, 0.4315, 0.4516, 0\n",
      "best mean recall: 0.4023 at epoch: 152\n",
      "----------\n",
      "Epoch 161/200\n"
     ]
    },
    {
     "name": "stderr",
     "output_type": "stream",
     "text": [
      "/usr/local/lib/python3.10/dist-packages/monai/transforms/utils.py:743: UserWarning: no available indices of class 2 to crop, setting the crop ratio of this class to zero.\n",
      "  warnings.warn(\n",
      "/usr/local/lib/python3.10/dist-packages/monai/transforms/utils.py:743: UserWarning: no available indices of class 2 to crop, setting the crop ratio of this class to zero.\n",
      "  warnings.warn(\n",
      "/usr/local/lib/python3.10/dist-packages/monai/transforms/utils.py:743: UserWarning: no available indices of class 7 to crop, setting the crop ratio of this class to zero.\n",
      "  warnings.warn(\n",
      "/usr/local/lib/python3.10/dist-packages/monai/transforms/utils.py:743: UserWarning: no available indices of class 7 to crop, setting the crop ratio of this class to zero.\n",
      "  warnings.warn(\n",
      "/usr/local/lib/python3.10/dist-packages/monai/transforms/utils.py:743: UserWarning: no available indices of class 2 to crop, setting the crop ratio of this class to zero.\n",
      "  warnings.warn(\n",
      "/usr/local/lib/python3.10/dist-packages/monai/transforms/utils.py:743: UserWarning: no available indices of class 2 to crop, setting the crop ratio of this class to zero.\n",
      "  warnings.warn(\n",
      "/usr/local/lib/python3.10/dist-packages/monai/transforms/utils.py:743: UserWarning: no available indices of class 7 to crop, setting the crop ratio of this class to zero.\n",
      "  warnings.warn(\n",
      "/usr/local/lib/python3.10/dist-packages/monai/transforms/utils.py:743: UserWarning: no available indices of class 7 to crop, setting the crop ratio of this class to zero.\n",
      "  warnings.warn(\n"
     ]
    },
    {
     "name": "stdout",
     "output_type": "stream",
     "text": [
      "Batch 1/10, train_loss: 0.6809\n",
      "Batch 2/10, train_loss: 0.7260\n",
      "Batch 3/10, train_loss: 0.6780\n",
      "Batch 4/10, train_loss: 0.6705\n",
      "Batch 5/10, train_loss: 0.6917\n",
      "Batch 6/10, train_loss: 0.6859\n",
      "Batch 7/10, train_loss: 0.6480\n",
      "Batch 8/10, train_loss: 0.6800\n",
      "Batch 9/10, train_loss: 0.6690\n",
      "Batch 10/10, train_loss: 0.6975\n",
      "Epoch 161 average loss: 0.6827\n",
      "----------\n",
      "Epoch 162/200\n"
     ]
    },
    {
     "name": "stderr",
     "output_type": "stream",
     "text": [
      "/usr/local/lib/python3.10/dist-packages/monai/transforms/utils.py:743: UserWarning: no available indices of class 2 to crop, setting the crop ratio of this class to zero.\n",
      "  warnings.warn(\n",
      "/usr/local/lib/python3.10/dist-packages/monai/transforms/utils.py:743: UserWarning: no available indices of class 7 to crop, setting the crop ratio of this class to zero.\n",
      "  warnings.warn(\n",
      "/usr/local/lib/python3.10/dist-packages/monai/transforms/utils.py:743: UserWarning: no available indices of class 2 to crop, setting the crop ratio of this class to zero.\n",
      "  warnings.warn(\n",
      "/usr/local/lib/python3.10/dist-packages/monai/transforms/utils.py:743: UserWarning: no available indices of class 7 to crop, setting the crop ratio of this class to zero.\n",
      "  warnings.warn(\n",
      "/usr/local/lib/python3.10/dist-packages/monai/transforms/utils.py:743: UserWarning: no available indices of class 2 to crop, setting the crop ratio of this class to zero.\n",
      "  warnings.warn(\n",
      "/usr/local/lib/python3.10/dist-packages/monai/transforms/utils.py:743: UserWarning: no available indices of class 7 to crop, setting the crop ratio of this class to zero.\n",
      "  warnings.warn(\n",
      "/usr/local/lib/python3.10/dist-packages/monai/transforms/utils.py:743: UserWarning: no available indices of class 2 to crop, setting the crop ratio of this class to zero.\n",
      "  warnings.warn(\n",
      "/usr/local/lib/python3.10/dist-packages/monai/transforms/utils.py:743: UserWarning: no available indices of class 7 to crop, setting the crop ratio of this class to zero.\n",
      "  warnings.warn(\n"
     ]
    },
    {
     "name": "stdout",
     "output_type": "stream",
     "text": [
      "Batch 1/10, train_loss: 0.7036\n",
      "Batch 2/10, train_loss: 0.6653\n",
      "Batch 3/10, train_loss: 0.6796\n",
      "Batch 4/10, train_loss: 0.6642\n",
      "Batch 5/10, train_loss: 0.6987\n",
      "Batch 6/10, train_loss: 0.6782\n",
      "Batch 7/10, train_loss: 0.7244\n",
      "Batch 8/10, train_loss: 0.7011\n",
      "Batch 9/10, train_loss: 0.7063\n",
      "Batch 10/10, train_loss: 0.6802\n",
      "Epoch 162 average loss: 0.6902\n"
     ]
    },
    {
     "name": "stderr",
     "output_type": "stream",
     "text": [
      "/usr/local/lib/python3.10/dist-packages/monai/transforms/utils.py:743: UserWarning: no available indices of class 2 to crop, setting the crop ratio of this class to zero.\n",
      "  warnings.warn(\n",
      "/usr/local/lib/python3.10/dist-packages/monai/transforms/utils.py:743: UserWarning: no available indices of class 7 to crop, setting the crop ratio of this class to zero.\n",
      "  warnings.warn(\n",
      "/usr/local/lib/python3.10/dist-packages/monai/transforms/utils.py:743: UserWarning: no available indices of class 2 to crop, setting the crop ratio of this class to zero.\n",
      "  warnings.warn(\n",
      "/usr/local/lib/python3.10/dist-packages/monai/transforms/utils.py:743: UserWarning: no available indices of class 7 to crop, setting the crop ratio of this class to zero.\n",
      "  warnings.warn(\n"
     ]
    },
    {
     "name": "stdout",
     "output_type": "stream",
     "text": [
      "current epoch: 162 current mean recall per class: 0.7091, 0, 0.4365, 0.6452, 0.448, 0.5176, 0\n",
      "best mean recall: 0.4023 at epoch: 152\n",
      "----------\n",
      "Epoch 163/200\n"
     ]
    },
    {
     "name": "stderr",
     "output_type": "stream",
     "text": [
      "/usr/local/lib/python3.10/dist-packages/monai/transforms/utils.py:743: UserWarning: no available indices of class 2 to crop, setting the crop ratio of this class to zero.\n",
      "  warnings.warn(\n",
      "/usr/local/lib/python3.10/dist-packages/monai/transforms/utils.py:743: UserWarning: no available indices of class 7 to crop, setting the crop ratio of this class to zero.\n",
      "  warnings.warn(\n",
      "/usr/local/lib/python3.10/dist-packages/monai/transforms/utils.py:743: UserWarning: no available indices of class 2 to crop, setting the crop ratio of this class to zero.\n",
      "  warnings.warn(\n",
      "/usr/local/lib/python3.10/dist-packages/monai/transforms/utils.py:743: UserWarning: no available indices of class 7 to crop, setting the crop ratio of this class to zero.\n",
      "  warnings.warn(\n",
      "/usr/local/lib/python3.10/dist-packages/monai/transforms/utils.py:743: UserWarning: no available indices of class 2 to crop, setting the crop ratio of this class to zero.\n",
      "  warnings.warn(\n",
      "/usr/local/lib/python3.10/dist-packages/monai/transforms/utils.py:743: UserWarning: no available indices of class 7 to crop, setting the crop ratio of this class to zero.\n",
      "  warnings.warn(\n",
      "/usr/local/lib/python3.10/dist-packages/monai/transforms/utils.py:743: UserWarning: no available indices of class 2 to crop, setting the crop ratio of this class to zero.\n",
      "  warnings.warn(\n",
      "/usr/local/lib/python3.10/dist-packages/monai/transforms/utils.py:743: UserWarning: no available indices of class 7 to crop, setting the crop ratio of this class to zero.\n",
      "  warnings.warn(\n"
     ]
    },
    {
     "name": "stdout",
     "output_type": "stream",
     "text": [
      "Batch 1/10, train_loss: 0.6358\n",
      "Batch 2/10, train_loss: 0.6854\n",
      "Batch 3/10, train_loss: 0.6598\n",
      "Batch 4/10, train_loss: 0.7191\n",
      "Batch 5/10, train_loss: 0.6491\n",
      "Batch 6/10, train_loss: 0.7528\n",
      "Batch 7/10, train_loss: 0.7051\n",
      "Batch 8/10, train_loss: 0.7092\n",
      "Batch 9/10, train_loss: 0.7067\n",
      "Batch 10/10, train_loss: 0.7127\n",
      "Epoch 163 average loss: 0.6936\n",
      "----------\n",
      "Epoch 164/200\n"
     ]
    },
    {
     "name": "stderr",
     "output_type": "stream",
     "text": [
      "/usr/local/lib/python3.10/dist-packages/monai/transforms/utils.py:743: UserWarning: no available indices of class 2 to crop, setting the crop ratio of this class to zero.\n",
      "  warnings.warn(\n",
      "/usr/local/lib/python3.10/dist-packages/monai/transforms/utils.py:743: UserWarning: no available indices of class 7 to crop, setting the crop ratio of this class to zero.\n",
      "  warnings.warn(\n",
      "/usr/local/lib/python3.10/dist-packages/monai/transforms/utils.py:743: UserWarning: no available indices of class 2 to crop, setting the crop ratio of this class to zero.\n",
      "  warnings.warn(\n",
      "/usr/local/lib/python3.10/dist-packages/monai/transforms/utils.py:743: UserWarning: no available indices of class 7 to crop, setting the crop ratio of this class to zero.\n",
      "  warnings.warn(\n",
      "/usr/local/lib/python3.10/dist-packages/monai/transforms/utils.py:743: UserWarning: no available indices of class 2 to crop, setting the crop ratio of this class to zero.\n",
      "  warnings.warn(\n",
      "/usr/local/lib/python3.10/dist-packages/monai/transforms/utils.py:743: UserWarning: no available indices of class 7 to crop, setting the crop ratio of this class to zero.\n",
      "  warnings.warn(\n",
      "/usr/local/lib/python3.10/dist-packages/monai/transforms/utils.py:743: UserWarning: no available indices of class 2 to crop, setting the crop ratio of this class to zero.\n",
      "  warnings.warn(\n",
      "/usr/local/lib/python3.10/dist-packages/monai/transforms/utils.py:743: UserWarning: no available indices of class 7 to crop, setting the crop ratio of this class to zero.\n",
      "  warnings.warn(\n"
     ]
    },
    {
     "name": "stdout",
     "output_type": "stream",
     "text": [
      "Batch 1/10, train_loss: 0.6553\n",
      "Batch 2/10, train_loss: 0.7173\n",
      "Batch 3/10, train_loss: 0.6646\n",
      "Batch 4/10, train_loss: 0.7188\n",
      "Batch 5/10, train_loss: 0.7318\n",
      "Batch 6/10, train_loss: 0.6994\n",
      "Batch 7/10, train_loss: 0.6960\n",
      "Batch 8/10, train_loss: 0.7081\n",
      "Batch 9/10, train_loss: 0.7078\n",
      "Batch 10/10, train_loss: 0.6926\n",
      "Epoch 164 average loss: 0.6992\n"
     ]
    },
    {
     "name": "stderr",
     "output_type": "stream",
     "text": [
      "/usr/local/lib/python3.10/dist-packages/monai/transforms/utils.py:743: UserWarning: no available indices of class 2 to crop, setting the crop ratio of this class to zero.\n",
      "  warnings.warn(\n",
      "/usr/local/lib/python3.10/dist-packages/monai/transforms/utils.py:743: UserWarning: no available indices of class 7 to crop, setting the crop ratio of this class to zero.\n",
      "  warnings.warn(\n",
      "/usr/local/lib/python3.10/dist-packages/monai/transforms/utils.py:743: UserWarning: no available indices of class 2 to crop, setting the crop ratio of this class to zero.\n",
      "  warnings.warn(\n",
      "/usr/local/lib/python3.10/dist-packages/monai/transforms/utils.py:743: UserWarning: no available indices of class 7 to crop, setting the crop ratio of this class to zero.\n",
      "  warnings.warn(\n"
     ]
    },
    {
     "name": "stdout",
     "output_type": "stream",
     "text": [
      "current epoch: 164 current mean recall per class: 0.7601, 0, 0.3462, 0.6001, 0.4449, 0.4366, 0\n",
      "best mean recall: 0.4023 at epoch: 152\n",
      "----------\n",
      "Epoch 165/200\n"
     ]
    },
    {
     "name": "stderr",
     "output_type": "stream",
     "text": [
      "/usr/local/lib/python3.10/dist-packages/monai/transforms/utils.py:743: UserWarning: no available indices of class 2 to crop, setting the crop ratio of this class to zero.\n",
      "  warnings.warn(\n",
      "/usr/local/lib/python3.10/dist-packages/monai/transforms/utils.py:743: UserWarning: no available indices of class 2 to crop, setting the crop ratio of this class to zero.\n",
      "  warnings.warn(\n",
      "/usr/local/lib/python3.10/dist-packages/monai/transforms/utils.py:743: UserWarning: no available indices of class 2 to crop, setting the crop ratio of this class to zero.\n",
      "  warnings.warn(\n",
      "/usr/local/lib/python3.10/dist-packages/monai/transforms/utils.py:743: UserWarning: no available indices of class 7 to crop, setting the crop ratio of this class to zero.\n",
      "  warnings.warn(\n",
      "/usr/local/lib/python3.10/dist-packages/monai/transforms/utils.py:743: UserWarning: no available indices of class 7 to crop, setting the crop ratio of this class to zero.\n",
      "  warnings.warn(\n",
      "/usr/local/lib/python3.10/dist-packages/monai/transforms/utils.py:743: UserWarning: no available indices of class 7 to crop, setting the crop ratio of this class to zero.\n",
      "  warnings.warn(\n",
      "/usr/local/lib/python3.10/dist-packages/monai/transforms/utils.py:743: UserWarning: no available indices of class 2 to crop, setting the crop ratio of this class to zero.\n",
      "  warnings.warn(\n",
      "/usr/local/lib/python3.10/dist-packages/monai/transforms/utils.py:743: UserWarning: no available indices of class 7 to crop, setting the crop ratio of this class to zero.\n",
      "  warnings.warn(\n"
     ]
    },
    {
     "name": "stdout",
     "output_type": "stream",
     "text": [
      "Batch 1/10, train_loss: 0.7074\n",
      "Batch 2/10, train_loss: 0.6923\n",
      "Batch 3/10, train_loss: 0.6863\n",
      "Batch 4/10, train_loss: 0.7302\n",
      "Batch 5/10, train_loss: 0.6733\n",
      "Batch 6/10, train_loss: 0.6945\n",
      "Batch 7/10, train_loss: 0.6702\n",
      "Batch 8/10, train_loss: 0.7476\n",
      "Batch 9/10, train_loss: 0.7251\n",
      "Batch 10/10, train_loss: 0.6816\n",
      "Epoch 165 average loss: 0.7008\n",
      "----------\n",
      "Epoch 166/200\n"
     ]
    },
    {
     "name": "stderr",
     "output_type": "stream",
     "text": [
      "/usr/local/lib/python3.10/dist-packages/monai/transforms/utils.py:743: UserWarning: no available indices of class 2 to crop, setting the crop ratio of this class to zero.\n",
      "  warnings.warn(\n",
      "/usr/local/lib/python3.10/dist-packages/monai/transforms/utils.py:743: UserWarning: no available indices of class 7 to crop, setting the crop ratio of this class to zero.\n",
      "  warnings.warn(\n",
      "/usr/local/lib/python3.10/dist-packages/monai/transforms/utils.py:743: UserWarning: no available indices of class 2 to crop, setting the crop ratio of this class to zero.\n",
      "  warnings.warn(\n",
      "/usr/local/lib/python3.10/dist-packages/monai/transforms/utils.py:743: UserWarning: no available indices of class 7 to crop, setting the crop ratio of this class to zero.\n",
      "  warnings.warn(\n",
      "/usr/local/lib/python3.10/dist-packages/monai/transforms/utils.py:743: UserWarning: no available indices of class 2 to crop, setting the crop ratio of this class to zero.\n",
      "  warnings.warn(\n",
      "/usr/local/lib/python3.10/dist-packages/monai/transforms/utils.py:743: UserWarning: no available indices of class 7 to crop, setting the crop ratio of this class to zero.\n",
      "  warnings.warn(\n",
      "/usr/local/lib/python3.10/dist-packages/monai/transforms/utils.py:743: UserWarning: no available indices of class 2 to crop, setting the crop ratio of this class to zero.\n",
      "  warnings.warn(\n",
      "/usr/local/lib/python3.10/dist-packages/monai/transforms/utils.py:743: UserWarning: no available indices of class 7 to crop, setting the crop ratio of this class to zero.\n",
      "  warnings.warn(\n"
     ]
    },
    {
     "name": "stdout",
     "output_type": "stream",
     "text": [
      "Batch 1/10, train_loss: 0.6983\n",
      "Batch 2/10, train_loss: 0.7212\n",
      "Batch 3/10, train_loss: 0.6707\n",
      "Batch 4/10, train_loss: 0.6897\n",
      "Batch 5/10, train_loss: 0.6859\n",
      "Batch 6/10, train_loss: 0.6706\n",
      "Batch 7/10, train_loss: 0.6215\n",
      "Batch 8/10, train_loss: 0.7508\n",
      "Batch 9/10, train_loss: 0.6795\n",
      "Batch 10/10, train_loss: 0.6911\n",
      "Epoch 166 average loss: 0.6879\n"
     ]
    },
    {
     "name": "stderr",
     "output_type": "stream",
     "text": [
      "/usr/local/lib/python3.10/dist-packages/monai/transforms/utils.py:743: UserWarning: no available indices of class 2 to crop, setting the crop ratio of this class to zero.\n",
      "  warnings.warn(\n",
      "/usr/local/lib/python3.10/dist-packages/monai/transforms/utils.py:743: UserWarning: no available indices of class 7 to crop, setting the crop ratio of this class to zero.\n",
      "  warnings.warn(\n",
      "/usr/local/lib/python3.10/dist-packages/monai/transforms/utils.py:743: UserWarning: no available indices of class 2 to crop, setting the crop ratio of this class to zero.\n",
      "  warnings.warn(\n",
      "/usr/local/lib/python3.10/dist-packages/monai/transforms/utils.py:743: UserWarning: no available indices of class 7 to crop, setting the crop ratio of this class to zero.\n",
      "  warnings.warn(\n"
     ]
    },
    {
     "name": "stdout",
     "output_type": "stream",
     "text": [
      "current epoch: 166 current mean recall per class: 0.6347, 0, 0.3793, 0.541, 0.3743, 0.4593, 0\n",
      "best mean recall: 0.4023 at epoch: 152\n",
      "----------\n",
      "Epoch 167/200\n"
     ]
    },
    {
     "name": "stderr",
     "output_type": "stream",
     "text": [
      "/usr/local/lib/python3.10/dist-packages/monai/transforms/utils.py:743: UserWarning: no available indices of class 2 to crop, setting the crop ratio of this class to zero.\n",
      "  warnings.warn(\n",
      "/usr/local/lib/python3.10/dist-packages/monai/transforms/utils.py:743: UserWarning: no available indices of class 7 to crop, setting the crop ratio of this class to zero.\n",
      "  warnings.warn(\n",
      "/usr/local/lib/python3.10/dist-packages/monai/transforms/utils.py:743: UserWarning: no available indices of class 2 to crop, setting the crop ratio of this class to zero.\n",
      "  warnings.warn(\n",
      "/usr/local/lib/python3.10/dist-packages/monai/transforms/utils.py:743: UserWarning: no available indices of class 7 to crop, setting the crop ratio of this class to zero.\n",
      "  warnings.warn(\n",
      "/usr/local/lib/python3.10/dist-packages/monai/transforms/utils.py:743: UserWarning: no available indices of class 2 to crop, setting the crop ratio of this class to zero.\n",
      "  warnings.warn(\n",
      "/usr/local/lib/python3.10/dist-packages/monai/transforms/utils.py:743: UserWarning: no available indices of class 2 to crop, setting the crop ratio of this class to zero.\n",
      "  warnings.warn(\n",
      "/usr/local/lib/python3.10/dist-packages/monai/transforms/utils.py:743: UserWarning: no available indices of class 7 to crop, setting the crop ratio of this class to zero.\n",
      "  warnings.warn(\n",
      "/usr/local/lib/python3.10/dist-packages/monai/transforms/utils.py:743: UserWarning: no available indices of class 7 to crop, setting the crop ratio of this class to zero.\n",
      "  warnings.warn(\n"
     ]
    },
    {
     "name": "stdout",
     "output_type": "stream",
     "text": [
      "Batch 1/10, train_loss: 0.6958\n",
      "Batch 2/10, train_loss: 0.6917\n",
      "Batch 3/10, train_loss: 0.7077\n",
      "Batch 4/10, train_loss: 0.6808\n",
      "Batch 5/10, train_loss: 0.7163\n",
      "Batch 6/10, train_loss: 0.6652\n",
      "Batch 7/10, train_loss: 0.6629\n",
      "Batch 8/10, train_loss: 0.7346\n",
      "Batch 9/10, train_loss: 0.6555\n",
      "Batch 10/10, train_loss: 0.6949\n",
      "Epoch 167 average loss: 0.6905\n",
      "----------\n",
      "Epoch 168/200\n"
     ]
    },
    {
     "name": "stderr",
     "output_type": "stream",
     "text": [
      "/usr/local/lib/python3.10/dist-packages/monai/transforms/utils.py:743: UserWarning: no available indices of class 2 to crop, setting the crop ratio of this class to zero.\n",
      "  warnings.warn(\n",
      "/usr/local/lib/python3.10/dist-packages/monai/transforms/utils.py:743: UserWarning: no available indices of class 7 to crop, setting the crop ratio of this class to zero.\n",
      "  warnings.warn(\n",
      "/usr/local/lib/python3.10/dist-packages/monai/transforms/utils.py:743: UserWarning: no available indices of class 2 to crop, setting the crop ratio of this class to zero.\n",
      "  warnings.warn(\n",
      "/usr/local/lib/python3.10/dist-packages/monai/transforms/utils.py:743: UserWarning: no available indices of class 7 to crop, setting the crop ratio of this class to zero.\n",
      "  warnings.warn(\n",
      "/usr/local/lib/python3.10/dist-packages/monai/transforms/utils.py:743: UserWarning: no available indices of class 2 to crop, setting the crop ratio of this class to zero.\n",
      "  warnings.warn(\n",
      "/usr/local/lib/python3.10/dist-packages/monai/transforms/utils.py:743: UserWarning: no available indices of class 2 to crop, setting the crop ratio of this class to zero.\n",
      "  warnings.warn(\n",
      "/usr/local/lib/python3.10/dist-packages/monai/transforms/utils.py:743: UserWarning: no available indices of class 7 to crop, setting the crop ratio of this class to zero.\n",
      "  warnings.warn(\n",
      "/usr/local/lib/python3.10/dist-packages/monai/transforms/utils.py:743: UserWarning: no available indices of class 7 to crop, setting the crop ratio of this class to zero.\n",
      "  warnings.warn(\n"
     ]
    },
    {
     "name": "stdout",
     "output_type": "stream",
     "text": [
      "Batch 1/10, train_loss: 0.6307\n",
      "Batch 2/10, train_loss: 0.6663\n",
      "Batch 3/10, train_loss: 0.7393\n",
      "Batch 4/10, train_loss: 0.7106\n",
      "Batch 5/10, train_loss: 0.7021\n",
      "Batch 6/10, train_loss: 0.7093\n",
      "Batch 7/10, train_loss: 0.6929\n",
      "Batch 8/10, train_loss: 0.7041\n",
      "Batch 9/10, train_loss: 0.6931\n",
      "Batch 10/10, train_loss: 0.6909\n",
      "Epoch 168 average loss: 0.6939\n"
     ]
    },
    {
     "name": "stderr",
     "output_type": "stream",
     "text": [
      "/usr/local/lib/python3.10/dist-packages/monai/transforms/utils.py:743: UserWarning: no available indices of class 2 to crop, setting the crop ratio of this class to zero.\n",
      "  warnings.warn(\n",
      "/usr/local/lib/python3.10/dist-packages/monai/transforms/utils.py:743: UserWarning: no available indices of class 7 to crop, setting the crop ratio of this class to zero.\n",
      "  warnings.warn(\n",
      "/usr/local/lib/python3.10/dist-packages/monai/transforms/utils.py:743: UserWarning: no available indices of class 2 to crop, setting the crop ratio of this class to zero.\n",
      "  warnings.warn(\n",
      "/usr/local/lib/python3.10/dist-packages/monai/transforms/utils.py:743: UserWarning: no available indices of class 7 to crop, setting the crop ratio of this class to zero.\n",
      "  warnings.warn(\n"
     ]
    },
    {
     "name": "stdout",
     "output_type": "stream",
     "text": [
      "current epoch: 168 current mean recall per class: 0.7243, 0, 0.2071, 0.591, 0.4414, 0.4812, 0\n",
      "best mean recall: 0.4023 at epoch: 152\n",
      "----------\n",
      "Epoch 169/200\n"
     ]
    },
    {
     "name": "stderr",
     "output_type": "stream",
     "text": [
      "/usr/local/lib/python3.10/dist-packages/monai/transforms/utils.py:743: UserWarning: no available indices of class 2 to crop, setting the crop ratio of this class to zero.\n",
      "  warnings.warn(\n",
      "/usr/local/lib/python3.10/dist-packages/monai/transforms/utils.py:743: UserWarning: no available indices of class 7 to crop, setting the crop ratio of this class to zero.\n",
      "  warnings.warn(\n",
      "/usr/local/lib/python3.10/dist-packages/monai/transforms/utils.py:743: UserWarning: no available indices of class 2 to crop, setting the crop ratio of this class to zero.\n",
      "  warnings.warn(\n",
      "/usr/local/lib/python3.10/dist-packages/monai/transforms/utils.py:743: UserWarning: no available indices of class 7 to crop, setting the crop ratio of this class to zero.\n",
      "  warnings.warn(\n",
      "/usr/local/lib/python3.10/dist-packages/monai/transforms/utils.py:743: UserWarning: no available indices of class 2 to crop, setting the crop ratio of this class to zero.\n",
      "  warnings.warn(\n",
      "/usr/local/lib/python3.10/dist-packages/monai/transforms/utils.py:743: UserWarning: no available indices of class 7 to crop, setting the crop ratio of this class to zero.\n",
      "  warnings.warn(\n",
      "/usr/local/lib/python3.10/dist-packages/monai/transforms/utils.py:743: UserWarning: no available indices of class 2 to crop, setting the crop ratio of this class to zero.\n",
      "  warnings.warn(\n",
      "/usr/local/lib/python3.10/dist-packages/monai/transforms/utils.py:743: UserWarning: no available indices of class 7 to crop, setting the crop ratio of this class to zero.\n",
      "  warnings.warn(\n"
     ]
    },
    {
     "name": "stdout",
     "output_type": "stream",
     "text": [
      "Batch 1/10, train_loss: 0.7162\n",
      "Batch 2/10, train_loss: 0.6343\n",
      "Batch 3/10, train_loss: 0.6810\n",
      "Batch 4/10, train_loss: 0.6935\n",
      "Batch 5/10, train_loss: 0.7276\n",
      "Batch 6/10, train_loss: 0.6987\n",
      "Batch 7/10, train_loss: 0.6594\n",
      "Batch 8/10, train_loss: 0.7107\n",
      "Batch 9/10, train_loss: 0.6516\n",
      "Batch 10/10, train_loss: 0.7219\n",
      "Epoch 169 average loss: 0.6895\n",
      "----------\n",
      "Epoch 170/200\n"
     ]
    },
    {
     "name": "stderr",
     "output_type": "stream",
     "text": [
      "/usr/local/lib/python3.10/dist-packages/monai/transforms/utils.py:743: UserWarning: no available indices of class 2 to crop, setting the crop ratio of this class to zero.\n",
      "  warnings.warn(\n",
      "/usr/local/lib/python3.10/dist-packages/monai/transforms/utils.py:743: UserWarning: no available indices of class 7 to crop, setting the crop ratio of this class to zero.\n",
      "  warnings.warn(\n",
      "/usr/local/lib/python3.10/dist-packages/monai/transforms/utils.py:743: UserWarning: no available indices of class 2 to crop, setting the crop ratio of this class to zero.\n",
      "  warnings.warn(\n",
      "/usr/local/lib/python3.10/dist-packages/monai/transforms/utils.py:743: UserWarning: no available indices of class 7 to crop, setting the crop ratio of this class to zero.\n",
      "  warnings.warn(\n",
      "/usr/local/lib/python3.10/dist-packages/monai/transforms/utils.py:743: UserWarning: no available indices of class 2 to crop, setting the crop ratio of this class to zero.\n",
      "  warnings.warn(\n",
      "/usr/local/lib/python3.10/dist-packages/monai/transforms/utils.py:743: UserWarning: no available indices of class 7 to crop, setting the crop ratio of this class to zero.\n",
      "  warnings.warn(\n",
      "/usr/local/lib/python3.10/dist-packages/monai/transforms/utils.py:743: UserWarning: no available indices of class 2 to crop, setting the crop ratio of this class to zero.\n",
      "  warnings.warn(\n",
      "/usr/local/lib/python3.10/dist-packages/monai/transforms/utils.py:743: UserWarning: no available indices of class 7 to crop, setting the crop ratio of this class to zero.\n",
      "  warnings.warn(\n"
     ]
    },
    {
     "name": "stdout",
     "output_type": "stream",
     "text": [
      "Batch 1/10, train_loss: 0.6451\n",
      "Batch 2/10, train_loss: 0.6228\n",
      "Batch 3/10, train_loss: 0.6448\n",
      "Batch 4/10, train_loss: 0.6663\n",
      "Batch 5/10, train_loss: 0.7141\n",
      "Batch 6/10, train_loss: 0.7029\n",
      "Batch 7/10, train_loss: 0.7362\n",
      "Batch 8/10, train_loss: 0.6784\n",
      "Batch 9/10, train_loss: 0.7508\n",
      "Batch 10/10, train_loss: 0.6523\n",
      "Epoch 170 average loss: 0.6814\n"
     ]
    },
    {
     "name": "stderr",
     "output_type": "stream",
     "text": [
      "/usr/local/lib/python3.10/dist-packages/monai/transforms/utils.py:743: UserWarning: no available indices of class 2 to crop, setting the crop ratio of this class to zero.\n",
      "  warnings.warn(\n",
      "/usr/local/lib/python3.10/dist-packages/monai/transforms/utils.py:743: UserWarning: no available indices of class 7 to crop, setting the crop ratio of this class to zero.\n",
      "  warnings.warn(\n",
      "/usr/local/lib/python3.10/dist-packages/monai/transforms/utils.py:743: UserWarning: no available indices of class 2 to crop, setting the crop ratio of this class to zero.\n",
      "  warnings.warn(\n",
      "/usr/local/lib/python3.10/dist-packages/monai/transforms/utils.py:743: UserWarning: no available indices of class 7 to crop, setting the crop ratio of this class to zero.\n",
      "  warnings.warn(\n"
     ]
    },
    {
     "name": "stdout",
     "output_type": "stream",
     "text": [
      "current epoch: 170 current mean recall per class: 0.5488, 0, 0.3785, 0.6787, 0.2777, 0.5219, 0\n",
      "best mean recall: 0.4023 at epoch: 152\n",
      "----------\n",
      "Epoch 171/200\n"
     ]
    },
    {
     "name": "stderr",
     "output_type": "stream",
     "text": [
      "/usr/local/lib/python3.10/dist-packages/monai/transforms/utils.py:743: UserWarning: no available indices of class 2 to crop, setting the crop ratio of this class to zero.\n",
      "  warnings.warn(\n",
      "/usr/local/lib/python3.10/dist-packages/monai/transforms/utils.py:743: UserWarning: no available indices of class 7 to crop, setting the crop ratio of this class to zero.\n",
      "  warnings.warn(\n",
      "/usr/local/lib/python3.10/dist-packages/monai/transforms/utils.py:743: UserWarning: no available indices of class 2 to crop, setting the crop ratio of this class to zero.\n",
      "  warnings.warn(\n",
      "/usr/local/lib/python3.10/dist-packages/monai/transforms/utils.py:743: UserWarning: no available indices of class 7 to crop, setting the crop ratio of this class to zero.\n",
      "  warnings.warn(\n",
      "/usr/local/lib/python3.10/dist-packages/monai/transforms/utils.py:743: UserWarning: no available indices of class 2 to crop, setting the crop ratio of this class to zero.\n",
      "  warnings.warn(\n",
      "/usr/local/lib/python3.10/dist-packages/monai/transforms/utils.py:743: UserWarning: no available indices of class 2 to crop, setting the crop ratio of this class to zero.\n",
      "  warnings.warn(\n",
      "/usr/local/lib/python3.10/dist-packages/monai/transforms/utils.py:743: UserWarning: no available indices of class 7 to crop, setting the crop ratio of this class to zero.\n",
      "  warnings.warn(\n",
      "/usr/local/lib/python3.10/dist-packages/monai/transforms/utils.py:743: UserWarning: no available indices of class 7 to crop, setting the crop ratio of this class to zero.\n",
      "  warnings.warn(\n"
     ]
    },
    {
     "name": "stdout",
     "output_type": "stream",
     "text": [
      "Batch 1/10, train_loss: 0.6972\n",
      "Batch 2/10, train_loss: 0.7356\n",
      "Batch 3/10, train_loss: 0.6535\n",
      "Batch 4/10, train_loss: 0.7187\n",
      "Batch 5/10, train_loss: 0.6672\n",
      "Batch 6/10, train_loss: 0.7024\n",
      "Batch 7/10, train_loss: 0.6765\n",
      "Batch 8/10, train_loss: 0.6592\n",
      "Batch 9/10, train_loss: 0.6969\n",
      "Batch 10/10, train_loss: 0.6477\n",
      "Epoch 171 average loss: 0.6855\n",
      "----------\n",
      "Epoch 172/200\n"
     ]
    },
    {
     "name": "stderr",
     "output_type": "stream",
     "text": [
      "/usr/local/lib/python3.10/dist-packages/monai/transforms/utils.py:743: UserWarning: no available indices of class 2 to crop, setting the crop ratio of this class to zero.\n",
      "  warnings.warn(\n",
      "/usr/local/lib/python3.10/dist-packages/monai/transforms/utils.py:743: UserWarning: no available indices of class 7 to crop, setting the crop ratio of this class to zero.\n",
      "  warnings.warn(\n",
      "/usr/local/lib/python3.10/dist-packages/monai/transforms/utils.py:743: UserWarning: no available indices of class 2 to crop, setting the crop ratio of this class to zero.\n",
      "  warnings.warn(\n",
      "/usr/local/lib/python3.10/dist-packages/monai/transforms/utils.py:743: UserWarning: no available indices of class 2 to crop, setting the crop ratio of this class to zero.\n",
      "  warnings.warn(\n",
      "/usr/local/lib/python3.10/dist-packages/monai/transforms/utils.py:743: UserWarning: no available indices of class 7 to crop, setting the crop ratio of this class to zero.\n",
      "  warnings.warn(\n",
      "/usr/local/lib/python3.10/dist-packages/monai/transforms/utils.py:743: UserWarning: no available indices of class 2 to crop, setting the crop ratio of this class to zero.\n",
      "  warnings.warn(\n",
      "/usr/local/lib/python3.10/dist-packages/monai/transforms/utils.py:743: UserWarning: no available indices of class 7 to crop, setting the crop ratio of this class to zero.\n",
      "  warnings.warn(\n",
      "/usr/local/lib/python3.10/dist-packages/monai/transforms/utils.py:743: UserWarning: no available indices of class 7 to crop, setting the crop ratio of this class to zero.\n",
      "  warnings.warn(\n"
     ]
    },
    {
     "name": "stdout",
     "output_type": "stream",
     "text": [
      "Batch 1/10, train_loss: 0.6775\n",
      "Batch 2/10, train_loss: 0.6628\n",
      "Batch 3/10, train_loss: 0.7067\n",
      "Batch 4/10, train_loss: 0.6734\n",
      "Batch 5/10, train_loss: 0.6795\n",
      "Batch 6/10, train_loss: 0.7114\n",
      "Batch 7/10, train_loss: 0.6779\n",
      "Batch 8/10, train_loss: 0.6585\n",
      "Batch 9/10, train_loss: 0.6387\n",
      "Batch 10/10, train_loss: 0.7055\n",
      "Epoch 172 average loss: 0.6792\n"
     ]
    },
    {
     "name": "stderr",
     "output_type": "stream",
     "text": [
      "/usr/local/lib/python3.10/dist-packages/monai/transforms/utils.py:743: UserWarning: no available indices of class 2 to crop, setting the crop ratio of this class to zero.\n",
      "  warnings.warn(\n",
      "/usr/local/lib/python3.10/dist-packages/monai/transforms/utils.py:743: UserWarning: no available indices of class 7 to crop, setting the crop ratio of this class to zero.\n",
      "  warnings.warn(\n",
      "/usr/local/lib/python3.10/dist-packages/monai/transforms/utils.py:743: UserWarning: no available indices of class 2 to crop, setting the crop ratio of this class to zero.\n",
      "  warnings.warn(\n",
      "/usr/local/lib/python3.10/dist-packages/monai/transforms/utils.py:743: UserWarning: no available indices of class 7 to crop, setting the crop ratio of this class to zero.\n",
      "  warnings.warn(\n"
     ]
    },
    {
     "name": "stdout",
     "output_type": "stream",
     "text": [
      "current epoch: 172 current mean recall per class: 0.5991, 0, 0.4134, 0.5267, 0.3989, 0.4908, 0\n",
      "best mean recall: 0.4023 at epoch: 152\n",
      "----------\n",
      "Epoch 173/200\n"
     ]
    },
    {
     "name": "stderr",
     "output_type": "stream",
     "text": [
      "/usr/local/lib/python3.10/dist-packages/monai/transforms/utils.py:743: UserWarning: no available indices of class 2 to crop, setting the crop ratio of this class to zero.\n",
      "  warnings.warn(\n",
      "/usr/local/lib/python3.10/dist-packages/monai/transforms/utils.py:743: UserWarning: no available indices of class 2 to crop, setting the crop ratio of this class to zero.\n",
      "  warnings.warn(\n",
      "/usr/local/lib/python3.10/dist-packages/monai/transforms/utils.py:743: UserWarning: no available indices of class 7 to crop, setting the crop ratio of this class to zero.\n",
      "  warnings.warn(\n",
      "/usr/local/lib/python3.10/dist-packages/monai/transforms/utils.py:743: UserWarning: no available indices of class 2 to crop, setting the crop ratio of this class to zero.\n",
      "  warnings.warn(\n",
      "/usr/local/lib/python3.10/dist-packages/monai/transforms/utils.py:743: UserWarning: no available indices of class 2 to crop, setting the crop ratio of this class to zero.\n",
      "  warnings.warn(\n",
      "/usr/local/lib/python3.10/dist-packages/monai/transforms/utils.py:743: UserWarning: no available indices of class 7 to crop, setting the crop ratio of this class to zero.\n",
      "  warnings.warn(\n",
      "/usr/local/lib/python3.10/dist-packages/monai/transforms/utils.py:743: UserWarning: no available indices of class 7 to crop, setting the crop ratio of this class to zero.\n",
      "  warnings.warn(\n",
      "/usr/local/lib/python3.10/dist-packages/monai/transforms/utils.py:743: UserWarning: no available indices of class 7 to crop, setting the crop ratio of this class to zero.\n",
      "  warnings.warn(\n"
     ]
    },
    {
     "name": "stdout",
     "output_type": "stream",
     "text": [
      "Batch 1/10, train_loss: 0.6839\n",
      "Batch 2/10, train_loss: 0.7341\n",
      "Batch 3/10, train_loss: 0.6752\n",
      "Batch 4/10, train_loss: 0.6854\n",
      "Batch 5/10, train_loss: 0.7162\n",
      "Batch 6/10, train_loss: 0.6565\n",
      "Batch 7/10, train_loss: 0.7043\n",
      "Batch 8/10, train_loss: 0.7037\n",
      "Batch 9/10, train_loss: 0.7179\n",
      "Batch 10/10, train_loss: 0.7226\n",
      "Epoch 173 average loss: 0.7000\n",
      "----------\n",
      "Epoch 174/200\n"
     ]
    },
    {
     "name": "stderr",
     "output_type": "stream",
     "text": [
      "/usr/local/lib/python3.10/dist-packages/monai/transforms/utils.py:743: UserWarning: no available indices of class 2 to crop, setting the crop ratio of this class to zero.\n",
      "  warnings.warn(\n",
      "/usr/local/lib/python3.10/dist-packages/monai/transforms/utils.py:743: UserWarning: no available indices of class 7 to crop, setting the crop ratio of this class to zero.\n",
      "  warnings.warn(\n",
      "/usr/local/lib/python3.10/dist-packages/monai/transforms/utils.py:743: UserWarning: no available indices of class 2 to crop, setting the crop ratio of this class to zero.\n",
      "  warnings.warn(\n",
      "/usr/local/lib/python3.10/dist-packages/monai/transforms/utils.py:743: UserWarning: no available indices of class 7 to crop, setting the crop ratio of this class to zero.\n",
      "  warnings.warn(\n",
      "/usr/local/lib/python3.10/dist-packages/monai/transforms/utils.py:743: UserWarning: no available indices of class 2 to crop, setting the crop ratio of this class to zero.\n",
      "  warnings.warn(\n",
      "/usr/local/lib/python3.10/dist-packages/monai/transforms/utils.py:743: UserWarning: no available indices of class 7 to crop, setting the crop ratio of this class to zero.\n",
      "  warnings.warn(\n",
      "/usr/local/lib/python3.10/dist-packages/monai/transforms/utils.py:743: UserWarning: no available indices of class 2 to crop, setting the crop ratio of this class to zero.\n",
      "  warnings.warn(\n",
      "/usr/local/lib/python3.10/dist-packages/monai/transforms/utils.py:743: UserWarning: no available indices of class 7 to crop, setting the crop ratio of this class to zero.\n",
      "  warnings.warn(\n"
     ]
    },
    {
     "name": "stdout",
     "output_type": "stream",
     "text": [
      "Batch 1/10, train_loss: 0.7172\n",
      "Batch 2/10, train_loss: 0.6408\n",
      "Batch 3/10, train_loss: 0.6495\n",
      "Batch 4/10, train_loss: 0.7114\n",
      "Batch 5/10, train_loss: 0.6853\n",
      "Batch 6/10, train_loss: 0.6479\n",
      "Batch 7/10, train_loss: 0.6642\n",
      "Batch 8/10, train_loss: 0.6944\n",
      "Batch 9/10, train_loss: 0.7089\n",
      "Batch 10/10, train_loss: 0.7102\n",
      "Epoch 174 average loss: 0.6830\n"
     ]
    },
    {
     "name": "stderr",
     "output_type": "stream",
     "text": [
      "/usr/local/lib/python3.10/dist-packages/monai/transforms/utils.py:743: UserWarning: no available indices of class 2 to crop, setting the crop ratio of this class to zero.\n",
      "  warnings.warn(\n",
      "/usr/local/lib/python3.10/dist-packages/monai/transforms/utils.py:743: UserWarning: no available indices of class 7 to crop, setting the crop ratio of this class to zero.\n",
      "  warnings.warn(\n",
      "/usr/local/lib/python3.10/dist-packages/monai/transforms/utils.py:743: UserWarning: no available indices of class 2 to crop, setting the crop ratio of this class to zero.\n",
      "  warnings.warn(\n",
      "/usr/local/lib/python3.10/dist-packages/monai/transforms/utils.py:743: UserWarning: no available indices of class 7 to crop, setting the crop ratio of this class to zero.\n",
      "  warnings.warn(\n"
     ]
    },
    {
     "name": "stdout",
     "output_type": "stream",
     "text": [
      "current epoch: 174 current mean recall per class: 0.803, 0, 0.3223, 0.4761, 0.3971, 0.5161, 0\n",
      "best mean recall: 0.4023 at epoch: 152\n",
      "----------\n",
      "Epoch 175/200\n"
     ]
    },
    {
     "name": "stderr",
     "output_type": "stream",
     "text": [
      "/usr/local/lib/python3.10/dist-packages/monai/transforms/utils.py:743: UserWarning: no available indices of class 2 to crop, setting the crop ratio of this class to zero.\n",
      "  warnings.warn(\n",
      "/usr/local/lib/python3.10/dist-packages/monai/transforms/utils.py:743: UserWarning: no available indices of class 7 to crop, setting the crop ratio of this class to zero.\n",
      "  warnings.warn(\n",
      "/usr/local/lib/python3.10/dist-packages/monai/transforms/utils.py:743: UserWarning: no available indices of class 2 to crop, setting the crop ratio of this class to zero.\n",
      "  warnings.warn(\n",
      "/usr/local/lib/python3.10/dist-packages/monai/transforms/utils.py:743: UserWarning: no available indices of class 7 to crop, setting the crop ratio of this class to zero.\n",
      "  warnings.warn(\n",
      "/usr/local/lib/python3.10/dist-packages/monai/transforms/utils.py:743: UserWarning: no available indices of class 2 to crop, setting the crop ratio of this class to zero.\n",
      "  warnings.warn(\n",
      "/usr/local/lib/python3.10/dist-packages/monai/transforms/utils.py:743: UserWarning: no available indices of class 2 to crop, setting the crop ratio of this class to zero.\n",
      "  warnings.warn(\n",
      "/usr/local/lib/python3.10/dist-packages/monai/transforms/utils.py:743: UserWarning: no available indices of class 7 to crop, setting the crop ratio of this class to zero.\n",
      "  warnings.warn(\n",
      "/usr/local/lib/python3.10/dist-packages/monai/transforms/utils.py:743: UserWarning: no available indices of class 7 to crop, setting the crop ratio of this class to zero.\n",
      "  warnings.warn(\n"
     ]
    },
    {
     "name": "stdout",
     "output_type": "stream",
     "text": [
      "Batch 1/10, train_loss: 0.7052\n",
      "Batch 2/10, train_loss: 0.6698\n",
      "Batch 3/10, train_loss: 0.6732\n",
      "Batch 4/10, train_loss: 0.7044\n",
      "Batch 5/10, train_loss: 0.6542\n",
      "Batch 6/10, train_loss: 0.7121\n",
      "Batch 7/10, train_loss: 0.7171\n",
      "Batch 8/10, train_loss: 0.7074\n",
      "Batch 9/10, train_loss: 0.6858\n",
      "Batch 10/10, train_loss: 0.6567\n",
      "Epoch 175 average loss: 0.6886\n",
      "----------\n",
      "Epoch 176/200\n"
     ]
    },
    {
     "name": "stderr",
     "output_type": "stream",
     "text": [
      "/usr/local/lib/python3.10/dist-packages/monai/transforms/utils.py:743: UserWarning: no available indices of class 2 to crop, setting the crop ratio of this class to zero.\n",
      "  warnings.warn(\n",
      "/usr/local/lib/python3.10/dist-packages/monai/transforms/utils.py:743: UserWarning: no available indices of class 2 to crop, setting the crop ratio of this class to zero.\n",
      "  warnings.warn(\n",
      "/usr/local/lib/python3.10/dist-packages/monai/transforms/utils.py:743: UserWarning: no available indices of class 7 to crop, setting the crop ratio of this class to zero.\n",
      "  warnings.warn(\n",
      "/usr/local/lib/python3.10/dist-packages/monai/transforms/utils.py:743: UserWarning: no available indices of class 7 to crop, setting the crop ratio of this class to zero.\n",
      "  warnings.warn(\n",
      "/usr/local/lib/python3.10/dist-packages/monai/transforms/utils.py:743: UserWarning: no available indices of class 2 to crop, setting the crop ratio of this class to zero.\n",
      "  warnings.warn(\n",
      "/usr/local/lib/python3.10/dist-packages/monai/transforms/utils.py:743: UserWarning: no available indices of class 7 to crop, setting the crop ratio of this class to zero.\n",
      "  warnings.warn(\n",
      "/usr/local/lib/python3.10/dist-packages/monai/transforms/utils.py:743: UserWarning: no available indices of class 2 to crop, setting the crop ratio of this class to zero.\n",
      "  warnings.warn(\n",
      "/usr/local/lib/python3.10/dist-packages/monai/transforms/utils.py:743: UserWarning: no available indices of class 7 to crop, setting the crop ratio of this class to zero.\n",
      "  warnings.warn(\n"
     ]
    },
    {
     "name": "stdout",
     "output_type": "stream",
     "text": [
      "Batch 1/10, train_loss: 0.6340\n",
      "Batch 2/10, train_loss: 0.6396\n",
      "Batch 3/10, train_loss: 0.6974\n",
      "Batch 4/10, train_loss: 0.6818\n",
      "Batch 5/10, train_loss: 0.6730\n",
      "Batch 6/10, train_loss: 0.6601\n",
      "Batch 7/10, train_loss: 0.7068\n",
      "Batch 8/10, train_loss: 0.6928\n",
      "Batch 9/10, train_loss: 0.6535\n",
      "Batch 10/10, train_loss: 0.7028\n",
      "Epoch 176 average loss: 0.6742\n"
     ]
    },
    {
     "name": "stderr",
     "output_type": "stream",
     "text": [
      "/usr/local/lib/python3.10/dist-packages/monai/transforms/utils.py:743: UserWarning: no available indices of class 2 to crop, setting the crop ratio of this class to zero.\n",
      "  warnings.warn(\n",
      "/usr/local/lib/python3.10/dist-packages/monai/transforms/utils.py:743: UserWarning: no available indices of class 7 to crop, setting the crop ratio of this class to zero.\n",
      "  warnings.warn(\n",
      "/usr/local/lib/python3.10/dist-packages/monai/transforms/utils.py:743: UserWarning: no available indices of class 2 to crop, setting the crop ratio of this class to zero.\n",
      "  warnings.warn(\n",
      "/usr/local/lib/python3.10/dist-packages/monai/transforms/utils.py:743: UserWarning: no available indices of class 7 to crop, setting the crop ratio of this class to zero.\n",
      "  warnings.warn(\n"
     ]
    },
    {
     "name": "stdout",
     "output_type": "stream",
     "text": [
      "current epoch: 176 current mean recall per class: 0.6616, 0, 0.2848, 0.5899, 0.3367, 0.5453, 0\n",
      "best mean recall: 0.4023 at epoch: 152\n",
      "----------\n",
      "Epoch 177/200\n"
     ]
    },
    {
     "name": "stderr",
     "output_type": "stream",
     "text": [
      "/usr/local/lib/python3.10/dist-packages/monai/transforms/utils.py:743: UserWarning: no available indices of class 2 to crop, setting the crop ratio of this class to zero.\n",
      "  warnings.warn(\n",
      "/usr/local/lib/python3.10/dist-packages/monai/transforms/utils.py:743: UserWarning: no available indices of class 7 to crop, setting the crop ratio of this class to zero.\n",
      "  warnings.warn(\n",
      "/usr/local/lib/python3.10/dist-packages/monai/transforms/utils.py:743: UserWarning: no available indices of class 2 to crop, setting the crop ratio of this class to zero.\n",
      "  warnings.warn(\n",
      "/usr/local/lib/python3.10/dist-packages/monai/transforms/utils.py:743: UserWarning: no available indices of class 7 to crop, setting the crop ratio of this class to zero.\n",
      "  warnings.warn(\n",
      "/usr/local/lib/python3.10/dist-packages/monai/transforms/utils.py:743: UserWarning: no available indices of class 2 to crop, setting the crop ratio of this class to zero.\n",
      "  warnings.warn(\n",
      "/usr/local/lib/python3.10/dist-packages/monai/transforms/utils.py:743: UserWarning: no available indices of class 7 to crop, setting the crop ratio of this class to zero.\n",
      "  warnings.warn(\n",
      "/usr/local/lib/python3.10/dist-packages/monai/transforms/utils.py:743: UserWarning: no available indices of class 2 to crop, setting the crop ratio of this class to zero.\n",
      "  warnings.warn(\n",
      "/usr/local/lib/python3.10/dist-packages/monai/transforms/utils.py:743: UserWarning: no available indices of class 7 to crop, setting the crop ratio of this class to zero.\n",
      "  warnings.warn(\n"
     ]
    },
    {
     "name": "stdout",
     "output_type": "stream",
     "text": [
      "Batch 1/10, train_loss: 0.7241\n",
      "Batch 2/10, train_loss: 0.6518\n",
      "Batch 3/10, train_loss: 0.6676\n",
      "Batch 4/10, train_loss: 0.7290\n",
      "Batch 5/10, train_loss: 0.6936\n",
      "Batch 6/10, train_loss: 0.6687\n",
      "Batch 7/10, train_loss: 0.6709\n",
      "Batch 8/10, train_loss: 0.7122\n",
      "Batch 9/10, train_loss: 0.6732\n",
      "Batch 10/10, train_loss: 0.6498\n",
      "Epoch 177 average loss: 0.6841\n",
      "----------\n",
      "Epoch 178/200\n"
     ]
    },
    {
     "name": "stderr",
     "output_type": "stream",
     "text": [
      "/usr/local/lib/python3.10/dist-packages/monai/transforms/utils.py:743: UserWarning: no available indices of class 2 to crop, setting the crop ratio of this class to zero.\n",
      "  warnings.warn(\n",
      "/usr/local/lib/python3.10/dist-packages/monai/transforms/utils.py:743: UserWarning: no available indices of class 7 to crop, setting the crop ratio of this class to zero.\n",
      "  warnings.warn(\n",
      "/usr/local/lib/python3.10/dist-packages/monai/transforms/utils.py:743: UserWarning: no available indices of class 2 to crop, setting the crop ratio of this class to zero.\n",
      "  warnings.warn(\n",
      "/usr/local/lib/python3.10/dist-packages/monai/transforms/utils.py:743: UserWarning: no available indices of class 7 to crop, setting the crop ratio of this class to zero.\n",
      "  warnings.warn(\n",
      "/usr/local/lib/python3.10/dist-packages/monai/transforms/utils.py:743: UserWarning: no available indices of class 2 to crop, setting the crop ratio of this class to zero.\n",
      "  warnings.warn(\n",
      "/usr/local/lib/python3.10/dist-packages/monai/transforms/utils.py:743: UserWarning: no available indices of class 7 to crop, setting the crop ratio of this class to zero.\n",
      "  warnings.warn(\n",
      "/usr/local/lib/python3.10/dist-packages/monai/transforms/utils.py:743: UserWarning: no available indices of class 2 to crop, setting the crop ratio of this class to zero.\n",
      "  warnings.warn(\n",
      "/usr/local/lib/python3.10/dist-packages/monai/transforms/utils.py:743: UserWarning: no available indices of class 7 to crop, setting the crop ratio of this class to zero.\n",
      "  warnings.warn(\n"
     ]
    },
    {
     "name": "stdout",
     "output_type": "stream",
     "text": [
      "Batch 1/10, train_loss: 0.6301\n",
      "Batch 2/10, train_loss: 0.6819\n",
      "Batch 3/10, train_loss: 0.6638\n",
      "Batch 4/10, train_loss: 0.7342\n",
      "Batch 5/10, train_loss: 0.6689\n",
      "Batch 6/10, train_loss: 0.7220\n",
      "Batch 7/10, train_loss: 0.6828\n",
      "Batch 8/10, train_loss: 0.6819\n",
      "Batch 9/10, train_loss: 0.6935\n",
      "Batch 10/10, train_loss: 0.6634\n",
      "Epoch 178 average loss: 0.6823\n"
     ]
    },
    {
     "name": "stderr",
     "output_type": "stream",
     "text": [
      "/usr/local/lib/python3.10/dist-packages/monai/transforms/utils.py:743: UserWarning: no available indices of class 2 to crop, setting the crop ratio of this class to zero.\n",
      "  warnings.warn(\n",
      "/usr/local/lib/python3.10/dist-packages/monai/transforms/utils.py:743: UserWarning: no available indices of class 7 to crop, setting the crop ratio of this class to zero.\n",
      "  warnings.warn(\n",
      "/usr/local/lib/python3.10/dist-packages/monai/transforms/utils.py:743: UserWarning: no available indices of class 2 to crop, setting the crop ratio of this class to zero.\n",
      "  warnings.warn(\n",
      "/usr/local/lib/python3.10/dist-packages/monai/transforms/utils.py:743: UserWarning: no available indices of class 7 to crop, setting the crop ratio of this class to zero.\n",
      "  warnings.warn(\n"
     ]
    },
    {
     "name": "stdout",
     "output_type": "stream",
     "text": [
      "saved new best metric model\n",
      "current epoch: 178 current mean recall per class: 0.7234, 0, 0.4583, 0.772, 0.46, 0.5545, 0\n",
      "best mean recall: 0.4240 at epoch: 178\n",
      "----------\n",
      "Epoch 179/200\n"
     ]
    },
    {
     "name": "stderr",
     "output_type": "stream",
     "text": [
      "/usr/local/lib/python3.10/dist-packages/monai/transforms/utils.py:743: UserWarning: no available indices of class 2 to crop, setting the crop ratio of this class to zero.\n",
      "  warnings.warn(\n",
      "/usr/local/lib/python3.10/dist-packages/monai/transforms/utils.py:743: UserWarning: no available indices of class 7 to crop, setting the crop ratio of this class to zero.\n",
      "  warnings.warn(\n",
      "/usr/local/lib/python3.10/dist-packages/monai/transforms/utils.py:743: UserWarning: no available indices of class 2 to crop, setting the crop ratio of this class to zero.\n",
      "  warnings.warn(\n",
      "/usr/local/lib/python3.10/dist-packages/monai/transforms/utils.py:743: UserWarning: no available indices of class 7 to crop, setting the crop ratio of this class to zero.\n",
      "  warnings.warn(\n",
      "/usr/local/lib/python3.10/dist-packages/monai/transforms/utils.py:743: UserWarning: no available indices of class 2 to crop, setting the crop ratio of this class to zero.\n",
      "  warnings.warn(\n",
      "/usr/local/lib/python3.10/dist-packages/monai/transforms/utils.py:743: UserWarning: no available indices of class 7 to crop, setting the crop ratio of this class to zero.\n",
      "  warnings.warn(\n",
      "/usr/local/lib/python3.10/dist-packages/monai/transforms/utils.py:743: UserWarning: no available indices of class 2 to crop, setting the crop ratio of this class to zero.\n",
      "  warnings.warn(\n",
      "/usr/local/lib/python3.10/dist-packages/monai/transforms/utils.py:743: UserWarning: no available indices of class 7 to crop, setting the crop ratio of this class to zero.\n",
      "  warnings.warn(\n"
     ]
    },
    {
     "name": "stdout",
     "output_type": "stream",
     "text": [
      "Batch 1/10, train_loss: 0.6938\n",
      "Batch 2/10, train_loss: 0.7017\n",
      "Batch 3/10, train_loss: 0.6606\n",
      "Batch 4/10, train_loss: 0.6974\n",
      "Batch 5/10, train_loss: 0.6593\n",
      "Batch 6/10, train_loss: 0.7067\n",
      "Batch 7/10, train_loss: 0.7113\n",
      "Batch 8/10, train_loss: 0.6696\n",
      "Batch 9/10, train_loss: 0.6641\n",
      "Batch 10/10, train_loss: 0.6772\n",
      "Epoch 179 average loss: 0.6842\n",
      "----------\n",
      "Epoch 180/200\n"
     ]
    },
    {
     "name": "stderr",
     "output_type": "stream",
     "text": [
      "/usr/local/lib/python3.10/dist-packages/monai/transforms/utils.py:743: UserWarning: no available indices of class 2 to crop, setting the crop ratio of this class to zero.\n",
      "  warnings.warn(\n",
      "/usr/local/lib/python3.10/dist-packages/monai/transforms/utils.py:743: UserWarning: no available indices of class 7 to crop, setting the crop ratio of this class to zero.\n",
      "  warnings.warn(\n",
      "/usr/local/lib/python3.10/dist-packages/monai/transforms/utils.py:743: UserWarning: no available indices of class 2 to crop, setting the crop ratio of this class to zero.\n",
      "  warnings.warn(\n",
      "/usr/local/lib/python3.10/dist-packages/monai/transforms/utils.py:743: UserWarning: no available indices of class 7 to crop, setting the crop ratio of this class to zero.\n",
      "  warnings.warn(\n",
      "/usr/local/lib/python3.10/dist-packages/monai/transforms/utils.py:743: UserWarning: no available indices of class 2 to crop, setting the crop ratio of this class to zero.\n",
      "  warnings.warn(\n",
      "/usr/local/lib/python3.10/dist-packages/monai/transforms/utils.py:743: UserWarning: no available indices of class 2 to crop, setting the crop ratio of this class to zero.\n",
      "  warnings.warn(\n",
      "/usr/local/lib/python3.10/dist-packages/monai/transforms/utils.py:743: UserWarning: no available indices of class 7 to crop, setting the crop ratio of this class to zero.\n",
      "  warnings.warn(\n",
      "/usr/local/lib/python3.10/dist-packages/monai/transforms/utils.py:743: UserWarning: no available indices of class 7 to crop, setting the crop ratio of this class to zero.\n",
      "  warnings.warn(\n"
     ]
    },
    {
     "name": "stdout",
     "output_type": "stream",
     "text": [
      "Batch 1/10, train_loss: 0.7028\n",
      "Batch 2/10, train_loss: 0.6969\n",
      "Batch 3/10, train_loss: 0.6936\n",
      "Batch 4/10, train_loss: 0.7018\n",
      "Batch 5/10, train_loss: 0.6527\n",
      "Batch 6/10, train_loss: 0.6676\n",
      "Batch 7/10, train_loss: 0.6713\n",
      "Batch 8/10, train_loss: 0.7195\n",
      "Batch 9/10, train_loss: 0.6825\n",
      "Batch 10/10, train_loss: 0.7113\n",
      "Epoch 180 average loss: 0.6900\n"
     ]
    },
    {
     "name": "stderr",
     "output_type": "stream",
     "text": [
      "/usr/local/lib/python3.10/dist-packages/monai/transforms/utils.py:743: UserWarning: no available indices of class 2 to crop, setting the crop ratio of this class to zero.\n",
      "  warnings.warn(\n",
      "/usr/local/lib/python3.10/dist-packages/monai/transforms/utils.py:743: UserWarning: no available indices of class 7 to crop, setting the crop ratio of this class to zero.\n",
      "  warnings.warn(\n",
      "/usr/local/lib/python3.10/dist-packages/monai/transforms/utils.py:743: UserWarning: no available indices of class 2 to crop, setting the crop ratio of this class to zero.\n",
      "  warnings.warn(\n",
      "/usr/local/lib/python3.10/dist-packages/monai/transforms/utils.py:743: UserWarning: no available indices of class 7 to crop, setting the crop ratio of this class to zero.\n",
      "  warnings.warn(\n"
     ]
    },
    {
     "name": "stdout",
     "output_type": "stream",
     "text": [
      "current epoch: 180 current mean recall per class: 0.7546, 0, 0.3723, 0.6955, 0.2971, 0.5661, 0\n",
      "best mean recall: 0.4240 at epoch: 178\n",
      "----------\n",
      "Epoch 181/200\n"
     ]
    },
    {
     "name": "stderr",
     "output_type": "stream",
     "text": [
      "/usr/local/lib/python3.10/dist-packages/monai/transforms/utils.py:743: UserWarning: no available indices of class 2 to crop, setting the crop ratio of this class to zero.\n",
      "  warnings.warn(\n",
      "/usr/local/lib/python3.10/dist-packages/monai/transforms/utils.py:743: UserWarning: no available indices of class 7 to crop, setting the crop ratio of this class to zero.\n",
      "  warnings.warn(\n",
      "/usr/local/lib/python3.10/dist-packages/monai/transforms/utils.py:743: UserWarning: no available indices of class 2 to crop, setting the crop ratio of this class to zero.\n",
      "  warnings.warn(\n",
      "/usr/local/lib/python3.10/dist-packages/monai/transforms/utils.py:743: UserWarning: no available indices of class 7 to crop, setting the crop ratio of this class to zero.\n",
      "  warnings.warn(\n",
      "/usr/local/lib/python3.10/dist-packages/monai/transforms/utils.py:743: UserWarning: no available indices of class 2 to crop, setting the crop ratio of this class to zero.\n",
      "  warnings.warn(\n",
      "/usr/local/lib/python3.10/dist-packages/monai/transforms/utils.py:743: UserWarning: no available indices of class 2 to crop, setting the crop ratio of this class to zero.\n",
      "  warnings.warn(\n",
      "/usr/local/lib/python3.10/dist-packages/monai/transforms/utils.py:743: UserWarning: no available indices of class 7 to crop, setting the crop ratio of this class to zero.\n",
      "  warnings.warn(\n",
      "/usr/local/lib/python3.10/dist-packages/monai/transforms/utils.py:743: UserWarning: no available indices of class 7 to crop, setting the crop ratio of this class to zero.\n",
      "  warnings.warn(\n"
     ]
    },
    {
     "name": "stdout",
     "output_type": "stream",
     "text": [
      "Batch 1/10, train_loss: 0.6458\n",
      "Batch 2/10, train_loss: 0.7143\n",
      "Batch 3/10, train_loss: 0.7040\n",
      "Batch 4/10, train_loss: 0.7179\n",
      "Batch 5/10, train_loss: 0.6617\n",
      "Batch 6/10, train_loss: 0.6860\n",
      "Batch 7/10, train_loss: 0.6667\n",
      "Batch 8/10, train_loss: 0.7262\n",
      "Batch 9/10, train_loss: 0.7041\n",
      "Batch 10/10, train_loss: 0.7301\n",
      "Epoch 181 average loss: 0.6957\n",
      "----------\n",
      "Epoch 182/200\n"
     ]
    },
    {
     "name": "stderr",
     "output_type": "stream",
     "text": [
      "/usr/local/lib/python3.10/dist-packages/monai/transforms/utils.py:743: UserWarning: no available indices of class 2 to crop, setting the crop ratio of this class to zero.\n",
      "  warnings.warn(\n",
      "/usr/local/lib/python3.10/dist-packages/monai/transforms/utils.py:743: UserWarning: no available indices of class 7 to crop, setting the crop ratio of this class to zero.\n",
      "  warnings.warn(\n",
      "/usr/local/lib/python3.10/dist-packages/monai/transforms/utils.py:743: UserWarning: no available indices of class 2 to crop, setting the crop ratio of this class to zero.\n",
      "  warnings.warn(\n",
      "/usr/local/lib/python3.10/dist-packages/monai/transforms/utils.py:743: UserWarning: no available indices of class 2 to crop, setting the crop ratio of this class to zero.\n",
      "  warnings.warn(\n",
      "/usr/local/lib/python3.10/dist-packages/monai/transforms/utils.py:743: UserWarning: no available indices of class 7 to crop, setting the crop ratio of this class to zero.\n",
      "  warnings.warn(\n",
      "/usr/local/lib/python3.10/dist-packages/monai/transforms/utils.py:743: UserWarning: no available indices of class 7 to crop, setting the crop ratio of this class to zero.\n",
      "  warnings.warn(\n",
      "/usr/local/lib/python3.10/dist-packages/monai/transforms/utils.py:743: UserWarning: no available indices of class 2 to crop, setting the crop ratio of this class to zero.\n",
      "  warnings.warn(\n",
      "/usr/local/lib/python3.10/dist-packages/monai/transforms/utils.py:743: UserWarning: no available indices of class 7 to crop, setting the crop ratio of this class to zero.\n",
      "  warnings.warn(\n"
     ]
    },
    {
     "name": "stdout",
     "output_type": "stream",
     "text": [
      "Batch 1/10, train_loss: 0.6485\n",
      "Batch 2/10, train_loss: 0.6980\n",
      "Batch 3/10, train_loss: 0.6793\n",
      "Batch 4/10, train_loss: 0.6759\n",
      "Batch 5/10, train_loss: 0.7152\n",
      "Batch 6/10, train_loss: 0.6664\n",
      "Batch 7/10, train_loss: 0.6901\n",
      "Batch 8/10, train_loss: 0.6858\n",
      "Batch 9/10, train_loss: 0.6981\n",
      "Batch 10/10, train_loss: 0.6674\n",
      "Epoch 182 average loss: 0.6825\n"
     ]
    },
    {
     "name": "stderr",
     "output_type": "stream",
     "text": [
      "/usr/local/lib/python3.10/dist-packages/monai/transforms/utils.py:743: UserWarning: no available indices of class 2 to crop, setting the crop ratio of this class to zero.\n",
      "  warnings.warn(\n",
      "/usr/local/lib/python3.10/dist-packages/monai/transforms/utils.py:743: UserWarning: no available indices of class 7 to crop, setting the crop ratio of this class to zero.\n",
      "  warnings.warn(\n",
      "/usr/local/lib/python3.10/dist-packages/monai/transforms/utils.py:743: UserWarning: no available indices of class 2 to crop, setting the crop ratio of this class to zero.\n",
      "  warnings.warn(\n",
      "/usr/local/lib/python3.10/dist-packages/monai/transforms/utils.py:743: UserWarning: no available indices of class 7 to crop, setting the crop ratio of this class to zero.\n",
      "  warnings.warn(\n"
     ]
    },
    {
     "name": "stdout",
     "output_type": "stream",
     "text": [
      "current epoch: 182 current mean recall per class: 0.7259, 0, 0.3952, 0.6454, 0.4038, 0.5095, 0\n",
      "best mean recall: 0.4240 at epoch: 178\n",
      "----------\n",
      "Epoch 183/200\n"
     ]
    },
    {
     "name": "stderr",
     "output_type": "stream",
     "text": [
      "/usr/local/lib/python3.10/dist-packages/monai/transforms/utils.py:743: UserWarning: no available indices of class 2 to crop, setting the crop ratio of this class to zero.\n",
      "  warnings.warn(\n",
      "/usr/local/lib/python3.10/dist-packages/monai/transforms/utils.py:743: UserWarning: no available indices of class 7 to crop, setting the crop ratio of this class to zero.\n",
      "  warnings.warn(\n",
      "/usr/local/lib/python3.10/dist-packages/monai/transforms/utils.py:743: UserWarning: no available indices of class 2 to crop, setting the crop ratio of this class to zero.\n",
      "  warnings.warn(\n",
      "/usr/local/lib/python3.10/dist-packages/monai/transforms/utils.py:743: UserWarning: no available indices of class 7 to crop, setting the crop ratio of this class to zero.\n",
      "  warnings.warn(\n",
      "/usr/local/lib/python3.10/dist-packages/monai/transforms/utils.py:743: UserWarning: no available indices of class 2 to crop, setting the crop ratio of this class to zero.\n",
      "  warnings.warn(\n",
      "/usr/local/lib/python3.10/dist-packages/monai/transforms/utils.py:743: UserWarning: no available indices of class 2 to crop, setting the crop ratio of this class to zero.\n",
      "  warnings.warn(\n",
      "/usr/local/lib/python3.10/dist-packages/monai/transforms/utils.py:743: UserWarning: no available indices of class 7 to crop, setting the crop ratio of this class to zero.\n",
      "  warnings.warn(\n",
      "/usr/local/lib/python3.10/dist-packages/monai/transforms/utils.py:743: UserWarning: no available indices of class 7 to crop, setting the crop ratio of this class to zero.\n",
      "  warnings.warn(\n"
     ]
    },
    {
     "name": "stdout",
     "output_type": "stream",
     "text": [
      "Batch 1/10, train_loss: 0.6462\n",
      "Batch 2/10, train_loss: 0.7142\n",
      "Batch 3/10, train_loss: 0.6632\n",
      "Batch 4/10, train_loss: 0.6775\n",
      "Batch 5/10, train_loss: 0.6832\n",
      "Batch 6/10, train_loss: 0.6731\n",
      "Batch 7/10, train_loss: 0.7032\n",
      "Batch 8/10, train_loss: 0.6939\n",
      "Batch 9/10, train_loss: 0.6918\n",
      "Batch 10/10, train_loss: 0.6127\n",
      "Epoch 183 average loss: 0.6759\n",
      "----------\n",
      "Epoch 184/200\n"
     ]
    },
    {
     "name": "stderr",
     "output_type": "stream",
     "text": [
      "/usr/local/lib/python3.10/dist-packages/monai/transforms/utils.py:743: UserWarning: no available indices of class 2 to crop, setting the crop ratio of this class to zero.\n",
      "  warnings.warn(\n",
      "/usr/local/lib/python3.10/dist-packages/monai/transforms/utils.py:743: UserWarning: no available indices of class 7 to crop, setting the crop ratio of this class to zero.\n",
      "  warnings.warn(\n",
      "/usr/local/lib/python3.10/dist-packages/monai/transforms/utils.py:743: UserWarning: no available indices of class 2 to crop, setting the crop ratio of this class to zero.\n",
      "  warnings.warn(\n",
      "/usr/local/lib/python3.10/dist-packages/monai/transforms/utils.py:743: UserWarning: no available indices of class 7 to crop, setting the crop ratio of this class to zero.\n",
      "  warnings.warn(\n",
      "/usr/local/lib/python3.10/dist-packages/monai/transforms/utils.py:743: UserWarning: no available indices of class 2 to crop, setting the crop ratio of this class to zero.\n",
      "  warnings.warn(\n",
      "/usr/local/lib/python3.10/dist-packages/monai/transforms/utils.py:743: UserWarning: no available indices of class 7 to crop, setting the crop ratio of this class to zero.\n",
      "  warnings.warn(\n",
      "/usr/local/lib/python3.10/dist-packages/monai/transforms/utils.py:743: UserWarning: no available indices of class 2 to crop, setting the crop ratio of this class to zero.\n",
      "  warnings.warn(\n",
      "/usr/local/lib/python3.10/dist-packages/monai/transforms/utils.py:743: UserWarning: no available indices of class 7 to crop, setting the crop ratio of this class to zero.\n",
      "  warnings.warn(\n"
     ]
    },
    {
     "name": "stdout",
     "output_type": "stream",
     "text": [
      "Batch 1/10, train_loss: 0.6938\n",
      "Batch 2/10, train_loss: 0.7115\n",
      "Batch 3/10, train_loss: 0.7094\n",
      "Batch 4/10, train_loss: 0.7023\n",
      "Batch 5/10, train_loss: 0.6901\n",
      "Batch 6/10, train_loss: 0.6761\n",
      "Batch 7/10, train_loss: 0.6684\n",
      "Batch 8/10, train_loss: 0.6396\n",
      "Batch 9/10, train_loss: 0.6699\n",
      "Batch 10/10, train_loss: 0.7014\n",
      "Epoch 184 average loss: 0.6863\n"
     ]
    },
    {
     "name": "stderr",
     "output_type": "stream",
     "text": [
      "/usr/local/lib/python3.10/dist-packages/monai/transforms/utils.py:743: UserWarning: no available indices of class 2 to crop, setting the crop ratio of this class to zero.\n",
      "  warnings.warn(\n",
      "/usr/local/lib/python3.10/dist-packages/monai/transforms/utils.py:743: UserWarning: no available indices of class 2 to crop, setting the crop ratio of this class to zero.\n",
      "  warnings.warn(\n",
      "/usr/local/lib/python3.10/dist-packages/monai/transforms/utils.py:743: UserWarning: no available indices of class 7 to crop, setting the crop ratio of this class to zero.\n",
      "  warnings.warn(\n",
      "/usr/local/lib/python3.10/dist-packages/monai/transforms/utils.py:743: UserWarning: no available indices of class 7 to crop, setting the crop ratio of this class to zero.\n",
      "  warnings.warn(\n"
     ]
    },
    {
     "name": "stdout",
     "output_type": "stream",
     "text": [
      "current epoch: 184 current mean recall per class: 0.7031, 0, 0.3561, 0.6312, 0.4124, 0.515, 0\n",
      "best mean recall: 0.4240 at epoch: 178\n",
      "----------\n",
      "Epoch 185/200\n"
     ]
    },
    {
     "name": "stderr",
     "output_type": "stream",
     "text": [
      "/usr/local/lib/python3.10/dist-packages/monai/transforms/utils.py:743: UserWarning: no available indices of class 2 to crop, setting the crop ratio of this class to zero.\n",
      "  warnings.warn(\n",
      "/usr/local/lib/python3.10/dist-packages/monai/transforms/utils.py:743: UserWarning: no available indices of class 7 to crop, setting the crop ratio of this class to zero.\n",
      "  warnings.warn(\n",
      "/usr/local/lib/python3.10/dist-packages/monai/transforms/utils.py:743: UserWarning: no available indices of class 2 to crop, setting the crop ratio of this class to zero.\n",
      "  warnings.warn(\n",
      "/usr/local/lib/python3.10/dist-packages/monai/transforms/utils.py:743: UserWarning: no available indices of class 7 to crop, setting the crop ratio of this class to zero.\n",
      "  warnings.warn(\n",
      "/usr/local/lib/python3.10/dist-packages/monai/transforms/utils.py:743: UserWarning: no available indices of class 2 to crop, setting the crop ratio of this class to zero.\n",
      "  warnings.warn(\n",
      "/usr/local/lib/python3.10/dist-packages/monai/transforms/utils.py:743: UserWarning: no available indices of class 7 to crop, setting the crop ratio of this class to zero.\n",
      "  warnings.warn(\n",
      "/usr/local/lib/python3.10/dist-packages/monai/transforms/utils.py:743: UserWarning: no available indices of class 2 to crop, setting the crop ratio of this class to zero.\n",
      "  warnings.warn(\n",
      "/usr/local/lib/python3.10/dist-packages/monai/transforms/utils.py:743: UserWarning: no available indices of class 7 to crop, setting the crop ratio of this class to zero.\n",
      "  warnings.warn(\n"
     ]
    },
    {
     "name": "stdout",
     "output_type": "stream",
     "text": [
      "Batch 1/10, train_loss: 0.6860\n",
      "Batch 2/10, train_loss: 0.5954\n",
      "Batch 3/10, train_loss: 0.6648\n",
      "Batch 4/10, train_loss: 0.7223\n",
      "Batch 5/10, train_loss: 0.6668\n",
      "Batch 6/10, train_loss: 0.6904\n",
      "Batch 7/10, train_loss: 0.7148\n",
      "Batch 8/10, train_loss: 0.6419\n",
      "Batch 9/10, train_loss: 0.7107\n",
      "Batch 10/10, train_loss: 0.6770\n",
      "Epoch 185 average loss: 0.6770\n",
      "----------\n",
      "Epoch 186/200\n"
     ]
    },
    {
     "name": "stderr",
     "output_type": "stream",
     "text": [
      "/usr/local/lib/python3.10/dist-packages/monai/transforms/utils.py:743: UserWarning: no available indices of class 2 to crop, setting the crop ratio of this class to zero.\n",
      "  warnings.warn(\n",
      "/usr/local/lib/python3.10/dist-packages/monai/transforms/utils.py:743: UserWarning: no available indices of class 7 to crop, setting the crop ratio of this class to zero.\n",
      "  warnings.warn(\n",
      "/usr/local/lib/python3.10/dist-packages/monai/transforms/utils.py:743: UserWarning: no available indices of class 2 to crop, setting the crop ratio of this class to zero.\n",
      "  warnings.warn(\n",
      "/usr/local/lib/python3.10/dist-packages/monai/transforms/utils.py:743: UserWarning: no available indices of class 7 to crop, setting the crop ratio of this class to zero.\n",
      "  warnings.warn(\n",
      "/usr/local/lib/python3.10/dist-packages/monai/transforms/utils.py:743: UserWarning: no available indices of class 2 to crop, setting the crop ratio of this class to zero.\n",
      "  warnings.warn(\n",
      "/usr/local/lib/python3.10/dist-packages/monai/transforms/utils.py:743: UserWarning: no available indices of class 7 to crop, setting the crop ratio of this class to zero.\n",
      "  warnings.warn(\n",
      "/usr/local/lib/python3.10/dist-packages/monai/transforms/utils.py:743: UserWarning: no available indices of class 2 to crop, setting the crop ratio of this class to zero.\n",
      "  warnings.warn(\n",
      "/usr/local/lib/python3.10/dist-packages/monai/transforms/utils.py:743: UserWarning: no available indices of class 7 to crop, setting the crop ratio of this class to zero.\n",
      "  warnings.warn(\n"
     ]
    },
    {
     "name": "stdout",
     "output_type": "stream",
     "text": [
      "Batch 1/10, train_loss: 0.6603\n",
      "Batch 2/10, train_loss: 0.6460\n",
      "Batch 3/10, train_loss: 0.6600\n",
      "Batch 4/10, train_loss: 0.7258\n",
      "Batch 5/10, train_loss: 0.6885\n",
      "Batch 6/10, train_loss: 0.6801\n",
      "Batch 7/10, train_loss: 0.6981\n",
      "Batch 8/10, train_loss: 0.6843\n",
      "Batch 9/10, train_loss: 0.6779\n",
      "Batch 10/10, train_loss: 0.6986\n",
      "Epoch 186 average loss: 0.6820\n"
     ]
    },
    {
     "name": "stderr",
     "output_type": "stream",
     "text": [
      "/usr/local/lib/python3.10/dist-packages/monai/transforms/utils.py:743: UserWarning: no available indices of class 2 to crop, setting the crop ratio of this class to zero.\n",
      "  warnings.warn(\n",
      "/usr/local/lib/python3.10/dist-packages/monai/transforms/utils.py:743: UserWarning: no available indices of class 7 to crop, setting the crop ratio of this class to zero.\n",
      "  warnings.warn(\n",
      "/usr/local/lib/python3.10/dist-packages/monai/transforms/utils.py:743: UserWarning: no available indices of class 2 to crop, setting the crop ratio of this class to zero.\n",
      "  warnings.warn(\n",
      "/usr/local/lib/python3.10/dist-packages/monai/transforms/utils.py:743: UserWarning: no available indices of class 7 to crop, setting the crop ratio of this class to zero.\n",
      "  warnings.warn(\n"
     ]
    },
    {
     "name": "stdout",
     "output_type": "stream",
     "text": [
      "current epoch: 186 current mean recall per class: 0.7456, 0, 0.4512, 0.7059, 0.3097, 0.5393, 0\n",
      "best mean recall: 0.4240 at epoch: 178\n",
      "----------\n",
      "Epoch 187/200\n"
     ]
    },
    {
     "name": "stderr",
     "output_type": "stream",
     "text": [
      "/usr/local/lib/python3.10/dist-packages/monai/transforms/utils.py:743: UserWarning: no available indices of class 2 to crop, setting the crop ratio of this class to zero.\n",
      "  warnings.warn(\n",
      "/usr/local/lib/python3.10/dist-packages/monai/transforms/utils.py:743: UserWarning: no available indices of class 7 to crop, setting the crop ratio of this class to zero.\n",
      "  warnings.warn(\n",
      "/usr/local/lib/python3.10/dist-packages/monai/transforms/utils.py:743: UserWarning: no available indices of class 2 to crop, setting the crop ratio of this class to zero.\n",
      "  warnings.warn(\n",
      "/usr/local/lib/python3.10/dist-packages/monai/transforms/utils.py:743: UserWarning: no available indices of class 7 to crop, setting the crop ratio of this class to zero.\n",
      "  warnings.warn(\n",
      "/usr/local/lib/python3.10/dist-packages/monai/transforms/utils.py:743: UserWarning: no available indices of class 2 to crop, setting the crop ratio of this class to zero.\n",
      "  warnings.warn(\n",
      "/usr/local/lib/python3.10/dist-packages/monai/transforms/utils.py:743: UserWarning: no available indices of class 7 to crop, setting the crop ratio of this class to zero.\n",
      "  warnings.warn(\n",
      "/usr/local/lib/python3.10/dist-packages/monai/transforms/utils.py:743: UserWarning: no available indices of class 2 to crop, setting the crop ratio of this class to zero.\n",
      "  warnings.warn(\n",
      "/usr/local/lib/python3.10/dist-packages/monai/transforms/utils.py:743: UserWarning: no available indices of class 7 to crop, setting the crop ratio of this class to zero.\n",
      "  warnings.warn(\n"
     ]
    },
    {
     "name": "stdout",
     "output_type": "stream",
     "text": [
      "Batch 1/10, train_loss: 0.6755\n",
      "Batch 2/10, train_loss: 0.7476\n",
      "Batch 3/10, train_loss: 0.6688\n",
      "Batch 4/10, train_loss: 0.7319\n",
      "Batch 5/10, train_loss: 0.6309\n",
      "Batch 6/10, train_loss: 0.6769\n",
      "Batch 7/10, train_loss: 0.6679\n",
      "Batch 8/10, train_loss: 0.6891\n",
      "Batch 9/10, train_loss: 0.6590\n",
      "Batch 10/10, train_loss: 0.6688\n",
      "Epoch 187 average loss: 0.6816\n",
      "----------\n",
      "Epoch 188/200\n"
     ]
    },
    {
     "name": "stderr",
     "output_type": "stream",
     "text": [
      "/usr/local/lib/python3.10/dist-packages/monai/transforms/utils.py:743: UserWarning: no available indices of class 2 to crop, setting the crop ratio of this class to zero.\n",
      "  warnings.warn(\n",
      "/usr/local/lib/python3.10/dist-packages/monai/transforms/utils.py:743: UserWarning: no available indices of class 7 to crop, setting the crop ratio of this class to zero.\n",
      "  warnings.warn(\n",
      "/usr/local/lib/python3.10/dist-packages/monai/transforms/utils.py:743: UserWarning: no available indices of class 2 to crop, setting the crop ratio of this class to zero.\n",
      "  warnings.warn(\n",
      "/usr/local/lib/python3.10/dist-packages/monai/transforms/utils.py:743: UserWarning: no available indices of class 7 to crop, setting the crop ratio of this class to zero.\n",
      "  warnings.warn(\n",
      "/usr/local/lib/python3.10/dist-packages/monai/transforms/utils.py:743: UserWarning: no available indices of class 2 to crop, setting the crop ratio of this class to zero.\n",
      "  warnings.warn(\n",
      "/usr/local/lib/python3.10/dist-packages/monai/transforms/utils.py:743: UserWarning: no available indices of class 7 to crop, setting the crop ratio of this class to zero.\n",
      "  warnings.warn(\n",
      "/usr/local/lib/python3.10/dist-packages/monai/transforms/utils.py:743: UserWarning: no available indices of class 2 to crop, setting the crop ratio of this class to zero.\n",
      "  warnings.warn(\n",
      "/usr/local/lib/python3.10/dist-packages/monai/transforms/utils.py:743: UserWarning: no available indices of class 7 to crop, setting the crop ratio of this class to zero.\n",
      "  warnings.warn(\n"
     ]
    },
    {
     "name": "stdout",
     "output_type": "stream",
     "text": [
      "Batch 1/10, train_loss: 0.6978\n",
      "Batch 2/10, train_loss: 0.7011\n",
      "Batch 3/10, train_loss: 0.6684\n",
      "Batch 4/10, train_loss: 0.6502\n",
      "Batch 5/10, train_loss: 0.7006\n",
      "Batch 6/10, train_loss: 0.6773\n",
      "Batch 7/10, train_loss: 0.6688\n",
      "Batch 8/10, train_loss: 0.6604\n",
      "Batch 9/10, train_loss: 0.6839\n",
      "Batch 10/10, train_loss: 0.6713\n",
      "Epoch 188 average loss: 0.6780\n"
     ]
    },
    {
     "name": "stderr",
     "output_type": "stream",
     "text": [
      "/usr/local/lib/python3.10/dist-packages/monai/transforms/utils.py:743: UserWarning: no available indices of class 2 to crop, setting the crop ratio of this class to zero.\n",
      "  warnings.warn(\n",
      "/usr/local/lib/python3.10/dist-packages/monai/transforms/utils.py:743: UserWarning: no available indices of class 7 to crop, setting the crop ratio of this class to zero.\n",
      "  warnings.warn(\n",
      "/usr/local/lib/python3.10/dist-packages/monai/transforms/utils.py:743: UserWarning: no available indices of class 2 to crop, setting the crop ratio of this class to zero.\n",
      "  warnings.warn(\n",
      "/usr/local/lib/python3.10/dist-packages/monai/transforms/utils.py:743: UserWarning: no available indices of class 7 to crop, setting the crop ratio of this class to zero.\n",
      "  warnings.warn(\n"
     ]
    },
    {
     "name": "stdout",
     "output_type": "stream",
     "text": [
      "current epoch: 188 current mean recall per class: 0.7494, 0, 0.3932, 0.6112, 0.432, 0.4598, 0\n",
      "best mean recall: 0.4240 at epoch: 178\n",
      "----------\n",
      "Epoch 189/200\n"
     ]
    },
    {
     "name": "stderr",
     "output_type": "stream",
     "text": [
      "/usr/local/lib/python3.10/dist-packages/monai/transforms/utils.py:743: UserWarning: no available indices of class 2 to crop, setting the crop ratio of this class to zero.\n",
      "  warnings.warn(\n",
      "/usr/local/lib/python3.10/dist-packages/monai/transforms/utils.py:743: UserWarning: no available indices of class 7 to crop, setting the crop ratio of this class to zero.\n",
      "  warnings.warn(\n",
      "/usr/local/lib/python3.10/dist-packages/monai/transforms/utils.py:743: UserWarning: no available indices of class 2 to crop, setting the crop ratio of this class to zero.\n",
      "  warnings.warn(\n",
      "/usr/local/lib/python3.10/dist-packages/monai/transforms/utils.py:743: UserWarning: no available indices of class 7 to crop, setting the crop ratio of this class to zero.\n",
      "  warnings.warn(\n",
      "/usr/local/lib/python3.10/dist-packages/monai/transforms/utils.py:743: UserWarning: no available indices of class 2 to crop, setting the crop ratio of this class to zero.\n",
      "  warnings.warn(\n",
      "/usr/local/lib/python3.10/dist-packages/monai/transforms/utils.py:743: UserWarning: no available indices of class 7 to crop, setting the crop ratio of this class to zero.\n",
      "  warnings.warn(\n",
      "/usr/local/lib/python3.10/dist-packages/monai/transforms/utils.py:743: UserWarning: no available indices of class 2 to crop, setting the crop ratio of this class to zero.\n",
      "  warnings.warn(\n",
      "/usr/local/lib/python3.10/dist-packages/monai/transforms/utils.py:743: UserWarning: no available indices of class 7 to crop, setting the crop ratio of this class to zero.\n",
      "  warnings.warn(\n"
     ]
    },
    {
     "name": "stdout",
     "output_type": "stream",
     "text": [
      "Batch 1/10, train_loss: 0.6670\n",
      "Batch 2/10, train_loss: 0.6846\n",
      "Batch 3/10, train_loss: 0.6965\n",
      "Batch 4/10, train_loss: 0.6954\n",
      "Batch 5/10, train_loss: 0.6757\n",
      "Batch 6/10, train_loss: 0.6276\n",
      "Batch 7/10, train_loss: 0.6903\n",
      "Batch 8/10, train_loss: 0.6964\n",
      "Batch 9/10, train_loss: 0.7089\n",
      "Batch 10/10, train_loss: 0.6760\n",
      "Epoch 189 average loss: 0.6818\n",
      "----------\n",
      "Epoch 190/200\n"
     ]
    },
    {
     "name": "stderr",
     "output_type": "stream",
     "text": [
      "/usr/local/lib/python3.10/dist-packages/monai/transforms/utils.py:743: UserWarning: no available indices of class 2 to crop, setting the crop ratio of this class to zero.\n",
      "  warnings.warn(\n",
      "/usr/local/lib/python3.10/dist-packages/monai/transforms/utils.py:743: UserWarning: no available indices of class 7 to crop, setting the crop ratio of this class to zero.\n",
      "  warnings.warn(\n",
      "/usr/local/lib/python3.10/dist-packages/monai/transforms/utils.py:743: UserWarning: no available indices of class 2 to crop, setting the crop ratio of this class to zero.\n",
      "  warnings.warn(\n",
      "/usr/local/lib/python3.10/dist-packages/monai/transforms/utils.py:743: UserWarning: no available indices of class 7 to crop, setting the crop ratio of this class to zero.\n",
      "  warnings.warn(\n",
      "/usr/local/lib/python3.10/dist-packages/monai/transforms/utils.py:743: UserWarning: no available indices of class 2 to crop, setting the crop ratio of this class to zero.\n",
      "  warnings.warn(\n",
      "/usr/local/lib/python3.10/dist-packages/monai/transforms/utils.py:743: UserWarning: no available indices of class 2 to crop, setting the crop ratio of this class to zero.\n",
      "  warnings.warn(\n",
      "/usr/local/lib/python3.10/dist-packages/monai/transforms/utils.py:743: UserWarning: no available indices of class 7 to crop, setting the crop ratio of this class to zero.\n",
      "  warnings.warn(\n",
      "/usr/local/lib/python3.10/dist-packages/monai/transforms/utils.py:743: UserWarning: no available indices of class 7 to crop, setting the crop ratio of this class to zero.\n",
      "  warnings.warn(\n"
     ]
    },
    {
     "name": "stdout",
     "output_type": "stream",
     "text": [
      "Batch 1/10, train_loss: 0.6555\n",
      "Batch 2/10, train_loss: 0.6757\n",
      "Batch 3/10, train_loss: 0.7213\n",
      "Batch 4/10, train_loss: 0.6562\n",
      "Batch 5/10, train_loss: 0.6563\n",
      "Batch 6/10, train_loss: 0.6901\n",
      "Batch 7/10, train_loss: 0.6930\n",
      "Batch 8/10, train_loss: 0.6900\n",
      "Batch 9/10, train_loss: 0.6805\n",
      "Batch 10/10, train_loss: 0.7234\n",
      "Epoch 190 average loss: 0.6842\n"
     ]
    },
    {
     "name": "stderr",
     "output_type": "stream",
     "text": [
      "/usr/local/lib/python3.10/dist-packages/monai/transforms/utils.py:743: UserWarning: no available indices of class 2 to crop, setting the crop ratio of this class to zero.\n",
      "  warnings.warn(\n",
      "/usr/local/lib/python3.10/dist-packages/monai/transforms/utils.py:743: UserWarning: no available indices of class 7 to crop, setting the crop ratio of this class to zero.\n",
      "  warnings.warn(\n",
      "/usr/local/lib/python3.10/dist-packages/monai/transforms/utils.py:743: UserWarning: no available indices of class 2 to crop, setting the crop ratio of this class to zero.\n",
      "  warnings.warn(\n",
      "/usr/local/lib/python3.10/dist-packages/monai/transforms/utils.py:743: UserWarning: no available indices of class 7 to crop, setting the crop ratio of this class to zero.\n",
      "  warnings.warn(\n"
     ]
    },
    {
     "name": "stdout",
     "output_type": "stream",
     "text": [
      "current epoch: 190 current mean recall per class: 0.7173, 0, 0.2833, 0.5903, 0.3678, 0.439, 0\n",
      "best mean recall: 0.4240 at epoch: 178\n",
      "----------\n",
      "Epoch 191/200\n"
     ]
    },
    {
     "name": "stderr",
     "output_type": "stream",
     "text": [
      "/usr/local/lib/python3.10/dist-packages/monai/transforms/utils.py:743: UserWarning: no available indices of class 2 to crop, setting the crop ratio of this class to zero.\n",
      "  warnings.warn(\n",
      "/usr/local/lib/python3.10/dist-packages/monai/transforms/utils.py:743: UserWarning: no available indices of class 7 to crop, setting the crop ratio of this class to zero.\n",
      "  warnings.warn(\n",
      "/usr/local/lib/python3.10/dist-packages/monai/transforms/utils.py:743: UserWarning: no available indices of class 2 to crop, setting the crop ratio of this class to zero.\n",
      "  warnings.warn(\n",
      "/usr/local/lib/python3.10/dist-packages/monai/transforms/utils.py:743: UserWarning: no available indices of class 7 to crop, setting the crop ratio of this class to zero.\n",
      "  warnings.warn(\n",
      "/usr/local/lib/python3.10/dist-packages/monai/transforms/utils.py:743: UserWarning: no available indices of class 2 to crop, setting the crop ratio of this class to zero.\n",
      "  warnings.warn(\n",
      "/usr/local/lib/python3.10/dist-packages/monai/transforms/utils.py:743: UserWarning: no available indices of class 7 to crop, setting the crop ratio of this class to zero.\n",
      "  warnings.warn(\n",
      "/usr/local/lib/python3.10/dist-packages/monai/transforms/utils.py:743: UserWarning: no available indices of class 2 to crop, setting the crop ratio of this class to zero.\n",
      "  warnings.warn(\n",
      "/usr/local/lib/python3.10/dist-packages/monai/transforms/utils.py:743: UserWarning: no available indices of class 7 to crop, setting the crop ratio of this class to zero.\n",
      "  warnings.warn(\n"
     ]
    },
    {
     "name": "stdout",
     "output_type": "stream",
     "text": [
      "Batch 1/10, train_loss: 0.6841\n",
      "Batch 2/10, train_loss: 0.6297\n",
      "Batch 3/10, train_loss: 0.6178\n",
      "Batch 4/10, train_loss: 0.6898\n",
      "Batch 5/10, train_loss: 0.6625\n",
      "Batch 6/10, train_loss: 0.6770\n",
      "Batch 7/10, train_loss: 0.7269\n",
      "Batch 8/10, train_loss: 0.6734\n",
      "Batch 9/10, train_loss: 0.6757\n",
      "Batch 10/10, train_loss: 0.6728\n",
      "Epoch 191 average loss: 0.6710\n",
      "----------\n",
      "Epoch 192/200\n"
     ]
    },
    {
     "name": "stderr",
     "output_type": "stream",
     "text": [
      "/usr/local/lib/python3.10/dist-packages/monai/transforms/utils.py:743: UserWarning: no available indices of class 2 to crop, setting the crop ratio of this class to zero.\n",
      "  warnings.warn(\n",
      "/usr/local/lib/python3.10/dist-packages/monai/transforms/utils.py:743: UserWarning: no available indices of class 7 to crop, setting the crop ratio of this class to zero.\n",
      "  warnings.warn(\n",
      "/usr/local/lib/python3.10/dist-packages/monai/transforms/utils.py:743: UserWarning: no available indices of class 2 to crop, setting the crop ratio of this class to zero.\n",
      "  warnings.warn(\n",
      "/usr/local/lib/python3.10/dist-packages/monai/transforms/utils.py:743: UserWarning: no available indices of class 7 to crop, setting the crop ratio of this class to zero.\n",
      "  warnings.warn(\n",
      "/usr/local/lib/python3.10/dist-packages/monai/transforms/utils.py:743: UserWarning: no available indices of class 2 to crop, setting the crop ratio of this class to zero.\n",
      "  warnings.warn(\n",
      "/usr/local/lib/python3.10/dist-packages/monai/transforms/utils.py:743: UserWarning: no available indices of class 7 to crop, setting the crop ratio of this class to zero.\n",
      "  warnings.warn(\n",
      "/usr/local/lib/python3.10/dist-packages/monai/transforms/utils.py:743: UserWarning: no available indices of class 2 to crop, setting the crop ratio of this class to zero.\n",
      "  warnings.warn(\n",
      "/usr/local/lib/python3.10/dist-packages/monai/transforms/utils.py:743: UserWarning: no available indices of class 7 to crop, setting the crop ratio of this class to zero.\n",
      "  warnings.warn(\n"
     ]
    },
    {
     "name": "stdout",
     "output_type": "stream",
     "text": [
      "Batch 1/10, train_loss: 0.6528\n",
      "Batch 2/10, train_loss: 0.6434\n",
      "Batch 3/10, train_loss: 0.6872\n",
      "Batch 4/10, train_loss: 0.7077\n",
      "Batch 5/10, train_loss: 0.6718\n",
      "Batch 6/10, train_loss: 0.6469\n",
      "Batch 7/10, train_loss: 0.7109\n",
      "Batch 8/10, train_loss: 0.6836\n",
      "Batch 9/10, train_loss: 0.6277\n",
      "Batch 10/10, train_loss: 0.7218\n",
      "Epoch 192 average loss: 0.6754\n"
     ]
    },
    {
     "name": "stderr",
     "output_type": "stream",
     "text": [
      "/usr/local/lib/python3.10/dist-packages/monai/transforms/utils.py:743: UserWarning: no available indices of class 2 to crop, setting the crop ratio of this class to zero.\n",
      "  warnings.warn(\n",
      "/usr/local/lib/python3.10/dist-packages/monai/transforms/utils.py:743: UserWarning: no available indices of class 7 to crop, setting the crop ratio of this class to zero.\n",
      "  warnings.warn(\n",
      "/usr/local/lib/python3.10/dist-packages/monai/transforms/utils.py:743: UserWarning: no available indices of class 2 to crop, setting the crop ratio of this class to zero.\n",
      "  warnings.warn(\n",
      "/usr/local/lib/python3.10/dist-packages/monai/transforms/utils.py:743: UserWarning: no available indices of class 7 to crop, setting the crop ratio of this class to zero.\n",
      "  warnings.warn(\n"
     ]
    },
    {
     "name": "stdout",
     "output_type": "stream",
     "text": [
      "current epoch: 192 current mean recall per class: 0.7241, 0, 0.3107, 0.6019, 0.4208, 0.5714, 0\n",
      "best mean recall: 0.4240 at epoch: 178\n",
      "----------\n",
      "Epoch 193/200\n"
     ]
    },
    {
     "name": "stderr",
     "output_type": "stream",
     "text": [
      "/usr/local/lib/python3.10/dist-packages/monai/transforms/utils.py:743: UserWarning: no available indices of class 2 to crop, setting the crop ratio of this class to zero.\n",
      "  warnings.warn(\n",
      "/usr/local/lib/python3.10/dist-packages/monai/transforms/utils.py:743: UserWarning: no available indices of class 7 to crop, setting the crop ratio of this class to zero.\n",
      "  warnings.warn(\n",
      "/usr/local/lib/python3.10/dist-packages/monai/transforms/utils.py:743: UserWarning: no available indices of class 2 to crop, setting the crop ratio of this class to zero.\n",
      "  warnings.warn(\n",
      "/usr/local/lib/python3.10/dist-packages/monai/transforms/utils.py:743: UserWarning: no available indices of class 7 to crop, setting the crop ratio of this class to zero.\n",
      "  warnings.warn(\n",
      "/usr/local/lib/python3.10/dist-packages/monai/transforms/utils.py:743: UserWarning: no available indices of class 2 to crop, setting the crop ratio of this class to zero.\n",
      "  warnings.warn(\n",
      "/usr/local/lib/python3.10/dist-packages/monai/transforms/utils.py:743: UserWarning: no available indices of class 7 to crop, setting the crop ratio of this class to zero.\n",
      "  warnings.warn(\n",
      "/usr/local/lib/python3.10/dist-packages/monai/transforms/utils.py:743: UserWarning: no available indices of class 2 to crop, setting the crop ratio of this class to zero.\n",
      "  warnings.warn(\n",
      "/usr/local/lib/python3.10/dist-packages/monai/transforms/utils.py:743: UserWarning: no available indices of class 7 to crop, setting the crop ratio of this class to zero.\n",
      "  warnings.warn(\n"
     ]
    },
    {
     "name": "stdout",
     "output_type": "stream",
     "text": [
      "Batch 1/10, train_loss: 0.7069\n",
      "Batch 2/10, train_loss: 0.6883\n",
      "Batch 3/10, train_loss: 0.6919\n",
      "Batch 4/10, train_loss: 0.6496\n",
      "Batch 5/10, train_loss: 0.7069\n",
      "Batch 6/10, train_loss: 0.7392\n",
      "Batch 7/10, train_loss: 0.6387\n",
      "Batch 8/10, train_loss: 0.7148\n",
      "Batch 9/10, train_loss: 0.6769\n",
      "Batch 10/10, train_loss: 0.6577\n",
      "Epoch 193 average loss: 0.6871\n",
      "----------\n",
      "Epoch 194/200\n"
     ]
    },
    {
     "name": "stderr",
     "output_type": "stream",
     "text": [
      "/usr/local/lib/python3.10/dist-packages/monai/transforms/utils.py:743: UserWarning: no available indices of class 2 to crop, setting the crop ratio of this class to zero.\n",
      "  warnings.warn(\n",
      "/usr/local/lib/python3.10/dist-packages/monai/transforms/utils.py:743: UserWarning: no available indices of class 7 to crop, setting the crop ratio of this class to zero.\n",
      "  warnings.warn(\n",
      "/usr/local/lib/python3.10/dist-packages/monai/transforms/utils.py:743: UserWarning: no available indices of class 2 to crop, setting the crop ratio of this class to zero.\n",
      "  warnings.warn(\n",
      "/usr/local/lib/python3.10/dist-packages/monai/transforms/utils.py:743: UserWarning: no available indices of class 7 to crop, setting the crop ratio of this class to zero.\n",
      "  warnings.warn(\n",
      "/usr/local/lib/python3.10/dist-packages/monai/transforms/utils.py:743: UserWarning: no available indices of class 2 to crop, setting the crop ratio of this class to zero.\n",
      "  warnings.warn(\n",
      "/usr/local/lib/python3.10/dist-packages/monai/transforms/utils.py:743: UserWarning: no available indices of class 7 to crop, setting the crop ratio of this class to zero.\n",
      "  warnings.warn(\n",
      "/usr/local/lib/python3.10/dist-packages/monai/transforms/utils.py:743: UserWarning: no available indices of class 2 to crop, setting the crop ratio of this class to zero.\n",
      "  warnings.warn(\n",
      "/usr/local/lib/python3.10/dist-packages/monai/transforms/utils.py:743: UserWarning: no available indices of class 7 to crop, setting the crop ratio of this class to zero.\n",
      "  warnings.warn(\n"
     ]
    },
    {
     "name": "stdout",
     "output_type": "stream",
     "text": [
      "Batch 1/10, train_loss: 0.6518\n",
      "Batch 2/10, train_loss: 0.6798\n",
      "Batch 3/10, train_loss: 0.6426\n",
      "Batch 4/10, train_loss: 0.6748\n",
      "Batch 5/10, train_loss: 0.6783\n",
      "Batch 6/10, train_loss: 0.6794\n",
      "Batch 7/10, train_loss: 0.6920\n",
      "Batch 8/10, train_loss: 0.6641\n",
      "Batch 9/10, train_loss: 0.6754\n",
      "Batch 10/10, train_loss: 0.6784\n",
      "Epoch 194 average loss: 0.6717\n"
     ]
    },
    {
     "name": "stderr",
     "output_type": "stream",
     "text": [
      "/usr/local/lib/python3.10/dist-packages/monai/transforms/utils.py:743: UserWarning: no available indices of class 2 to crop, setting the crop ratio of this class to zero.\n",
      "  warnings.warn(\n",
      "/usr/local/lib/python3.10/dist-packages/monai/transforms/utils.py:743: UserWarning: no available indices of class 7 to crop, setting the crop ratio of this class to zero.\n",
      "  warnings.warn(\n",
      "/usr/local/lib/python3.10/dist-packages/monai/transforms/utils.py:743: UserWarning: no available indices of class 2 to crop, setting the crop ratio of this class to zero.\n",
      "  warnings.warn(\n",
      "/usr/local/lib/python3.10/dist-packages/monai/transforms/utils.py:743: UserWarning: no available indices of class 7 to crop, setting the crop ratio of this class to zero.\n",
      "  warnings.warn(\n"
     ]
    },
    {
     "name": "stdout",
     "output_type": "stream",
     "text": [
      "current epoch: 194 current mean recall per class: 0.7256, 0, 0.2997, 0.639, 0.3828, 0.5445, 0\n",
      "best mean recall: 0.4240 at epoch: 178\n",
      "----------\n",
      "Epoch 195/200\n"
     ]
    },
    {
     "name": "stderr",
     "output_type": "stream",
     "text": [
      "/usr/local/lib/python3.10/dist-packages/monai/transforms/utils.py:743: UserWarning: no available indices of class 2 to crop, setting the crop ratio of this class to zero.\n",
      "  warnings.warn(\n",
      "/usr/local/lib/python3.10/dist-packages/monai/transforms/utils.py:743: UserWarning: no available indices of class 7 to crop, setting the crop ratio of this class to zero.\n",
      "  warnings.warn(\n",
      "/usr/local/lib/python3.10/dist-packages/monai/transforms/utils.py:743: UserWarning: no available indices of class 2 to crop, setting the crop ratio of this class to zero.\n",
      "  warnings.warn(\n",
      "/usr/local/lib/python3.10/dist-packages/monai/transforms/utils.py:743: UserWarning: no available indices of class 7 to crop, setting the crop ratio of this class to zero.\n",
      "  warnings.warn(\n",
      "/usr/local/lib/python3.10/dist-packages/monai/transforms/utils.py:743: UserWarning: no available indices of class 2 to crop, setting the crop ratio of this class to zero.\n",
      "  warnings.warn(\n",
      "/usr/local/lib/python3.10/dist-packages/monai/transforms/utils.py:743: UserWarning: no available indices of class 7 to crop, setting the crop ratio of this class to zero.\n",
      "  warnings.warn(\n",
      "/usr/local/lib/python3.10/dist-packages/monai/transforms/utils.py:743: UserWarning: no available indices of class 2 to crop, setting the crop ratio of this class to zero.\n",
      "  warnings.warn(\n",
      "/usr/local/lib/python3.10/dist-packages/monai/transforms/utils.py:743: UserWarning: no available indices of class 7 to crop, setting the crop ratio of this class to zero.\n",
      "  warnings.warn(\n"
     ]
    },
    {
     "name": "stdout",
     "output_type": "stream",
     "text": [
      "Batch 1/10, train_loss: 0.6595\n",
      "Batch 2/10, train_loss: 0.6867\n",
      "Batch 3/10, train_loss: 0.6747\n",
      "Batch 4/10, train_loss: 0.7016\n",
      "Batch 5/10, train_loss: 0.6949\n",
      "Batch 6/10, train_loss: 0.6917\n",
      "Batch 7/10, train_loss: 0.6833\n",
      "Batch 8/10, train_loss: 0.6689\n",
      "Batch 9/10, train_loss: 0.6876\n",
      "Batch 10/10, train_loss: 0.7024\n",
      "Epoch 195 average loss: 0.6851\n",
      "----------\n",
      "Epoch 196/200\n"
     ]
    },
    {
     "name": "stderr",
     "output_type": "stream",
     "text": [
      "/usr/local/lib/python3.10/dist-packages/monai/transforms/utils.py:743: UserWarning: no available indices of class 2 to crop, setting the crop ratio of this class to zero.\n",
      "  warnings.warn(\n",
      "/usr/local/lib/python3.10/dist-packages/monai/transforms/utils.py:743: UserWarning: no available indices of class 7 to crop, setting the crop ratio of this class to zero.\n",
      "  warnings.warn(\n",
      "/usr/local/lib/python3.10/dist-packages/monai/transforms/utils.py:743: UserWarning: no available indices of class 2 to crop, setting the crop ratio of this class to zero.\n",
      "  warnings.warn(\n",
      "/usr/local/lib/python3.10/dist-packages/monai/transforms/utils.py:743: UserWarning: no available indices of class 7 to crop, setting the crop ratio of this class to zero.\n",
      "  warnings.warn(\n",
      "/usr/local/lib/python3.10/dist-packages/monai/transforms/utils.py:743: UserWarning: no available indices of class 2 to crop, setting the crop ratio of this class to zero.\n",
      "  warnings.warn(\n",
      "/usr/local/lib/python3.10/dist-packages/monai/transforms/utils.py:743: UserWarning: no available indices of class 7 to crop, setting the crop ratio of this class to zero.\n",
      "  warnings.warn(\n",
      "/usr/local/lib/python3.10/dist-packages/monai/transforms/utils.py:743: UserWarning: no available indices of class 2 to crop, setting the crop ratio of this class to zero.\n",
      "  warnings.warn(\n",
      "/usr/local/lib/python3.10/dist-packages/monai/transforms/utils.py:743: UserWarning: no available indices of class 7 to crop, setting the crop ratio of this class to zero.\n",
      "  warnings.warn(\n"
     ]
    },
    {
     "name": "stdout",
     "output_type": "stream",
     "text": [
      "Batch 1/10, train_loss: 0.6900\n",
      "Batch 2/10, train_loss: 0.6555\n",
      "Batch 3/10, train_loss: 0.6795\n",
      "Batch 4/10, train_loss: 0.6780\n",
      "Batch 5/10, train_loss: 0.6889\n",
      "Batch 6/10, train_loss: 0.6624\n",
      "Batch 7/10, train_loss: 0.6393\n",
      "Batch 8/10, train_loss: 0.6121\n",
      "Batch 9/10, train_loss: 0.7054\n",
      "Batch 10/10, train_loss: 0.6717\n",
      "Epoch 196 average loss: 0.6683\n"
     ]
    },
    {
     "name": "stderr",
     "output_type": "stream",
     "text": [
      "/usr/local/lib/python3.10/dist-packages/monai/transforms/utils.py:743: UserWarning: no available indices of class 2 to crop, setting the crop ratio of this class to zero.\n",
      "  warnings.warn(\n",
      "/usr/local/lib/python3.10/dist-packages/monai/transforms/utils.py:743: UserWarning: no available indices of class 7 to crop, setting the crop ratio of this class to zero.\n",
      "  warnings.warn(\n",
      "/usr/local/lib/python3.10/dist-packages/monai/transforms/utils.py:743: UserWarning: no available indices of class 2 to crop, setting the crop ratio of this class to zero.\n",
      "  warnings.warn(\n",
      "/usr/local/lib/python3.10/dist-packages/monai/transforms/utils.py:743: UserWarning: no available indices of class 7 to crop, setting the crop ratio of this class to zero.\n",
      "  warnings.warn(\n"
     ]
    },
    {
     "name": "stdout",
     "output_type": "stream",
     "text": [
      "current epoch: 196 current mean recall per class: 0.6039, 0, 0.3936, 0.6795, 0.4515, 0.5068, 0\n",
      "best mean recall: 0.4240 at epoch: 178\n",
      "----------\n",
      "Epoch 197/200\n"
     ]
    },
    {
     "name": "stderr",
     "output_type": "stream",
     "text": [
      "/usr/local/lib/python3.10/dist-packages/monai/transforms/utils.py:743: UserWarning: no available indices of class 2 to crop, setting the crop ratio of this class to zero.\n",
      "  warnings.warn(\n",
      "/usr/local/lib/python3.10/dist-packages/monai/transforms/utils.py:743: UserWarning: no available indices of class 7 to crop, setting the crop ratio of this class to zero.\n",
      "  warnings.warn(\n",
      "/usr/local/lib/python3.10/dist-packages/monai/transforms/utils.py:743: UserWarning: no available indices of class 2 to crop, setting the crop ratio of this class to zero.\n",
      "  warnings.warn(\n",
      "/usr/local/lib/python3.10/dist-packages/monai/transforms/utils.py:743: UserWarning: no available indices of class 7 to crop, setting the crop ratio of this class to zero.\n",
      "  warnings.warn(\n",
      "/usr/local/lib/python3.10/dist-packages/monai/transforms/utils.py:743: UserWarning: no available indices of class 2 to crop, setting the crop ratio of this class to zero.\n",
      "  warnings.warn(\n",
      "/usr/local/lib/python3.10/dist-packages/monai/transforms/utils.py:743: UserWarning: no available indices of class 7 to crop, setting the crop ratio of this class to zero.\n",
      "  warnings.warn(\n",
      "/usr/local/lib/python3.10/dist-packages/monai/transforms/utils.py:743: UserWarning: no available indices of class 2 to crop, setting the crop ratio of this class to zero.\n",
      "  warnings.warn(\n",
      "/usr/local/lib/python3.10/dist-packages/monai/transforms/utils.py:743: UserWarning: no available indices of class 7 to crop, setting the crop ratio of this class to zero.\n",
      "  warnings.warn(\n"
     ]
    },
    {
     "name": "stdout",
     "output_type": "stream",
     "text": [
      "Batch 1/10, train_loss: 0.6613\n",
      "Batch 2/10, train_loss: 0.6562\n",
      "Batch 3/10, train_loss: 0.6976\n",
      "Batch 4/10, train_loss: 0.7248\n",
      "Batch 5/10, train_loss: 0.6682\n",
      "Batch 6/10, train_loss: 0.7602\n",
      "Batch 7/10, train_loss: 0.7243\n",
      "Batch 8/10, train_loss: 0.6670\n",
      "Batch 9/10, train_loss: 0.6733\n",
      "Batch 10/10, train_loss: 0.6814\n",
      "Epoch 197 average loss: 0.6914\n",
      "----------\n",
      "Epoch 198/200\n"
     ]
    },
    {
     "name": "stderr",
     "output_type": "stream",
     "text": [
      "/usr/local/lib/python3.10/dist-packages/monai/transforms/utils.py:743: UserWarning: no available indices of class 2 to crop, setting the crop ratio of this class to zero.\n",
      "  warnings.warn(\n",
      "/usr/local/lib/python3.10/dist-packages/monai/transforms/utils.py:743: UserWarning: no available indices of class 7 to crop, setting the crop ratio of this class to zero.\n",
      "  warnings.warn(\n",
      "/usr/local/lib/python3.10/dist-packages/monai/transforms/utils.py:743: UserWarning: no available indices of class 2 to crop, setting the crop ratio of this class to zero.\n",
      "  warnings.warn(\n",
      "/usr/local/lib/python3.10/dist-packages/monai/transforms/utils.py:743: UserWarning: no available indices of class 7 to crop, setting the crop ratio of this class to zero.\n",
      "  warnings.warn(\n",
      "/usr/local/lib/python3.10/dist-packages/monai/transforms/utils.py:743: UserWarning: no available indices of class 2 to crop, setting the crop ratio of this class to zero.\n",
      "  warnings.warn(\n",
      "/usr/local/lib/python3.10/dist-packages/monai/transforms/utils.py:743: UserWarning: no available indices of class 2 to crop, setting the crop ratio of this class to zero.\n",
      "  warnings.warn(\n",
      "/usr/local/lib/python3.10/dist-packages/monai/transforms/utils.py:743: UserWarning: no available indices of class 7 to crop, setting the crop ratio of this class to zero.\n",
      "  warnings.warn(\n",
      "/usr/local/lib/python3.10/dist-packages/monai/transforms/utils.py:743: UserWarning: no available indices of class 7 to crop, setting the crop ratio of this class to zero.\n",
      "  warnings.warn(\n"
     ]
    },
    {
     "name": "stdout",
     "output_type": "stream",
     "text": [
      "Batch 1/10, train_loss: 0.6903\n",
      "Batch 2/10, train_loss: 0.6978\n",
      "Batch 3/10, train_loss: 0.7030\n",
      "Batch 4/10, train_loss: 0.6584\n",
      "Batch 5/10, train_loss: 0.6956\n",
      "Batch 6/10, train_loss: 0.6614\n",
      "Batch 7/10, train_loss: 0.6550\n",
      "Batch 8/10, train_loss: 0.7143\n",
      "Batch 9/10, train_loss: 0.6655\n",
      "Batch 10/10, train_loss: 0.6697\n",
      "Epoch 198 average loss: 0.6811\n"
     ]
    },
    {
     "name": "stderr",
     "output_type": "stream",
     "text": [
      "/usr/local/lib/python3.10/dist-packages/monai/transforms/utils.py:743: UserWarning: no available indices of class 2 to crop, setting the crop ratio of this class to zero.\n",
      "  warnings.warn(\n",
      "/usr/local/lib/python3.10/dist-packages/monai/transforms/utils.py:743: UserWarning: no available indices of class 7 to crop, setting the crop ratio of this class to zero.\n",
      "  warnings.warn(\n",
      "/usr/local/lib/python3.10/dist-packages/monai/transforms/utils.py:743: UserWarning: no available indices of class 2 to crop, setting the crop ratio of this class to zero.\n",
      "  warnings.warn(\n",
      "/usr/local/lib/python3.10/dist-packages/monai/transforms/utils.py:743: UserWarning: no available indices of class 7 to crop, setting the crop ratio of this class to zero.\n",
      "  warnings.warn(\n"
     ]
    },
    {
     "name": "stdout",
     "output_type": "stream",
     "text": [
      "current epoch: 198 current mean recall per class: 0.6914, 0, 0.5908, 0.694, 0.4393, 0.5233, 0\n",
      "best mean recall: 0.4240 at epoch: 178\n",
      "----------\n",
      "Epoch 199/200\n"
     ]
    },
    {
     "name": "stderr",
     "output_type": "stream",
     "text": [
      "/usr/local/lib/python3.10/dist-packages/monai/transforms/utils.py:743: UserWarning: no available indices of class 2 to crop, setting the crop ratio of this class to zero.\n",
      "  warnings.warn(\n",
      "/usr/local/lib/python3.10/dist-packages/monai/transforms/utils.py:743: UserWarning: no available indices of class 7 to crop, setting the crop ratio of this class to zero.\n",
      "  warnings.warn(\n",
      "/usr/local/lib/python3.10/dist-packages/monai/transforms/utils.py:743: UserWarning: no available indices of class 2 to crop, setting the crop ratio of this class to zero.\n",
      "  warnings.warn(\n",
      "/usr/local/lib/python3.10/dist-packages/monai/transforms/utils.py:743: UserWarning: no available indices of class 7 to crop, setting the crop ratio of this class to zero.\n",
      "  warnings.warn(\n",
      "/usr/local/lib/python3.10/dist-packages/monai/transforms/utils.py:743: UserWarning: no available indices of class 2 to crop, setting the crop ratio of this class to zero.\n",
      "  warnings.warn(\n",
      "/usr/local/lib/python3.10/dist-packages/monai/transforms/utils.py:743: UserWarning: no available indices of class 7 to crop, setting the crop ratio of this class to zero.\n",
      "  warnings.warn(\n",
      "/usr/local/lib/python3.10/dist-packages/monai/transforms/utils.py:743: UserWarning: no available indices of class 2 to crop, setting the crop ratio of this class to zero.\n",
      "  warnings.warn(\n",
      "/usr/local/lib/python3.10/dist-packages/monai/transforms/utils.py:743: UserWarning: no available indices of class 7 to crop, setting the crop ratio of this class to zero.\n",
      "  warnings.warn(\n"
     ]
    },
    {
     "name": "stdout",
     "output_type": "stream",
     "text": [
      "Batch 1/10, train_loss: 0.7116\n",
      "Batch 2/10, train_loss: 0.7052\n",
      "Batch 3/10, train_loss: 0.6680\n",
      "Batch 4/10, train_loss: 0.6852\n",
      "Batch 5/10, train_loss: 0.6729\n",
      "Batch 6/10, train_loss: 0.7287\n",
      "Batch 7/10, train_loss: 0.6581\n",
      "Batch 8/10, train_loss: 0.6603\n",
      "Batch 9/10, train_loss: 0.7054\n",
      "Batch 10/10, train_loss: 0.6765\n",
      "Epoch 199 average loss: 0.6872\n",
      "----------\n",
      "Epoch 200/200\n"
     ]
    },
    {
     "name": "stderr",
     "output_type": "stream",
     "text": [
      "/usr/local/lib/python3.10/dist-packages/monai/transforms/utils.py:743: UserWarning: no available indices of class 2 to crop, setting the crop ratio of this class to zero.\n",
      "  warnings.warn(\n",
      "/usr/local/lib/python3.10/dist-packages/monai/transforms/utils.py:743: UserWarning: no available indices of class 2 to crop, setting the crop ratio of this class to zero.\n",
      "  warnings.warn(\n",
      "/usr/local/lib/python3.10/dist-packages/monai/transforms/utils.py:743: UserWarning: no available indices of class 7 to crop, setting the crop ratio of this class to zero.\n",
      "  warnings.warn(\n",
      "/usr/local/lib/python3.10/dist-packages/monai/transforms/utils.py:743: UserWarning: no available indices of class 7 to crop, setting the crop ratio of this class to zero.\n",
      "  warnings.warn(\n",
      "/usr/local/lib/python3.10/dist-packages/monai/transforms/utils.py:743: UserWarning: no available indices of class 2 to crop, setting the crop ratio of this class to zero.\n",
      "  warnings.warn(\n",
      "/usr/local/lib/python3.10/dist-packages/monai/transforms/utils.py:743: UserWarning: no available indices of class 2 to crop, setting the crop ratio of this class to zero.\n",
      "  warnings.warn(\n",
      "/usr/local/lib/python3.10/dist-packages/monai/transforms/utils.py:743: UserWarning: no available indices of class 7 to crop, setting the crop ratio of this class to zero.\n",
      "  warnings.warn(\n",
      "/usr/local/lib/python3.10/dist-packages/monai/transforms/utils.py:743: UserWarning: no available indices of class 7 to crop, setting the crop ratio of this class to zero.\n",
      "  warnings.warn(\n"
     ]
    },
    {
     "name": "stdout",
     "output_type": "stream",
     "text": [
      "Batch 1/10, train_loss: 0.7077\n",
      "Batch 2/10, train_loss: 0.6495\n",
      "Batch 3/10, train_loss: 0.6803\n",
      "Batch 4/10, train_loss: 0.6809\n",
      "Batch 5/10, train_loss: 0.6587\n",
      "Batch 6/10, train_loss: 0.6956\n",
      "Batch 7/10, train_loss: 0.7186\n",
      "Batch 8/10, train_loss: 0.7109\n",
      "Batch 9/10, train_loss: 0.7278\n",
      "Batch 10/10, train_loss: 0.7020\n",
      "Epoch 200 average loss: 0.6932\n"
     ]
    },
    {
     "name": "stderr",
     "output_type": "stream",
     "text": [
      "/usr/local/lib/python3.10/dist-packages/monai/transforms/utils.py:743: UserWarning: no available indices of class 2 to crop, setting the crop ratio of this class to zero.\n",
      "  warnings.warn(\n",
      "/usr/local/lib/python3.10/dist-packages/monai/transforms/utils.py:743: UserWarning: no available indices of class 2 to crop, setting the crop ratio of this class to zero.\n",
      "  warnings.warn(\n",
      "/usr/local/lib/python3.10/dist-packages/monai/transforms/utils.py:743: UserWarning: no available indices of class 7 to crop, setting the crop ratio of this class to zero.\n",
      "  warnings.warn(\n",
      "/usr/local/lib/python3.10/dist-packages/monai/transforms/utils.py:743: UserWarning: no available indices of class 7 to crop, setting the crop ratio of this class to zero.\n",
      "  warnings.warn(\n",
      "2024/12/24 00:10:18 WARNING mlflow.utils.requirements_utils: Found torch version (2.4.1+cu121) contains a local version label (+cu121). MLflow logged a pip requirement for this package as 'torch==2.4.1' without the local version label to make it installable from PyPI. To specify pip requirements containing local version labels, please use `conda_env` or `pip_requirements`.\n"
     ]
    },
    {
     "name": "stdout",
     "output_type": "stream",
     "text": [
      "current epoch: 200 current mean recall per class: 0.7718, 0, 0.3157, 0.6569, 0.5007, 0.5215, 0\n",
      "best mean recall: 0.4240 at epoch: 178\n"
     ]
    },
    {
     "name": "stderr",
     "output_type": "stream",
     "text": [
      "2024/12/24 00:10:37 WARNING mlflow.utils.requirements_utils: The following packages were not found in the public PyPI package index as of 2024-12-04; if these packages are not present in the public PyPI index, you must install them manually before loading your model: {'google-genai'}\n",
      "2024/12/24 00:10:37 WARNING mlflow.utils.requirements_utils: Found torchvision version (0.19.1+cu121) contains a local version label (+cu121). MLflow logged a pip requirement for this package as 'torchvision==0.19.1' without the local version label to make it installable from PyPI. To specify pip requirements containing local version labels, please use `conda_env` or `pip_requirements`.\n",
      "2024/12/24 00:10:37 WARNING mlflow.utils.requirements_utils: Found torchaudio version (2.4.1+cu121) contains a local version label (+cu121). MLflow logged a pip requirement for this package as 'torchaudio==2.4.1' without the local version label to make it installable from PyPI. To specify pip requirements containing local version labels, please use `conda_env` or `pip_requirements`.\n",
      "2024/12/24 00:10:37 WARNING mlflow.utils.requirements_utils: Found jaxlib version (0.4.26+cuda12.cudnn89) contains a local version label (+cuda12.cudnn89). MLflow logged a pip requirement for this package as 'jaxlib==0.4.26' without the local version label to make it installable from PyPI. To specify pip requirements containing local version labels, please use `conda_env` or `pip_requirements`.\n",
      "\u001b[31m2024/12/24 00:10:37 WARNING mlflow.models.model: Model logged without a signature and input example. Please set `input_example` parameter when logging the model to auto infer the model signature.\u001b[0m\n"
     ]
    }
   ],
   "source": [
    "from torchinfo import summary\n",
    "\n",
    "mlflow.end_run()\n",
    "mlflow.set_experiment('training 3D U-Net model for the cryoET ML Challenge')\n",
    "epochs = 200\n",
    "with mlflow.start_run():\n",
    "    params = {\n",
    "        \"epochs\": epochs,\n",
    "        \"learning_rate\": lr,\n",
    "        \"loss_function\": loss_function.__class__.__name__,\n",
    "        \"metric_function\": recall_metric.__class__.__name__,\n",
    "        \"optimizer\": \"Adam\",\n",
    "    }\n",
    "    mlflow.log_params(params)\n",
    "\n",
    "    with open(\"model_summary.txt\", \"w\") as f:\n",
    "        f.write(str(summary(model)))\n",
    "    mlflow.log_artifact(\"model_summary.txt\")\n",
    "\n",
    "    train(train_loader, model, loss_function, dice_metric, optimizer, max_epochs=epochs)\n",
    "\n",
    "    mlflow.pytorch.log_model(model, \"model\")"
   ]
  },
  {
   "cell_type": "code",
   "execution_count": 12,
   "id": "6e4d3e64",
   "metadata": {
    "execution": {
     "iopub.execute_input": "2024-12-24T00:10:37.998018Z",
     "iopub.status.busy": "2024-12-24T00:10:37.997681Z",
     "iopub.status.idle": "2024-12-24T00:10:38.040614Z",
     "shell.execute_reply": "2024-12-24T00:10:38.039698Z"
    },
    "papermill": {
     "duration": 0.243433,
     "end_time": "2024-12-24T00:10:38.041899",
     "exception": false,
     "start_time": "2024-12-24T00:10:37.798466",
     "status": "completed"
    },
    "tags": []
   },
   "outputs": [
    {
     "data": {
      "text/plain": [
       "UNet(\n",
       "  (model): Sequential(\n",
       "    (0): ResidualUnit(\n",
       "      (conv): Sequential(\n",
       "        (unit0): Convolution(\n",
       "          (conv): Conv3d(1, 48, kernel_size=(3, 3, 3), stride=(2, 2, 2), padding=(1, 1, 1))\n",
       "          (adn): ADN(\n",
       "            (N): InstanceNorm3d(48, eps=1e-05, momentum=0.1, affine=False, track_running_stats=False)\n",
       "            (D): Dropout(p=0.0, inplace=False)\n",
       "            (A): PReLU(num_parameters=1)\n",
       "          )\n",
       "        )\n",
       "      )\n",
       "      (residual): Conv3d(1, 48, kernel_size=(3, 3, 3), stride=(2, 2, 2), padding=(1, 1, 1))\n",
       "    )\n",
       "    (1): SkipConnection(\n",
       "      (submodule): Sequential(\n",
       "        (0): ResidualUnit(\n",
       "          (conv): Sequential(\n",
       "            (unit0): Convolution(\n",
       "              (conv): Conv3d(48, 64, kernel_size=(3, 3, 3), stride=(2, 2, 2), padding=(1, 1, 1))\n",
       "              (adn): ADN(\n",
       "                (N): InstanceNorm3d(64, eps=1e-05, momentum=0.1, affine=False, track_running_stats=False)\n",
       "                (D): Dropout(p=0.0, inplace=False)\n",
       "                (A): PReLU(num_parameters=1)\n",
       "              )\n",
       "            )\n",
       "          )\n",
       "          (residual): Conv3d(48, 64, kernel_size=(3, 3, 3), stride=(2, 2, 2), padding=(1, 1, 1))\n",
       "        )\n",
       "        (1): SkipConnection(\n",
       "          (submodule): Sequential(\n",
       "            (0): ResidualUnit(\n",
       "              (conv): Sequential(\n",
       "                (unit0): Convolution(\n",
       "                  (conv): Conv3d(64, 80, kernel_size=(3, 3, 3), stride=(1, 1, 1), padding=(1, 1, 1))\n",
       "                  (adn): ADN(\n",
       "                    (N): InstanceNorm3d(80, eps=1e-05, momentum=0.1, affine=False, track_running_stats=False)\n",
       "                    (D): Dropout(p=0.0, inplace=False)\n",
       "                    (A): PReLU(num_parameters=1)\n",
       "                  )\n",
       "                )\n",
       "              )\n",
       "              (residual): Conv3d(64, 80, kernel_size=(1, 1, 1), stride=(1, 1, 1))\n",
       "            )\n",
       "            (1): SkipConnection(\n",
       "              (submodule): ResidualUnit(\n",
       "                (conv): Sequential(\n",
       "                  (unit0): Convolution(\n",
       "                    (conv): Conv3d(80, 80, kernel_size=(3, 3, 3), stride=(1, 1, 1), padding=(1, 1, 1))\n",
       "                    (adn): ADN(\n",
       "                      (N): InstanceNorm3d(80, eps=1e-05, momentum=0.1, affine=False, track_running_stats=False)\n",
       "                      (D): Dropout(p=0.0, inplace=False)\n",
       "                      (A): PReLU(num_parameters=1)\n",
       "                    )\n",
       "                  )\n",
       "                )\n",
       "                (residual): Identity()\n",
       "              )\n",
       "            )\n",
       "            (2): Sequential(\n",
       "              (0): Convolution(\n",
       "                (conv): ConvTranspose3d(160, 64, kernel_size=(3, 3, 3), stride=(1, 1, 1), padding=(1, 1, 1))\n",
       "                (adn): ADN(\n",
       "                  (N): InstanceNorm3d(64, eps=1e-05, momentum=0.1, affine=False, track_running_stats=False)\n",
       "                  (D): Dropout(p=0.0, inplace=False)\n",
       "                  (A): PReLU(num_parameters=1)\n",
       "                )\n",
       "              )\n",
       "              (1): ResidualUnit(\n",
       "                (conv): Sequential(\n",
       "                  (unit0): Convolution(\n",
       "                    (conv): Conv3d(64, 64, kernel_size=(3, 3, 3), stride=(1, 1, 1), padding=(1, 1, 1))\n",
       "                    (adn): ADN(\n",
       "                      (N): InstanceNorm3d(64, eps=1e-05, momentum=0.1, affine=False, track_running_stats=False)\n",
       "                      (D): Dropout(p=0.0, inplace=False)\n",
       "                      (A): PReLU(num_parameters=1)\n",
       "                    )\n",
       "                  )\n",
       "                )\n",
       "                (residual): Identity()\n",
       "              )\n",
       "            )\n",
       "          )\n",
       "        )\n",
       "        (2): Sequential(\n",
       "          (0): Convolution(\n",
       "            (conv): ConvTranspose3d(128, 48, kernel_size=(3, 3, 3), stride=(2, 2, 2), padding=(1, 1, 1), output_padding=(1, 1, 1))\n",
       "            (adn): ADN(\n",
       "              (N): InstanceNorm3d(48, eps=1e-05, momentum=0.1, affine=False, track_running_stats=False)\n",
       "              (D): Dropout(p=0.0, inplace=False)\n",
       "              (A): PReLU(num_parameters=1)\n",
       "            )\n",
       "          )\n",
       "          (1): ResidualUnit(\n",
       "            (conv): Sequential(\n",
       "              (unit0): Convolution(\n",
       "                (conv): Conv3d(48, 48, kernel_size=(3, 3, 3), stride=(1, 1, 1), padding=(1, 1, 1))\n",
       "                (adn): ADN(\n",
       "                  (N): InstanceNorm3d(48, eps=1e-05, momentum=0.1, affine=False, track_running_stats=False)\n",
       "                  (D): Dropout(p=0.0, inplace=False)\n",
       "                  (A): PReLU(num_parameters=1)\n",
       "                )\n",
       "              )\n",
       "            )\n",
       "            (residual): Identity()\n",
       "          )\n",
       "        )\n",
       "      )\n",
       "    )\n",
       "    (2): Sequential(\n",
       "      (0): Convolution(\n",
       "        (conv): ConvTranspose3d(96, 8, kernel_size=(3, 3, 3), stride=(2, 2, 2), padding=(1, 1, 1), output_padding=(1, 1, 1))\n",
       "        (adn): ADN(\n",
       "          (N): InstanceNorm3d(8, eps=1e-05, momentum=0.1, affine=False, track_running_stats=False)\n",
       "          (D): Dropout(p=0.0, inplace=False)\n",
       "          (A): PReLU(num_parameters=1)\n",
       "        )\n",
       "      )\n",
       "      (1): ResidualUnit(\n",
       "        (conv): Sequential(\n",
       "          (unit0): Convolution(\n",
       "            (conv): Conv3d(8, 8, kernel_size=(3, 3, 3), stride=(1, 1, 1), padding=(1, 1, 1))\n",
       "          )\n",
       "        )\n",
       "        (residual): Identity()\n",
       "      )\n",
       "    )\n",
       "  )\n",
       ")"
      ]
     },
     "execution_count": 12,
     "metadata": {},
     "output_type": "execute_result"
    }
   ],
   "source": [
    "model = UNet(\n",
    "    spatial_dims=3,\n",
    "    in_channels=1,\n",
    "    out_channels=len(root.pickable_objects)+1,\n",
    "    channels=(48, 64, 80, 80),\n",
    "    strides=(2, 2, 1),\n",
    "    num_res_units=1,\n",
    ").to(device)\n",
    "\n",
    "model.load_state_dict(torch.load(\"best_metric_model.pth\", weights_only=True))\n",
    "model.eval()"
   ]
  },
  {
   "cell_type": "code",
   "execution_count": 13,
   "id": "52cd489b",
   "metadata": {
    "execution": {
     "iopub.execute_input": "2024-12-24T00:10:38.442517Z",
     "iopub.status.busy": "2024-12-24T00:10:38.442147Z",
     "iopub.status.idle": "2024-12-24T00:10:42.405481Z",
     "shell.execute_reply": "2024-12-24T00:10:42.404559Z"
    },
    "papermill": {
     "duration": 4.16565,
     "end_time": "2024-12-24T00:10:42.406876",
     "exception": false,
     "start_time": "2024-12-24T00:10:38.241226",
     "status": "completed"
    },
    "tags": []
   },
   "outputs": [
    {
     "name": "stderr",
     "output_type": "stream",
     "text": [
      "/usr/local/lib/python3.10/dist-packages/monai/transforms/utils.py:743: UserWarning: no available indices of class 2 to crop, setting the crop ratio of this class to zero.\n",
      "  warnings.warn(\n",
      "/usr/local/lib/python3.10/dist-packages/monai/transforms/utils.py:743: UserWarning: no available indices of class 7 to crop, setting the crop ratio of this class to zero.\n",
      "  warnings.warn(\n",
      "/usr/local/lib/python3.10/dist-packages/monai/transforms/utils.py:743: UserWarning: no available indices of class 2 to crop, setting the crop ratio of this class to zero.\n",
      "  warnings.warn(\n",
      "/usr/local/lib/python3.10/dist-packages/monai/transforms/utils.py:743: UserWarning: no available indices of class 7 to crop, setting the crop ratio of this class to zero.\n",
      "  warnings.warn(\n"
     ]
    },
    {
     "name": "stdout",
     "output_type": "stream",
     "text": [
      "torch.Size([1, 96, 96, 96]) torch.Size([1, 96, 96, 96])\n"
     ]
    },
    {
     "data": {
      "image/png": "[encoded data removed]",
      "text/plain": [
       "<Figure size 1500x500 with 2 Axes>"
      ]
     },
     "metadata": {},
     "output_type": "display_data"
    }
   ],
   "source": [
    "with torch.no_grad():\n",
    "    val_data = list(val_loader)[0]\n",
    "    val_inputs = val_data[\"image\"].to(device)\n",
    "    val_labels = val_data[\"label\"].to(device)\n",
    "    val_outputs = model(val_inputs)\n",
    "    metric_val_outputs = [AsDiscrete(argmax=True)(i) for i in decollate_batch(val_outputs)]\n",
    "    metric_val_labels = [AsDiscrete()(i) for i in decollate_batch(val_labels)]\n",
    "\n",
    "plt.figure(figsize=(15, 5))\n",
    "z = 50\n",
    "\n",
    "label = metric_val_labels[0].to(\"cpu\")\n",
    "output = metric_val_outputs[0].to(\"cpu\")\n",
    "\n",
    "print(label.shape, output.shape)\n",
    "\n",
    "plt.subplot(1, 2, 1)\n",
    "plt.imshow(label[0][z], cmap='viridis')\n",
    "plt.subplot(1, 2, 2)\n",
    "plt.imshow(output[0][z], cmap='viridis')\n",
    "plt.show()"
   ]
  }
 ],
 "metadata": {
  "kaggle": {
   "accelerator": "gpu",
   "dataSources": [
    {
     "databundleVersionId": 10033515,
     "sourceId": 84969,
     "sourceType": "competition"
    }
   ],
   "dockerImageVersionId": 30822,
   "isGpuEnabled": true,
   "isInternetEnabled": true,
   "language": "python",
   "sourceType": "notebook"
  },
  "kernelspec": {
   "display_name": "Python 3",
   "language": "python",
   "name": "python3"
  },
  "language_info": {
   "codemirror_mode": {
    "name": "ipython",
    "version": 3
   },
   "file_extension": ".py",
   "mimetype": "text/x-python",
   "name": "python",
   "nbconvert_exporter": "python",
   "pygments_lexer": "ipython3",
   "version": "3.10.12"
  },
  "papermill": {
   "default_parameters": {},
   "duration": 3936.837988,
   "end_time": "2024-12-24T00:10:46.327281",
   "environment_variables": {},
   "exception": null,
   "input_path": "__notebook__.ipynb",
   "output_path": "__notebook__.ipynb",
   "parameters": {},
   "start_time": "2024-12-23T23:05:09.489293",
   "version": "2.6.0"
  }
 },
 "nbformat": 4,
 "nbformat_minor": 5
}
